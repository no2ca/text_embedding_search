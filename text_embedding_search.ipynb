{
  "nbformat": 4,
  "nbformat_minor": 0,
  "metadata": {
    "colab": {
      "provenance": [],
      "toc_visible": true,
      "gpuType": "T4"
    },
    "kernelspec": {
      "name": "python3",
      "display_name": "Python 3"
    },
    "language_info": {
      "name": "python"
    },
    "widgets": {
      "application/vnd.jupyter.widget-state+json": {
        "15b75ec645f34065a632e65260ca2e5c": {
          "model_module": "@jupyter-widgets/controls",
          "model_name": "HBoxModel",
          "model_module_version": "1.5.0",
          "state": {
            "_dom_classes": [],
            "_model_module": "@jupyter-widgets/controls",
            "_model_module_version": "1.5.0",
            "_model_name": "HBoxModel",
            "_view_count": null,
            "_view_module": "@jupyter-widgets/controls",
            "_view_module_version": "1.5.0",
            "_view_name": "HBoxView",
            "box_style": "",
            "children": [
              "IPY_MODEL_97ee98d8387c4864bb08cf2d2984a755",
              "IPY_MODEL_83bd7d19e0d444799f5788b774401e9e",
              "IPY_MODEL_f244d64772f843b38f2e11d43c5c33ae"
            ],
            "layout": "IPY_MODEL_0a2cd5b26afc4f688c6b6db5f7a4fdcd"
          }
        },
        "97ee98d8387c4864bb08cf2d2984a755": {
          "model_module": "@jupyter-widgets/controls",
          "model_name": "HTMLModel",
          "model_module_version": "1.5.0",
          "state": {
            "_dom_classes": [],
            "_model_module": "@jupyter-widgets/controls",
            "_model_module_version": "1.5.0",
            "_model_name": "HTMLModel",
            "_view_count": null,
            "_view_module": "@jupyter-widgets/controls",
            "_view_module_version": "1.5.0",
            "_view_name": "HTMLView",
            "description": "",
            "description_tooltip": null,
            "layout": "IPY_MODEL_c79d68d52e79477193513fe24c1c7aed",
            "placeholder": "​",
            "style": "IPY_MODEL_2cce8a135abf4697af6526878af1977a",
            "value": "tokenizer_config.json: 100%"
          }
        },
        "83bd7d19e0d444799f5788b774401e9e": {
          "model_module": "@jupyter-widgets/controls",
          "model_name": "FloatProgressModel",
          "model_module_version": "1.5.0",
          "state": {
            "_dom_classes": [],
            "_model_module": "@jupyter-widgets/controls",
            "_model_module_version": "1.5.0",
            "_model_name": "FloatProgressModel",
            "_view_count": null,
            "_view_module": "@jupyter-widgets/controls",
            "_view_module_version": "1.5.0",
            "_view_name": "ProgressView",
            "bar_style": "success",
            "description": "",
            "description_tooltip": null,
            "layout": "IPY_MODEL_66aeff540e6b4c9886bfc959ca62dd87",
            "max": 1297,
            "min": 0,
            "orientation": "horizontal",
            "style": "IPY_MODEL_0efa19d128a54ad581e268cf34ff2af8",
            "value": 1297
          }
        },
        "f244d64772f843b38f2e11d43c5c33ae": {
          "model_module": "@jupyter-widgets/controls",
          "model_name": "HTMLModel",
          "model_module_version": "1.5.0",
          "state": {
            "_dom_classes": [],
            "_model_module": "@jupyter-widgets/controls",
            "_model_module_version": "1.5.0",
            "_model_name": "HTMLModel",
            "_view_count": null,
            "_view_module": "@jupyter-widgets/controls",
            "_view_module_version": "1.5.0",
            "_view_name": "HTMLView",
            "description": "",
            "description_tooltip": null,
            "layout": "IPY_MODEL_3dd8bc4c21c341e7ab7cccdcdec8f541",
            "placeholder": "​",
            "style": "IPY_MODEL_87bd2440a1dc41a9bccecc272d760675",
            "value": " 1.30k/1.30k [00:00&lt;00:00, 71.0kB/s]"
          }
        },
        "0a2cd5b26afc4f688c6b6db5f7a4fdcd": {
          "model_module": "@jupyter-widgets/base",
          "model_name": "LayoutModel",
          "model_module_version": "1.2.0",
          "state": {
            "_model_module": "@jupyter-widgets/base",
            "_model_module_version": "1.2.0",
            "_model_name": "LayoutModel",
            "_view_count": null,
            "_view_module": "@jupyter-widgets/base",
            "_view_module_version": "1.2.0",
            "_view_name": "LayoutView",
            "align_content": null,
            "align_items": null,
            "align_self": null,
            "border": null,
            "bottom": null,
            "display": null,
            "flex": null,
            "flex_flow": null,
            "grid_area": null,
            "grid_auto_columns": null,
            "grid_auto_flow": null,
            "grid_auto_rows": null,
            "grid_column": null,
            "grid_gap": null,
            "grid_row": null,
            "grid_template_areas": null,
            "grid_template_columns": null,
            "grid_template_rows": null,
            "height": null,
            "justify_content": null,
            "justify_items": null,
            "left": null,
            "margin": null,
            "max_height": null,
            "max_width": null,
            "min_height": null,
            "min_width": null,
            "object_fit": null,
            "object_position": null,
            "order": null,
            "overflow": null,
            "overflow_x": null,
            "overflow_y": null,
            "padding": null,
            "right": null,
            "top": null,
            "visibility": null,
            "width": null
          }
        },
        "c79d68d52e79477193513fe24c1c7aed": {
          "model_module": "@jupyter-widgets/base",
          "model_name": "LayoutModel",
          "model_module_version": "1.2.0",
          "state": {
            "_model_module": "@jupyter-widgets/base",
            "_model_module_version": "1.2.0",
            "_model_name": "LayoutModel",
            "_view_count": null,
            "_view_module": "@jupyter-widgets/base",
            "_view_module_version": "1.2.0",
            "_view_name": "LayoutView",
            "align_content": null,
            "align_items": null,
            "align_self": null,
            "border": null,
            "bottom": null,
            "display": null,
            "flex": null,
            "flex_flow": null,
            "grid_area": null,
            "grid_auto_columns": null,
            "grid_auto_flow": null,
            "grid_auto_rows": null,
            "grid_column": null,
            "grid_gap": null,
            "grid_row": null,
            "grid_template_areas": null,
            "grid_template_columns": null,
            "grid_template_rows": null,
            "height": null,
            "justify_content": null,
            "justify_items": null,
            "left": null,
            "margin": null,
            "max_height": null,
            "max_width": null,
            "min_height": null,
            "min_width": null,
            "object_fit": null,
            "object_position": null,
            "order": null,
            "overflow": null,
            "overflow_x": null,
            "overflow_y": null,
            "padding": null,
            "right": null,
            "top": null,
            "visibility": null,
            "width": null
          }
        },
        "2cce8a135abf4697af6526878af1977a": {
          "model_module": "@jupyter-widgets/controls",
          "model_name": "DescriptionStyleModel",
          "model_module_version": "1.5.0",
          "state": {
            "_model_module": "@jupyter-widgets/controls",
            "_model_module_version": "1.5.0",
            "_model_name": "DescriptionStyleModel",
            "_view_count": null,
            "_view_module": "@jupyter-widgets/base",
            "_view_module_version": "1.2.0",
            "_view_name": "StyleView",
            "description_width": ""
          }
        },
        "66aeff540e6b4c9886bfc959ca62dd87": {
          "model_module": "@jupyter-widgets/base",
          "model_name": "LayoutModel",
          "model_module_version": "1.2.0",
          "state": {
            "_model_module": "@jupyter-widgets/base",
            "_model_module_version": "1.2.0",
            "_model_name": "LayoutModel",
            "_view_count": null,
            "_view_module": "@jupyter-widgets/base",
            "_view_module_version": "1.2.0",
            "_view_name": "LayoutView",
            "align_content": null,
            "align_items": null,
            "align_self": null,
            "border": null,
            "bottom": null,
            "display": null,
            "flex": null,
            "flex_flow": null,
            "grid_area": null,
            "grid_auto_columns": null,
            "grid_auto_flow": null,
            "grid_auto_rows": null,
            "grid_column": null,
            "grid_gap": null,
            "grid_row": null,
            "grid_template_areas": null,
            "grid_template_columns": null,
            "grid_template_rows": null,
            "height": null,
            "justify_content": null,
            "justify_items": null,
            "left": null,
            "margin": null,
            "max_height": null,
            "max_width": null,
            "min_height": null,
            "min_width": null,
            "object_fit": null,
            "object_position": null,
            "order": null,
            "overflow": null,
            "overflow_x": null,
            "overflow_y": null,
            "padding": null,
            "right": null,
            "top": null,
            "visibility": null,
            "width": null
          }
        },
        "0efa19d128a54ad581e268cf34ff2af8": {
          "model_module": "@jupyter-widgets/controls",
          "model_name": "ProgressStyleModel",
          "model_module_version": "1.5.0",
          "state": {
            "_model_module": "@jupyter-widgets/controls",
            "_model_module_version": "1.5.0",
            "_model_name": "ProgressStyleModel",
            "_view_count": null,
            "_view_module": "@jupyter-widgets/base",
            "_view_module_version": "1.2.0",
            "_view_name": "StyleView",
            "bar_color": null,
            "description_width": ""
          }
        },
        "3dd8bc4c21c341e7ab7cccdcdec8f541": {
          "model_module": "@jupyter-widgets/base",
          "model_name": "LayoutModel",
          "model_module_version": "1.2.0",
          "state": {
            "_model_module": "@jupyter-widgets/base",
            "_model_module_version": "1.2.0",
            "_model_name": "LayoutModel",
            "_view_count": null,
            "_view_module": "@jupyter-widgets/base",
            "_view_module_version": "1.2.0",
            "_view_name": "LayoutView",
            "align_content": null,
            "align_items": null,
            "align_self": null,
            "border": null,
            "bottom": null,
            "display": null,
            "flex": null,
            "flex_flow": null,
            "grid_area": null,
            "grid_auto_columns": null,
            "grid_auto_flow": null,
            "grid_auto_rows": null,
            "grid_column": null,
            "grid_gap": null,
            "grid_row": null,
            "grid_template_areas": null,
            "grid_template_columns": null,
            "grid_template_rows": null,
            "height": null,
            "justify_content": null,
            "justify_items": null,
            "left": null,
            "margin": null,
            "max_height": null,
            "max_width": null,
            "min_height": null,
            "min_width": null,
            "object_fit": null,
            "object_position": null,
            "order": null,
            "overflow": null,
            "overflow_x": null,
            "overflow_y": null,
            "padding": null,
            "right": null,
            "top": null,
            "visibility": null,
            "width": null
          }
        },
        "87bd2440a1dc41a9bccecc272d760675": {
          "model_module": "@jupyter-widgets/controls",
          "model_name": "DescriptionStyleModel",
          "model_module_version": "1.5.0",
          "state": {
            "_model_module": "@jupyter-widgets/controls",
            "_model_module_version": "1.5.0",
            "_model_name": "DescriptionStyleModel",
            "_view_count": null,
            "_view_module": "@jupyter-widgets/base",
            "_view_module_version": "1.2.0",
            "_view_name": "StyleView",
            "description_width": ""
          }
        },
        "ee6bd480bc0340d2be00444e3faa7f16": {
          "model_module": "@jupyter-widgets/controls",
          "model_name": "HBoxModel",
          "model_module_version": "1.5.0",
          "state": {
            "_dom_classes": [],
            "_model_module": "@jupyter-widgets/controls",
            "_model_module_version": "1.5.0",
            "_model_name": "HBoxModel",
            "_view_count": null,
            "_view_module": "@jupyter-widgets/controls",
            "_view_module_version": "1.5.0",
            "_view_name": "HBoxView",
            "box_style": "",
            "children": [
              "IPY_MODEL_71453bcc8a7840c0af00633444af611a",
              "IPY_MODEL_ba3bdbaabca54e3db2fc2b6148a5de7a",
              "IPY_MODEL_8b1563beb2c54e29af715224846b1731"
            ],
            "layout": "IPY_MODEL_f0733178127b496dbaec87f1a715786a"
          }
        },
        "71453bcc8a7840c0af00633444af611a": {
          "model_module": "@jupyter-widgets/controls",
          "model_name": "HTMLModel",
          "model_module_version": "1.5.0",
          "state": {
            "_dom_classes": [],
            "_model_module": "@jupyter-widgets/controls",
            "_model_module_version": "1.5.0",
            "_model_name": "HTMLModel",
            "_view_count": null,
            "_view_module": "@jupyter-widgets/controls",
            "_view_module_version": "1.5.0",
            "_view_name": "HTMLView",
            "description": "",
            "description_tooltip": null,
            "layout": "IPY_MODEL_f09a8b0a95b44f28b2f33a5982d6d4d2",
            "placeholder": "​",
            "style": "IPY_MODEL_a70141d827b049bd89495a19e3ecb413",
            "value": "tokenization_plamo.py: 100%"
          }
        },
        "ba3bdbaabca54e3db2fc2b6148a5de7a": {
          "model_module": "@jupyter-widgets/controls",
          "model_name": "FloatProgressModel",
          "model_module_version": "1.5.0",
          "state": {
            "_dom_classes": [],
            "_model_module": "@jupyter-widgets/controls",
            "_model_module_version": "1.5.0",
            "_model_name": "FloatProgressModel",
            "_view_count": null,
            "_view_module": "@jupyter-widgets/controls",
            "_view_module_version": "1.5.0",
            "_view_name": "ProgressView",
            "bar_style": "success",
            "description": "",
            "description_tooltip": null,
            "layout": "IPY_MODEL_15b72b1256904533a33ab06de6252a3b",
            "max": 7635,
            "min": 0,
            "orientation": "horizontal",
            "style": "IPY_MODEL_fa0f6750e13848bc8ea640f52060f288",
            "value": 7635
          }
        },
        "8b1563beb2c54e29af715224846b1731": {
          "model_module": "@jupyter-widgets/controls",
          "model_name": "HTMLModel",
          "model_module_version": "1.5.0",
          "state": {
            "_dom_classes": [],
            "_model_module": "@jupyter-widgets/controls",
            "_model_module_version": "1.5.0",
            "_model_name": "HTMLModel",
            "_view_count": null,
            "_view_module": "@jupyter-widgets/controls",
            "_view_module_version": "1.5.0",
            "_view_name": "HTMLView",
            "description": "",
            "description_tooltip": null,
            "layout": "IPY_MODEL_fcac5b36c6f14f79b183107dbd2fa1e5",
            "placeholder": "​",
            "style": "IPY_MODEL_e692e3ffd1cc496eb51b537fe39e6013",
            "value": " 7.63k/7.63k [00:00&lt;00:00, 365kB/s]"
          }
        },
        "f0733178127b496dbaec87f1a715786a": {
          "model_module": "@jupyter-widgets/base",
          "model_name": "LayoutModel",
          "model_module_version": "1.2.0",
          "state": {
            "_model_module": "@jupyter-widgets/base",
            "_model_module_version": "1.2.0",
            "_model_name": "LayoutModel",
            "_view_count": null,
            "_view_module": "@jupyter-widgets/base",
            "_view_module_version": "1.2.0",
            "_view_name": "LayoutView",
            "align_content": null,
            "align_items": null,
            "align_self": null,
            "border": null,
            "bottom": null,
            "display": null,
            "flex": null,
            "flex_flow": null,
            "grid_area": null,
            "grid_auto_columns": null,
            "grid_auto_flow": null,
            "grid_auto_rows": null,
            "grid_column": null,
            "grid_gap": null,
            "grid_row": null,
            "grid_template_areas": null,
            "grid_template_columns": null,
            "grid_template_rows": null,
            "height": null,
            "justify_content": null,
            "justify_items": null,
            "left": null,
            "margin": null,
            "max_height": null,
            "max_width": null,
            "min_height": null,
            "min_width": null,
            "object_fit": null,
            "object_position": null,
            "order": null,
            "overflow": null,
            "overflow_x": null,
            "overflow_y": null,
            "padding": null,
            "right": null,
            "top": null,
            "visibility": null,
            "width": null
          }
        },
        "f09a8b0a95b44f28b2f33a5982d6d4d2": {
          "model_module": "@jupyter-widgets/base",
          "model_name": "LayoutModel",
          "model_module_version": "1.2.0",
          "state": {
            "_model_module": "@jupyter-widgets/base",
            "_model_module_version": "1.2.0",
            "_model_name": "LayoutModel",
            "_view_count": null,
            "_view_module": "@jupyter-widgets/base",
            "_view_module_version": "1.2.0",
            "_view_name": "LayoutView",
            "align_content": null,
            "align_items": null,
            "align_self": null,
            "border": null,
            "bottom": null,
            "display": null,
            "flex": null,
            "flex_flow": null,
            "grid_area": null,
            "grid_auto_columns": null,
            "grid_auto_flow": null,
            "grid_auto_rows": null,
            "grid_column": null,
            "grid_gap": null,
            "grid_row": null,
            "grid_template_areas": null,
            "grid_template_columns": null,
            "grid_template_rows": null,
            "height": null,
            "justify_content": null,
            "justify_items": null,
            "left": null,
            "margin": null,
            "max_height": null,
            "max_width": null,
            "min_height": null,
            "min_width": null,
            "object_fit": null,
            "object_position": null,
            "order": null,
            "overflow": null,
            "overflow_x": null,
            "overflow_y": null,
            "padding": null,
            "right": null,
            "top": null,
            "visibility": null,
            "width": null
          }
        },
        "a70141d827b049bd89495a19e3ecb413": {
          "model_module": "@jupyter-widgets/controls",
          "model_name": "DescriptionStyleModel",
          "model_module_version": "1.5.0",
          "state": {
            "_model_module": "@jupyter-widgets/controls",
            "_model_module_version": "1.5.0",
            "_model_name": "DescriptionStyleModel",
            "_view_count": null,
            "_view_module": "@jupyter-widgets/base",
            "_view_module_version": "1.2.0",
            "_view_name": "StyleView",
            "description_width": ""
          }
        },
        "15b72b1256904533a33ab06de6252a3b": {
          "model_module": "@jupyter-widgets/base",
          "model_name": "LayoutModel",
          "model_module_version": "1.2.0",
          "state": {
            "_model_module": "@jupyter-widgets/base",
            "_model_module_version": "1.2.0",
            "_model_name": "LayoutModel",
            "_view_count": null,
            "_view_module": "@jupyter-widgets/base",
            "_view_module_version": "1.2.0",
            "_view_name": "LayoutView",
            "align_content": null,
            "align_items": null,
            "align_self": null,
            "border": null,
            "bottom": null,
            "display": null,
            "flex": null,
            "flex_flow": null,
            "grid_area": null,
            "grid_auto_columns": null,
            "grid_auto_flow": null,
            "grid_auto_rows": null,
            "grid_column": null,
            "grid_gap": null,
            "grid_row": null,
            "grid_template_areas": null,
            "grid_template_columns": null,
            "grid_template_rows": null,
            "height": null,
            "justify_content": null,
            "justify_items": null,
            "left": null,
            "margin": null,
            "max_height": null,
            "max_width": null,
            "min_height": null,
            "min_width": null,
            "object_fit": null,
            "object_position": null,
            "order": null,
            "overflow": null,
            "overflow_x": null,
            "overflow_y": null,
            "padding": null,
            "right": null,
            "top": null,
            "visibility": null,
            "width": null
          }
        },
        "fa0f6750e13848bc8ea640f52060f288": {
          "model_module": "@jupyter-widgets/controls",
          "model_name": "ProgressStyleModel",
          "model_module_version": "1.5.0",
          "state": {
            "_model_module": "@jupyter-widgets/controls",
            "_model_module_version": "1.5.0",
            "_model_name": "ProgressStyleModel",
            "_view_count": null,
            "_view_module": "@jupyter-widgets/base",
            "_view_module_version": "1.2.0",
            "_view_name": "StyleView",
            "bar_color": null,
            "description_width": ""
          }
        },
        "fcac5b36c6f14f79b183107dbd2fa1e5": {
          "model_module": "@jupyter-widgets/base",
          "model_name": "LayoutModel",
          "model_module_version": "1.2.0",
          "state": {
            "_model_module": "@jupyter-widgets/base",
            "_model_module_version": "1.2.0",
            "_model_name": "LayoutModel",
            "_view_count": null,
            "_view_module": "@jupyter-widgets/base",
            "_view_module_version": "1.2.0",
            "_view_name": "LayoutView",
            "align_content": null,
            "align_items": null,
            "align_self": null,
            "border": null,
            "bottom": null,
            "display": null,
            "flex": null,
            "flex_flow": null,
            "grid_area": null,
            "grid_auto_columns": null,
            "grid_auto_flow": null,
            "grid_auto_rows": null,
            "grid_column": null,
            "grid_gap": null,
            "grid_row": null,
            "grid_template_areas": null,
            "grid_template_columns": null,
            "grid_template_rows": null,
            "height": null,
            "justify_content": null,
            "justify_items": null,
            "left": null,
            "margin": null,
            "max_height": null,
            "max_width": null,
            "min_height": null,
            "min_width": null,
            "object_fit": null,
            "object_position": null,
            "order": null,
            "overflow": null,
            "overflow_x": null,
            "overflow_y": null,
            "padding": null,
            "right": null,
            "top": null,
            "visibility": null,
            "width": null
          }
        },
        "e692e3ffd1cc496eb51b537fe39e6013": {
          "model_module": "@jupyter-widgets/controls",
          "model_name": "DescriptionStyleModel",
          "model_module_version": "1.5.0",
          "state": {
            "_model_module": "@jupyter-widgets/controls",
            "_model_module_version": "1.5.0",
            "_model_name": "DescriptionStyleModel",
            "_view_count": null,
            "_view_module": "@jupyter-widgets/base",
            "_view_module_version": "1.2.0",
            "_view_name": "StyleView",
            "description_width": ""
          }
        },
        "9bc0218a0e8c4ed3ab4b218d4d7fdd92": {
          "model_module": "@jupyter-widgets/controls",
          "model_name": "HBoxModel",
          "model_module_version": "1.5.0",
          "state": {
            "_dom_classes": [],
            "_model_module": "@jupyter-widgets/controls",
            "_model_module_version": "1.5.0",
            "_model_name": "HBoxModel",
            "_view_count": null,
            "_view_module": "@jupyter-widgets/controls",
            "_view_module_version": "1.5.0",
            "_view_name": "HBoxView",
            "box_style": "",
            "children": [
              "IPY_MODEL_70bea0b7f9874624b992ee7bb40d9d7e",
              "IPY_MODEL_de284e4dca1e4ab38f82d693875c2481",
              "IPY_MODEL_9c5fc847a7a14c51997de649fc1f39c2"
            ],
            "layout": "IPY_MODEL_60908c8469f64be8820d34da9bd1af27"
          }
        },
        "70bea0b7f9874624b992ee7bb40d9d7e": {
          "model_module": "@jupyter-widgets/controls",
          "model_name": "HTMLModel",
          "model_module_version": "1.5.0",
          "state": {
            "_dom_classes": [],
            "_model_module": "@jupyter-widgets/controls",
            "_model_module_version": "1.5.0",
            "_model_name": "HTMLModel",
            "_view_count": null,
            "_view_module": "@jupyter-widgets/controls",
            "_view_module_version": "1.5.0",
            "_view_name": "HTMLView",
            "description": "",
            "description_tooltip": null,
            "layout": "IPY_MODEL_b3a20019b5214640ad7acc6bb49940fb",
            "placeholder": "​",
            "style": "IPY_MODEL_e66adf51028b45f6ab8edf75a68b9d19",
            "value": "tokenizer.model: 100%"
          }
        },
        "de284e4dca1e4ab38f82d693875c2481": {
          "model_module": "@jupyter-widgets/controls",
          "model_name": "FloatProgressModel",
          "model_module_version": "1.5.0",
          "state": {
            "_dom_classes": [],
            "_model_module": "@jupyter-widgets/controls",
            "_model_module_version": "1.5.0",
            "_model_name": "FloatProgressModel",
            "_view_count": null,
            "_view_module": "@jupyter-widgets/controls",
            "_view_module_version": "1.5.0",
            "_view_name": "ProgressView",
            "bar_style": "success",
            "description": "",
            "description_tooltip": null,
            "layout": "IPY_MODEL_bd4b2c395df44b5a9c300058ae29a6b7",
            "max": 805457,
            "min": 0,
            "orientation": "horizontal",
            "style": "IPY_MODEL_04db8a141cf74b65aee995582710c98e",
            "value": 805457
          }
        },
        "9c5fc847a7a14c51997de649fc1f39c2": {
          "model_module": "@jupyter-widgets/controls",
          "model_name": "HTMLModel",
          "model_module_version": "1.5.0",
          "state": {
            "_dom_classes": [],
            "_model_module": "@jupyter-widgets/controls",
            "_model_module_version": "1.5.0",
            "_model_name": "HTMLModel",
            "_view_count": null,
            "_view_module": "@jupyter-widgets/controls",
            "_view_module_version": "1.5.0",
            "_view_name": "HTMLView",
            "description": "",
            "description_tooltip": null,
            "layout": "IPY_MODEL_b7356368bdcc40dc9e817ce859fd87df",
            "placeholder": "​",
            "style": "IPY_MODEL_807acd6ff4464e9ca66cbcb3450395cd",
            "value": " 805k/805k [00:00&lt;00:00, 8.03MB/s]"
          }
        },
        "60908c8469f64be8820d34da9bd1af27": {
          "model_module": "@jupyter-widgets/base",
          "model_name": "LayoutModel",
          "model_module_version": "1.2.0",
          "state": {
            "_model_module": "@jupyter-widgets/base",
            "_model_module_version": "1.2.0",
            "_model_name": "LayoutModel",
            "_view_count": null,
            "_view_module": "@jupyter-widgets/base",
            "_view_module_version": "1.2.0",
            "_view_name": "LayoutView",
            "align_content": null,
            "align_items": null,
            "align_self": null,
            "border": null,
            "bottom": null,
            "display": null,
            "flex": null,
            "flex_flow": null,
            "grid_area": null,
            "grid_auto_columns": null,
            "grid_auto_flow": null,
            "grid_auto_rows": null,
            "grid_column": null,
            "grid_gap": null,
            "grid_row": null,
            "grid_template_areas": null,
            "grid_template_columns": null,
            "grid_template_rows": null,
            "height": null,
            "justify_content": null,
            "justify_items": null,
            "left": null,
            "margin": null,
            "max_height": null,
            "max_width": null,
            "min_height": null,
            "min_width": null,
            "object_fit": null,
            "object_position": null,
            "order": null,
            "overflow": null,
            "overflow_x": null,
            "overflow_y": null,
            "padding": null,
            "right": null,
            "top": null,
            "visibility": null,
            "width": null
          }
        },
        "b3a20019b5214640ad7acc6bb49940fb": {
          "model_module": "@jupyter-widgets/base",
          "model_name": "LayoutModel",
          "model_module_version": "1.2.0",
          "state": {
            "_model_module": "@jupyter-widgets/base",
            "_model_module_version": "1.2.0",
            "_model_name": "LayoutModel",
            "_view_count": null,
            "_view_module": "@jupyter-widgets/base",
            "_view_module_version": "1.2.0",
            "_view_name": "LayoutView",
            "align_content": null,
            "align_items": null,
            "align_self": null,
            "border": null,
            "bottom": null,
            "display": null,
            "flex": null,
            "flex_flow": null,
            "grid_area": null,
            "grid_auto_columns": null,
            "grid_auto_flow": null,
            "grid_auto_rows": null,
            "grid_column": null,
            "grid_gap": null,
            "grid_row": null,
            "grid_template_areas": null,
            "grid_template_columns": null,
            "grid_template_rows": null,
            "height": null,
            "justify_content": null,
            "justify_items": null,
            "left": null,
            "margin": null,
            "max_height": null,
            "max_width": null,
            "min_height": null,
            "min_width": null,
            "object_fit": null,
            "object_position": null,
            "order": null,
            "overflow": null,
            "overflow_x": null,
            "overflow_y": null,
            "padding": null,
            "right": null,
            "top": null,
            "visibility": null,
            "width": null
          }
        },
        "e66adf51028b45f6ab8edf75a68b9d19": {
          "model_module": "@jupyter-widgets/controls",
          "model_name": "DescriptionStyleModel",
          "model_module_version": "1.5.0",
          "state": {
            "_model_module": "@jupyter-widgets/controls",
            "_model_module_version": "1.5.0",
            "_model_name": "DescriptionStyleModel",
            "_view_count": null,
            "_view_module": "@jupyter-widgets/base",
            "_view_module_version": "1.2.0",
            "_view_name": "StyleView",
            "description_width": ""
          }
        },
        "bd4b2c395df44b5a9c300058ae29a6b7": {
          "model_module": "@jupyter-widgets/base",
          "model_name": "LayoutModel",
          "model_module_version": "1.2.0",
          "state": {
            "_model_module": "@jupyter-widgets/base",
            "_model_module_version": "1.2.0",
            "_model_name": "LayoutModel",
            "_view_count": null,
            "_view_module": "@jupyter-widgets/base",
            "_view_module_version": "1.2.0",
            "_view_name": "LayoutView",
            "align_content": null,
            "align_items": null,
            "align_self": null,
            "border": null,
            "bottom": null,
            "display": null,
            "flex": null,
            "flex_flow": null,
            "grid_area": null,
            "grid_auto_columns": null,
            "grid_auto_flow": null,
            "grid_auto_rows": null,
            "grid_column": null,
            "grid_gap": null,
            "grid_row": null,
            "grid_template_areas": null,
            "grid_template_columns": null,
            "grid_template_rows": null,
            "height": null,
            "justify_content": null,
            "justify_items": null,
            "left": null,
            "margin": null,
            "max_height": null,
            "max_width": null,
            "min_height": null,
            "min_width": null,
            "object_fit": null,
            "object_position": null,
            "order": null,
            "overflow": null,
            "overflow_x": null,
            "overflow_y": null,
            "padding": null,
            "right": null,
            "top": null,
            "visibility": null,
            "width": null
          }
        },
        "04db8a141cf74b65aee995582710c98e": {
          "model_module": "@jupyter-widgets/controls",
          "model_name": "ProgressStyleModel",
          "model_module_version": "1.5.0",
          "state": {
            "_model_module": "@jupyter-widgets/controls",
            "_model_module_version": "1.5.0",
            "_model_name": "ProgressStyleModel",
            "_view_count": null,
            "_view_module": "@jupyter-widgets/base",
            "_view_module_version": "1.2.0",
            "_view_name": "StyleView",
            "bar_color": null,
            "description_width": ""
          }
        },
        "b7356368bdcc40dc9e817ce859fd87df": {
          "model_module": "@jupyter-widgets/base",
          "model_name": "LayoutModel",
          "model_module_version": "1.2.0",
          "state": {
            "_model_module": "@jupyter-widgets/base",
            "_model_module_version": "1.2.0",
            "_model_name": "LayoutModel",
            "_view_count": null,
            "_view_module": "@jupyter-widgets/base",
            "_view_module_version": "1.2.0",
            "_view_name": "LayoutView",
            "align_content": null,
            "align_items": null,
            "align_self": null,
            "border": null,
            "bottom": null,
            "display": null,
            "flex": null,
            "flex_flow": null,
            "grid_area": null,
            "grid_auto_columns": null,
            "grid_auto_flow": null,
            "grid_auto_rows": null,
            "grid_column": null,
            "grid_gap": null,
            "grid_row": null,
            "grid_template_areas": null,
            "grid_template_columns": null,
            "grid_template_rows": null,
            "height": null,
            "justify_content": null,
            "justify_items": null,
            "left": null,
            "margin": null,
            "max_height": null,
            "max_width": null,
            "min_height": null,
            "min_width": null,
            "object_fit": null,
            "object_position": null,
            "order": null,
            "overflow": null,
            "overflow_x": null,
            "overflow_y": null,
            "padding": null,
            "right": null,
            "top": null,
            "visibility": null,
            "width": null
          }
        },
        "807acd6ff4464e9ca66cbcb3450395cd": {
          "model_module": "@jupyter-widgets/controls",
          "model_name": "DescriptionStyleModel",
          "model_module_version": "1.5.0",
          "state": {
            "_model_module": "@jupyter-widgets/controls",
            "_model_module_version": "1.5.0",
            "_model_name": "DescriptionStyleModel",
            "_view_count": null,
            "_view_module": "@jupyter-widgets/base",
            "_view_module_version": "1.2.0",
            "_view_name": "StyleView",
            "description_width": ""
          }
        },
        "7fbe4847204c42cb94744a78ded0ca2e": {
          "model_module": "@jupyter-widgets/controls",
          "model_name": "HBoxModel",
          "model_module_version": "1.5.0",
          "state": {
            "_dom_classes": [],
            "_model_module": "@jupyter-widgets/controls",
            "_model_module_version": "1.5.0",
            "_model_name": "HBoxModel",
            "_view_count": null,
            "_view_module": "@jupyter-widgets/controls",
            "_view_module_version": "1.5.0",
            "_view_name": "HBoxView",
            "box_style": "",
            "children": [
              "IPY_MODEL_b5a3ce3b46714f5b9216057622792aee",
              "IPY_MODEL_f423736814c94f56bfb6ec3822329fd9",
              "IPY_MODEL_997648ac6c8e476c96a56c0636c78b6a"
            ],
            "layout": "IPY_MODEL_0e84bded70ed4097b345c96dae752f02"
          }
        },
        "b5a3ce3b46714f5b9216057622792aee": {
          "model_module": "@jupyter-widgets/controls",
          "model_name": "HTMLModel",
          "model_module_version": "1.5.0",
          "state": {
            "_dom_classes": [],
            "_model_module": "@jupyter-widgets/controls",
            "_model_module_version": "1.5.0",
            "_model_name": "HTMLModel",
            "_view_count": null,
            "_view_module": "@jupyter-widgets/controls",
            "_view_module_version": "1.5.0",
            "_view_name": "HTMLView",
            "description": "",
            "description_tooltip": null,
            "layout": "IPY_MODEL_1c565a6b8dce4fd696b0d1236d11fdbb",
            "placeholder": "​",
            "style": "IPY_MODEL_f6f0ac5066064cb785c2a33c08040e72",
            "value": "special_tokens_map.json: 100%"
          }
        },
        "f423736814c94f56bfb6ec3822329fd9": {
          "model_module": "@jupyter-widgets/controls",
          "model_name": "FloatProgressModel",
          "model_module_version": "1.5.0",
          "state": {
            "_dom_classes": [],
            "_model_module": "@jupyter-widgets/controls",
            "_model_module_version": "1.5.0",
            "_model_name": "FloatProgressModel",
            "_view_count": null,
            "_view_module": "@jupyter-widgets/controls",
            "_view_module_version": "1.5.0",
            "_view_name": "ProgressView",
            "bar_style": "success",
            "description": "",
            "description_tooltip": null,
            "layout": "IPY_MODEL_169c905c50e64fc19c1d910c9a1c757c",
            "max": 477,
            "min": 0,
            "orientation": "horizontal",
            "style": "IPY_MODEL_75c160d0a6424c8394905dd1fee5f124",
            "value": 477
          }
        },
        "997648ac6c8e476c96a56c0636c78b6a": {
          "model_module": "@jupyter-widgets/controls",
          "model_name": "HTMLModel",
          "model_module_version": "1.5.0",
          "state": {
            "_dom_classes": [],
            "_model_module": "@jupyter-widgets/controls",
            "_model_module_version": "1.5.0",
            "_model_name": "HTMLModel",
            "_view_count": null,
            "_view_module": "@jupyter-widgets/controls",
            "_view_module_version": "1.5.0",
            "_view_name": "HTMLView",
            "description": "",
            "description_tooltip": null,
            "layout": "IPY_MODEL_5a7272ef6fd142a1bc34a435f1760a90",
            "placeholder": "​",
            "style": "IPY_MODEL_42b8ffaadc8b4b5da89575d91ac1f3e9",
            "value": " 477/477 [00:00&lt;00:00, 9.79kB/s]"
          }
        },
        "0e84bded70ed4097b345c96dae752f02": {
          "model_module": "@jupyter-widgets/base",
          "model_name": "LayoutModel",
          "model_module_version": "1.2.0",
          "state": {
            "_model_module": "@jupyter-widgets/base",
            "_model_module_version": "1.2.0",
            "_model_name": "LayoutModel",
            "_view_count": null,
            "_view_module": "@jupyter-widgets/base",
            "_view_module_version": "1.2.0",
            "_view_name": "LayoutView",
            "align_content": null,
            "align_items": null,
            "align_self": null,
            "border": null,
            "bottom": null,
            "display": null,
            "flex": null,
            "flex_flow": null,
            "grid_area": null,
            "grid_auto_columns": null,
            "grid_auto_flow": null,
            "grid_auto_rows": null,
            "grid_column": null,
            "grid_gap": null,
            "grid_row": null,
            "grid_template_areas": null,
            "grid_template_columns": null,
            "grid_template_rows": null,
            "height": null,
            "justify_content": null,
            "justify_items": null,
            "left": null,
            "margin": null,
            "max_height": null,
            "max_width": null,
            "min_height": null,
            "min_width": null,
            "object_fit": null,
            "object_position": null,
            "order": null,
            "overflow": null,
            "overflow_x": null,
            "overflow_y": null,
            "padding": null,
            "right": null,
            "top": null,
            "visibility": null,
            "width": null
          }
        },
        "1c565a6b8dce4fd696b0d1236d11fdbb": {
          "model_module": "@jupyter-widgets/base",
          "model_name": "LayoutModel",
          "model_module_version": "1.2.0",
          "state": {
            "_model_module": "@jupyter-widgets/base",
            "_model_module_version": "1.2.0",
            "_model_name": "LayoutModel",
            "_view_count": null,
            "_view_module": "@jupyter-widgets/base",
            "_view_module_version": "1.2.0",
            "_view_name": "LayoutView",
            "align_content": null,
            "align_items": null,
            "align_self": null,
            "border": null,
            "bottom": null,
            "display": null,
            "flex": null,
            "flex_flow": null,
            "grid_area": null,
            "grid_auto_columns": null,
            "grid_auto_flow": null,
            "grid_auto_rows": null,
            "grid_column": null,
            "grid_gap": null,
            "grid_row": null,
            "grid_template_areas": null,
            "grid_template_columns": null,
            "grid_template_rows": null,
            "height": null,
            "justify_content": null,
            "justify_items": null,
            "left": null,
            "margin": null,
            "max_height": null,
            "max_width": null,
            "min_height": null,
            "min_width": null,
            "object_fit": null,
            "object_position": null,
            "order": null,
            "overflow": null,
            "overflow_x": null,
            "overflow_y": null,
            "padding": null,
            "right": null,
            "top": null,
            "visibility": null,
            "width": null
          }
        },
        "f6f0ac5066064cb785c2a33c08040e72": {
          "model_module": "@jupyter-widgets/controls",
          "model_name": "DescriptionStyleModel",
          "model_module_version": "1.5.0",
          "state": {
            "_model_module": "@jupyter-widgets/controls",
            "_model_module_version": "1.5.0",
            "_model_name": "DescriptionStyleModel",
            "_view_count": null,
            "_view_module": "@jupyter-widgets/base",
            "_view_module_version": "1.2.0",
            "_view_name": "StyleView",
            "description_width": ""
          }
        },
        "169c905c50e64fc19c1d910c9a1c757c": {
          "model_module": "@jupyter-widgets/base",
          "model_name": "LayoutModel",
          "model_module_version": "1.2.0",
          "state": {
            "_model_module": "@jupyter-widgets/base",
            "_model_module_version": "1.2.0",
            "_model_name": "LayoutModel",
            "_view_count": null,
            "_view_module": "@jupyter-widgets/base",
            "_view_module_version": "1.2.0",
            "_view_name": "LayoutView",
            "align_content": null,
            "align_items": null,
            "align_self": null,
            "border": null,
            "bottom": null,
            "display": null,
            "flex": null,
            "flex_flow": null,
            "grid_area": null,
            "grid_auto_columns": null,
            "grid_auto_flow": null,
            "grid_auto_rows": null,
            "grid_column": null,
            "grid_gap": null,
            "grid_row": null,
            "grid_template_areas": null,
            "grid_template_columns": null,
            "grid_template_rows": null,
            "height": null,
            "justify_content": null,
            "justify_items": null,
            "left": null,
            "margin": null,
            "max_height": null,
            "max_width": null,
            "min_height": null,
            "min_width": null,
            "object_fit": null,
            "object_position": null,
            "order": null,
            "overflow": null,
            "overflow_x": null,
            "overflow_y": null,
            "padding": null,
            "right": null,
            "top": null,
            "visibility": null,
            "width": null
          }
        },
        "75c160d0a6424c8394905dd1fee5f124": {
          "model_module": "@jupyter-widgets/controls",
          "model_name": "ProgressStyleModel",
          "model_module_version": "1.5.0",
          "state": {
            "_model_module": "@jupyter-widgets/controls",
            "_model_module_version": "1.5.0",
            "_model_name": "ProgressStyleModel",
            "_view_count": null,
            "_view_module": "@jupyter-widgets/base",
            "_view_module_version": "1.2.0",
            "_view_name": "StyleView",
            "bar_color": null,
            "description_width": ""
          }
        },
        "5a7272ef6fd142a1bc34a435f1760a90": {
          "model_module": "@jupyter-widgets/base",
          "model_name": "LayoutModel",
          "model_module_version": "1.2.0",
          "state": {
            "_model_module": "@jupyter-widgets/base",
            "_model_module_version": "1.2.0",
            "_model_name": "LayoutModel",
            "_view_count": null,
            "_view_module": "@jupyter-widgets/base",
            "_view_module_version": "1.2.0",
            "_view_name": "LayoutView",
            "align_content": null,
            "align_items": null,
            "align_self": null,
            "border": null,
            "bottom": null,
            "display": null,
            "flex": null,
            "flex_flow": null,
            "grid_area": null,
            "grid_auto_columns": null,
            "grid_auto_flow": null,
            "grid_auto_rows": null,
            "grid_column": null,
            "grid_gap": null,
            "grid_row": null,
            "grid_template_areas": null,
            "grid_template_columns": null,
            "grid_template_rows": null,
            "height": null,
            "justify_content": null,
            "justify_items": null,
            "left": null,
            "margin": null,
            "max_height": null,
            "max_width": null,
            "min_height": null,
            "min_width": null,
            "object_fit": null,
            "object_position": null,
            "order": null,
            "overflow": null,
            "overflow_x": null,
            "overflow_y": null,
            "padding": null,
            "right": null,
            "top": null,
            "visibility": null,
            "width": null
          }
        },
        "42b8ffaadc8b4b5da89575d91ac1f3e9": {
          "model_module": "@jupyter-widgets/controls",
          "model_name": "DescriptionStyleModel",
          "model_module_version": "1.5.0",
          "state": {
            "_model_module": "@jupyter-widgets/controls",
            "_model_module_version": "1.5.0",
            "_model_name": "DescriptionStyleModel",
            "_view_count": null,
            "_view_module": "@jupyter-widgets/base",
            "_view_module_version": "1.2.0",
            "_view_name": "StyleView",
            "description_width": ""
          }
        },
        "28f894cdb098462587988eb5fec0785e": {
          "model_module": "@jupyter-widgets/controls",
          "model_name": "HBoxModel",
          "model_module_version": "1.5.0",
          "state": {
            "_dom_classes": [],
            "_model_module": "@jupyter-widgets/controls",
            "_model_module_version": "1.5.0",
            "_model_name": "HBoxModel",
            "_view_count": null,
            "_view_module": "@jupyter-widgets/controls",
            "_view_module_version": "1.5.0",
            "_view_name": "HBoxView",
            "box_style": "",
            "children": [
              "IPY_MODEL_3ebb1808cf4a427fbd3f7b4eb728009a",
              "IPY_MODEL_14cfb1efdb2343a2aa3f3ea416a0b39e",
              "IPY_MODEL_c1f14e8d9d3a442d883a731f3c43c906"
            ],
            "layout": "IPY_MODEL_29d449337c164a2d83e7c0f85575ac45"
          }
        },
        "3ebb1808cf4a427fbd3f7b4eb728009a": {
          "model_module": "@jupyter-widgets/controls",
          "model_name": "HTMLModel",
          "model_module_version": "1.5.0",
          "state": {
            "_dom_classes": [],
            "_model_module": "@jupyter-widgets/controls",
            "_model_module_version": "1.5.0",
            "_model_name": "HTMLModel",
            "_view_count": null,
            "_view_module": "@jupyter-widgets/controls",
            "_view_module_version": "1.5.0",
            "_view_name": "HTMLView",
            "description": "",
            "description_tooltip": null,
            "layout": "IPY_MODEL_59c3bbca29954cb0ac52616b15cbb414",
            "placeholder": "​",
            "style": "IPY_MODEL_edf7c7be7c9d4ee8907a20bf28876f94",
            "value": "config.json: 100%"
          }
        },
        "14cfb1efdb2343a2aa3f3ea416a0b39e": {
          "model_module": "@jupyter-widgets/controls",
          "model_name": "FloatProgressModel",
          "model_module_version": "1.5.0",
          "state": {
            "_dom_classes": [],
            "_model_module": "@jupyter-widgets/controls",
            "_model_module_version": "1.5.0",
            "_model_name": "FloatProgressModel",
            "_view_count": null,
            "_view_module": "@jupyter-widgets/controls",
            "_view_module_version": "1.5.0",
            "_view_name": "ProgressView",
            "bar_style": "success",
            "description": "",
            "description_tooltip": null,
            "layout": "IPY_MODEL_0a7f6683f4ba4c2a9a8e9478e60bafd0",
            "max": 1091,
            "min": 0,
            "orientation": "horizontal",
            "style": "IPY_MODEL_fe7d6d9d430e46d199f6233aafbca42b",
            "value": 1091
          }
        },
        "c1f14e8d9d3a442d883a731f3c43c906": {
          "model_module": "@jupyter-widgets/controls",
          "model_name": "HTMLModel",
          "model_module_version": "1.5.0",
          "state": {
            "_dom_classes": [],
            "_model_module": "@jupyter-widgets/controls",
            "_model_module_version": "1.5.0",
            "_model_name": "HTMLModel",
            "_view_count": null,
            "_view_module": "@jupyter-widgets/controls",
            "_view_module_version": "1.5.0",
            "_view_name": "HTMLView",
            "description": "",
            "description_tooltip": null,
            "layout": "IPY_MODEL_507a619c41fc4021bda7f2667b5aa72e",
            "placeholder": "​",
            "style": "IPY_MODEL_4a8b7d7614894ee1bff467c998b6f30b",
            "value": " 1.09k/1.09k [00:00&lt;00:00, 42.7kB/s]"
          }
        },
        "29d449337c164a2d83e7c0f85575ac45": {
          "model_module": "@jupyter-widgets/base",
          "model_name": "LayoutModel",
          "model_module_version": "1.2.0",
          "state": {
            "_model_module": "@jupyter-widgets/base",
            "_model_module_version": "1.2.0",
            "_model_name": "LayoutModel",
            "_view_count": null,
            "_view_module": "@jupyter-widgets/base",
            "_view_module_version": "1.2.0",
            "_view_name": "LayoutView",
            "align_content": null,
            "align_items": null,
            "align_self": null,
            "border": null,
            "bottom": null,
            "display": null,
            "flex": null,
            "flex_flow": null,
            "grid_area": null,
            "grid_auto_columns": null,
            "grid_auto_flow": null,
            "grid_auto_rows": null,
            "grid_column": null,
            "grid_gap": null,
            "grid_row": null,
            "grid_template_areas": null,
            "grid_template_columns": null,
            "grid_template_rows": null,
            "height": null,
            "justify_content": null,
            "justify_items": null,
            "left": null,
            "margin": null,
            "max_height": null,
            "max_width": null,
            "min_height": null,
            "min_width": null,
            "object_fit": null,
            "object_position": null,
            "order": null,
            "overflow": null,
            "overflow_x": null,
            "overflow_y": null,
            "padding": null,
            "right": null,
            "top": null,
            "visibility": null,
            "width": null
          }
        },
        "59c3bbca29954cb0ac52616b15cbb414": {
          "model_module": "@jupyter-widgets/base",
          "model_name": "LayoutModel",
          "model_module_version": "1.2.0",
          "state": {
            "_model_module": "@jupyter-widgets/base",
            "_model_module_version": "1.2.0",
            "_model_name": "LayoutModel",
            "_view_count": null,
            "_view_module": "@jupyter-widgets/base",
            "_view_module_version": "1.2.0",
            "_view_name": "LayoutView",
            "align_content": null,
            "align_items": null,
            "align_self": null,
            "border": null,
            "bottom": null,
            "display": null,
            "flex": null,
            "flex_flow": null,
            "grid_area": null,
            "grid_auto_columns": null,
            "grid_auto_flow": null,
            "grid_auto_rows": null,
            "grid_column": null,
            "grid_gap": null,
            "grid_row": null,
            "grid_template_areas": null,
            "grid_template_columns": null,
            "grid_template_rows": null,
            "height": null,
            "justify_content": null,
            "justify_items": null,
            "left": null,
            "margin": null,
            "max_height": null,
            "max_width": null,
            "min_height": null,
            "min_width": null,
            "object_fit": null,
            "object_position": null,
            "order": null,
            "overflow": null,
            "overflow_x": null,
            "overflow_y": null,
            "padding": null,
            "right": null,
            "top": null,
            "visibility": null,
            "width": null
          }
        },
        "edf7c7be7c9d4ee8907a20bf28876f94": {
          "model_module": "@jupyter-widgets/controls",
          "model_name": "DescriptionStyleModel",
          "model_module_version": "1.5.0",
          "state": {
            "_model_module": "@jupyter-widgets/controls",
            "_model_module_version": "1.5.0",
            "_model_name": "DescriptionStyleModel",
            "_view_count": null,
            "_view_module": "@jupyter-widgets/base",
            "_view_module_version": "1.2.0",
            "_view_name": "StyleView",
            "description_width": ""
          }
        },
        "0a7f6683f4ba4c2a9a8e9478e60bafd0": {
          "model_module": "@jupyter-widgets/base",
          "model_name": "LayoutModel",
          "model_module_version": "1.2.0",
          "state": {
            "_model_module": "@jupyter-widgets/base",
            "_model_module_version": "1.2.0",
            "_model_name": "LayoutModel",
            "_view_count": null,
            "_view_module": "@jupyter-widgets/base",
            "_view_module_version": "1.2.0",
            "_view_name": "LayoutView",
            "align_content": null,
            "align_items": null,
            "align_self": null,
            "border": null,
            "bottom": null,
            "display": null,
            "flex": null,
            "flex_flow": null,
            "grid_area": null,
            "grid_auto_columns": null,
            "grid_auto_flow": null,
            "grid_auto_rows": null,
            "grid_column": null,
            "grid_gap": null,
            "grid_row": null,
            "grid_template_areas": null,
            "grid_template_columns": null,
            "grid_template_rows": null,
            "height": null,
            "justify_content": null,
            "justify_items": null,
            "left": null,
            "margin": null,
            "max_height": null,
            "max_width": null,
            "min_height": null,
            "min_width": null,
            "object_fit": null,
            "object_position": null,
            "order": null,
            "overflow": null,
            "overflow_x": null,
            "overflow_y": null,
            "padding": null,
            "right": null,
            "top": null,
            "visibility": null,
            "width": null
          }
        },
        "fe7d6d9d430e46d199f6233aafbca42b": {
          "model_module": "@jupyter-widgets/controls",
          "model_name": "ProgressStyleModel",
          "model_module_version": "1.5.0",
          "state": {
            "_model_module": "@jupyter-widgets/controls",
            "_model_module_version": "1.5.0",
            "_model_name": "ProgressStyleModel",
            "_view_count": null,
            "_view_module": "@jupyter-widgets/base",
            "_view_module_version": "1.2.0",
            "_view_name": "StyleView",
            "bar_color": null,
            "description_width": ""
          }
        },
        "507a619c41fc4021bda7f2667b5aa72e": {
          "model_module": "@jupyter-widgets/base",
          "model_name": "LayoutModel",
          "model_module_version": "1.2.0",
          "state": {
            "_model_module": "@jupyter-widgets/base",
            "_model_module_version": "1.2.0",
            "_model_name": "LayoutModel",
            "_view_count": null,
            "_view_module": "@jupyter-widgets/base",
            "_view_module_version": "1.2.0",
            "_view_name": "LayoutView",
            "align_content": null,
            "align_items": null,
            "align_self": null,
            "border": null,
            "bottom": null,
            "display": null,
            "flex": null,
            "flex_flow": null,
            "grid_area": null,
            "grid_auto_columns": null,
            "grid_auto_flow": null,
            "grid_auto_rows": null,
            "grid_column": null,
            "grid_gap": null,
            "grid_row": null,
            "grid_template_areas": null,
            "grid_template_columns": null,
            "grid_template_rows": null,
            "height": null,
            "justify_content": null,
            "justify_items": null,
            "left": null,
            "margin": null,
            "max_height": null,
            "max_width": null,
            "min_height": null,
            "min_width": null,
            "object_fit": null,
            "object_position": null,
            "order": null,
            "overflow": null,
            "overflow_x": null,
            "overflow_y": null,
            "padding": null,
            "right": null,
            "top": null,
            "visibility": null,
            "width": null
          }
        },
        "4a8b7d7614894ee1bff467c998b6f30b": {
          "model_module": "@jupyter-widgets/controls",
          "model_name": "DescriptionStyleModel",
          "model_module_version": "1.5.0",
          "state": {
            "_model_module": "@jupyter-widgets/controls",
            "_model_module_version": "1.5.0",
            "_model_name": "DescriptionStyleModel",
            "_view_count": null,
            "_view_module": "@jupyter-widgets/base",
            "_view_module_version": "1.2.0",
            "_view_name": "StyleView",
            "description_width": ""
          }
        },
        "169835f6ed0940b0902fd4ccef5426e4": {
          "model_module": "@jupyter-widgets/controls",
          "model_name": "HBoxModel",
          "model_module_version": "1.5.0",
          "state": {
            "_dom_classes": [],
            "_model_module": "@jupyter-widgets/controls",
            "_model_module_version": "1.5.0",
            "_model_name": "HBoxModel",
            "_view_count": null,
            "_view_module": "@jupyter-widgets/controls",
            "_view_module_version": "1.5.0",
            "_view_name": "HBoxView",
            "box_style": "",
            "children": [
              "IPY_MODEL_e39a32ad89834bfca51723a7bf79e5cb",
              "IPY_MODEL_0896e87eb5f34343ac2feb52192b79dd",
              "IPY_MODEL_8d960f496c0940a9871f0defb32d6407"
            ],
            "layout": "IPY_MODEL_1ed703e661114519becae3ab48ee122e"
          }
        },
        "e39a32ad89834bfca51723a7bf79e5cb": {
          "model_module": "@jupyter-widgets/controls",
          "model_name": "HTMLModel",
          "model_module_version": "1.5.0",
          "state": {
            "_dom_classes": [],
            "_model_module": "@jupyter-widgets/controls",
            "_model_module_version": "1.5.0",
            "_model_name": "HTMLModel",
            "_view_count": null,
            "_view_module": "@jupyter-widgets/controls",
            "_view_module_version": "1.5.0",
            "_view_name": "HTMLView",
            "description": "",
            "description_tooltip": null,
            "layout": "IPY_MODEL_2bd5ac65a2fe4d749765833ef92a75b4",
            "placeholder": "​",
            "style": "IPY_MODEL_6aafa152fbbe431bb4c4406e550a3fac",
            "value": "modeling_plamo.py: 100%"
          }
        },
        "0896e87eb5f34343ac2feb52192b79dd": {
          "model_module": "@jupyter-widgets/controls",
          "model_name": "FloatProgressModel",
          "model_module_version": "1.5.0",
          "state": {
            "_dom_classes": [],
            "_model_module": "@jupyter-widgets/controls",
            "_model_module_version": "1.5.0",
            "_model_name": "FloatProgressModel",
            "_view_count": null,
            "_view_module": "@jupyter-widgets/controls",
            "_view_module_version": "1.5.0",
            "_view_name": "ProgressView",
            "bar_style": "success",
            "description": "",
            "description_tooltip": null,
            "layout": "IPY_MODEL_0c2cb97a33b94955b81a1d265dfd7f2b",
            "max": 38930,
            "min": 0,
            "orientation": "horizontal",
            "style": "IPY_MODEL_ffb6ef5de01741dab48c38e58b3ecb74",
            "value": 38930
          }
        },
        "8d960f496c0940a9871f0defb32d6407": {
          "model_module": "@jupyter-widgets/controls",
          "model_name": "HTMLModel",
          "model_module_version": "1.5.0",
          "state": {
            "_dom_classes": [],
            "_model_module": "@jupyter-widgets/controls",
            "_model_module_version": "1.5.0",
            "_model_name": "HTMLModel",
            "_view_count": null,
            "_view_module": "@jupyter-widgets/controls",
            "_view_module_version": "1.5.0",
            "_view_name": "HTMLView",
            "description": "",
            "description_tooltip": null,
            "layout": "IPY_MODEL_b46ba9c2be8241abbbe303c1ad887acb",
            "placeholder": "​",
            "style": "IPY_MODEL_92ff4dade7344c9ab3e792c8e72ce4ac",
            "value": " 38.9k/38.9k [00:00&lt;00:00, 938kB/s]"
          }
        },
        "1ed703e661114519becae3ab48ee122e": {
          "model_module": "@jupyter-widgets/base",
          "model_name": "LayoutModel",
          "model_module_version": "1.2.0",
          "state": {
            "_model_module": "@jupyter-widgets/base",
            "_model_module_version": "1.2.0",
            "_model_name": "LayoutModel",
            "_view_count": null,
            "_view_module": "@jupyter-widgets/base",
            "_view_module_version": "1.2.0",
            "_view_name": "LayoutView",
            "align_content": null,
            "align_items": null,
            "align_self": null,
            "border": null,
            "bottom": null,
            "display": null,
            "flex": null,
            "flex_flow": null,
            "grid_area": null,
            "grid_auto_columns": null,
            "grid_auto_flow": null,
            "grid_auto_rows": null,
            "grid_column": null,
            "grid_gap": null,
            "grid_row": null,
            "grid_template_areas": null,
            "grid_template_columns": null,
            "grid_template_rows": null,
            "height": null,
            "justify_content": null,
            "justify_items": null,
            "left": null,
            "margin": null,
            "max_height": null,
            "max_width": null,
            "min_height": null,
            "min_width": null,
            "object_fit": null,
            "object_position": null,
            "order": null,
            "overflow": null,
            "overflow_x": null,
            "overflow_y": null,
            "padding": null,
            "right": null,
            "top": null,
            "visibility": null,
            "width": null
          }
        },
        "2bd5ac65a2fe4d749765833ef92a75b4": {
          "model_module": "@jupyter-widgets/base",
          "model_name": "LayoutModel",
          "model_module_version": "1.2.0",
          "state": {
            "_model_module": "@jupyter-widgets/base",
            "_model_module_version": "1.2.0",
            "_model_name": "LayoutModel",
            "_view_count": null,
            "_view_module": "@jupyter-widgets/base",
            "_view_module_version": "1.2.0",
            "_view_name": "LayoutView",
            "align_content": null,
            "align_items": null,
            "align_self": null,
            "border": null,
            "bottom": null,
            "display": null,
            "flex": null,
            "flex_flow": null,
            "grid_area": null,
            "grid_auto_columns": null,
            "grid_auto_flow": null,
            "grid_auto_rows": null,
            "grid_column": null,
            "grid_gap": null,
            "grid_row": null,
            "grid_template_areas": null,
            "grid_template_columns": null,
            "grid_template_rows": null,
            "height": null,
            "justify_content": null,
            "justify_items": null,
            "left": null,
            "margin": null,
            "max_height": null,
            "max_width": null,
            "min_height": null,
            "min_width": null,
            "object_fit": null,
            "object_position": null,
            "order": null,
            "overflow": null,
            "overflow_x": null,
            "overflow_y": null,
            "padding": null,
            "right": null,
            "top": null,
            "visibility": null,
            "width": null
          }
        },
        "6aafa152fbbe431bb4c4406e550a3fac": {
          "model_module": "@jupyter-widgets/controls",
          "model_name": "DescriptionStyleModel",
          "model_module_version": "1.5.0",
          "state": {
            "_model_module": "@jupyter-widgets/controls",
            "_model_module_version": "1.5.0",
            "_model_name": "DescriptionStyleModel",
            "_view_count": null,
            "_view_module": "@jupyter-widgets/base",
            "_view_module_version": "1.2.0",
            "_view_name": "StyleView",
            "description_width": ""
          }
        },
        "0c2cb97a33b94955b81a1d265dfd7f2b": {
          "model_module": "@jupyter-widgets/base",
          "model_name": "LayoutModel",
          "model_module_version": "1.2.0",
          "state": {
            "_model_module": "@jupyter-widgets/base",
            "_model_module_version": "1.2.0",
            "_model_name": "LayoutModel",
            "_view_count": null,
            "_view_module": "@jupyter-widgets/base",
            "_view_module_version": "1.2.0",
            "_view_name": "LayoutView",
            "align_content": null,
            "align_items": null,
            "align_self": null,
            "border": null,
            "bottom": null,
            "display": null,
            "flex": null,
            "flex_flow": null,
            "grid_area": null,
            "grid_auto_columns": null,
            "grid_auto_flow": null,
            "grid_auto_rows": null,
            "grid_column": null,
            "grid_gap": null,
            "grid_row": null,
            "grid_template_areas": null,
            "grid_template_columns": null,
            "grid_template_rows": null,
            "height": null,
            "justify_content": null,
            "justify_items": null,
            "left": null,
            "margin": null,
            "max_height": null,
            "max_width": null,
            "min_height": null,
            "min_width": null,
            "object_fit": null,
            "object_position": null,
            "order": null,
            "overflow": null,
            "overflow_x": null,
            "overflow_y": null,
            "padding": null,
            "right": null,
            "top": null,
            "visibility": null,
            "width": null
          }
        },
        "ffb6ef5de01741dab48c38e58b3ecb74": {
          "model_module": "@jupyter-widgets/controls",
          "model_name": "ProgressStyleModel",
          "model_module_version": "1.5.0",
          "state": {
            "_model_module": "@jupyter-widgets/controls",
            "_model_module_version": "1.5.0",
            "_model_name": "ProgressStyleModel",
            "_view_count": null,
            "_view_module": "@jupyter-widgets/base",
            "_view_module_version": "1.2.0",
            "_view_name": "StyleView",
            "bar_color": null,
            "description_width": ""
          }
        },
        "b46ba9c2be8241abbbe303c1ad887acb": {
          "model_module": "@jupyter-widgets/base",
          "model_name": "LayoutModel",
          "model_module_version": "1.2.0",
          "state": {
            "_model_module": "@jupyter-widgets/base",
            "_model_module_version": "1.2.0",
            "_model_name": "LayoutModel",
            "_view_count": null,
            "_view_module": "@jupyter-widgets/base",
            "_view_module_version": "1.2.0",
            "_view_name": "LayoutView",
            "align_content": null,
            "align_items": null,
            "align_self": null,
            "border": null,
            "bottom": null,
            "display": null,
            "flex": null,
            "flex_flow": null,
            "grid_area": null,
            "grid_auto_columns": null,
            "grid_auto_flow": null,
            "grid_auto_rows": null,
            "grid_column": null,
            "grid_gap": null,
            "grid_row": null,
            "grid_template_areas": null,
            "grid_template_columns": null,
            "grid_template_rows": null,
            "height": null,
            "justify_content": null,
            "justify_items": null,
            "left": null,
            "margin": null,
            "max_height": null,
            "max_width": null,
            "min_height": null,
            "min_width": null,
            "object_fit": null,
            "object_position": null,
            "order": null,
            "overflow": null,
            "overflow_x": null,
            "overflow_y": null,
            "padding": null,
            "right": null,
            "top": null,
            "visibility": null,
            "width": null
          }
        },
        "92ff4dade7344c9ab3e792c8e72ce4ac": {
          "model_module": "@jupyter-widgets/controls",
          "model_name": "DescriptionStyleModel",
          "model_module_version": "1.5.0",
          "state": {
            "_model_module": "@jupyter-widgets/controls",
            "_model_module_version": "1.5.0",
            "_model_name": "DescriptionStyleModel",
            "_view_count": null,
            "_view_module": "@jupyter-widgets/base",
            "_view_module_version": "1.2.0",
            "_view_name": "StyleView",
            "description_width": ""
          }
        },
        "f0469553696a4ca8bed44fdc608aaa8d": {
          "model_module": "@jupyter-widgets/controls",
          "model_name": "HBoxModel",
          "model_module_version": "1.5.0",
          "state": {
            "_dom_classes": [],
            "_model_module": "@jupyter-widgets/controls",
            "_model_module_version": "1.5.0",
            "_model_name": "HBoxModel",
            "_view_count": null,
            "_view_module": "@jupyter-widgets/controls",
            "_view_module_version": "1.5.0",
            "_view_name": "HBoxView",
            "box_style": "",
            "children": [
              "IPY_MODEL_946de5e310494cee9a53af21c2a065a4",
              "IPY_MODEL_0589c563fd744518900e26268e78e2e9",
              "IPY_MODEL_bf81fc2f417340eea7f5d456827a47dd"
            ],
            "layout": "IPY_MODEL_d277d5901b0f4719856b455e624a473f"
          }
        },
        "946de5e310494cee9a53af21c2a065a4": {
          "model_module": "@jupyter-widgets/controls",
          "model_name": "HTMLModel",
          "model_module_version": "1.5.0",
          "state": {
            "_dom_classes": [],
            "_model_module": "@jupyter-widgets/controls",
            "_model_module_version": "1.5.0",
            "_model_name": "HTMLModel",
            "_view_count": null,
            "_view_module": "@jupyter-widgets/controls",
            "_view_module_version": "1.5.0",
            "_view_name": "HTMLView",
            "description": "",
            "description_tooltip": null,
            "layout": "IPY_MODEL_72e071af47904b5f9d44ea7bab770cb3",
            "placeholder": "​",
            "style": "IPY_MODEL_58e58c97791f4bd38cdbe659e8b8eebe",
            "value": "model.safetensors: 100%"
          }
        },
        "0589c563fd744518900e26268e78e2e9": {
          "model_module": "@jupyter-widgets/controls",
          "model_name": "FloatProgressModel",
          "model_module_version": "1.5.0",
          "state": {
            "_dom_classes": [],
            "_model_module": "@jupyter-widgets/controls",
            "_model_module_version": "1.5.0",
            "_model_name": "FloatProgressModel",
            "_view_count": null,
            "_view_module": "@jupyter-widgets/controls",
            "_view_module_version": "1.5.0",
            "_view_name": "ProgressView",
            "bar_style": "success",
            "description": "",
            "description_tooltip": null,
            "layout": "IPY_MODEL_07dc8140cfaf4a57960b2a7654af6253",
            "max": 2101303432,
            "min": 0,
            "orientation": "horizontal",
            "style": "IPY_MODEL_a93c580690c14cbc9b831a4090f6270a",
            "value": 2101303432
          }
        },
        "bf81fc2f417340eea7f5d456827a47dd": {
          "model_module": "@jupyter-widgets/controls",
          "model_name": "HTMLModel",
          "model_module_version": "1.5.0",
          "state": {
            "_dom_classes": [],
            "_model_module": "@jupyter-widgets/controls",
            "_model_module_version": "1.5.0",
            "_model_name": "HTMLModel",
            "_view_count": null,
            "_view_module": "@jupyter-widgets/controls",
            "_view_module_version": "1.5.0",
            "_view_name": "HTMLView",
            "description": "",
            "description_tooltip": null,
            "layout": "IPY_MODEL_a8741884be554091ae21f8d61672194b",
            "placeholder": "​",
            "style": "IPY_MODEL_8d6d57e5980f459cace9d2fb12035508",
            "value": " 2.10G/2.10G [00:51&lt;00:00, 21.3MB/s]"
          }
        },
        "d277d5901b0f4719856b455e624a473f": {
          "model_module": "@jupyter-widgets/base",
          "model_name": "LayoutModel",
          "model_module_version": "1.2.0",
          "state": {
            "_model_module": "@jupyter-widgets/base",
            "_model_module_version": "1.2.0",
            "_model_name": "LayoutModel",
            "_view_count": null,
            "_view_module": "@jupyter-widgets/base",
            "_view_module_version": "1.2.0",
            "_view_name": "LayoutView",
            "align_content": null,
            "align_items": null,
            "align_self": null,
            "border": null,
            "bottom": null,
            "display": null,
            "flex": null,
            "flex_flow": null,
            "grid_area": null,
            "grid_auto_columns": null,
            "grid_auto_flow": null,
            "grid_auto_rows": null,
            "grid_column": null,
            "grid_gap": null,
            "grid_row": null,
            "grid_template_areas": null,
            "grid_template_columns": null,
            "grid_template_rows": null,
            "height": null,
            "justify_content": null,
            "justify_items": null,
            "left": null,
            "margin": null,
            "max_height": null,
            "max_width": null,
            "min_height": null,
            "min_width": null,
            "object_fit": null,
            "object_position": null,
            "order": null,
            "overflow": null,
            "overflow_x": null,
            "overflow_y": null,
            "padding": null,
            "right": null,
            "top": null,
            "visibility": null,
            "width": null
          }
        },
        "72e071af47904b5f9d44ea7bab770cb3": {
          "model_module": "@jupyter-widgets/base",
          "model_name": "LayoutModel",
          "model_module_version": "1.2.0",
          "state": {
            "_model_module": "@jupyter-widgets/base",
            "_model_module_version": "1.2.0",
            "_model_name": "LayoutModel",
            "_view_count": null,
            "_view_module": "@jupyter-widgets/base",
            "_view_module_version": "1.2.0",
            "_view_name": "LayoutView",
            "align_content": null,
            "align_items": null,
            "align_self": null,
            "border": null,
            "bottom": null,
            "display": null,
            "flex": null,
            "flex_flow": null,
            "grid_area": null,
            "grid_auto_columns": null,
            "grid_auto_flow": null,
            "grid_auto_rows": null,
            "grid_column": null,
            "grid_gap": null,
            "grid_row": null,
            "grid_template_areas": null,
            "grid_template_columns": null,
            "grid_template_rows": null,
            "height": null,
            "justify_content": null,
            "justify_items": null,
            "left": null,
            "margin": null,
            "max_height": null,
            "max_width": null,
            "min_height": null,
            "min_width": null,
            "object_fit": null,
            "object_position": null,
            "order": null,
            "overflow": null,
            "overflow_x": null,
            "overflow_y": null,
            "padding": null,
            "right": null,
            "top": null,
            "visibility": null,
            "width": null
          }
        },
        "58e58c97791f4bd38cdbe659e8b8eebe": {
          "model_module": "@jupyter-widgets/controls",
          "model_name": "DescriptionStyleModel",
          "model_module_version": "1.5.0",
          "state": {
            "_model_module": "@jupyter-widgets/controls",
            "_model_module_version": "1.5.0",
            "_model_name": "DescriptionStyleModel",
            "_view_count": null,
            "_view_module": "@jupyter-widgets/base",
            "_view_module_version": "1.2.0",
            "_view_name": "StyleView",
            "description_width": ""
          }
        },
        "07dc8140cfaf4a57960b2a7654af6253": {
          "model_module": "@jupyter-widgets/base",
          "model_name": "LayoutModel",
          "model_module_version": "1.2.0",
          "state": {
            "_model_module": "@jupyter-widgets/base",
            "_model_module_version": "1.2.0",
            "_model_name": "LayoutModel",
            "_view_count": null,
            "_view_module": "@jupyter-widgets/base",
            "_view_module_version": "1.2.0",
            "_view_name": "LayoutView",
            "align_content": null,
            "align_items": null,
            "align_self": null,
            "border": null,
            "bottom": null,
            "display": null,
            "flex": null,
            "flex_flow": null,
            "grid_area": null,
            "grid_auto_columns": null,
            "grid_auto_flow": null,
            "grid_auto_rows": null,
            "grid_column": null,
            "grid_gap": null,
            "grid_row": null,
            "grid_template_areas": null,
            "grid_template_columns": null,
            "grid_template_rows": null,
            "height": null,
            "justify_content": null,
            "justify_items": null,
            "left": null,
            "margin": null,
            "max_height": null,
            "max_width": null,
            "min_height": null,
            "min_width": null,
            "object_fit": null,
            "object_position": null,
            "order": null,
            "overflow": null,
            "overflow_x": null,
            "overflow_y": null,
            "padding": null,
            "right": null,
            "top": null,
            "visibility": null,
            "width": null
          }
        },
        "a93c580690c14cbc9b831a4090f6270a": {
          "model_module": "@jupyter-widgets/controls",
          "model_name": "ProgressStyleModel",
          "model_module_version": "1.5.0",
          "state": {
            "_model_module": "@jupyter-widgets/controls",
            "_model_module_version": "1.5.0",
            "_model_name": "ProgressStyleModel",
            "_view_count": null,
            "_view_module": "@jupyter-widgets/base",
            "_view_module_version": "1.2.0",
            "_view_name": "StyleView",
            "bar_color": null,
            "description_width": ""
          }
        },
        "a8741884be554091ae21f8d61672194b": {
          "model_module": "@jupyter-widgets/base",
          "model_name": "LayoutModel",
          "model_module_version": "1.2.0",
          "state": {
            "_model_module": "@jupyter-widgets/base",
            "_model_module_version": "1.2.0",
            "_model_name": "LayoutModel",
            "_view_count": null,
            "_view_module": "@jupyter-widgets/base",
            "_view_module_version": "1.2.0",
            "_view_name": "LayoutView",
            "align_content": null,
            "align_items": null,
            "align_self": null,
            "border": null,
            "bottom": null,
            "display": null,
            "flex": null,
            "flex_flow": null,
            "grid_area": null,
            "grid_auto_columns": null,
            "grid_auto_flow": null,
            "grid_auto_rows": null,
            "grid_column": null,
            "grid_gap": null,
            "grid_row": null,
            "grid_template_areas": null,
            "grid_template_columns": null,
            "grid_template_rows": null,
            "height": null,
            "justify_content": null,
            "justify_items": null,
            "left": null,
            "margin": null,
            "max_height": null,
            "max_width": null,
            "min_height": null,
            "min_width": null,
            "object_fit": null,
            "object_position": null,
            "order": null,
            "overflow": null,
            "overflow_x": null,
            "overflow_y": null,
            "padding": null,
            "right": null,
            "top": null,
            "visibility": null,
            "width": null
          }
        },
        "8d6d57e5980f459cace9d2fb12035508": {
          "model_module": "@jupyter-widgets/controls",
          "model_name": "DescriptionStyleModel",
          "model_module_version": "1.5.0",
          "state": {
            "_model_module": "@jupyter-widgets/controls",
            "_model_module_version": "1.5.0",
            "_model_name": "DescriptionStyleModel",
            "_view_count": null,
            "_view_module": "@jupyter-widgets/base",
            "_view_module_version": "1.2.0",
            "_view_name": "StyleView",
            "description_width": ""
          }
        }
      }
    },
    "accelerator": "GPU"
  },
  "cells": [
    {
      "cell_type": "markdown",
      "source": [
        "## セットアップ"
      ],
      "metadata": {
        "id": "uK8_mPOvkIkB"
      }
    },
    {
      "cell_type": "code",
      "source": [
        "!pip install -q transformers sentencepiece sentence-transformers \\\n",
        "    torch faiss-cpu datasets scipy scikit-learn numpy"
      ],
      "metadata": {
        "id": "zROGcjgkhibp",
        "outputId": "4af3e7f9-48b6-4591-ffe4-b411cfedf4f9",
        "colab": {
          "base_uri": "https://localhost:8080/"
        }
      },
      "execution_count": 1,
      "outputs": [
        {
          "output_type": "stream",
          "name": "stdout",
          "text": [
            "\u001b[2K   \u001b[90m━━━━━━━━━━━━━━━━━━━━━━━━━━━━━━━━━━━━━━━━\u001b[0m \u001b[32m363.4/363.4 MB\u001b[0m \u001b[31m4.0 MB/s\u001b[0m eta \u001b[36m0:00:00\u001b[0m\n",
            "\u001b[2K   \u001b[90m━━━━━━━━━━━━━━━━━━━━━━━━━━━━━━━━━━━━━━━━\u001b[0m \u001b[32m13.8/13.8 MB\u001b[0m \u001b[31m64.9 MB/s\u001b[0m eta \u001b[36m0:00:00\u001b[0m\n",
            "\u001b[2K   \u001b[90m━━━━━━━━━━━━━━━━━━━━━━━━━━━━━━━━━━━━━━━━\u001b[0m \u001b[32m24.6/24.6 MB\u001b[0m \u001b[31m53.9 MB/s\u001b[0m eta \u001b[36m0:00:00\u001b[0m\n",
            "\u001b[2K   \u001b[90m━━━━━━━━━━━━━━━━━━━━━━━━━━━━━━━━━━━━━━━━\u001b[0m \u001b[32m883.7/883.7 kB\u001b[0m \u001b[31m28.1 MB/s\u001b[0m eta \u001b[36m0:00:00\u001b[0m\n",
            "\u001b[2K   \u001b[90m━━━━━━━━━━━━━━━━━━━━━━━━━━━━━━━━━━━━━━━━\u001b[0m \u001b[32m664.8/664.8 MB\u001b[0m \u001b[31m2.5 MB/s\u001b[0m eta \u001b[36m0:00:00\u001b[0m\n",
            "\u001b[2K   \u001b[90m━━━━━━━━━━━━━━━━━━━━━━━━━━━━━━━━━━━━━━━━\u001b[0m \u001b[32m211.5/211.5 MB\u001b[0m \u001b[31m5.0 MB/s\u001b[0m eta \u001b[36m0:00:00\u001b[0m\n",
            "\u001b[2K   \u001b[90m━━━━━━━━━━━━━━━━━━━━━━━━━━━━━━━━━━━━━━━━\u001b[0m \u001b[32m56.3/56.3 MB\u001b[0m \u001b[31m11.7 MB/s\u001b[0m eta \u001b[36m0:00:00\u001b[0m\n",
            "\u001b[2K   \u001b[90m━━━━━━━━━━━━━━━━━━━━━━━━━━━━━━━━━━━━━━━━\u001b[0m \u001b[32m127.9/127.9 MB\u001b[0m \u001b[31m7.4 MB/s\u001b[0m eta \u001b[36m0:00:00\u001b[0m\n",
            "\u001b[2K   \u001b[90m━━━━━━━━━━━━━━━━━━━━━━━━━━━━━━━━━━━━━━━━\u001b[0m \u001b[32m207.5/207.5 MB\u001b[0m \u001b[31m4.9 MB/s\u001b[0m eta \u001b[36m0:00:00\u001b[0m\n",
            "\u001b[2K   \u001b[90m━━━━━━━━━━━━━━━━━━━━━━━━━━━━━━━━━━━━━━━━\u001b[0m \u001b[32m21.1/21.1 MB\u001b[0m \u001b[31m28.5 MB/s\u001b[0m eta \u001b[36m0:00:00\u001b[0m\n",
            "\u001b[2K   \u001b[90m━━━━━━━━━━━━━━━━━━━━━━━━━━━━━━━━━━━━━━━━\u001b[0m \u001b[32m31.3/31.3 MB\u001b[0m \u001b[31m33.7 MB/s\u001b[0m eta \u001b[36m0:00:00\u001b[0m\n",
            "\u001b[2K   \u001b[90m━━━━━━━━━━━━━━━━━━━━━━━━━━━━━━━━━━━━━━━━\u001b[0m \u001b[32m491.4/491.4 kB\u001b[0m \u001b[31m24.4 MB/s\u001b[0m eta \u001b[36m0:00:00\u001b[0m\n",
            "\u001b[2K   \u001b[90m━━━━━━━━━━━━━━━━━━━━━━━━━━━━━━━━━━━━━━━━\u001b[0m \u001b[32m116.3/116.3 kB\u001b[0m \u001b[31m10.8 MB/s\u001b[0m eta \u001b[36m0:00:00\u001b[0m\n",
            "\u001b[2K   \u001b[90m━━━━━━━━━━━━━━━━━━━━━━━━━━━━━━━━━━━━━━━━\u001b[0m \u001b[32m193.6/193.6 kB\u001b[0m \u001b[31m10.2 MB/s\u001b[0m eta \u001b[36m0:00:00\u001b[0m\n",
            "\u001b[2K   \u001b[90m━━━━━━━━━━━━━━━━━━━━━━━━━━━━━━━━━━━━━━━━\u001b[0m \u001b[32m143.5/143.5 kB\u001b[0m \u001b[31m13.8 MB/s\u001b[0m eta \u001b[36m0:00:00\u001b[0m\n",
            "\u001b[2K   \u001b[90m━━━━━━━━━━━━━━━━━━━━━━━━━━━━━━━━━━━━━━━━\u001b[0m \u001b[32m194.8/194.8 kB\u001b[0m \u001b[31m19.3 MB/s\u001b[0m eta \u001b[36m0:00:00\u001b[0m\n",
            "\u001b[?25h\u001b[31mERROR: pip's dependency resolver does not currently take into account all the packages that are installed. This behaviour is the source of the following dependency conflicts.\n",
            "gcsfs 2025.3.2 requires fsspec==2025.3.2, but you have fsspec 2025.3.0 which is incompatible.\u001b[0m\u001b[31m\n",
            "\u001b[0m"
          ]
        }
      ]
    },
    {
      "cell_type": "code",
      "source": [
        "# VRAMの環境変数設定\n",
        "import os\n",
        "os.environ[\"PYTORCH_CUDA_ALLOC_CONF\"] = \"expandable_segments:True\""
      ],
      "metadata": {
        "id": "tViCnevuz4T3"
      },
      "execution_count": 2,
      "outputs": []
    },
    {
      "cell_type": "markdown",
      "source": [
        "## モデルの準備"
      ],
      "metadata": {
        "id": "SM2HyEzlnvVD"
      }
    },
    {
      "cell_type": "code",
      "source": [
        "import torch\n",
        "from transformers import AutoModel, AutoTokenizer\n",
        "\n",
        "tokenizer = AutoTokenizer.from_pretrained(\"pfnet/plamo-embedding-1b\", trust_remote_code=True)\n",
        "model = AutoModel.from_pretrained(\"pfnet/plamo-embedding-1b\", trust_remote_code=True)\n",
        "\n",
        "device = \"cuda\" if torch.cuda.is_available() else \"cpu\"\n",
        "model = model.to(device)\n",
        "model.eval()\n"
      ],
      "metadata": {
        "id": "lg2xD9htitH4",
        "outputId": "da8008d2-c82c-4ca9-9cf9-82a66f66f595",
        "colab": {
          "base_uri": "https://localhost:8080/",
          "height": 878,
          "referenced_widgets": [
            "15b75ec645f34065a632e65260ca2e5c",
            "97ee98d8387c4864bb08cf2d2984a755",
            "83bd7d19e0d444799f5788b774401e9e",
            "f244d64772f843b38f2e11d43c5c33ae",
            "0a2cd5b26afc4f688c6b6db5f7a4fdcd",
            "c79d68d52e79477193513fe24c1c7aed",
            "2cce8a135abf4697af6526878af1977a",
            "66aeff540e6b4c9886bfc959ca62dd87",
            "0efa19d128a54ad581e268cf34ff2af8",
            "3dd8bc4c21c341e7ab7cccdcdec8f541",
            "87bd2440a1dc41a9bccecc272d760675",
            "ee6bd480bc0340d2be00444e3faa7f16",
            "71453bcc8a7840c0af00633444af611a",
            "ba3bdbaabca54e3db2fc2b6148a5de7a",
            "8b1563beb2c54e29af715224846b1731",
            "f0733178127b496dbaec87f1a715786a",
            "f09a8b0a95b44f28b2f33a5982d6d4d2",
            "a70141d827b049bd89495a19e3ecb413",
            "15b72b1256904533a33ab06de6252a3b",
            "fa0f6750e13848bc8ea640f52060f288",
            "fcac5b36c6f14f79b183107dbd2fa1e5",
            "e692e3ffd1cc496eb51b537fe39e6013",
            "9bc0218a0e8c4ed3ab4b218d4d7fdd92",
            "70bea0b7f9874624b992ee7bb40d9d7e",
            "de284e4dca1e4ab38f82d693875c2481",
            "9c5fc847a7a14c51997de649fc1f39c2",
            "60908c8469f64be8820d34da9bd1af27",
            "b3a20019b5214640ad7acc6bb49940fb",
            "e66adf51028b45f6ab8edf75a68b9d19",
            "bd4b2c395df44b5a9c300058ae29a6b7",
            "04db8a141cf74b65aee995582710c98e",
            "b7356368bdcc40dc9e817ce859fd87df",
            "807acd6ff4464e9ca66cbcb3450395cd",
            "7fbe4847204c42cb94744a78ded0ca2e",
            "b5a3ce3b46714f5b9216057622792aee",
            "f423736814c94f56bfb6ec3822329fd9",
            "997648ac6c8e476c96a56c0636c78b6a",
            "0e84bded70ed4097b345c96dae752f02",
            "1c565a6b8dce4fd696b0d1236d11fdbb",
            "f6f0ac5066064cb785c2a33c08040e72",
            "169c905c50e64fc19c1d910c9a1c757c",
            "75c160d0a6424c8394905dd1fee5f124",
            "5a7272ef6fd142a1bc34a435f1760a90",
            "42b8ffaadc8b4b5da89575d91ac1f3e9",
            "28f894cdb098462587988eb5fec0785e",
            "3ebb1808cf4a427fbd3f7b4eb728009a",
            "14cfb1efdb2343a2aa3f3ea416a0b39e",
            "c1f14e8d9d3a442d883a731f3c43c906",
            "29d449337c164a2d83e7c0f85575ac45",
            "59c3bbca29954cb0ac52616b15cbb414",
            "edf7c7be7c9d4ee8907a20bf28876f94",
            "0a7f6683f4ba4c2a9a8e9478e60bafd0",
            "fe7d6d9d430e46d199f6233aafbca42b",
            "507a619c41fc4021bda7f2667b5aa72e",
            "4a8b7d7614894ee1bff467c998b6f30b",
            "169835f6ed0940b0902fd4ccef5426e4",
            "e39a32ad89834bfca51723a7bf79e5cb",
            "0896e87eb5f34343ac2feb52192b79dd",
            "8d960f496c0940a9871f0defb32d6407",
            "1ed703e661114519becae3ab48ee122e",
            "2bd5ac65a2fe4d749765833ef92a75b4",
            "6aafa152fbbe431bb4c4406e550a3fac",
            "0c2cb97a33b94955b81a1d265dfd7f2b",
            "ffb6ef5de01741dab48c38e58b3ecb74",
            "b46ba9c2be8241abbbe303c1ad887acb",
            "92ff4dade7344c9ab3e792c8e72ce4ac",
            "f0469553696a4ca8bed44fdc608aaa8d",
            "946de5e310494cee9a53af21c2a065a4",
            "0589c563fd744518900e26268e78e2e9",
            "bf81fc2f417340eea7f5d456827a47dd",
            "d277d5901b0f4719856b455e624a473f",
            "72e071af47904b5f9d44ea7bab770cb3",
            "58e58c97791f4bd38cdbe659e8b8eebe",
            "07dc8140cfaf4a57960b2a7654af6253",
            "a93c580690c14cbc9b831a4090f6270a",
            "a8741884be554091ae21f8d61672194b",
            "8d6d57e5980f459cace9d2fb12035508"
          ]
        }
      },
      "execution_count": 3,
      "outputs": [
        {
          "output_type": "stream",
          "name": "stderr",
          "text": [
            "/usr/local/lib/python3.11/dist-packages/huggingface_hub/utils/_auth.py:94: UserWarning: \n",
            "The secret `HF_TOKEN` does not exist in your Colab secrets.\n",
            "To authenticate with the Hugging Face Hub, create a token in your settings tab (https://huggingface.co/settings/tokens), set it as secret in your Google Colab and restart your session.\n",
            "You will be able to reuse this secret in all of your notebooks.\n",
            "Please note that authentication is recommended but still optional to access public models or datasets.\n",
            "  warnings.warn(\n"
          ]
        },
        {
          "output_type": "display_data",
          "data": {
            "text/plain": [
              "tokenizer_config.json:   0%|          | 0.00/1.30k [00:00<?, ?B/s]"
            ],
            "application/vnd.jupyter.widget-view+json": {
              "version_major": 2,
              "version_minor": 0,
              "model_id": "15b75ec645f34065a632e65260ca2e5c"
            }
          },
          "metadata": {}
        },
        {
          "output_type": "display_data",
          "data": {
            "text/plain": [
              "tokenization_plamo.py:   0%|          | 0.00/7.63k [00:00<?, ?B/s]"
            ],
            "application/vnd.jupyter.widget-view+json": {
              "version_major": 2,
              "version_minor": 0,
              "model_id": "ee6bd480bc0340d2be00444e3faa7f16"
            }
          },
          "metadata": {}
        },
        {
          "output_type": "stream",
          "name": "stderr",
          "text": [
            "A new version of the following files was downloaded from https://huggingface.co/pfnet/plamo-embedding-1b:\n",
            "- tokenization_plamo.py\n",
            ". Make sure to double-check they do not contain any added malicious code. To avoid downloading new versions of the code file, you can pin a revision.\n"
          ]
        },
        {
          "output_type": "display_data",
          "data": {
            "text/plain": [
              "tokenizer.model:   0%|          | 0.00/805k [00:00<?, ?B/s]"
            ],
            "application/vnd.jupyter.widget-view+json": {
              "version_major": 2,
              "version_minor": 0,
              "model_id": "9bc0218a0e8c4ed3ab4b218d4d7fdd92"
            }
          },
          "metadata": {}
        },
        {
          "output_type": "display_data",
          "data": {
            "text/plain": [
              "special_tokens_map.json:   0%|          | 0.00/477 [00:00<?, ?B/s]"
            ],
            "application/vnd.jupyter.widget-view+json": {
              "version_major": 2,
              "version_minor": 0,
              "model_id": "7fbe4847204c42cb94744a78ded0ca2e"
            }
          },
          "metadata": {}
        },
        {
          "output_type": "display_data",
          "data": {
            "text/plain": [
              "config.json:   0%|          | 0.00/1.09k [00:00<?, ?B/s]"
            ],
            "application/vnd.jupyter.widget-view+json": {
              "version_major": 2,
              "version_minor": 0,
              "model_id": "28f894cdb098462587988eb5fec0785e"
            }
          },
          "metadata": {}
        },
        {
          "output_type": "display_data",
          "data": {
            "text/plain": [
              "modeling_plamo.py:   0%|          | 0.00/38.9k [00:00<?, ?B/s]"
            ],
            "application/vnd.jupyter.widget-view+json": {
              "version_major": 2,
              "version_minor": 0,
              "model_id": "169835f6ed0940b0902fd4ccef5426e4"
            }
          },
          "metadata": {}
        },
        {
          "output_type": "stream",
          "name": "stderr",
          "text": [
            "A new version of the following files was downloaded from https://huggingface.co/pfnet/plamo-embedding-1b:\n",
            "- modeling_plamo.py\n",
            ". Make sure to double-check they do not contain any added malicious code. To avoid downloading new versions of the code file, you can pin a revision.\n"
          ]
        },
        {
          "output_type": "display_data",
          "data": {
            "text/plain": [
              "model.safetensors:   0%|          | 0.00/2.10G [00:00<?, ?B/s]"
            ],
            "application/vnd.jupyter.widget-view+json": {
              "version_major": 2,
              "version_minor": 0,
              "model_id": "f0469553696a4ca8bed44fdc608aaa8d"
            }
          },
          "metadata": {}
        },
        {
          "output_type": "execute_result",
          "data": {
            "text/plain": [
              "PlamoBiModel(\n",
              "  (embed_tokens): Embedding(50112, 2048, padding_idx=3)\n",
              "  (layers): ModifiedPlamoDecoder(\n",
              "    (layers): ModuleList(\n",
              "      (0-15): 16 x ModifiedPlamoDecoderLayer(\n",
              "        (self_attn): ModifiedAttention(\n",
              "          (qkv_proj): Linear(in_features=2048, out_features=2304, bias=False)\n",
              "          (o_proj): Linear(in_features=2048, out_features=2048, bias=False)\n",
              "          (rotary_emb): RotaryEmbedding()\n",
              "        )\n",
              "        (mlp): DenseMLP(\n",
              "          (gate_up_proj): Linear(in_features=2048, out_features=16384, bias=False)\n",
              "          (down_proj): Linear(in_features=8192, out_features=2048, bias=False)\n",
              "        )\n",
              "        (norm): RMSNorm()\n",
              "        (norm2): RMSNorm()\n",
              "      )\n",
              "    )\n",
              "  )\n",
              "  (norm): RMSNorm()\n",
              ")"
            ]
          },
          "metadata": {},
          "execution_count": 3
        }
      ]
    },
    {
      "cell_type": "markdown",
      "source": [
        "## 埋め込み計算モジュールの定義"
      ],
      "metadata": {
        "id": "CdNantPQoyRJ"
      }
    },
    {
      "cell_type": "code",
      "source": [
        "import numpy as np\n",
        "\n",
        "def embed_texts(\n",
        "    texts: list[str],\n",
        "    batch_size: int = 32,\n",
        "    is_query: bool = False,\n",
        ") -> np.ndarray:\n",
        "    \"\"\"\n",
        "    texts           : 埋め込み対象の文字列リスト\n",
        "    batch_size      : 一度に投入する文の数（デフォルト：32）\n",
        "    is_query        : True の場合は model.encode_query を使用\n",
        "                                False の場合は model.encode_document を使用\n",
        "    \"\"\"\n",
        "    all_embs = []\n",
        "\n",
        "    with torch.inference_mode():\n",
        "      # 自動混合精度演算\n",
        "      with torch.amp.autocast(\"cuda\"):\n",
        "            for i in range(0, len(texts), batch_size):\n",
        "                batch = texts[i : i + batch_size]\n",
        "                if is_query:\n",
        "                    embs = model.encode_query(\n",
        "                        batch,\n",
        "                        tokenizer,\n",
        "                    )\n",
        "                else:\n",
        "                    embs = model.encode_document(\n",
        "                        batch,\n",
        "                        tokenizer,\n",
        "                    )\n",
        "\n",
        "                # embs は torch.Tensor\n",
        "                embs_np = embs.to(\"cpu\").numpy()  # NumPy に変換\n",
        "                # VRAM を開放する\n",
        "                del embs\n",
        "                torch.cuda.empty_cache()\n",
        "                embs_np = np.nan_to_num(embs_np)\n",
        "                all_embs.append(embs_np)\n",
        "\n",
        "    return np.vstack(all_embs)\n"
      ],
      "metadata": {
        "id": "NA8kn9MhTV_9"
      },
      "execution_count": 4,
      "outputs": []
    },
    {
      "cell_type": "markdown",
      "source": [
        "## JSTSによるモデルの評価"
      ],
      "metadata": {
        "id": "85xarYGlV5uk"
      }
    },
    {
      "cell_type": "code",
      "source": [
        "from datasets import load_dataset\n",
        "\n",
        "ds = load_dataset(\"sbintuitions/JMTEB\", \"jsts\")\n",
        "jsts = ds[\"test\"]\n",
        "print(jsts.column_names)  # ['sentence_pair_id', 'yjcaptions_id', 'sentence1', 'sentence2', 'label']"
      ],
      "metadata": {
        "id": "EQBupQB2SCcE"
      },
      "execution_count": null,
      "outputs": []
    },
    {
      "cell_type": "code",
      "source": [
        "from sklearn.metrics.pairwise import cosine_similarity\n",
        "\n",
        "# JSTS の全ペアを「文1／文2」と「スコア」に分解\n",
        "sent1 = jsts[\"sentence1\"]\n",
        "sent2 = jsts[\"sentence2\"]\n",
        "gold_score = np.array(jsts[\"label\"], dtype=float)  # 0〜5 の連続値\n",
        "\n",
        "# 埋め込み\n",
        "emb1 = embed_texts(sent1)\n",
        "emb2 = embed_texts(sent2)\n",
        "\n",
        "# コサイン類似度\n",
        "# N×2048 の行列同士のコサイン類似度を一度に出す\n",
        "sim_matrix = cosine_similarity(emb1, emb2)\n",
        "# 対角成分だけを取り出せばペアごとの類似度が得られる\n",
        "cos_sim = np.diag(sim_matrix)  # shape=(N,)"
      ],
      "metadata": {
        "id": "6s8St_C2SiUr"
      },
      "execution_count": null,
      "outputs": []
    },
    {
      "cell_type": "code",
      "source": [
        "# スピアマンとピアソンの相関係数を計算\n",
        "from scipy.stats import spearmanr, pearsonr\n",
        "\n",
        "spearman_corr, _ = spearmanr(cos_sim, gold_score)\n",
        "pearson_corr, _  = pearsonr(cos_sim, gold_score)\n",
        "\n",
        "print(f\"Spearman: {spearman_corr:.4f}\")\n",
        "print(f\"Pearson : {pearson_corr:.4f}\")"
      ],
      "metadata": {
        "id": "D3IlVfPWUVp1"
      },
      "execution_count": null,
      "outputs": []
    },
    {
      "cell_type": "markdown",
      "source": [
        "## インデックス用データ読み込み・前処理・インデックス化"
      ],
      "metadata": {
        "id": "HM0Gu1B1jUeG"
      }
    },
    {
      "cell_type": "code",
      "source": [
        "from google.colab import drive\n",
        "drive.mount('/content/drive')\n",
        "# drive.mount(\"/content/drive\", force_remount=True)"
      ],
      "metadata": {
        "id": "Wko2nT5J6ui1",
        "outputId": "281c4bdf-ece5-4d39-df9c-6bc426593455",
        "colab": {
          "base_uri": "https://localhost:8080/"
        }
      },
      "execution_count": 5,
      "outputs": [
        {
          "output_type": "stream",
          "name": "stdout",
          "text": [
            "Mounted at /content/drive\n"
          ]
        }
      ]
    },
    {
      "cell_type": "markdown",
      "source": [
        "### インデックス化: livedoor-news-corpus"
      ],
      "metadata": {
        "id": "GCAPdi5meioD"
      }
    },
    {
      "cell_type": "code",
      "source": [
        "from datasets import load_dataset\n",
        "# Livedoor ニュースコーパス (約7,300記事) を train/val/test に分割読み込み\n",
        "ds = load_dataset(\n",
        "    \"shunk031/livedoor-news-corpus\",\n",
        "    train_ratio=0.8,\n",
        "    val_ratio=0.1,\n",
        "    test_ratio=0.1,\n",
        "    shuffle=False,\n",
        ")\n",
        "train = ds[\"train\"]\n",
        "print(train)"
      ],
      "metadata": {
        "id": "DwZ19896jD6y"
      },
      "execution_count": null,
      "outputs": []
    },
    {
      "cell_type": "code",
      "source": [
        "# 検索対象：記事のタイトル＋本文\n",
        "corpus_texts = [\n",
        "    f\"{row['title']}。{row['content']}\"\n",
        "    for row in train\n",
        "]\n",
        "\n",
        "# （例）最初の5件をクエリとして流用\n",
        "query_texts = corpus_texts[:5]\n",
        "# 正解ID (今回は自身の記事をトップ1に返す recall@1)\n",
        "true_ids = list(range(len(query_texts))) # true_ids = [0, 1, 2, ..., 5]"
      ],
      "metadata": {
        "id": "euEILplSkZlp"
      },
      "execution_count": null,
      "outputs": []
    },
    {
      "cell_type": "code",
      "source": [
        "# 記事のタイトルと本文(corpus_texts)をjsonl形式で保存\n",
        "\n",
        "import json\n",
        "\n",
        "with open('/content/drive/MyDrive/Colab Notebooks/data/text_embedding_search/corpus.jsonl', 'w', encoding='utf-8') as f:\n",
        "    for text in corpus_texts:\n",
        "        json.dump({'text': text}, f, ensure_ascii=False)\n",
        "        f.write('\\n')\n"
      ],
      "metadata": {
        "id": "6T-gdQQju766"
      },
      "execution_count": null,
      "outputs": []
    },
    {
      "cell_type": "code",
      "source": [
        "# 文を埋め込み化する（時間のかかる処理）\n",
        "xb = embed_texts(corpus_texts, batch_size=8, is_query=False)  # index 用\n",
        "xq = embed_texts(query_texts,  batch_size=8, is_query=True)   # query 用"
      ],
      "metadata": {
        "id": "EH4kZy9pnz57"
      },
      "execution_count": null,
      "outputs": []
    },
    {
      "cell_type": "code",
      "source": [
        "import faiss\n",
        "\n",
        "d = xb.shape[1]  # 埋め込み次元\n",
        "M = 32           # 各点の近傍リンク数\n",
        "efC = 200        # 構築時の探索深さ\n",
        "\n",
        "index = faiss.IndexHNSWFlat(d, M)\n",
        "index.hnsw.efConstruction = efC\n",
        "\n",
        "# 埋め込みベクトルを追加\n",
        "index.add(xb)"
      ],
      "metadata": {
        "id": "zfhKzVbJ704C"
      },
      "execution_count": null,
      "outputs": []
    },
    {
      "cell_type": "code",
      "source": [
        "index.hnsw.efSearch = 50  # 検索時の探索深さ\n",
        "k = 5                    # top-k 件取得\n",
        "D, I = index.search(xq, k) # 検索を実行"
      ],
      "metadata": {
        "id": "6fKz_DWe78u6"
      },
      "execution_count": null,
      "outputs": []
    },
    {
      "cell_type": "code",
      "source": [
        "recall1 = np.mean([1 if true_ids[i] in I[i,:1] else 0 for i in range(len(true_ids))])\n",
        "print(f\"Recall@1: {recall1:.3f}\")"
      ],
      "metadata": {
        "id": "IHDLx2PS8DQm"
      },
      "execution_count": null,
      "outputs": []
    },
    {
      "cell_type": "code",
      "source": [
        "# 埋め込みと Faiss インデックスを保存\n",
        "np.save('/content/drive/MyDrive/Colab Notebooks/data/text_embedding_search/embeddings_xb.npy', xb)\n",
        "faiss.write_index(index, '/content/drive/MyDrive/Colab Notebooks/data/text_embedding_search/hnsw_index.faiss')"
      ],
      "metadata": {
        "id": "rFgjhBg68fiv"
      },
      "execution_count": null,
      "outputs": []
    },
    {
      "cell_type": "code",
      "source": [
        "for i in range(len(query_texts)):\n",
        "    print(f\"Query: {query_texts[i]}\")\n",
        "    for rank, idx in enumerate(I[i]):\n",
        "        print(f\"Top {rank+1}: {corpus_texts[idx]}\")\n",
        "    print(\"========\")"
      ],
      "metadata": {
        "id": "VAIXg5et_SfI",
        "collapsed": true
      },
      "execution_count": null,
      "outputs": []
    },
    {
      "cell_type": "markdown",
      "source": [
        "### インデックス化: SFC研究会データ"
      ],
      "metadata": {
        "id": "z5dcY0sCe1Gh"
      }
    },
    {
      "cell_type": "code",
      "source": [
        "# スクレイピング済みデータを取得\n",
        "! git clone https://github.com/kota-yata/Syllabus-proto.git"
      ],
      "metadata": {
        "id": "t4ug_XXZgNOJ",
        "outputId": "b69cfe46-dcc9-427d-91df-bdcaab908257",
        "colab": {
          "base_uri": "https://localhost:8080/"
        }
      },
      "execution_count": null,
      "outputs": [
        {
          "output_type": "stream",
          "name": "stdout",
          "text": [
            "Cloning into 'Syllabus-proto'...\n",
            "remote: Enumerating objects: 729, done.\u001b[K\n",
            "remote: Counting objects: 100% (249/249), done.\u001b[K\n",
            "remote: Compressing objects: 100% (136/136), done.\u001b[K\n",
            "remote: Total 729 (delta 149), reused 180 (delta 95), pack-reused 480 (from 1)\u001b[K\n",
            "Receiving objects: 100% (729/729), 4.47 MiB | 16.53 MiB/s, done.\n",
            "Resolving deltas: 100% (401/401), done.\n"
          ]
        }
      ]
    },
    {
      "cell_type": "code",
      "source": [
        "import json\n",
        "\n",
        "filepath = '/content/Syllabus-proto/assets/result-2025s.json'\n",
        "with open(filepath, 'r', encoding='utf-8') as f:\n",
        "    all_class_data = json.load(f)"
      ],
      "metadata": {
        "id": "i_9gyh4AfIBQ"
      },
      "execution_count": null,
      "outputs": []
    },
    {
      "cell_type": "code",
      "source": [
        "lab_corpus_texts = [] # 埋め込みモデルに入力するテキストのリスト\n",
        "lab_corpus_metadata = [] # メタデータを持つリスト\n",
        "\n",
        "# target_subjects の \"A\", \"B\" は全角\n",
        "target_subjects = {\"研究会Ａ\", \"研究会Ｂ\"}\n",
        "\n",
        "for idx, item in enumerate(all_class_data):\n",
        "    # --- 必須情報の取得 ---\n",
        "    sort_id = item.get('sort_id')\n",
        "    subject_name = item.get('subject_name', '').strip() # 空の場合や前後の空白に対応\n",
        "    about_text = item.get('about', '').strip()\n",
        "    lang = item.get('lang', '').strip()\n",
        "\n",
        "    # --- モデル非対応のため外国語は除外 ---\n",
        "    if lang != '日本語':\n",
        "        continue\n",
        "\n",
        "    # --- subject_name がターゲットに含まれているかチェック ---\n",
        "    if subject_name not in target_subjects:\n",
        "        continue\n",
        "\n",
        "    # --- ID, subject_name, about がないと意味がないのでスキップ ---\n",
        "    if not sort_id or not subject_name or not about_text:\n",
        "        print(f\"Skipping item due to missing essential fields: {sort_id or 'Unknown ID'}\")\n",
        "        continue\n",
        "\n",
        "    # --- 検索対象テキストの生成 ---\n",
        "    # 研究会名と概要文を結合\n",
        "    staff_names = [staff.get('staff_name', '') for staff in item.get('staffs', [])]\n",
        "    staffs = \",\".join(filter(None, staff_names))\n",
        "    text_for_embedding = f\"{subject_name}: {staffs}\\n{about_text}\"\n",
        "    lab_corpus_texts.append(text_for_embedding)\n",
        "\n",
        "    # --- メタデータの抽出・整形 ---\n",
        "    url = item.get('url', '')\n",
        "    # fields から学部・分野を取得 (リスト形式なので最初のものを取得する例)\n",
        "    # fields が空リストの場合や、リスト内の辞書が空の場合のエラーを防ぐ\n",
        "    faculty = ''\n",
        "    field = ''\n",
        "    if item.get('fields'): # fields リストが存在するか確認\n",
        "        first_field = item['fields'][0] if item['fields'] else {} # リストが空でないか確認\n",
        "        faculty = first_field.get('faculty', '')\n",
        "        field = first_field.get('field', '')\n",
        "\n",
        "    term = item.get('term', '')\n",
        "\n",
        "    metadata = {\n",
        "        'sort_id': sort_id,\n",
        "        'subject_name': subject_name,\n",
        "        'about': about_text, # スニペットは検索時に生成するので、ここでは全文保持\n",
        "        'url': url,\n",
        "        'staffs': \", \".join(filter(None, staff_names)), # 教員名をカンマ区切り文字列に\n",
        "        'faculty': faculty,\n",
        "        'field': field,\n",
        "        'term': term\n",
        "    }\n",
        "    lab_corpus_metadata.append(metadata)\n",
        "\n",
        "    if len(about_text) < 30:\n",
        "        print(f\"Found too short about text: {sort_id}, {staffs}\")\n",
        "\n",
        "print(f\"Processed {len(lab_corpus_texts)} items.\")\n",
        "print(f\"Total items skipped: {len(all_class_data) - len(lab_corpus_texts)}\") # スキップされた数を計算"
      ],
      "metadata": {
        "id": "mOveUg8EhQiB",
        "outputId": "ebba6079-edd3-4197-c287-0f9998f4823a",
        "colab": {
          "base_uri": "https://localhost:8080/"
        }
      },
      "execution_count": null,
      "outputs": [
        {
          "output_type": "stream",
          "name": "stdout",
          "text": [
            "Found too short about text: X48645, 清水　たくみ\n",
            "Found too short about text: X37781, 大木　聖子\n",
            "Found too short about text: X28865, 諏訪　正樹\n",
            "Found too short about text: X47266, 東海林　祐子\n",
            "Found too short about text: X47266, 東海林　祐子\n",
            "Skipping item due to missing essential fields: X44849\n",
            "Found too short about text: X49435, 福島　康仁\n",
            "Processed 138 items.\n",
            "Total items skipped: 612\n"
          ]
        }
      ]
    },
    {
      "cell_type": "code",
      "source": [
        "# about_textの分析\n",
        "mean_about_length = 0\n",
        "longest_about = 0\n",
        "for item in all_class_data:\n",
        "    sort_id = item.get('sort_id')\n",
        "    subject_name = item.get('subject_name', '').strip()\n",
        "    staff_names = [staff.get('staff_name', '') for staff in item.get('staffs', [])]\n",
        "    staffs = \",\".join(filter(None, staff_names))\n",
        "    about_text = item.get('about', '').strip()\n",
        "\n",
        "    if subject_name not in target_subjects:\n",
        "        continue\n",
        "\n",
        "    if about_text:\n",
        "        mean_about_length += len(about_text)\n",
        "\n",
        "    if len(about_text) < 30:\n",
        "        print(f\"Found about text < 30: {sort_id}, {staffs}\")\n",
        "\n",
        "    if len(about_text) > longest_about:\n",
        "        longest_about = len(about_text)\n",
        "\n",
        "mean_about_length /= len(lab_corpus_texts)\n",
        "\n",
        "print(f\"Mean about length: {mean_about_length}\")\n",
        "print(f\"Longest about length: {longest_about}\")"
      ],
      "metadata": {
        "id": "2a000y5x_mz6",
        "outputId": "fa47cf9b-a004-4206-f313-e2599228202b",
        "colab": {
          "base_uri": "https://localhost:8080/"
        }
      },
      "execution_count": null,
      "outputs": [
        {
          "output_type": "stream",
          "name": "stdout",
          "text": [
            "Found about text < 30: X48645, 清水　たくみ\n",
            "Found about text < 30: X37781, 大木　聖子\n",
            "Found about text < 30: X28865, 諏訪　正樹\n",
            "Found about text < 30: X47266, 東海林　祐子\n",
            "Found about text < 30: X47266, 東海林　祐子\n",
            "Found about text < 30: X44849, 藤井　進也\n",
            "Found about text < 30: X49435, 福島　康仁\n",
            "Mean about length: 257.5869565217391\n",
            "Longest about length: 1330\n"
          ]
        }
      ]
    },
    {
      "cell_type": "code",
      "source": [
        "# lab_corpus_texts をJSONファイルに保存\n",
        "corpus_texts_filepath = '/content/drive/MyDrive/Colab Notebooks/data/text_embedding_search/lab_corpus_texts.json'\n",
        "try:\n",
        "    with open(corpus_texts_filepath, 'w', encoding='utf-8') as f:\n",
        "        # ensure_ascii=False で日本語がそのまま保存されるようにする\n",
        "        # indent=4 で整形して見やすくする\n",
        "        json.dump(lab_corpus_texts, f, ensure_ascii=False, indent=4)\n",
        "    print(f\"Successfully saved corpus texts to {corpus_texts_filepath}\")\n",
        "except IOError as e:\n",
        "    print(f\"Error saving corpus texts: {e}\")\n",
        "\n",
        "# lab_corpus_metadata をJSONファイルに保存\n",
        "corpus_metadata_filepath = '/content/drive/MyDrive/Colab Notebooks/data/text_embedding_search/lab_corpus_metadata.json'\n",
        "try:\n",
        "    with open(corpus_metadata_filepath, 'w', encoding='utf-8') as f:\n",
        "        json.dump(lab_corpus_metadata, f, ensure_ascii=False, indent=4)\n",
        "    print(f\"Successfully saved corpus metadata to {corpus_metadata_filepath}\")\n",
        "except IOError as e:\n",
        "    print(f\"Error saving corpus metadata: {e}\")"
      ],
      "metadata": {
        "id": "bk4tuZ7OtVbA",
        "outputId": "87e8bd64-8b59-4682-fad8-b8b8f6771a90",
        "colab": {
          "base_uri": "https://localhost:8080/"
        }
      },
      "execution_count": null,
      "outputs": [
        {
          "output_type": "stream",
          "name": "stdout",
          "text": [
            "Successfully saved corpus texts to /content/drive/MyDrive/Colab Notebooks/data/text_embedding_search/lab_corpus_texts.json\n",
            "Successfully saved corpus metadata to /content/drive/MyDrive/Colab Notebooks/data/text_embedding_search/lab_corpus_metadata.json\n"
          ]
        }
      ]
    },
    {
      "cell_type": "code",
      "source": [
        "lab_corpus_texts_emb = embed_texts(lab_corpus_texts, is_query=False)"
      ],
      "metadata": {
        "id": "gGVB4jhuaAdX"
      },
      "execution_count": null,
      "outputs": []
    },
    {
      "cell_type": "code",
      "source": [
        "# 埋め込みをdriveに保存\n",
        "np.save('/content/drive/MyDrive/Colab Notebooks/data/text_embedding_search/lab_corpus_texts_emb.npy', lab_corpus_texts_emb)"
      ],
      "metadata": {
        "id": "7EKUJJiybSIU"
      },
      "execution_count": null,
      "outputs": []
    },
    {
      "cell_type": "code",
      "source": [
        "import faiss\n",
        "\n",
        "d = lab_corpus_texts_emb.shape[1]  # 埋め込み次元\n",
        "M = 32           # 各点の近傍リンク数\n",
        "efC = 200        # 構築時の探索深さ\n",
        "\n",
        "lab_index = faiss.IndexHNSWFlat(d, M)\n",
        "lab_index.hnsw.efConstruction = efC\n",
        "\n",
        "# 埋め込みベクトルを追加\n",
        "lab_index.add(lab_corpus_texts_emb)"
      ],
      "metadata": {
        "id": "S2UR5e2KePZ3"
      },
      "execution_count": null,
      "outputs": []
    },
    {
      "cell_type": "code",
      "source": [
        "faiss.write_index(lab_index, '/content/drive/MyDrive/Colab Notebooks/data/text_embedding_search/lab_hnsw_index.faiss')"
      ],
      "metadata": {
        "id": "zBBGJdHSlits"
      },
      "execution_count": null,
      "outputs": []
    },
    {
      "cell_type": "markdown",
      "source": [
        "## 保存したインデックスを読み込んで使用"
      ],
      "metadata": {
        "id": "u8wzRLv4dsEH"
      }
    },
    {
      "cell_type": "code",
      "source": [
        "from google.colab import drive\n",
        "drive.mount('/content/drive')"
      ],
      "metadata": {
        "id": "4tM5HpNmukKj",
        "outputId": "f0c09386-b0c6-4494-8a38-5187f18d4fd9",
        "colab": {
          "base_uri": "https://localhost:8080/"
        }
      },
      "execution_count": null,
      "outputs": [
        {
          "output_type": "stream",
          "name": "stdout",
          "text": [
            "Drive already mounted at /content/drive; to attempt to forcibly remount, call drive.mount(\"/content/drive\", force_remount=True).\n"
          ]
        }
      ]
    },
    {
      "cell_type": "code",
      "source": [
        "!pip install faiss-cpu\n",
        "import faiss"
      ],
      "metadata": {
        "id": "dSTqnAY_d4Kt",
        "outputId": "fd14aead-b0dc-4a40-cb9e-2714c14a6f3c",
        "colab": {
          "base_uri": "https://localhost:8080/"
        }
      },
      "execution_count": 6,
      "outputs": [
        {
          "output_type": "stream",
          "name": "stdout",
          "text": [
            "Requirement already satisfied: faiss-cpu in /usr/local/lib/python3.11/dist-packages (1.11.0)\n",
            "Requirement already satisfied: numpy<3.0,>=1.25.0 in /usr/local/lib/python3.11/dist-packages (from faiss-cpu) (2.0.2)\n",
            "Requirement already satisfied: packaging in /usr/local/lib/python3.11/dist-packages (from faiss-cpu) (24.2)\n"
          ]
        }
      ]
    },
    {
      "cell_type": "markdown",
      "source": [
        "### livedoor-news-corpusを読み込んで検索"
      ],
      "metadata": {
        "id": "WEl6HiIxszax"
      }
    },
    {
      "cell_type": "code",
      "source": [
        "# corpus_textsの読み込み\n",
        "import json\n",
        "\n",
        "corpus_texts = []\n",
        "with open('/content/drive/MyDrive/Colab Notebooks/data/text_embedding_search/corpus.jsonl', 'r', encoding='utf-8') as f:\n",
        "    for line in f:\n",
        "        corpus_texts.append(json.loads(line)['text'])"
      ],
      "metadata": {
        "id": "B3spxvbgx1-W"
      },
      "execution_count": null,
      "outputs": []
    },
    {
      "cell_type": "code",
      "source": [
        "xb = np.load('/content/drive/MyDrive/Colab Notebooks/data/text_embedding_search/embeddings_xb.npy')\n",
        "index = faiss.read_index('/content/drive/MyDrive/Colab Notebooks/data/text_embedding_search/hnsw_index.faiss')"
      ],
      "metadata": {
        "id": "Sot-ettbdpFM"
      },
      "execution_count": null,
      "outputs": []
    },
    {
      "cell_type": "code",
      "source": [
        "query_texts = [\"渋谷の事件についてのニュース\", \"プロ野球の試合結果\", \"新作映画のレビュー\"]\n",
        "xq = embed_texts(query_texts, is_query=True)"
      ],
      "metadata": {
        "id": "Na44rS-9eL1j"
      },
      "execution_count": null,
      "outputs": []
    },
    {
      "cell_type": "code",
      "source": [
        "index.hnsw.efSearch = 50  # 検索時の探索深さ\n",
        "k = 5  # 上位k件を取得\n",
        "D, I = index.search(xq, k)  # Dは距離、Iはインデックス"
      ],
      "metadata": {
        "id": "c_EZn0EZfkdx"
      },
      "execution_count": null,
      "outputs": []
    },
    {
      "cell_type": "code",
      "source": [
        "for i, q in enumerate(query_texts):\n",
        "  print(f\"\\n[Query] {q}\")\n",
        "  for j in range(k):\n",
        "    doc_id = I[i, j] # i番目のクエリにつき5つのID\n",
        "    print(f\" RANK {j+1}: {corpus_texts[doc_id][:50]}...\")"
      ],
      "metadata": {
        "id": "U_TMKeoRfsvD"
      },
      "execution_count": null,
      "outputs": []
    },
    {
      "cell_type": "markdown",
      "source": [
        "### SFC研究会のデータを読み込んで検索"
      ],
      "metadata": {
        "id": "KlX5LNOeYHa8"
      }
    },
    {
      "cell_type": "code",
      "source": [
        "import json\n",
        "\n",
        "filepath = '/content/drive/MyDrive/Colab Notebooks/data/text_embedding_search/lab_corpus_texts.json'\n",
        "with open(filepath, 'r', encoding='utf-8') as f:\n",
        "    lab_corpus_texts = json.load(f)\n",
        "\n",
        "filepath = '/content/drive/MyDrive/Colab Notebooks/data/text_embedding_search/lab_corpus_metadata.json'\n",
        "with open(filepath, 'r', encoding='utf-8') as f:\n",
        "    lab_corpus_metadata = json.load(f)"
      ],
      "metadata": {
        "id": "ydN4nCdmUVxy"
      },
      "execution_count": 7,
      "outputs": []
    },
    {
      "cell_type": "code",
      "source": [
        "lab_index = faiss.read_index('/content/drive/MyDrive/Colab Notebooks/data/text_embedding_search/lab_hnsw_index.faiss')"
      ],
      "metadata": {
        "id": "E-nMG4JhUgkx"
      },
      "execution_count": 8,
      "outputs": []
    },
    {
      "cell_type": "code",
      "source": [
        "query_texts = [\"**AI（人工知能）**は、機械が学習・推論・認識・判断といった人間のような知的能力を模倣する技術。機械学習、深層学習などの手法を用い、データに基づきパターンを学習し予測・分類を行う。自然言語処理や画像認識、強化学習など応用分野は多岐にわたる。\"]\n",
        "xq = embed_texts(query_texts, is_query=True)"
      ],
      "metadata": {
        "id": "H2g4JPAcl88T"
      },
      "execution_count": null,
      "outputs": []
    },
    {
      "cell_type": "code",
      "source": [
        "lab_index.hnsw.efSearch = 100  # 検索時の探索深さ\n",
        "k = 5  # 上位k件を取得\n",
        "D, I =lab_index.search(xq, k)  # Dは距離、Iはインデックス\n",
        "\n",
        "for i, q in enumerate(query_texts):\n",
        "  print(f\"\\n[Query] {q}\")\n",
        "  for j in range(k):\n",
        "    doc_id = I[i, j] # i番目のクエリにつき5つのID\n",
        "    print(f\" RANK {j+1}: {lab_corpus_texts[doc_id][:200]}...\")\n"
      ],
      "metadata": {
        "id": "H3CP1QnXZ19P"
      },
      "execution_count": null,
      "outputs": []
    },
    {
      "cell_type": "markdown",
      "source": [
        "## gradioで検索機能を実装"
      ],
      "metadata": {
        "id": "dhtHKDdEUJRZ"
      }
    },
    {
      "cell_type": "code",
      "source": [
        "!pip install -q gradio"
      ],
      "metadata": {
        "id": "8HLnIeHCbGf3",
        "colab": {
          "base_uri": "https://localhost:8080/"
        },
        "outputId": "693e14d4-a3a3-4eb4-86ed-3b7e6565d7b1"
      },
      "execution_count": 9,
      "outputs": [
        {
          "output_type": "stream",
          "name": "stdout",
          "text": [
            "\u001b[2K   \u001b[90m━━━━━━━━━━━━━━━━━━━━━━━━━━━━━━━━━━━━━━━━\u001b[0m \u001b[32m54.1/54.1 MB\u001b[0m \u001b[31m18.2 MB/s\u001b[0m eta \u001b[36m0:00:00\u001b[0m\n",
            "\u001b[2K   \u001b[90m━━━━━━━━━━━━━━━━━━━━━━━━━━━━━━━━━━━━━━━━\u001b[0m \u001b[32m322.9/322.9 kB\u001b[0m \u001b[31m27.2 MB/s\u001b[0m eta \u001b[36m0:00:00\u001b[0m\n",
            "\u001b[2K   \u001b[90m━━━━━━━━━━━━━━━━━━━━━━━━━━━━━━━━━━━━━━━━\u001b[0m \u001b[32m95.2/95.2 kB\u001b[0m \u001b[31m8.4 MB/s\u001b[0m eta \u001b[36m0:00:00\u001b[0m\n",
            "\u001b[2K   \u001b[90m━━━━━━━━━━━━━━━━━━━━━━━━━━━━━━━━━━━━━━━━\u001b[0m \u001b[32m11.5/11.5 MB\u001b[0m \u001b[31m65.0 MB/s\u001b[0m eta \u001b[36m0:00:00\u001b[0m\n",
            "\u001b[2K   \u001b[90m━━━━━━━━━━━━━━━━━━━━━━━━━━━━━━━━━━━━━━━━\u001b[0m \u001b[32m72.0/72.0 kB\u001b[0m \u001b[31m7.1 MB/s\u001b[0m eta \u001b[36m0:00:00\u001b[0m\n",
            "\u001b[2K   \u001b[90m━━━━━━━━━━━━━━━━━━━━━━━━━━━━━━━━━━━━━━━━\u001b[0m \u001b[32m62.5/62.5 kB\u001b[0m \u001b[31m6.0 MB/s\u001b[0m eta \u001b[36m0:00:00\u001b[0m\n",
            "\u001b[?25h"
          ]
        }
      ]
    },
    {
      "cell_type": "markdown",
      "source": [
        "### livedoorの記事検索"
      ],
      "metadata": {
        "id": "Zf9Ds07OS0Sj"
      }
    },
    {
      "cell_type": "code",
      "source": [
        "import pandas as pd\n",
        "\n",
        "# 検索用関数の定義\n",
        "def search(query: str, k: int = 5, length: int = 30):\n",
        "    # クエリ埋め込み\n",
        "    q_emb = embed_texts([query], is_query=True)\n",
        "    # Faiss 検索\n",
        "    D, I = index.search(q_emb, k)\n",
        "    # 結果整形\n",
        "    results = []\n",
        "    for score, idx in zip(D[0], I[0]):\n",
        "        title, snippet = corpus_texts[idx].split(\"。\", 1)  # タイトル・本文を分割\n",
        "        results.append({\"title\": title, \"snippet\": snippet[:length]+\"…\", \"score\": float(score)})\n",
        "\n",
        "    df = pd.DataFrame(results) # gradio用にDFに変換\n",
        "\n",
        "    return df\n"
      ],
      "metadata": {
        "id": "jFtjS2kDURKd"
      },
      "execution_count": null,
      "outputs": []
    },
    {
      "cell_type": "code",
      "source": [
        "search(\"パソコン\", k=5)"
      ],
      "metadata": {
        "id": "cheaGqMxWB1C"
      },
      "execution_count": null,
      "outputs": []
    },
    {
      "cell_type": "code",
      "source": [
        "import gradio as gr\n",
        "\n",
        "iface = gr.Interface(\n",
        "    fn=search,\n",
        "    inputs=[\n",
        "        gr.Textbox(lines=2, placeholder=\"検索クエリを入力\"),\n",
        "        gr.Slider(minimum=1, maximum=10, step=1, label=\"Top k 件数\")\n",
        "    ],\n",
        "    outputs=gr.Dataframe(\n",
        "        headers=[\"title\", \"snippet\", \"score\"],\n",
        "        row_count=5\n",
        "    ),\n",
        "    title=\"Livedoor ニュース検索デモ\",\n",
        "    description=\"pfnet/plamo-embedding-1b + Faiss HNSW による類似ニュース検索\"\n",
        ")\n",
        "\n",
        "iface.launch(share=True)"
      ],
      "metadata": {
        "id": "E-GaL8smahiu"
      },
      "execution_count": null,
      "outputs": []
    },
    {
      "cell_type": "markdown",
      "source": [
        "### SFC研究会の検索"
      ],
      "metadata": {
        "id": "iVM766ebS3xY"
      }
    },
    {
      "cell_type": "code",
      "source": [
        "import pandas as pd\n",
        "\n",
        "# 検索用関数の定義\n",
        "def lab_search(query: str, k: int = 5, length: int = 50):\n",
        "    # クエリ埋め込み\n",
        "    q_emb = embed_texts([query], is_query=True)\n",
        "    # Faiss 検索\n",
        "    D, I = lab_index.search(q_emb, k)\n",
        "    # 結果整形\n",
        "    results = []\n",
        "    for score, idx in zip(D[0], I[0]):\n",
        "        data = lab_corpus_metadata[idx]\n",
        "        title = data.get('subject_name')\n",
        "        staffs = data.get('staffs')\n",
        "        snippet = data.get('about')\n",
        "        url = data.get('url')\n",
        "        original_score = float(score)\n",
        "        penalty_threshold = 50\n",
        "        penalty_factor = 0.7\n",
        "        if len(snippet) < penalty_threshold:\n",
        "            adjusted_score = original_score * penalty_factor\n",
        "        else:\n",
        "            adjusted_score = original_score\n",
        "\n",
        "        if len(snippet) > length:\n",
        "            snippet = snippet[:length]+\"…\"\n",
        "        results.append({\"title\": title, \"staffs\": staffs, \"snippet\": snippet, \"url\": url, \"score\": adjusted_score})\n",
        "\n",
        "    results.sort(key=lambda x: x['score'], reverse=True)\n",
        "\n",
        "    df = pd.DataFrame(results) # gradio用にDFに変換\n",
        "\n",
        "    return df\n"
      ],
      "metadata": {
        "id": "e-mamxVCTDpY"
      },
      "execution_count": 35,
      "outputs": []
    },
    {
      "cell_type": "code",
      "source": [
        "import gradio as gr\n",
        "\n",
        "iface = gr.Interface(\n",
        "    fn=lab_search,\n",
        "    inputs=[\n",
        "        gr.Textbox(lines=2, placeholder=\"検索クエリを入力\"),\n",
        "        gr.Slider(minimum=1, maximum=10, step=1, label=\"Top k 件数\")\n",
        "    ],\n",
        "    outputs=gr.Dataframe(\n",
        "        headers=[\"title\", \"staffs\", \"snippet\", \"url\", \"score\"],\n",
        "        row_count=5\n",
        "    ),\n",
        "    title=\"【デモ】SFC研究会のベクトル検索\",\n",
        "    description=\"pfnet/plamo-embedding-1b + Faiss HNSW による類似文検索\"\n",
        ")\n",
        "\n",
        "iface.launch(share=True)"
      ],
      "metadata": {
        "id": "7vOAe_Hmoluo"
      },
      "execution_count": null,
      "outputs": []
    }
  ]
}