{
  "nbformat": 4,
  "nbformat_minor": 0,
  "metadata": {
    "colab": {
      "provenance": [],
      "gpuType": "T4"
    },
    "kernelspec": {
      "name": "python3",
      "display_name": "Python 3"
    },
    "language_info": {
      "name": "python"
    },
    "widgets": {
      "application/vnd.jupyter.widget-state+json": {
        "c67d30c7b53842119260e9421514f230": {
          "model_module": "@jupyter-widgets/controls",
          "model_name": "HBoxModel",
          "model_module_version": "1.5.0",
          "state": {
            "_dom_classes": [],
            "_model_module": "@jupyter-widgets/controls",
            "_model_module_version": "1.5.0",
            "_model_name": "HBoxModel",
            "_view_count": null,
            "_view_module": "@jupyter-widgets/controls",
            "_view_module_version": "1.5.0",
            "_view_name": "HBoxView",
            "box_style": "",
            "children": [
              "IPY_MODEL_869bf9e2b6ce4908a6e7fa12f1929ff0",
              "IPY_MODEL_417b539e1030452494b90b8b8cb99701",
              "IPY_MODEL_4ecf4a088a794ee79072751eb88b02b4"
            ],
            "layout": "IPY_MODEL_3263de9c8ac34b55a2de8b22a91e2ad7"
          }
        },
        "869bf9e2b6ce4908a6e7fa12f1929ff0": {
          "model_module": "@jupyter-widgets/controls",
          "model_name": "HTMLModel",
          "model_module_version": "1.5.0",
          "state": {
            "_dom_classes": [],
            "_model_module": "@jupyter-widgets/controls",
            "_model_module_version": "1.5.0",
            "_model_name": "HTMLModel",
            "_view_count": null,
            "_view_module": "@jupyter-widgets/controls",
            "_view_module_version": "1.5.0",
            "_view_name": "HTMLView",
            "description": "",
            "description_tooltip": null,
            "layout": "IPY_MODEL_0da0df3f329149679d02362434877815",
            "placeholder": "​",
            "style": "IPY_MODEL_2c1c2ec68f36421cb993aee959d90e9f",
            "value": "tokenizer_config.json: 100%"
          }
        },
        "417b539e1030452494b90b8b8cb99701": {
          "model_module": "@jupyter-widgets/controls",
          "model_name": "FloatProgressModel",
          "model_module_version": "1.5.0",
          "state": {
            "_dom_classes": [],
            "_model_module": "@jupyter-widgets/controls",
            "_model_module_version": "1.5.0",
            "_model_name": "FloatProgressModel",
            "_view_count": null,
            "_view_module": "@jupyter-widgets/controls",
            "_view_module_version": "1.5.0",
            "_view_name": "ProgressView",
            "bar_style": "success",
            "description": "",
            "description_tooltip": null,
            "layout": "IPY_MODEL_128b086d981e409691df77ba74005b31",
            "max": 1297,
            "min": 0,
            "orientation": "horizontal",
            "style": "IPY_MODEL_9c0e7adcf43b4f1984478c0a162d67e8",
            "value": 1297
          }
        },
        "4ecf4a088a794ee79072751eb88b02b4": {
          "model_module": "@jupyter-widgets/controls",
          "model_name": "HTMLModel",
          "model_module_version": "1.5.0",
          "state": {
            "_dom_classes": [],
            "_model_module": "@jupyter-widgets/controls",
            "_model_module_version": "1.5.0",
            "_model_name": "HTMLModel",
            "_view_count": null,
            "_view_module": "@jupyter-widgets/controls",
            "_view_module_version": "1.5.0",
            "_view_name": "HTMLView",
            "description": "",
            "description_tooltip": null,
            "layout": "IPY_MODEL_5d2e253ef749415a8756fd956d8d6c6b",
            "placeholder": "​",
            "style": "IPY_MODEL_6b70a4b885b24a0db786df0ac36b7481",
            "value": " 1.30k/1.30k [00:00&lt;00:00, 41.1kB/s]"
          }
        },
        "3263de9c8ac34b55a2de8b22a91e2ad7": {
          "model_module": "@jupyter-widgets/base",
          "model_name": "LayoutModel",
          "model_module_version": "1.2.0",
          "state": {
            "_model_module": "@jupyter-widgets/base",
            "_model_module_version": "1.2.0",
            "_model_name": "LayoutModel",
            "_view_count": null,
            "_view_module": "@jupyter-widgets/base",
            "_view_module_version": "1.2.0",
            "_view_name": "LayoutView",
            "align_content": null,
            "align_items": null,
            "align_self": null,
            "border": null,
            "bottom": null,
            "display": null,
            "flex": null,
            "flex_flow": null,
            "grid_area": null,
            "grid_auto_columns": null,
            "grid_auto_flow": null,
            "grid_auto_rows": null,
            "grid_column": null,
            "grid_gap": null,
            "grid_row": null,
            "grid_template_areas": null,
            "grid_template_columns": null,
            "grid_template_rows": null,
            "height": null,
            "justify_content": null,
            "justify_items": null,
            "left": null,
            "margin": null,
            "max_height": null,
            "max_width": null,
            "min_height": null,
            "min_width": null,
            "object_fit": null,
            "object_position": null,
            "order": null,
            "overflow": null,
            "overflow_x": null,
            "overflow_y": null,
            "padding": null,
            "right": null,
            "top": null,
            "visibility": null,
            "width": null
          }
        },
        "0da0df3f329149679d02362434877815": {
          "model_module": "@jupyter-widgets/base",
          "model_name": "LayoutModel",
          "model_module_version": "1.2.0",
          "state": {
            "_model_module": "@jupyter-widgets/base",
            "_model_module_version": "1.2.0",
            "_model_name": "LayoutModel",
            "_view_count": null,
            "_view_module": "@jupyter-widgets/base",
            "_view_module_version": "1.2.0",
            "_view_name": "LayoutView",
            "align_content": null,
            "align_items": null,
            "align_self": null,
            "border": null,
            "bottom": null,
            "display": null,
            "flex": null,
            "flex_flow": null,
            "grid_area": null,
            "grid_auto_columns": null,
            "grid_auto_flow": null,
            "grid_auto_rows": null,
            "grid_column": null,
            "grid_gap": null,
            "grid_row": null,
            "grid_template_areas": null,
            "grid_template_columns": null,
            "grid_template_rows": null,
            "height": null,
            "justify_content": null,
            "justify_items": null,
            "left": null,
            "margin": null,
            "max_height": null,
            "max_width": null,
            "min_height": null,
            "min_width": null,
            "object_fit": null,
            "object_position": null,
            "order": null,
            "overflow": null,
            "overflow_x": null,
            "overflow_y": null,
            "padding": null,
            "right": null,
            "top": null,
            "visibility": null,
            "width": null
          }
        },
        "2c1c2ec68f36421cb993aee959d90e9f": {
          "model_module": "@jupyter-widgets/controls",
          "model_name": "DescriptionStyleModel",
          "model_module_version": "1.5.0",
          "state": {
            "_model_module": "@jupyter-widgets/controls",
            "_model_module_version": "1.5.0",
            "_model_name": "DescriptionStyleModel",
            "_view_count": null,
            "_view_module": "@jupyter-widgets/base",
            "_view_module_version": "1.2.0",
            "_view_name": "StyleView",
            "description_width": ""
          }
        },
        "128b086d981e409691df77ba74005b31": {
          "model_module": "@jupyter-widgets/base",
          "model_name": "LayoutModel",
          "model_module_version": "1.2.0",
          "state": {
            "_model_module": "@jupyter-widgets/base",
            "_model_module_version": "1.2.0",
            "_model_name": "LayoutModel",
            "_view_count": null,
            "_view_module": "@jupyter-widgets/base",
            "_view_module_version": "1.2.0",
            "_view_name": "LayoutView",
            "align_content": null,
            "align_items": null,
            "align_self": null,
            "border": null,
            "bottom": null,
            "display": null,
            "flex": null,
            "flex_flow": null,
            "grid_area": null,
            "grid_auto_columns": null,
            "grid_auto_flow": null,
            "grid_auto_rows": null,
            "grid_column": null,
            "grid_gap": null,
            "grid_row": null,
            "grid_template_areas": null,
            "grid_template_columns": null,
            "grid_template_rows": null,
            "height": null,
            "justify_content": null,
            "justify_items": null,
            "left": null,
            "margin": null,
            "max_height": null,
            "max_width": null,
            "min_height": null,
            "min_width": null,
            "object_fit": null,
            "object_position": null,
            "order": null,
            "overflow": null,
            "overflow_x": null,
            "overflow_y": null,
            "padding": null,
            "right": null,
            "top": null,
            "visibility": null,
            "width": null
          }
        },
        "9c0e7adcf43b4f1984478c0a162d67e8": {
          "model_module": "@jupyter-widgets/controls",
          "model_name": "ProgressStyleModel",
          "model_module_version": "1.5.0",
          "state": {
            "_model_module": "@jupyter-widgets/controls",
            "_model_module_version": "1.5.0",
            "_model_name": "ProgressStyleModel",
            "_view_count": null,
            "_view_module": "@jupyter-widgets/base",
            "_view_module_version": "1.2.0",
            "_view_name": "StyleView",
            "bar_color": null,
            "description_width": ""
          }
        },
        "5d2e253ef749415a8756fd956d8d6c6b": {
          "model_module": "@jupyter-widgets/base",
          "model_name": "LayoutModel",
          "model_module_version": "1.2.0",
          "state": {
            "_model_module": "@jupyter-widgets/base",
            "_model_module_version": "1.2.0",
            "_model_name": "LayoutModel",
            "_view_count": null,
            "_view_module": "@jupyter-widgets/base",
            "_view_module_version": "1.2.0",
            "_view_name": "LayoutView",
            "align_content": null,
            "align_items": null,
            "align_self": null,
            "border": null,
            "bottom": null,
            "display": null,
            "flex": null,
            "flex_flow": null,
            "grid_area": null,
            "grid_auto_columns": null,
            "grid_auto_flow": null,
            "grid_auto_rows": null,
            "grid_column": null,
            "grid_gap": null,
            "grid_row": null,
            "grid_template_areas": null,
            "grid_template_columns": null,
            "grid_template_rows": null,
            "height": null,
            "justify_content": null,
            "justify_items": null,
            "left": null,
            "margin": null,
            "max_height": null,
            "max_width": null,
            "min_height": null,
            "min_width": null,
            "object_fit": null,
            "object_position": null,
            "order": null,
            "overflow": null,
            "overflow_x": null,
            "overflow_y": null,
            "padding": null,
            "right": null,
            "top": null,
            "visibility": null,
            "width": null
          }
        },
        "6b70a4b885b24a0db786df0ac36b7481": {
          "model_module": "@jupyter-widgets/controls",
          "model_name": "DescriptionStyleModel",
          "model_module_version": "1.5.0",
          "state": {
            "_model_module": "@jupyter-widgets/controls",
            "_model_module_version": "1.5.0",
            "_model_name": "DescriptionStyleModel",
            "_view_count": null,
            "_view_module": "@jupyter-widgets/base",
            "_view_module_version": "1.2.0",
            "_view_name": "StyleView",
            "description_width": ""
          }
        },
        "67ac88ba646044ee89f0555afad4f0c3": {
          "model_module": "@jupyter-widgets/controls",
          "model_name": "HBoxModel",
          "model_module_version": "1.5.0",
          "state": {
            "_dom_classes": [],
            "_model_module": "@jupyter-widgets/controls",
            "_model_module_version": "1.5.0",
            "_model_name": "HBoxModel",
            "_view_count": null,
            "_view_module": "@jupyter-widgets/controls",
            "_view_module_version": "1.5.0",
            "_view_name": "HBoxView",
            "box_style": "",
            "children": [
              "IPY_MODEL_52b86e926e944f4ebae95bd7e0b37fe0",
              "IPY_MODEL_f721b4e1ebab4cfc95fbadd4c2e8ed1d",
              "IPY_MODEL_5ba6acc1141540bd8716d5d84bac6e91"
            ],
            "layout": "IPY_MODEL_40521254c1e04cac885301d254db7c27"
          }
        },
        "52b86e926e944f4ebae95bd7e0b37fe0": {
          "model_module": "@jupyter-widgets/controls",
          "model_name": "HTMLModel",
          "model_module_version": "1.5.0",
          "state": {
            "_dom_classes": [],
            "_model_module": "@jupyter-widgets/controls",
            "_model_module_version": "1.5.0",
            "_model_name": "HTMLModel",
            "_view_count": null,
            "_view_module": "@jupyter-widgets/controls",
            "_view_module_version": "1.5.0",
            "_view_name": "HTMLView",
            "description": "",
            "description_tooltip": null,
            "layout": "IPY_MODEL_bb3296f75276476f88002d9b248c07a6",
            "placeholder": "​",
            "style": "IPY_MODEL_80c82f0f1cc34a7f9a219a8783ed4e54",
            "value": "tokenization_plamo.py: 100%"
          }
        },
        "f721b4e1ebab4cfc95fbadd4c2e8ed1d": {
          "model_module": "@jupyter-widgets/controls",
          "model_name": "FloatProgressModel",
          "model_module_version": "1.5.0",
          "state": {
            "_dom_classes": [],
            "_model_module": "@jupyter-widgets/controls",
            "_model_module_version": "1.5.0",
            "_model_name": "FloatProgressModel",
            "_view_count": null,
            "_view_module": "@jupyter-widgets/controls",
            "_view_module_version": "1.5.0",
            "_view_name": "ProgressView",
            "bar_style": "success",
            "description": "",
            "description_tooltip": null,
            "layout": "IPY_MODEL_8585bfa6f5954fa6ae3c7037eabb91d4",
            "max": 7635,
            "min": 0,
            "orientation": "horizontal",
            "style": "IPY_MODEL_fb9fcd8268f24839bfcc46b0b42e75fc",
            "value": 7635
          }
        },
        "5ba6acc1141540bd8716d5d84bac6e91": {
          "model_module": "@jupyter-widgets/controls",
          "model_name": "HTMLModel",
          "model_module_version": "1.5.0",
          "state": {
            "_dom_classes": [],
            "_model_module": "@jupyter-widgets/controls",
            "_model_module_version": "1.5.0",
            "_model_name": "HTMLModel",
            "_view_count": null,
            "_view_module": "@jupyter-widgets/controls",
            "_view_module_version": "1.5.0",
            "_view_name": "HTMLView",
            "description": "",
            "description_tooltip": null,
            "layout": "IPY_MODEL_572c79d699564130944b7261d5c3bc0c",
            "placeholder": "​",
            "style": "IPY_MODEL_fc2eb43294ab4b63840a409fe8c00c13",
            "value": " 7.63k/7.63k [00:00&lt;00:00, 193kB/s]"
          }
        },
        "40521254c1e04cac885301d254db7c27": {
          "model_module": "@jupyter-widgets/base",
          "model_name": "LayoutModel",
          "model_module_version": "1.2.0",
          "state": {
            "_model_module": "@jupyter-widgets/base",
            "_model_module_version": "1.2.0",
            "_model_name": "LayoutModel",
            "_view_count": null,
            "_view_module": "@jupyter-widgets/base",
            "_view_module_version": "1.2.0",
            "_view_name": "LayoutView",
            "align_content": null,
            "align_items": null,
            "align_self": null,
            "border": null,
            "bottom": null,
            "display": null,
            "flex": null,
            "flex_flow": null,
            "grid_area": null,
            "grid_auto_columns": null,
            "grid_auto_flow": null,
            "grid_auto_rows": null,
            "grid_column": null,
            "grid_gap": null,
            "grid_row": null,
            "grid_template_areas": null,
            "grid_template_columns": null,
            "grid_template_rows": null,
            "height": null,
            "justify_content": null,
            "justify_items": null,
            "left": null,
            "margin": null,
            "max_height": null,
            "max_width": null,
            "min_height": null,
            "min_width": null,
            "object_fit": null,
            "object_position": null,
            "order": null,
            "overflow": null,
            "overflow_x": null,
            "overflow_y": null,
            "padding": null,
            "right": null,
            "top": null,
            "visibility": null,
            "width": null
          }
        },
        "bb3296f75276476f88002d9b248c07a6": {
          "model_module": "@jupyter-widgets/base",
          "model_name": "LayoutModel",
          "model_module_version": "1.2.0",
          "state": {
            "_model_module": "@jupyter-widgets/base",
            "_model_module_version": "1.2.0",
            "_model_name": "LayoutModel",
            "_view_count": null,
            "_view_module": "@jupyter-widgets/base",
            "_view_module_version": "1.2.0",
            "_view_name": "LayoutView",
            "align_content": null,
            "align_items": null,
            "align_self": null,
            "border": null,
            "bottom": null,
            "display": null,
            "flex": null,
            "flex_flow": null,
            "grid_area": null,
            "grid_auto_columns": null,
            "grid_auto_flow": null,
            "grid_auto_rows": null,
            "grid_column": null,
            "grid_gap": null,
            "grid_row": null,
            "grid_template_areas": null,
            "grid_template_columns": null,
            "grid_template_rows": null,
            "height": null,
            "justify_content": null,
            "justify_items": null,
            "left": null,
            "margin": null,
            "max_height": null,
            "max_width": null,
            "min_height": null,
            "min_width": null,
            "object_fit": null,
            "object_position": null,
            "order": null,
            "overflow": null,
            "overflow_x": null,
            "overflow_y": null,
            "padding": null,
            "right": null,
            "top": null,
            "visibility": null,
            "width": null
          }
        },
        "80c82f0f1cc34a7f9a219a8783ed4e54": {
          "model_module": "@jupyter-widgets/controls",
          "model_name": "DescriptionStyleModel",
          "model_module_version": "1.5.0",
          "state": {
            "_model_module": "@jupyter-widgets/controls",
            "_model_module_version": "1.5.0",
            "_model_name": "DescriptionStyleModel",
            "_view_count": null,
            "_view_module": "@jupyter-widgets/base",
            "_view_module_version": "1.2.0",
            "_view_name": "StyleView",
            "description_width": ""
          }
        },
        "8585bfa6f5954fa6ae3c7037eabb91d4": {
          "model_module": "@jupyter-widgets/base",
          "model_name": "LayoutModel",
          "model_module_version": "1.2.0",
          "state": {
            "_model_module": "@jupyter-widgets/base",
            "_model_module_version": "1.2.0",
            "_model_name": "LayoutModel",
            "_view_count": null,
            "_view_module": "@jupyter-widgets/base",
            "_view_module_version": "1.2.0",
            "_view_name": "LayoutView",
            "align_content": null,
            "align_items": null,
            "align_self": null,
            "border": null,
            "bottom": null,
            "display": null,
            "flex": null,
            "flex_flow": null,
            "grid_area": null,
            "grid_auto_columns": null,
            "grid_auto_flow": null,
            "grid_auto_rows": null,
            "grid_column": null,
            "grid_gap": null,
            "grid_row": null,
            "grid_template_areas": null,
            "grid_template_columns": null,
            "grid_template_rows": null,
            "height": null,
            "justify_content": null,
            "justify_items": null,
            "left": null,
            "margin": null,
            "max_height": null,
            "max_width": null,
            "min_height": null,
            "min_width": null,
            "object_fit": null,
            "object_position": null,
            "order": null,
            "overflow": null,
            "overflow_x": null,
            "overflow_y": null,
            "padding": null,
            "right": null,
            "top": null,
            "visibility": null,
            "width": null
          }
        },
        "fb9fcd8268f24839bfcc46b0b42e75fc": {
          "model_module": "@jupyter-widgets/controls",
          "model_name": "ProgressStyleModel",
          "model_module_version": "1.5.0",
          "state": {
            "_model_module": "@jupyter-widgets/controls",
            "_model_module_version": "1.5.0",
            "_model_name": "ProgressStyleModel",
            "_view_count": null,
            "_view_module": "@jupyter-widgets/base",
            "_view_module_version": "1.2.0",
            "_view_name": "StyleView",
            "bar_color": null,
            "description_width": ""
          }
        },
        "572c79d699564130944b7261d5c3bc0c": {
          "model_module": "@jupyter-widgets/base",
          "model_name": "LayoutModel",
          "model_module_version": "1.2.0",
          "state": {
            "_model_module": "@jupyter-widgets/base",
            "_model_module_version": "1.2.0",
            "_model_name": "LayoutModel",
            "_view_count": null,
            "_view_module": "@jupyter-widgets/base",
            "_view_module_version": "1.2.0",
            "_view_name": "LayoutView",
            "align_content": null,
            "align_items": null,
            "align_self": null,
            "border": null,
            "bottom": null,
            "display": null,
            "flex": null,
            "flex_flow": null,
            "grid_area": null,
            "grid_auto_columns": null,
            "grid_auto_flow": null,
            "grid_auto_rows": null,
            "grid_column": null,
            "grid_gap": null,
            "grid_row": null,
            "grid_template_areas": null,
            "grid_template_columns": null,
            "grid_template_rows": null,
            "height": null,
            "justify_content": null,
            "justify_items": null,
            "left": null,
            "margin": null,
            "max_height": null,
            "max_width": null,
            "min_height": null,
            "min_width": null,
            "object_fit": null,
            "object_position": null,
            "order": null,
            "overflow": null,
            "overflow_x": null,
            "overflow_y": null,
            "padding": null,
            "right": null,
            "top": null,
            "visibility": null,
            "width": null
          }
        },
        "fc2eb43294ab4b63840a409fe8c00c13": {
          "model_module": "@jupyter-widgets/controls",
          "model_name": "DescriptionStyleModel",
          "model_module_version": "1.5.0",
          "state": {
            "_model_module": "@jupyter-widgets/controls",
            "_model_module_version": "1.5.0",
            "_model_name": "DescriptionStyleModel",
            "_view_count": null,
            "_view_module": "@jupyter-widgets/base",
            "_view_module_version": "1.2.0",
            "_view_name": "StyleView",
            "description_width": ""
          }
        },
        "cabf74f537fd42219d59ebbc507f23b2": {
          "model_module": "@jupyter-widgets/controls",
          "model_name": "HBoxModel",
          "model_module_version": "1.5.0",
          "state": {
            "_dom_classes": [],
            "_model_module": "@jupyter-widgets/controls",
            "_model_module_version": "1.5.0",
            "_model_name": "HBoxModel",
            "_view_count": null,
            "_view_module": "@jupyter-widgets/controls",
            "_view_module_version": "1.5.0",
            "_view_name": "HBoxView",
            "box_style": "",
            "children": [
              "IPY_MODEL_6f5da6b0f6bd4294bd7a527eda159ccf",
              "IPY_MODEL_2349b5e5fa9e47dba70e97a7e5d611f7",
              "IPY_MODEL_b82734df64d94c28aa5d8cb9f55dc58e"
            ],
            "layout": "IPY_MODEL_89d92138e11b4337a1d1343afe9f1e2d"
          }
        },
        "6f5da6b0f6bd4294bd7a527eda159ccf": {
          "model_module": "@jupyter-widgets/controls",
          "model_name": "HTMLModel",
          "model_module_version": "1.5.0",
          "state": {
            "_dom_classes": [],
            "_model_module": "@jupyter-widgets/controls",
            "_model_module_version": "1.5.0",
            "_model_name": "HTMLModel",
            "_view_count": null,
            "_view_module": "@jupyter-widgets/controls",
            "_view_module_version": "1.5.0",
            "_view_name": "HTMLView",
            "description": "",
            "description_tooltip": null,
            "layout": "IPY_MODEL_ffced3cdbba3464ab35f08dfff03f74e",
            "placeholder": "​",
            "style": "IPY_MODEL_c61423e5d0cd477c8b6a16cd4a3eefaf",
            "value": "tokenizer.model: 100%"
          }
        },
        "2349b5e5fa9e47dba70e97a7e5d611f7": {
          "model_module": "@jupyter-widgets/controls",
          "model_name": "FloatProgressModel",
          "model_module_version": "1.5.0",
          "state": {
            "_dom_classes": [],
            "_model_module": "@jupyter-widgets/controls",
            "_model_module_version": "1.5.0",
            "_model_name": "FloatProgressModel",
            "_view_count": null,
            "_view_module": "@jupyter-widgets/controls",
            "_view_module_version": "1.5.0",
            "_view_name": "ProgressView",
            "bar_style": "success",
            "description": "",
            "description_tooltip": null,
            "layout": "IPY_MODEL_b866265326a540d3b7329314547090a0",
            "max": 805457,
            "min": 0,
            "orientation": "horizontal",
            "style": "IPY_MODEL_d8d740ef637340f380c4a8b6528c0b01",
            "value": 805457
          }
        },
        "b82734df64d94c28aa5d8cb9f55dc58e": {
          "model_module": "@jupyter-widgets/controls",
          "model_name": "HTMLModel",
          "model_module_version": "1.5.0",
          "state": {
            "_dom_classes": [],
            "_model_module": "@jupyter-widgets/controls",
            "_model_module_version": "1.5.0",
            "_model_name": "HTMLModel",
            "_view_count": null,
            "_view_module": "@jupyter-widgets/controls",
            "_view_module_version": "1.5.0",
            "_view_name": "HTMLView",
            "description": "",
            "description_tooltip": null,
            "layout": "IPY_MODEL_8bdaf7e581c54c0dae6845ffdf18290a",
            "placeholder": "​",
            "style": "IPY_MODEL_38c5731ddc1b49bcbb5675f6ba4b0c8c",
            "value": " 805k/805k [00:00&lt;00:00, 13.8MB/s]"
          }
        },
        "89d92138e11b4337a1d1343afe9f1e2d": {
          "model_module": "@jupyter-widgets/base",
          "model_name": "LayoutModel",
          "model_module_version": "1.2.0",
          "state": {
            "_model_module": "@jupyter-widgets/base",
            "_model_module_version": "1.2.0",
            "_model_name": "LayoutModel",
            "_view_count": null,
            "_view_module": "@jupyter-widgets/base",
            "_view_module_version": "1.2.0",
            "_view_name": "LayoutView",
            "align_content": null,
            "align_items": null,
            "align_self": null,
            "border": null,
            "bottom": null,
            "display": null,
            "flex": null,
            "flex_flow": null,
            "grid_area": null,
            "grid_auto_columns": null,
            "grid_auto_flow": null,
            "grid_auto_rows": null,
            "grid_column": null,
            "grid_gap": null,
            "grid_row": null,
            "grid_template_areas": null,
            "grid_template_columns": null,
            "grid_template_rows": null,
            "height": null,
            "justify_content": null,
            "justify_items": null,
            "left": null,
            "margin": null,
            "max_height": null,
            "max_width": null,
            "min_height": null,
            "min_width": null,
            "object_fit": null,
            "object_position": null,
            "order": null,
            "overflow": null,
            "overflow_x": null,
            "overflow_y": null,
            "padding": null,
            "right": null,
            "top": null,
            "visibility": null,
            "width": null
          }
        },
        "ffced3cdbba3464ab35f08dfff03f74e": {
          "model_module": "@jupyter-widgets/base",
          "model_name": "LayoutModel",
          "model_module_version": "1.2.0",
          "state": {
            "_model_module": "@jupyter-widgets/base",
            "_model_module_version": "1.2.0",
            "_model_name": "LayoutModel",
            "_view_count": null,
            "_view_module": "@jupyter-widgets/base",
            "_view_module_version": "1.2.0",
            "_view_name": "LayoutView",
            "align_content": null,
            "align_items": null,
            "align_self": null,
            "border": null,
            "bottom": null,
            "display": null,
            "flex": null,
            "flex_flow": null,
            "grid_area": null,
            "grid_auto_columns": null,
            "grid_auto_flow": null,
            "grid_auto_rows": null,
            "grid_column": null,
            "grid_gap": null,
            "grid_row": null,
            "grid_template_areas": null,
            "grid_template_columns": null,
            "grid_template_rows": null,
            "height": null,
            "justify_content": null,
            "justify_items": null,
            "left": null,
            "margin": null,
            "max_height": null,
            "max_width": null,
            "min_height": null,
            "min_width": null,
            "object_fit": null,
            "object_position": null,
            "order": null,
            "overflow": null,
            "overflow_x": null,
            "overflow_y": null,
            "padding": null,
            "right": null,
            "top": null,
            "visibility": null,
            "width": null
          }
        },
        "c61423e5d0cd477c8b6a16cd4a3eefaf": {
          "model_module": "@jupyter-widgets/controls",
          "model_name": "DescriptionStyleModel",
          "model_module_version": "1.5.0",
          "state": {
            "_model_module": "@jupyter-widgets/controls",
            "_model_module_version": "1.5.0",
            "_model_name": "DescriptionStyleModel",
            "_view_count": null,
            "_view_module": "@jupyter-widgets/base",
            "_view_module_version": "1.2.0",
            "_view_name": "StyleView",
            "description_width": ""
          }
        },
        "b866265326a540d3b7329314547090a0": {
          "model_module": "@jupyter-widgets/base",
          "model_name": "LayoutModel",
          "model_module_version": "1.2.0",
          "state": {
            "_model_module": "@jupyter-widgets/base",
            "_model_module_version": "1.2.0",
            "_model_name": "LayoutModel",
            "_view_count": null,
            "_view_module": "@jupyter-widgets/base",
            "_view_module_version": "1.2.0",
            "_view_name": "LayoutView",
            "align_content": null,
            "align_items": null,
            "align_self": null,
            "border": null,
            "bottom": null,
            "display": null,
            "flex": null,
            "flex_flow": null,
            "grid_area": null,
            "grid_auto_columns": null,
            "grid_auto_flow": null,
            "grid_auto_rows": null,
            "grid_column": null,
            "grid_gap": null,
            "grid_row": null,
            "grid_template_areas": null,
            "grid_template_columns": null,
            "grid_template_rows": null,
            "height": null,
            "justify_content": null,
            "justify_items": null,
            "left": null,
            "margin": null,
            "max_height": null,
            "max_width": null,
            "min_height": null,
            "min_width": null,
            "object_fit": null,
            "object_position": null,
            "order": null,
            "overflow": null,
            "overflow_x": null,
            "overflow_y": null,
            "padding": null,
            "right": null,
            "top": null,
            "visibility": null,
            "width": null
          }
        },
        "d8d740ef637340f380c4a8b6528c0b01": {
          "model_module": "@jupyter-widgets/controls",
          "model_name": "ProgressStyleModel",
          "model_module_version": "1.5.0",
          "state": {
            "_model_module": "@jupyter-widgets/controls",
            "_model_module_version": "1.5.0",
            "_model_name": "ProgressStyleModel",
            "_view_count": null,
            "_view_module": "@jupyter-widgets/base",
            "_view_module_version": "1.2.0",
            "_view_name": "StyleView",
            "bar_color": null,
            "description_width": ""
          }
        },
        "8bdaf7e581c54c0dae6845ffdf18290a": {
          "model_module": "@jupyter-widgets/base",
          "model_name": "LayoutModel",
          "model_module_version": "1.2.0",
          "state": {
            "_model_module": "@jupyter-widgets/base",
            "_model_module_version": "1.2.0",
            "_model_name": "LayoutModel",
            "_view_count": null,
            "_view_module": "@jupyter-widgets/base",
            "_view_module_version": "1.2.0",
            "_view_name": "LayoutView",
            "align_content": null,
            "align_items": null,
            "align_self": null,
            "border": null,
            "bottom": null,
            "display": null,
            "flex": null,
            "flex_flow": null,
            "grid_area": null,
            "grid_auto_columns": null,
            "grid_auto_flow": null,
            "grid_auto_rows": null,
            "grid_column": null,
            "grid_gap": null,
            "grid_row": null,
            "grid_template_areas": null,
            "grid_template_columns": null,
            "grid_template_rows": null,
            "height": null,
            "justify_content": null,
            "justify_items": null,
            "left": null,
            "margin": null,
            "max_height": null,
            "max_width": null,
            "min_height": null,
            "min_width": null,
            "object_fit": null,
            "object_position": null,
            "order": null,
            "overflow": null,
            "overflow_x": null,
            "overflow_y": null,
            "padding": null,
            "right": null,
            "top": null,
            "visibility": null,
            "width": null
          }
        },
        "38c5731ddc1b49bcbb5675f6ba4b0c8c": {
          "model_module": "@jupyter-widgets/controls",
          "model_name": "DescriptionStyleModel",
          "model_module_version": "1.5.0",
          "state": {
            "_model_module": "@jupyter-widgets/controls",
            "_model_module_version": "1.5.0",
            "_model_name": "DescriptionStyleModel",
            "_view_count": null,
            "_view_module": "@jupyter-widgets/base",
            "_view_module_version": "1.2.0",
            "_view_name": "StyleView",
            "description_width": ""
          }
        },
        "18bc8a46ddac4afcaef9200e54a2e472": {
          "model_module": "@jupyter-widgets/controls",
          "model_name": "HBoxModel",
          "model_module_version": "1.5.0",
          "state": {
            "_dom_classes": [],
            "_model_module": "@jupyter-widgets/controls",
            "_model_module_version": "1.5.0",
            "_model_name": "HBoxModel",
            "_view_count": null,
            "_view_module": "@jupyter-widgets/controls",
            "_view_module_version": "1.5.0",
            "_view_name": "HBoxView",
            "box_style": "",
            "children": [
              "IPY_MODEL_0b76cfa67b1644deb5b9f8040a3a5b70",
              "IPY_MODEL_97584a830a684f02ac66fe2650e2138a",
              "IPY_MODEL_9de72293bc904dc28d6d0dfc1c5c5310"
            ],
            "layout": "IPY_MODEL_90ae016613504dd6888b63d8c4a822b5"
          }
        },
        "0b76cfa67b1644deb5b9f8040a3a5b70": {
          "model_module": "@jupyter-widgets/controls",
          "model_name": "HTMLModel",
          "model_module_version": "1.5.0",
          "state": {
            "_dom_classes": [],
            "_model_module": "@jupyter-widgets/controls",
            "_model_module_version": "1.5.0",
            "_model_name": "HTMLModel",
            "_view_count": null,
            "_view_module": "@jupyter-widgets/controls",
            "_view_module_version": "1.5.0",
            "_view_name": "HTMLView",
            "description": "",
            "description_tooltip": null,
            "layout": "IPY_MODEL_c740c794514c40f185a33aabe573163c",
            "placeholder": "​",
            "style": "IPY_MODEL_b2dbc4af0de54edab3fddcae1ce08f6f",
            "value": "special_tokens_map.json: 100%"
          }
        },
        "97584a830a684f02ac66fe2650e2138a": {
          "model_module": "@jupyter-widgets/controls",
          "model_name": "FloatProgressModel",
          "model_module_version": "1.5.0",
          "state": {
            "_dom_classes": [],
            "_model_module": "@jupyter-widgets/controls",
            "_model_module_version": "1.5.0",
            "_model_name": "FloatProgressModel",
            "_view_count": null,
            "_view_module": "@jupyter-widgets/controls",
            "_view_module_version": "1.5.0",
            "_view_name": "ProgressView",
            "bar_style": "success",
            "description": "",
            "description_tooltip": null,
            "layout": "IPY_MODEL_7561b0e8af864c2baef9ece410e36c21",
            "max": 477,
            "min": 0,
            "orientation": "horizontal",
            "style": "IPY_MODEL_b1e278c1b6ad4be9b37a42b92b590721",
            "value": 477
          }
        },
        "9de72293bc904dc28d6d0dfc1c5c5310": {
          "model_module": "@jupyter-widgets/controls",
          "model_name": "HTMLModel",
          "model_module_version": "1.5.0",
          "state": {
            "_dom_classes": [],
            "_model_module": "@jupyter-widgets/controls",
            "_model_module_version": "1.5.0",
            "_model_name": "HTMLModel",
            "_view_count": null,
            "_view_module": "@jupyter-widgets/controls",
            "_view_module_version": "1.5.0",
            "_view_name": "HTMLView",
            "description": "",
            "description_tooltip": null,
            "layout": "IPY_MODEL_b874556ddaeb40728294ddc09b25b219",
            "placeholder": "​",
            "style": "IPY_MODEL_17073273f6424885865c78158dd4c9a7",
            "value": " 477/477 [00:00&lt;00:00, 15.7kB/s]"
          }
        },
        "90ae016613504dd6888b63d8c4a822b5": {
          "model_module": "@jupyter-widgets/base",
          "model_name": "LayoutModel",
          "model_module_version": "1.2.0",
          "state": {
            "_model_module": "@jupyter-widgets/base",
            "_model_module_version": "1.2.0",
            "_model_name": "LayoutModel",
            "_view_count": null,
            "_view_module": "@jupyter-widgets/base",
            "_view_module_version": "1.2.0",
            "_view_name": "LayoutView",
            "align_content": null,
            "align_items": null,
            "align_self": null,
            "border": null,
            "bottom": null,
            "display": null,
            "flex": null,
            "flex_flow": null,
            "grid_area": null,
            "grid_auto_columns": null,
            "grid_auto_flow": null,
            "grid_auto_rows": null,
            "grid_column": null,
            "grid_gap": null,
            "grid_row": null,
            "grid_template_areas": null,
            "grid_template_columns": null,
            "grid_template_rows": null,
            "height": null,
            "justify_content": null,
            "justify_items": null,
            "left": null,
            "margin": null,
            "max_height": null,
            "max_width": null,
            "min_height": null,
            "min_width": null,
            "object_fit": null,
            "object_position": null,
            "order": null,
            "overflow": null,
            "overflow_x": null,
            "overflow_y": null,
            "padding": null,
            "right": null,
            "top": null,
            "visibility": null,
            "width": null
          }
        },
        "c740c794514c40f185a33aabe573163c": {
          "model_module": "@jupyter-widgets/base",
          "model_name": "LayoutModel",
          "model_module_version": "1.2.0",
          "state": {
            "_model_module": "@jupyter-widgets/base",
            "_model_module_version": "1.2.0",
            "_model_name": "LayoutModel",
            "_view_count": null,
            "_view_module": "@jupyter-widgets/base",
            "_view_module_version": "1.2.0",
            "_view_name": "LayoutView",
            "align_content": null,
            "align_items": null,
            "align_self": null,
            "border": null,
            "bottom": null,
            "display": null,
            "flex": null,
            "flex_flow": null,
            "grid_area": null,
            "grid_auto_columns": null,
            "grid_auto_flow": null,
            "grid_auto_rows": null,
            "grid_column": null,
            "grid_gap": null,
            "grid_row": null,
            "grid_template_areas": null,
            "grid_template_columns": null,
            "grid_template_rows": null,
            "height": null,
            "justify_content": null,
            "justify_items": null,
            "left": null,
            "margin": null,
            "max_height": null,
            "max_width": null,
            "min_height": null,
            "min_width": null,
            "object_fit": null,
            "object_position": null,
            "order": null,
            "overflow": null,
            "overflow_x": null,
            "overflow_y": null,
            "padding": null,
            "right": null,
            "top": null,
            "visibility": null,
            "width": null
          }
        },
        "b2dbc4af0de54edab3fddcae1ce08f6f": {
          "model_module": "@jupyter-widgets/controls",
          "model_name": "DescriptionStyleModel",
          "model_module_version": "1.5.0",
          "state": {
            "_model_module": "@jupyter-widgets/controls",
            "_model_module_version": "1.5.0",
            "_model_name": "DescriptionStyleModel",
            "_view_count": null,
            "_view_module": "@jupyter-widgets/base",
            "_view_module_version": "1.2.0",
            "_view_name": "StyleView",
            "description_width": ""
          }
        },
        "7561b0e8af864c2baef9ece410e36c21": {
          "model_module": "@jupyter-widgets/base",
          "model_name": "LayoutModel",
          "model_module_version": "1.2.0",
          "state": {
            "_model_module": "@jupyter-widgets/base",
            "_model_module_version": "1.2.0",
            "_model_name": "LayoutModel",
            "_view_count": null,
            "_view_module": "@jupyter-widgets/base",
            "_view_module_version": "1.2.0",
            "_view_name": "LayoutView",
            "align_content": null,
            "align_items": null,
            "align_self": null,
            "border": null,
            "bottom": null,
            "display": null,
            "flex": null,
            "flex_flow": null,
            "grid_area": null,
            "grid_auto_columns": null,
            "grid_auto_flow": null,
            "grid_auto_rows": null,
            "grid_column": null,
            "grid_gap": null,
            "grid_row": null,
            "grid_template_areas": null,
            "grid_template_columns": null,
            "grid_template_rows": null,
            "height": null,
            "justify_content": null,
            "justify_items": null,
            "left": null,
            "margin": null,
            "max_height": null,
            "max_width": null,
            "min_height": null,
            "min_width": null,
            "object_fit": null,
            "object_position": null,
            "order": null,
            "overflow": null,
            "overflow_x": null,
            "overflow_y": null,
            "padding": null,
            "right": null,
            "top": null,
            "visibility": null,
            "width": null
          }
        },
        "b1e278c1b6ad4be9b37a42b92b590721": {
          "model_module": "@jupyter-widgets/controls",
          "model_name": "ProgressStyleModel",
          "model_module_version": "1.5.0",
          "state": {
            "_model_module": "@jupyter-widgets/controls",
            "_model_module_version": "1.5.0",
            "_model_name": "ProgressStyleModel",
            "_view_count": null,
            "_view_module": "@jupyter-widgets/base",
            "_view_module_version": "1.2.0",
            "_view_name": "StyleView",
            "bar_color": null,
            "description_width": ""
          }
        },
        "b874556ddaeb40728294ddc09b25b219": {
          "model_module": "@jupyter-widgets/base",
          "model_name": "LayoutModel",
          "model_module_version": "1.2.0",
          "state": {
            "_model_module": "@jupyter-widgets/base",
            "_model_module_version": "1.2.0",
            "_model_name": "LayoutModel",
            "_view_count": null,
            "_view_module": "@jupyter-widgets/base",
            "_view_module_version": "1.2.0",
            "_view_name": "LayoutView",
            "align_content": null,
            "align_items": null,
            "align_self": null,
            "border": null,
            "bottom": null,
            "display": null,
            "flex": null,
            "flex_flow": null,
            "grid_area": null,
            "grid_auto_columns": null,
            "grid_auto_flow": null,
            "grid_auto_rows": null,
            "grid_column": null,
            "grid_gap": null,
            "grid_row": null,
            "grid_template_areas": null,
            "grid_template_columns": null,
            "grid_template_rows": null,
            "height": null,
            "justify_content": null,
            "justify_items": null,
            "left": null,
            "margin": null,
            "max_height": null,
            "max_width": null,
            "min_height": null,
            "min_width": null,
            "object_fit": null,
            "object_position": null,
            "order": null,
            "overflow": null,
            "overflow_x": null,
            "overflow_y": null,
            "padding": null,
            "right": null,
            "top": null,
            "visibility": null,
            "width": null
          }
        },
        "17073273f6424885865c78158dd4c9a7": {
          "model_module": "@jupyter-widgets/controls",
          "model_name": "DescriptionStyleModel",
          "model_module_version": "1.5.0",
          "state": {
            "_model_module": "@jupyter-widgets/controls",
            "_model_module_version": "1.5.0",
            "_model_name": "DescriptionStyleModel",
            "_view_count": null,
            "_view_module": "@jupyter-widgets/base",
            "_view_module_version": "1.2.0",
            "_view_name": "StyleView",
            "description_width": ""
          }
        },
        "5e0d086f02e84beca958916a3be57f11": {
          "model_module": "@jupyter-widgets/controls",
          "model_name": "HBoxModel",
          "model_module_version": "1.5.0",
          "state": {
            "_dom_classes": [],
            "_model_module": "@jupyter-widgets/controls",
            "_model_module_version": "1.5.0",
            "_model_name": "HBoxModel",
            "_view_count": null,
            "_view_module": "@jupyter-widgets/controls",
            "_view_module_version": "1.5.0",
            "_view_name": "HBoxView",
            "box_style": "",
            "children": [
              "IPY_MODEL_8dcfcbf57d0f459cafc5f736533dedc7",
              "IPY_MODEL_eb93a152bb2e435cbcfed87f48be5d6b",
              "IPY_MODEL_a6a4aa8d58a34585af99f828aa6ab104"
            ],
            "layout": "IPY_MODEL_50da40939c274abfa3427eab952e7366"
          }
        },
        "8dcfcbf57d0f459cafc5f736533dedc7": {
          "model_module": "@jupyter-widgets/controls",
          "model_name": "HTMLModel",
          "model_module_version": "1.5.0",
          "state": {
            "_dom_classes": [],
            "_model_module": "@jupyter-widgets/controls",
            "_model_module_version": "1.5.0",
            "_model_name": "HTMLModel",
            "_view_count": null,
            "_view_module": "@jupyter-widgets/controls",
            "_view_module_version": "1.5.0",
            "_view_name": "HTMLView",
            "description": "",
            "description_tooltip": null,
            "layout": "IPY_MODEL_7d65eada99f9442a9173b650915ba0b4",
            "placeholder": "​",
            "style": "IPY_MODEL_93df85f0c81845bba39b79b63975b738",
            "value": "config.json: 100%"
          }
        },
        "eb93a152bb2e435cbcfed87f48be5d6b": {
          "model_module": "@jupyter-widgets/controls",
          "model_name": "FloatProgressModel",
          "model_module_version": "1.5.0",
          "state": {
            "_dom_classes": [],
            "_model_module": "@jupyter-widgets/controls",
            "_model_module_version": "1.5.0",
            "_model_name": "FloatProgressModel",
            "_view_count": null,
            "_view_module": "@jupyter-widgets/controls",
            "_view_module_version": "1.5.0",
            "_view_name": "ProgressView",
            "bar_style": "success",
            "description": "",
            "description_tooltip": null,
            "layout": "IPY_MODEL_2a23908d3471422cb048085560c8e418",
            "max": 1091,
            "min": 0,
            "orientation": "horizontal",
            "style": "IPY_MODEL_e55060eb55244f7dbf6680b2dfbbb300",
            "value": 1091
          }
        },
        "a6a4aa8d58a34585af99f828aa6ab104": {
          "model_module": "@jupyter-widgets/controls",
          "model_name": "HTMLModel",
          "model_module_version": "1.5.0",
          "state": {
            "_dom_classes": [],
            "_model_module": "@jupyter-widgets/controls",
            "_model_module_version": "1.5.0",
            "_model_name": "HTMLModel",
            "_view_count": null,
            "_view_module": "@jupyter-widgets/controls",
            "_view_module_version": "1.5.0",
            "_view_name": "HTMLView",
            "description": "",
            "description_tooltip": null,
            "layout": "IPY_MODEL_73f50eef5eb845d99590a18d90a5d33f",
            "placeholder": "​",
            "style": "IPY_MODEL_47353cd4491a455baeda1ced25f9897e",
            "value": " 1.09k/1.09k [00:00&lt;00:00, 105kB/s]"
          }
        },
        "50da40939c274abfa3427eab952e7366": {
          "model_module": "@jupyter-widgets/base",
          "model_name": "LayoutModel",
          "model_module_version": "1.2.0",
          "state": {
            "_model_module": "@jupyter-widgets/base",
            "_model_module_version": "1.2.0",
            "_model_name": "LayoutModel",
            "_view_count": null,
            "_view_module": "@jupyter-widgets/base",
            "_view_module_version": "1.2.0",
            "_view_name": "LayoutView",
            "align_content": null,
            "align_items": null,
            "align_self": null,
            "border": null,
            "bottom": null,
            "display": null,
            "flex": null,
            "flex_flow": null,
            "grid_area": null,
            "grid_auto_columns": null,
            "grid_auto_flow": null,
            "grid_auto_rows": null,
            "grid_column": null,
            "grid_gap": null,
            "grid_row": null,
            "grid_template_areas": null,
            "grid_template_columns": null,
            "grid_template_rows": null,
            "height": null,
            "justify_content": null,
            "justify_items": null,
            "left": null,
            "margin": null,
            "max_height": null,
            "max_width": null,
            "min_height": null,
            "min_width": null,
            "object_fit": null,
            "object_position": null,
            "order": null,
            "overflow": null,
            "overflow_x": null,
            "overflow_y": null,
            "padding": null,
            "right": null,
            "top": null,
            "visibility": null,
            "width": null
          }
        },
        "7d65eada99f9442a9173b650915ba0b4": {
          "model_module": "@jupyter-widgets/base",
          "model_name": "LayoutModel",
          "model_module_version": "1.2.0",
          "state": {
            "_model_module": "@jupyter-widgets/base",
            "_model_module_version": "1.2.0",
            "_model_name": "LayoutModel",
            "_view_count": null,
            "_view_module": "@jupyter-widgets/base",
            "_view_module_version": "1.2.0",
            "_view_name": "LayoutView",
            "align_content": null,
            "align_items": null,
            "align_self": null,
            "border": null,
            "bottom": null,
            "display": null,
            "flex": null,
            "flex_flow": null,
            "grid_area": null,
            "grid_auto_columns": null,
            "grid_auto_flow": null,
            "grid_auto_rows": null,
            "grid_column": null,
            "grid_gap": null,
            "grid_row": null,
            "grid_template_areas": null,
            "grid_template_columns": null,
            "grid_template_rows": null,
            "height": null,
            "justify_content": null,
            "justify_items": null,
            "left": null,
            "margin": null,
            "max_height": null,
            "max_width": null,
            "min_height": null,
            "min_width": null,
            "object_fit": null,
            "object_position": null,
            "order": null,
            "overflow": null,
            "overflow_x": null,
            "overflow_y": null,
            "padding": null,
            "right": null,
            "top": null,
            "visibility": null,
            "width": null
          }
        },
        "93df85f0c81845bba39b79b63975b738": {
          "model_module": "@jupyter-widgets/controls",
          "model_name": "DescriptionStyleModel",
          "model_module_version": "1.5.0",
          "state": {
            "_model_module": "@jupyter-widgets/controls",
            "_model_module_version": "1.5.0",
            "_model_name": "DescriptionStyleModel",
            "_view_count": null,
            "_view_module": "@jupyter-widgets/base",
            "_view_module_version": "1.2.0",
            "_view_name": "StyleView",
            "description_width": ""
          }
        },
        "2a23908d3471422cb048085560c8e418": {
          "model_module": "@jupyter-widgets/base",
          "model_name": "LayoutModel",
          "model_module_version": "1.2.0",
          "state": {
            "_model_module": "@jupyter-widgets/base",
            "_model_module_version": "1.2.0",
            "_model_name": "LayoutModel",
            "_view_count": null,
            "_view_module": "@jupyter-widgets/base",
            "_view_module_version": "1.2.0",
            "_view_name": "LayoutView",
            "align_content": null,
            "align_items": null,
            "align_self": null,
            "border": null,
            "bottom": null,
            "display": null,
            "flex": null,
            "flex_flow": null,
            "grid_area": null,
            "grid_auto_columns": null,
            "grid_auto_flow": null,
            "grid_auto_rows": null,
            "grid_column": null,
            "grid_gap": null,
            "grid_row": null,
            "grid_template_areas": null,
            "grid_template_columns": null,
            "grid_template_rows": null,
            "height": null,
            "justify_content": null,
            "justify_items": null,
            "left": null,
            "margin": null,
            "max_height": null,
            "max_width": null,
            "min_height": null,
            "min_width": null,
            "object_fit": null,
            "object_position": null,
            "order": null,
            "overflow": null,
            "overflow_x": null,
            "overflow_y": null,
            "padding": null,
            "right": null,
            "top": null,
            "visibility": null,
            "width": null
          }
        },
        "e55060eb55244f7dbf6680b2dfbbb300": {
          "model_module": "@jupyter-widgets/controls",
          "model_name": "ProgressStyleModel",
          "model_module_version": "1.5.0",
          "state": {
            "_model_module": "@jupyter-widgets/controls",
            "_model_module_version": "1.5.0",
            "_model_name": "ProgressStyleModel",
            "_view_count": null,
            "_view_module": "@jupyter-widgets/base",
            "_view_module_version": "1.2.0",
            "_view_name": "StyleView",
            "bar_color": null,
            "description_width": ""
          }
        },
        "73f50eef5eb845d99590a18d90a5d33f": {
          "model_module": "@jupyter-widgets/base",
          "model_name": "LayoutModel",
          "model_module_version": "1.2.0",
          "state": {
            "_model_module": "@jupyter-widgets/base",
            "_model_module_version": "1.2.0",
            "_model_name": "LayoutModel",
            "_view_count": null,
            "_view_module": "@jupyter-widgets/base",
            "_view_module_version": "1.2.0",
            "_view_name": "LayoutView",
            "align_content": null,
            "align_items": null,
            "align_self": null,
            "border": null,
            "bottom": null,
            "display": null,
            "flex": null,
            "flex_flow": null,
            "grid_area": null,
            "grid_auto_columns": null,
            "grid_auto_flow": null,
            "grid_auto_rows": null,
            "grid_column": null,
            "grid_gap": null,
            "grid_row": null,
            "grid_template_areas": null,
            "grid_template_columns": null,
            "grid_template_rows": null,
            "height": null,
            "justify_content": null,
            "justify_items": null,
            "left": null,
            "margin": null,
            "max_height": null,
            "max_width": null,
            "min_height": null,
            "min_width": null,
            "object_fit": null,
            "object_position": null,
            "order": null,
            "overflow": null,
            "overflow_x": null,
            "overflow_y": null,
            "padding": null,
            "right": null,
            "top": null,
            "visibility": null,
            "width": null
          }
        },
        "47353cd4491a455baeda1ced25f9897e": {
          "model_module": "@jupyter-widgets/controls",
          "model_name": "DescriptionStyleModel",
          "model_module_version": "1.5.0",
          "state": {
            "_model_module": "@jupyter-widgets/controls",
            "_model_module_version": "1.5.0",
            "_model_name": "DescriptionStyleModel",
            "_view_count": null,
            "_view_module": "@jupyter-widgets/base",
            "_view_module_version": "1.2.0",
            "_view_name": "StyleView",
            "description_width": ""
          }
        },
        "eeb615c4c415447f98b1e152c48cc711": {
          "model_module": "@jupyter-widgets/controls",
          "model_name": "HBoxModel",
          "model_module_version": "1.5.0",
          "state": {
            "_dom_classes": [],
            "_model_module": "@jupyter-widgets/controls",
            "_model_module_version": "1.5.0",
            "_model_name": "HBoxModel",
            "_view_count": null,
            "_view_module": "@jupyter-widgets/controls",
            "_view_module_version": "1.5.0",
            "_view_name": "HBoxView",
            "box_style": "",
            "children": [
              "IPY_MODEL_7b382664af4d48bdb2365df0950993d0",
              "IPY_MODEL_133f08bb5ca542dc99f8f67350be8ca8",
              "IPY_MODEL_13ffa3c5140e42bb827f26dbf7cd42ab"
            ],
            "layout": "IPY_MODEL_903601db140640d0aa1e362e5a1fa2a5"
          }
        },
        "7b382664af4d48bdb2365df0950993d0": {
          "model_module": "@jupyter-widgets/controls",
          "model_name": "HTMLModel",
          "model_module_version": "1.5.0",
          "state": {
            "_dom_classes": [],
            "_model_module": "@jupyter-widgets/controls",
            "_model_module_version": "1.5.0",
            "_model_name": "HTMLModel",
            "_view_count": null,
            "_view_module": "@jupyter-widgets/controls",
            "_view_module_version": "1.5.0",
            "_view_name": "HTMLView",
            "description": "",
            "description_tooltip": null,
            "layout": "IPY_MODEL_44f8a6dfe0c742ad857b16db5a19aa3a",
            "placeholder": "​",
            "style": "IPY_MODEL_6b6b6d3f31404893836f8769946074c5",
            "value": "modeling_plamo.py: 100%"
          }
        },
        "133f08bb5ca542dc99f8f67350be8ca8": {
          "model_module": "@jupyter-widgets/controls",
          "model_name": "FloatProgressModel",
          "model_module_version": "1.5.0",
          "state": {
            "_dom_classes": [],
            "_model_module": "@jupyter-widgets/controls",
            "_model_module_version": "1.5.0",
            "_model_name": "FloatProgressModel",
            "_view_count": null,
            "_view_module": "@jupyter-widgets/controls",
            "_view_module_version": "1.5.0",
            "_view_name": "ProgressView",
            "bar_style": "success",
            "description": "",
            "description_tooltip": null,
            "layout": "IPY_MODEL_1c85f27c94d545cfbe841384a7a6b3d2",
            "max": 38930,
            "min": 0,
            "orientation": "horizontal",
            "style": "IPY_MODEL_a10f3cec706246babf4596248b880784",
            "value": 38930
          }
        },
        "13ffa3c5140e42bb827f26dbf7cd42ab": {
          "model_module": "@jupyter-widgets/controls",
          "model_name": "HTMLModel",
          "model_module_version": "1.5.0",
          "state": {
            "_dom_classes": [],
            "_model_module": "@jupyter-widgets/controls",
            "_model_module_version": "1.5.0",
            "_model_name": "HTMLModel",
            "_view_count": null,
            "_view_module": "@jupyter-widgets/controls",
            "_view_module_version": "1.5.0",
            "_view_name": "HTMLView",
            "description": "",
            "description_tooltip": null,
            "layout": "IPY_MODEL_1ae2ec06e388403fb71fc59c0ab5841c",
            "placeholder": "​",
            "style": "IPY_MODEL_cfda0a46ce4749b58595eece0d9885db",
            "value": " 38.9k/38.9k [00:00&lt;00:00, 2.11MB/s]"
          }
        },
        "903601db140640d0aa1e362e5a1fa2a5": {
          "model_module": "@jupyter-widgets/base",
          "model_name": "LayoutModel",
          "model_module_version": "1.2.0",
          "state": {
            "_model_module": "@jupyter-widgets/base",
            "_model_module_version": "1.2.0",
            "_model_name": "LayoutModel",
            "_view_count": null,
            "_view_module": "@jupyter-widgets/base",
            "_view_module_version": "1.2.0",
            "_view_name": "LayoutView",
            "align_content": null,
            "align_items": null,
            "align_self": null,
            "border": null,
            "bottom": null,
            "display": null,
            "flex": null,
            "flex_flow": null,
            "grid_area": null,
            "grid_auto_columns": null,
            "grid_auto_flow": null,
            "grid_auto_rows": null,
            "grid_column": null,
            "grid_gap": null,
            "grid_row": null,
            "grid_template_areas": null,
            "grid_template_columns": null,
            "grid_template_rows": null,
            "height": null,
            "justify_content": null,
            "justify_items": null,
            "left": null,
            "margin": null,
            "max_height": null,
            "max_width": null,
            "min_height": null,
            "min_width": null,
            "object_fit": null,
            "object_position": null,
            "order": null,
            "overflow": null,
            "overflow_x": null,
            "overflow_y": null,
            "padding": null,
            "right": null,
            "top": null,
            "visibility": null,
            "width": null
          }
        },
        "44f8a6dfe0c742ad857b16db5a19aa3a": {
          "model_module": "@jupyter-widgets/base",
          "model_name": "LayoutModel",
          "model_module_version": "1.2.0",
          "state": {
            "_model_module": "@jupyter-widgets/base",
            "_model_module_version": "1.2.0",
            "_model_name": "LayoutModel",
            "_view_count": null,
            "_view_module": "@jupyter-widgets/base",
            "_view_module_version": "1.2.0",
            "_view_name": "LayoutView",
            "align_content": null,
            "align_items": null,
            "align_self": null,
            "border": null,
            "bottom": null,
            "display": null,
            "flex": null,
            "flex_flow": null,
            "grid_area": null,
            "grid_auto_columns": null,
            "grid_auto_flow": null,
            "grid_auto_rows": null,
            "grid_column": null,
            "grid_gap": null,
            "grid_row": null,
            "grid_template_areas": null,
            "grid_template_columns": null,
            "grid_template_rows": null,
            "height": null,
            "justify_content": null,
            "justify_items": null,
            "left": null,
            "margin": null,
            "max_height": null,
            "max_width": null,
            "min_height": null,
            "min_width": null,
            "object_fit": null,
            "object_position": null,
            "order": null,
            "overflow": null,
            "overflow_x": null,
            "overflow_y": null,
            "padding": null,
            "right": null,
            "top": null,
            "visibility": null,
            "width": null
          }
        },
        "6b6b6d3f31404893836f8769946074c5": {
          "model_module": "@jupyter-widgets/controls",
          "model_name": "DescriptionStyleModel",
          "model_module_version": "1.5.0",
          "state": {
            "_model_module": "@jupyter-widgets/controls",
            "_model_module_version": "1.5.0",
            "_model_name": "DescriptionStyleModel",
            "_view_count": null,
            "_view_module": "@jupyter-widgets/base",
            "_view_module_version": "1.2.0",
            "_view_name": "StyleView",
            "description_width": ""
          }
        },
        "1c85f27c94d545cfbe841384a7a6b3d2": {
          "model_module": "@jupyter-widgets/base",
          "model_name": "LayoutModel",
          "model_module_version": "1.2.0",
          "state": {
            "_model_module": "@jupyter-widgets/base",
            "_model_module_version": "1.2.0",
            "_model_name": "LayoutModel",
            "_view_count": null,
            "_view_module": "@jupyter-widgets/base",
            "_view_module_version": "1.2.0",
            "_view_name": "LayoutView",
            "align_content": null,
            "align_items": null,
            "align_self": null,
            "border": null,
            "bottom": null,
            "display": null,
            "flex": null,
            "flex_flow": null,
            "grid_area": null,
            "grid_auto_columns": null,
            "grid_auto_flow": null,
            "grid_auto_rows": null,
            "grid_column": null,
            "grid_gap": null,
            "grid_row": null,
            "grid_template_areas": null,
            "grid_template_columns": null,
            "grid_template_rows": null,
            "height": null,
            "justify_content": null,
            "justify_items": null,
            "left": null,
            "margin": null,
            "max_height": null,
            "max_width": null,
            "min_height": null,
            "min_width": null,
            "object_fit": null,
            "object_position": null,
            "order": null,
            "overflow": null,
            "overflow_x": null,
            "overflow_y": null,
            "padding": null,
            "right": null,
            "top": null,
            "visibility": null,
            "width": null
          }
        },
        "a10f3cec706246babf4596248b880784": {
          "model_module": "@jupyter-widgets/controls",
          "model_name": "ProgressStyleModel",
          "model_module_version": "1.5.0",
          "state": {
            "_model_module": "@jupyter-widgets/controls",
            "_model_module_version": "1.5.0",
            "_model_name": "ProgressStyleModel",
            "_view_count": null,
            "_view_module": "@jupyter-widgets/base",
            "_view_module_version": "1.2.0",
            "_view_name": "StyleView",
            "bar_color": null,
            "description_width": ""
          }
        },
        "1ae2ec06e388403fb71fc59c0ab5841c": {
          "model_module": "@jupyter-widgets/base",
          "model_name": "LayoutModel",
          "model_module_version": "1.2.0",
          "state": {
            "_model_module": "@jupyter-widgets/base",
            "_model_module_version": "1.2.0",
            "_model_name": "LayoutModel",
            "_view_count": null,
            "_view_module": "@jupyter-widgets/base",
            "_view_module_version": "1.2.0",
            "_view_name": "LayoutView",
            "align_content": null,
            "align_items": null,
            "align_self": null,
            "border": null,
            "bottom": null,
            "display": null,
            "flex": null,
            "flex_flow": null,
            "grid_area": null,
            "grid_auto_columns": null,
            "grid_auto_flow": null,
            "grid_auto_rows": null,
            "grid_column": null,
            "grid_gap": null,
            "grid_row": null,
            "grid_template_areas": null,
            "grid_template_columns": null,
            "grid_template_rows": null,
            "height": null,
            "justify_content": null,
            "justify_items": null,
            "left": null,
            "margin": null,
            "max_height": null,
            "max_width": null,
            "min_height": null,
            "min_width": null,
            "object_fit": null,
            "object_position": null,
            "order": null,
            "overflow": null,
            "overflow_x": null,
            "overflow_y": null,
            "padding": null,
            "right": null,
            "top": null,
            "visibility": null,
            "width": null
          }
        },
        "cfda0a46ce4749b58595eece0d9885db": {
          "model_module": "@jupyter-widgets/controls",
          "model_name": "DescriptionStyleModel",
          "model_module_version": "1.5.0",
          "state": {
            "_model_module": "@jupyter-widgets/controls",
            "_model_module_version": "1.5.0",
            "_model_name": "DescriptionStyleModel",
            "_view_count": null,
            "_view_module": "@jupyter-widgets/base",
            "_view_module_version": "1.2.0",
            "_view_name": "StyleView",
            "description_width": ""
          }
        },
        "b7e99d1c8ede4746a4b6689ebc9e8042": {
          "model_module": "@jupyter-widgets/controls",
          "model_name": "HBoxModel",
          "model_module_version": "1.5.0",
          "state": {
            "_dom_classes": [],
            "_model_module": "@jupyter-widgets/controls",
            "_model_module_version": "1.5.0",
            "_model_name": "HBoxModel",
            "_view_count": null,
            "_view_module": "@jupyter-widgets/controls",
            "_view_module_version": "1.5.0",
            "_view_name": "HBoxView",
            "box_style": "",
            "children": [
              "IPY_MODEL_9399ac8b51a0454d9eebfd70da46b153",
              "IPY_MODEL_a09f1bb70a7f43d2aaef3ba1b91e2a43",
              "IPY_MODEL_a553b3f28737473f941f5b12a20d7083"
            ],
            "layout": "IPY_MODEL_187eb8e866324697b9f8c5b9bf49e9cf"
          }
        },
        "9399ac8b51a0454d9eebfd70da46b153": {
          "model_module": "@jupyter-widgets/controls",
          "model_name": "HTMLModel",
          "model_module_version": "1.5.0",
          "state": {
            "_dom_classes": [],
            "_model_module": "@jupyter-widgets/controls",
            "_model_module_version": "1.5.0",
            "_model_name": "HTMLModel",
            "_view_count": null,
            "_view_module": "@jupyter-widgets/controls",
            "_view_module_version": "1.5.0",
            "_view_name": "HTMLView",
            "description": "",
            "description_tooltip": null,
            "layout": "IPY_MODEL_d05bc22d0fe9421f8d9d03479df7093e",
            "placeholder": "​",
            "style": "IPY_MODEL_c953a029fb0e45f8946b12c9bac108cc",
            "value": "model.safetensors: 100%"
          }
        },
        "a09f1bb70a7f43d2aaef3ba1b91e2a43": {
          "model_module": "@jupyter-widgets/controls",
          "model_name": "FloatProgressModel",
          "model_module_version": "1.5.0",
          "state": {
            "_dom_classes": [],
            "_model_module": "@jupyter-widgets/controls",
            "_model_module_version": "1.5.0",
            "_model_name": "FloatProgressModel",
            "_view_count": null,
            "_view_module": "@jupyter-widgets/controls",
            "_view_module_version": "1.5.0",
            "_view_name": "ProgressView",
            "bar_style": "success",
            "description": "",
            "description_tooltip": null,
            "layout": "IPY_MODEL_cfeb79801ac6483a9e0634efaae4e69a",
            "max": 2101303432,
            "min": 0,
            "orientation": "horizontal",
            "style": "IPY_MODEL_9f0c2b7053b746f48cd0286a275077da",
            "value": 2101303432
          }
        },
        "a553b3f28737473f941f5b12a20d7083": {
          "model_module": "@jupyter-widgets/controls",
          "model_name": "HTMLModel",
          "model_module_version": "1.5.0",
          "state": {
            "_dom_classes": [],
            "_model_module": "@jupyter-widgets/controls",
            "_model_module_version": "1.5.0",
            "_model_name": "HTMLModel",
            "_view_count": null,
            "_view_module": "@jupyter-widgets/controls",
            "_view_module_version": "1.5.0",
            "_view_name": "HTMLView",
            "description": "",
            "description_tooltip": null,
            "layout": "IPY_MODEL_db272eb1b8744c86b540e1c84fd49bff",
            "placeholder": "​",
            "style": "IPY_MODEL_10d61c6a708349768b549f0243634ef3",
            "value": " 2.10G/2.10G [00:26&lt;00:00, 231MB/s]"
          }
        },
        "187eb8e866324697b9f8c5b9bf49e9cf": {
          "model_module": "@jupyter-widgets/base",
          "model_name": "LayoutModel",
          "model_module_version": "1.2.0",
          "state": {
            "_model_module": "@jupyter-widgets/base",
            "_model_module_version": "1.2.0",
            "_model_name": "LayoutModel",
            "_view_count": null,
            "_view_module": "@jupyter-widgets/base",
            "_view_module_version": "1.2.0",
            "_view_name": "LayoutView",
            "align_content": null,
            "align_items": null,
            "align_self": null,
            "border": null,
            "bottom": null,
            "display": null,
            "flex": null,
            "flex_flow": null,
            "grid_area": null,
            "grid_auto_columns": null,
            "grid_auto_flow": null,
            "grid_auto_rows": null,
            "grid_column": null,
            "grid_gap": null,
            "grid_row": null,
            "grid_template_areas": null,
            "grid_template_columns": null,
            "grid_template_rows": null,
            "height": null,
            "justify_content": null,
            "justify_items": null,
            "left": null,
            "margin": null,
            "max_height": null,
            "max_width": null,
            "min_height": null,
            "min_width": null,
            "object_fit": null,
            "object_position": null,
            "order": null,
            "overflow": null,
            "overflow_x": null,
            "overflow_y": null,
            "padding": null,
            "right": null,
            "top": null,
            "visibility": null,
            "width": null
          }
        },
        "d05bc22d0fe9421f8d9d03479df7093e": {
          "model_module": "@jupyter-widgets/base",
          "model_name": "LayoutModel",
          "model_module_version": "1.2.0",
          "state": {
            "_model_module": "@jupyter-widgets/base",
            "_model_module_version": "1.2.0",
            "_model_name": "LayoutModel",
            "_view_count": null,
            "_view_module": "@jupyter-widgets/base",
            "_view_module_version": "1.2.0",
            "_view_name": "LayoutView",
            "align_content": null,
            "align_items": null,
            "align_self": null,
            "border": null,
            "bottom": null,
            "display": null,
            "flex": null,
            "flex_flow": null,
            "grid_area": null,
            "grid_auto_columns": null,
            "grid_auto_flow": null,
            "grid_auto_rows": null,
            "grid_column": null,
            "grid_gap": null,
            "grid_row": null,
            "grid_template_areas": null,
            "grid_template_columns": null,
            "grid_template_rows": null,
            "height": null,
            "justify_content": null,
            "justify_items": null,
            "left": null,
            "margin": null,
            "max_height": null,
            "max_width": null,
            "min_height": null,
            "min_width": null,
            "object_fit": null,
            "object_position": null,
            "order": null,
            "overflow": null,
            "overflow_x": null,
            "overflow_y": null,
            "padding": null,
            "right": null,
            "top": null,
            "visibility": null,
            "width": null
          }
        },
        "c953a029fb0e45f8946b12c9bac108cc": {
          "model_module": "@jupyter-widgets/controls",
          "model_name": "DescriptionStyleModel",
          "model_module_version": "1.5.0",
          "state": {
            "_model_module": "@jupyter-widgets/controls",
            "_model_module_version": "1.5.0",
            "_model_name": "DescriptionStyleModel",
            "_view_count": null,
            "_view_module": "@jupyter-widgets/base",
            "_view_module_version": "1.2.0",
            "_view_name": "StyleView",
            "description_width": ""
          }
        },
        "cfeb79801ac6483a9e0634efaae4e69a": {
          "model_module": "@jupyter-widgets/base",
          "model_name": "LayoutModel",
          "model_module_version": "1.2.0",
          "state": {
            "_model_module": "@jupyter-widgets/base",
            "_model_module_version": "1.2.0",
            "_model_name": "LayoutModel",
            "_view_count": null,
            "_view_module": "@jupyter-widgets/base",
            "_view_module_version": "1.2.0",
            "_view_name": "LayoutView",
            "align_content": null,
            "align_items": null,
            "align_self": null,
            "border": null,
            "bottom": null,
            "display": null,
            "flex": null,
            "flex_flow": null,
            "grid_area": null,
            "grid_auto_columns": null,
            "grid_auto_flow": null,
            "grid_auto_rows": null,
            "grid_column": null,
            "grid_gap": null,
            "grid_row": null,
            "grid_template_areas": null,
            "grid_template_columns": null,
            "grid_template_rows": null,
            "height": null,
            "justify_content": null,
            "justify_items": null,
            "left": null,
            "margin": null,
            "max_height": null,
            "max_width": null,
            "min_height": null,
            "min_width": null,
            "object_fit": null,
            "object_position": null,
            "order": null,
            "overflow": null,
            "overflow_x": null,
            "overflow_y": null,
            "padding": null,
            "right": null,
            "top": null,
            "visibility": null,
            "width": null
          }
        },
        "9f0c2b7053b746f48cd0286a275077da": {
          "model_module": "@jupyter-widgets/controls",
          "model_name": "ProgressStyleModel",
          "model_module_version": "1.5.0",
          "state": {
            "_model_module": "@jupyter-widgets/controls",
            "_model_module_version": "1.5.0",
            "_model_name": "ProgressStyleModel",
            "_view_count": null,
            "_view_module": "@jupyter-widgets/base",
            "_view_module_version": "1.2.0",
            "_view_name": "StyleView",
            "bar_color": null,
            "description_width": ""
          }
        },
        "db272eb1b8744c86b540e1c84fd49bff": {
          "model_module": "@jupyter-widgets/base",
          "model_name": "LayoutModel",
          "model_module_version": "1.2.0",
          "state": {
            "_model_module": "@jupyter-widgets/base",
            "_model_module_version": "1.2.0",
            "_model_name": "LayoutModel",
            "_view_count": null,
            "_view_module": "@jupyter-widgets/base",
            "_view_module_version": "1.2.0",
            "_view_name": "LayoutView",
            "align_content": null,
            "align_items": null,
            "align_self": null,
            "border": null,
            "bottom": null,
            "display": null,
            "flex": null,
            "flex_flow": null,
            "grid_area": null,
            "grid_auto_columns": null,
            "grid_auto_flow": null,
            "grid_auto_rows": null,
            "grid_column": null,
            "grid_gap": null,
            "grid_row": null,
            "grid_template_areas": null,
            "grid_template_columns": null,
            "grid_template_rows": null,
            "height": null,
            "justify_content": null,
            "justify_items": null,
            "left": null,
            "margin": null,
            "max_height": null,
            "max_width": null,
            "min_height": null,
            "min_width": null,
            "object_fit": null,
            "object_position": null,
            "order": null,
            "overflow": null,
            "overflow_x": null,
            "overflow_y": null,
            "padding": null,
            "right": null,
            "top": null,
            "visibility": null,
            "width": null
          }
        },
        "10d61c6a708349768b549f0243634ef3": {
          "model_module": "@jupyter-widgets/controls",
          "model_name": "DescriptionStyleModel",
          "model_module_version": "1.5.0",
          "state": {
            "_model_module": "@jupyter-widgets/controls",
            "_model_module_version": "1.5.0",
            "_model_name": "DescriptionStyleModel",
            "_view_count": null,
            "_view_module": "@jupyter-widgets/base",
            "_view_module_version": "1.2.0",
            "_view_name": "StyleView",
            "description_width": ""
          }
        }
      }
    }
  },
  "cells": [
    {
      "cell_type": "markdown",
      "source": [
        "## セットアップ"
      ],
      "metadata": {
        "id": "uK8_mPOvkIkB"
      }
    },
    {
      "cell_type": "code",
      "source": [
        "!pip install -q transformers sentencepiece sentence-transformers \\\n",
        "    torch faiss-cpu datasets scipy scikit-learn numpy"
      ],
      "metadata": {
        "collapsed": true,
        "id": "zROGcjgkhibp",
        "outputId": "fd036975-47d4-43ee-f97a-ce5f83a6a3e5",
        "colab": {
          "base_uri": "https://localhost:8080/"
        }
      },
      "execution_count": 1,
      "outputs": [
        {
          "output_type": "stream",
          "name": "stdout",
          "text": [
            "\u001b[2K   \u001b[90m━━━━━━━━━━━━━━━━━━━━━━━━━━━━━━━━━━━━━━━━\u001b[0m \u001b[32m363.4/363.4 MB\u001b[0m \u001b[31m4.2 MB/s\u001b[0m eta \u001b[36m0:00:00\u001b[0m\n",
            "\u001b[2K   \u001b[90m━━━━━━━━━━━━━━━━━━━━━━━━━━━━━━━━━━━━━━━━\u001b[0m \u001b[32m13.8/13.8 MB\u001b[0m \u001b[31m23.1 MB/s\u001b[0m eta \u001b[36m0:00:00\u001b[0m\n",
            "\u001b[2K   \u001b[90m━━━━━━━━━━━━━━━━━━━━━━━━━━━━━━━━━━━━━━━━\u001b[0m \u001b[32m24.6/24.6 MB\u001b[0m \u001b[31m34.3 MB/s\u001b[0m eta \u001b[36m0:00:00\u001b[0m\n",
            "\u001b[2K   \u001b[90m━━━━━━━━━━━━━━━━━━━━━━━━━━━━━━━━━━━━━━━━\u001b[0m \u001b[32m883.7/883.7 kB\u001b[0m \u001b[31m46.3 MB/s\u001b[0m eta \u001b[36m0:00:00\u001b[0m\n",
            "\u001b[2K   \u001b[90m━━━━━━━━━━━━━━━━━━━━━━━━━━━━━━━━━━━━━━━━\u001b[0m \u001b[32m664.8/664.8 MB\u001b[0m \u001b[31m2.6 MB/s\u001b[0m eta \u001b[36m0:00:00\u001b[0m\n",
            "\u001b[2K   \u001b[90m━━━━━━━━━━━━━━━━━━━━━━━━━━━━━━━━━━━━━━━━\u001b[0m \u001b[32m211.5/211.5 MB\u001b[0m \u001b[31m6.1 MB/s\u001b[0m eta \u001b[36m0:00:00\u001b[0m\n",
            "\u001b[2K   \u001b[90m━━━━━━━━━━━━━━━━━━━━━━━━━━━━━━━━━━━━━━━━\u001b[0m \u001b[32m56.3/56.3 MB\u001b[0m \u001b[31m13.2 MB/s\u001b[0m eta \u001b[36m0:00:00\u001b[0m\n",
            "\u001b[2K   \u001b[90m━━━━━━━━━━━━━━━━━━━━━━━━━━━━━━━━━━━━━━━━\u001b[0m \u001b[32m127.9/127.9 MB\u001b[0m \u001b[31m7.6 MB/s\u001b[0m eta \u001b[36m0:00:00\u001b[0m\n",
            "\u001b[2K   \u001b[90m━━━━━━━━━━━━━━━━━━━━━━━━━━━━━━━━━━━━━━━━\u001b[0m \u001b[32m207.5/207.5 MB\u001b[0m \u001b[31m5.4 MB/s\u001b[0m eta \u001b[36m0:00:00\u001b[0m\n",
            "\u001b[2K   \u001b[90m━━━━━━━━━━━━━━━━━━━━━━━━━━━━━━━━━━━━━━━━\u001b[0m \u001b[32m21.1/21.1 MB\u001b[0m \u001b[31m42.5 MB/s\u001b[0m eta \u001b[36m0:00:00\u001b[0m\n",
            "\u001b[2K   \u001b[90m━━━━━━━━━━━━━━━━━━━━━━━━━━━━━━━━━━━━━━━━\u001b[0m \u001b[32m31.3/31.3 MB\u001b[0m \u001b[31m49.9 MB/s\u001b[0m eta \u001b[36m0:00:00\u001b[0m\n",
            "\u001b[2K   \u001b[90m━━━━━━━━━━━━━━━━━━━━━━━━━━━━━━━━━━━━━━━━\u001b[0m \u001b[32m491.4/491.4 kB\u001b[0m \u001b[31m31.5 MB/s\u001b[0m eta \u001b[36m0:00:00\u001b[0m\n",
            "\u001b[2K   \u001b[90m━━━━━━━━━━━━━━━━━━━━━━━━━━━━━━━━━━━━━━━━\u001b[0m \u001b[32m116.3/116.3 kB\u001b[0m \u001b[31m11.2 MB/s\u001b[0m eta \u001b[36m0:00:00\u001b[0m\n",
            "\u001b[2K   \u001b[90m━━━━━━━━━━━━━━━━━━━━━━━━━━━━━━━━━━━━━━━━\u001b[0m \u001b[32m193.6/193.6 kB\u001b[0m \u001b[31m17.2 MB/s\u001b[0m eta \u001b[36m0:00:00\u001b[0m\n",
            "\u001b[2K   \u001b[90m━━━━━━━━━━━━━━━━━━━━━━━━━━━━━━━━━━━━━━━━\u001b[0m \u001b[32m143.5/143.5 kB\u001b[0m \u001b[31m14.1 MB/s\u001b[0m eta \u001b[36m0:00:00\u001b[0m\n",
            "\u001b[2K   \u001b[90m━━━━━━━━━━━━━━━━━━━━━━━━━━━━━━━━━━━━━━━━\u001b[0m \u001b[32m194.8/194.8 kB\u001b[0m \u001b[31m16.3 MB/s\u001b[0m eta \u001b[36m0:00:00\u001b[0m\n",
            "\u001b[?25h\u001b[31mERROR: pip's dependency resolver does not currently take into account all the packages that are installed. This behaviour is the source of the following dependency conflicts.\n",
            "gcsfs 2025.3.2 requires fsspec==2025.3.2, but you have fsspec 2025.3.0 which is incompatible.\u001b[0m\u001b[31m\n",
            "\u001b[0m"
          ]
        }
      ]
    },
    {
      "cell_type": "code",
      "source": [
        "# VRAMの環境変数設定\n",
        "import os\n",
        "os.environ[\"PYTORCH_CUDA_ALLOC_CONF\"] = \"expandable_segments:True\""
      ],
      "metadata": {
        "id": "tViCnevuz4T3"
      },
      "execution_count": 2,
      "outputs": []
    },
    {
      "cell_type": "markdown",
      "source": [
        "## モデルの準備"
      ],
      "metadata": {
        "id": "SM2HyEzlnvVD"
      }
    },
    {
      "cell_type": "code",
      "source": [
        "import torch\n",
        "from transformers import AutoModel, AutoTokenizer\n",
        "\n",
        "tokenizer = AutoTokenizer.from_pretrained(\"pfnet/plamo-embedding-1b\", trust_remote_code=True)\n",
        "model = AutoModel.from_pretrained(\"pfnet/plamo-embedding-1b\", trust_remote_code=True)\n",
        "\n",
        "device = \"cuda\" if torch.cuda.is_available() else \"cpu\"\n",
        "model = model.to(device)\n",
        "model.eval()\n"
      ],
      "metadata": {
        "collapsed": true,
        "id": "lg2xD9htitH4",
        "outputId": "c7b00981-e883-4efe-fb79-990817642d53",
        "colab": {
          "base_uri": "https://localhost:8080/",
          "height": 840,
          "referenced_widgets": [
            "c67d30c7b53842119260e9421514f230",
            "869bf9e2b6ce4908a6e7fa12f1929ff0",
            "417b539e1030452494b90b8b8cb99701",
            "4ecf4a088a794ee79072751eb88b02b4",
            "3263de9c8ac34b55a2de8b22a91e2ad7",
            "0da0df3f329149679d02362434877815",
            "2c1c2ec68f36421cb993aee959d90e9f",
            "128b086d981e409691df77ba74005b31",
            "9c0e7adcf43b4f1984478c0a162d67e8",
            "5d2e253ef749415a8756fd956d8d6c6b",
            "6b70a4b885b24a0db786df0ac36b7481",
            "67ac88ba646044ee89f0555afad4f0c3",
            "52b86e926e944f4ebae95bd7e0b37fe0",
            "f721b4e1ebab4cfc95fbadd4c2e8ed1d",
            "5ba6acc1141540bd8716d5d84bac6e91",
            "40521254c1e04cac885301d254db7c27",
            "bb3296f75276476f88002d9b248c07a6",
            "80c82f0f1cc34a7f9a219a8783ed4e54",
            "8585bfa6f5954fa6ae3c7037eabb91d4",
            "fb9fcd8268f24839bfcc46b0b42e75fc",
            "572c79d699564130944b7261d5c3bc0c",
            "fc2eb43294ab4b63840a409fe8c00c13",
            "cabf74f537fd42219d59ebbc507f23b2",
            "6f5da6b0f6bd4294bd7a527eda159ccf",
            "2349b5e5fa9e47dba70e97a7e5d611f7",
            "b82734df64d94c28aa5d8cb9f55dc58e",
            "89d92138e11b4337a1d1343afe9f1e2d",
            "ffced3cdbba3464ab35f08dfff03f74e",
            "c61423e5d0cd477c8b6a16cd4a3eefaf",
            "b866265326a540d3b7329314547090a0",
            "d8d740ef637340f380c4a8b6528c0b01",
            "8bdaf7e581c54c0dae6845ffdf18290a",
            "38c5731ddc1b49bcbb5675f6ba4b0c8c",
            "18bc8a46ddac4afcaef9200e54a2e472",
            "0b76cfa67b1644deb5b9f8040a3a5b70",
            "97584a830a684f02ac66fe2650e2138a",
            "9de72293bc904dc28d6d0dfc1c5c5310",
            "90ae016613504dd6888b63d8c4a822b5",
            "c740c794514c40f185a33aabe573163c",
            "b2dbc4af0de54edab3fddcae1ce08f6f",
            "7561b0e8af864c2baef9ece410e36c21",
            "b1e278c1b6ad4be9b37a42b92b590721",
            "b874556ddaeb40728294ddc09b25b219",
            "17073273f6424885865c78158dd4c9a7",
            "5e0d086f02e84beca958916a3be57f11",
            "8dcfcbf57d0f459cafc5f736533dedc7",
            "eb93a152bb2e435cbcfed87f48be5d6b",
            "a6a4aa8d58a34585af99f828aa6ab104",
            "50da40939c274abfa3427eab952e7366",
            "7d65eada99f9442a9173b650915ba0b4",
            "93df85f0c81845bba39b79b63975b738",
            "2a23908d3471422cb048085560c8e418",
            "e55060eb55244f7dbf6680b2dfbbb300",
            "73f50eef5eb845d99590a18d90a5d33f",
            "47353cd4491a455baeda1ced25f9897e",
            "eeb615c4c415447f98b1e152c48cc711",
            "7b382664af4d48bdb2365df0950993d0",
            "133f08bb5ca542dc99f8f67350be8ca8",
            "13ffa3c5140e42bb827f26dbf7cd42ab",
            "903601db140640d0aa1e362e5a1fa2a5",
            "44f8a6dfe0c742ad857b16db5a19aa3a",
            "6b6b6d3f31404893836f8769946074c5",
            "1c85f27c94d545cfbe841384a7a6b3d2",
            "a10f3cec706246babf4596248b880784",
            "1ae2ec06e388403fb71fc59c0ab5841c",
            "cfda0a46ce4749b58595eece0d9885db",
            "b7e99d1c8ede4746a4b6689ebc9e8042",
            "9399ac8b51a0454d9eebfd70da46b153",
            "a09f1bb70a7f43d2aaef3ba1b91e2a43",
            "a553b3f28737473f941f5b12a20d7083",
            "187eb8e866324697b9f8c5b9bf49e9cf",
            "d05bc22d0fe9421f8d9d03479df7093e",
            "c953a029fb0e45f8946b12c9bac108cc",
            "cfeb79801ac6483a9e0634efaae4e69a",
            "9f0c2b7053b746f48cd0286a275077da",
            "db272eb1b8744c86b540e1c84fd49bff",
            "10d61c6a708349768b549f0243634ef3"
          ]
        }
      },
      "execution_count": 3,
      "outputs": [
        {
          "output_type": "stream",
          "name": "stderr",
          "text": [
            "/usr/local/lib/python3.11/dist-packages/huggingface_hub/utils/_auth.py:94: UserWarning: \n",
            "The secret `HF_TOKEN` does not exist in your Colab secrets.\n",
            "To authenticate with the Hugging Face Hub, create a token in your settings tab (https://huggingface.co/settings/tokens), set it as secret in your Google Colab and restart your session.\n",
            "You will be able to reuse this secret in all of your notebooks.\n",
            "Please note that authentication is recommended but still optional to access public models or datasets.\n",
            "  warnings.warn(\n"
          ]
        },
        {
          "output_type": "display_data",
          "data": {
            "text/plain": [
              "tokenizer_config.json:   0%|          | 0.00/1.30k [00:00<?, ?B/s]"
            ],
            "application/vnd.jupyter.widget-view+json": {
              "version_major": 2,
              "version_minor": 0,
              "model_id": "c67d30c7b53842119260e9421514f230"
            }
          },
          "metadata": {}
        },
        {
          "output_type": "display_data",
          "data": {
            "text/plain": [
              "tokenization_plamo.py:   0%|          | 0.00/7.63k [00:00<?, ?B/s]"
            ],
            "application/vnd.jupyter.widget-view+json": {
              "version_major": 2,
              "version_minor": 0,
              "model_id": "67ac88ba646044ee89f0555afad4f0c3"
            }
          },
          "metadata": {}
        },
        {
          "output_type": "stream",
          "name": "stderr",
          "text": [
            "A new version of the following files was downloaded from https://huggingface.co/pfnet/plamo-embedding-1b:\n",
            "- tokenization_plamo.py\n",
            ". Make sure to double-check they do not contain any added malicious code. To avoid downloading new versions of the code file, you can pin a revision.\n"
          ]
        },
        {
          "output_type": "display_data",
          "data": {
            "text/plain": [
              "tokenizer.model:   0%|          | 0.00/805k [00:00<?, ?B/s]"
            ],
            "application/vnd.jupyter.widget-view+json": {
              "version_major": 2,
              "version_minor": 0,
              "model_id": "cabf74f537fd42219d59ebbc507f23b2"
            }
          },
          "metadata": {}
        },
        {
          "output_type": "display_data",
          "data": {
            "text/plain": [
              "special_tokens_map.json:   0%|          | 0.00/477 [00:00<?, ?B/s]"
            ],
            "application/vnd.jupyter.widget-view+json": {
              "version_major": 2,
              "version_minor": 0,
              "model_id": "18bc8a46ddac4afcaef9200e54a2e472"
            }
          },
          "metadata": {}
        },
        {
          "output_type": "display_data",
          "data": {
            "text/plain": [
              "config.json:   0%|          | 0.00/1.09k [00:00<?, ?B/s]"
            ],
            "application/vnd.jupyter.widget-view+json": {
              "version_major": 2,
              "version_minor": 0,
              "model_id": "5e0d086f02e84beca958916a3be57f11"
            }
          },
          "metadata": {}
        },
        {
          "output_type": "display_data",
          "data": {
            "text/plain": [
              "modeling_plamo.py:   0%|          | 0.00/38.9k [00:00<?, ?B/s]"
            ],
            "application/vnd.jupyter.widget-view+json": {
              "version_major": 2,
              "version_minor": 0,
              "model_id": "eeb615c4c415447f98b1e152c48cc711"
            }
          },
          "metadata": {}
        },
        {
          "output_type": "stream",
          "name": "stderr",
          "text": [
            "A new version of the following files was downloaded from https://huggingface.co/pfnet/plamo-embedding-1b:\n",
            "- modeling_plamo.py\n",
            ". Make sure to double-check they do not contain any added malicious code. To avoid downloading new versions of the code file, you can pin a revision.\n"
          ]
        },
        {
          "output_type": "display_data",
          "data": {
            "text/plain": [
              "model.safetensors:   0%|          | 0.00/2.10G [00:00<?, ?B/s]"
            ],
            "application/vnd.jupyter.widget-view+json": {
              "version_major": 2,
              "version_minor": 0,
              "model_id": "b7e99d1c8ede4746a4b6689ebc9e8042"
            }
          },
          "metadata": {}
        },
        {
          "output_type": "execute_result",
          "data": {
            "text/plain": [
              "PlamoBiModel(\n",
              "  (embed_tokens): Embedding(50112, 2048, padding_idx=3)\n",
              "  (layers): ModifiedPlamoDecoder(\n",
              "    (layers): ModuleList(\n",
              "      (0-15): 16 x ModifiedPlamoDecoderLayer(\n",
              "        (self_attn): ModifiedAttention(\n",
              "          (qkv_proj): Linear(in_features=2048, out_features=2304, bias=False)\n",
              "          (o_proj): Linear(in_features=2048, out_features=2048, bias=False)\n",
              "          (rotary_emb): RotaryEmbedding()\n",
              "        )\n",
              "        (mlp): DenseMLP(\n",
              "          (gate_up_proj): Linear(in_features=2048, out_features=16384, bias=False)\n",
              "          (down_proj): Linear(in_features=8192, out_features=2048, bias=False)\n",
              "        )\n",
              "        (norm): RMSNorm()\n",
              "        (norm2): RMSNorm()\n",
              "      )\n",
              "    )\n",
              "  )\n",
              "  (norm): RMSNorm()\n",
              ")"
            ]
          },
          "metadata": {},
          "execution_count": 3
        }
      ]
    },
    {
      "cell_type": "markdown",
      "source": [
        "## 埋め込み計算モジュールの定義"
      ],
      "metadata": {
        "id": "CdNantPQoyRJ"
      }
    },
    {
      "cell_type": "code",
      "source": [
        "import numpy as np\n",
        "\n",
        "def embed_texts(\n",
        "    texts: list[str],\n",
        "    batch_size: int = 32,\n",
        "    is_query: bool = False,\n",
        ") -> np.ndarray:\n",
        "    \"\"\"\n",
        "    texts           : 埋め込み対象の文字列リスト\n",
        "    batch_size      : 一度に投入する文の数（デフォルト：32）\n",
        "    is_query        : True の場合は model.encode_query を使用\n",
        "                                False の場合は model.encode_document を使用\n",
        "    \"\"\"\n",
        "    all_embs = []\n",
        "\n",
        "    with torch.inference_mode():\n",
        "      # 自動混合精度演算\n",
        "      with torch.amp.autocast(\"cuda\"):\n",
        "            for i in range(0, len(texts), batch_size):\n",
        "                batch = texts[i : i + batch_size]\n",
        "                if is_query:\n",
        "                    embs = model.encode_query(\n",
        "                        batch,\n",
        "                        tokenizer,\n",
        "                    )\n",
        "                else:\n",
        "                    embs = model.encode_document(\n",
        "                        batch,\n",
        "                        tokenizer,\n",
        "                    )\n",
        "\n",
        "                # embs は torch.Tensor\n",
        "                embs_np = embs.to(\"cpu\").numpy()  # NumPy に変換\n",
        "                # VRAM を開放する\n",
        "                del embs\n",
        "                torch.cuda.empty_cache()\n",
        "                embs_np = np.nan_to_num(embs_np)\n",
        "                all_embs.append(embs_np)\n",
        "\n",
        "    return np.vstack(all_embs)\n"
      ],
      "metadata": {
        "id": "NA8kn9MhTV_9"
      },
      "execution_count": 4,
      "outputs": []
    },
    {
      "cell_type": "markdown",
      "source": [
        "## JSTSによるモデルの評価"
      ],
      "metadata": {
        "id": "85xarYGlV5uk"
      }
    },
    {
      "cell_type": "code",
      "source": [
        "from datasets import load_dataset\n",
        "\n",
        "ds = load_dataset(\"sbintuitions/JMTEB\", \"jsts\")\n",
        "jsts = ds[\"test\"]\n",
        "print(jsts.column_names)  # ['sentence_pair_id', 'yjcaptions_id', 'sentence1', 'sentence2', 'label']"
      ],
      "metadata": {
        "id": "EQBupQB2SCcE"
      },
      "execution_count": null,
      "outputs": []
    },
    {
      "cell_type": "code",
      "source": [
        "from sklearn.metrics.pairwise import cosine_similarity\n",
        "\n",
        "# JSTS の全ペアを「文1／文2」と「スコア」に分解\n",
        "sent1 = jsts[\"sentence1\"]\n",
        "sent2 = jsts[\"sentence2\"]\n",
        "gold_score = np.array(jsts[\"label\"], dtype=float)  # 0〜5 の連続値\n",
        "\n",
        "# 埋め込み\n",
        "emb1 = embed_texts(sent1)\n",
        "emb2 = embed_texts(sent2)\n",
        "\n",
        "# コサイン類似度\n",
        "# N×2048 の行列同士のコサイン類似度を一度に出す\n",
        "sim_matrix = cosine_similarity(emb1, emb2)\n",
        "# 対角成分だけを取り出せばペアごとの類似度が得られる\n",
        "cos_sim = np.diag(sim_matrix)  # shape=(N,)"
      ],
      "metadata": {
        "id": "6s8St_C2SiUr"
      },
      "execution_count": null,
      "outputs": []
    },
    {
      "cell_type": "code",
      "source": [
        "# スピアマンとピアソンの相関係数を計算\n",
        "from scipy.stats import spearmanr, pearsonr\n",
        "\n",
        "spearman_corr, _ = spearmanr(cos_sim, gold_score)\n",
        "pearson_corr, _  = pearsonr(cos_sim, gold_score)\n",
        "\n",
        "print(f\"Spearman: {spearman_corr:.4f}\")\n",
        "print(f\"Pearson : {pearson_corr:.4f}\")"
      ],
      "metadata": {
        "id": "D3IlVfPWUVp1"
      },
      "execution_count": null,
      "outputs": []
    },
    {
      "cell_type": "markdown",
      "source": [
        "## インデックス用データ読み込み・前処理・インデックス化"
      ],
      "metadata": {
        "id": "HM0Gu1B1jUeG"
      }
    },
    {
      "cell_type": "code",
      "source": [
        "from google.colab import drive\n",
        "drive.mount('/content/drive')\n",
        "# drive.mount(\"/content/drive\", force_remount=True)"
      ],
      "metadata": {
        "id": "Wko2nT5J6ui1",
        "outputId": "163b4985-4f9c-4c65-97e6-52a1d83b684b",
        "colab": {
          "base_uri": "https://localhost:8080/"
        }
      },
      "execution_count": 5,
      "outputs": [
        {
          "output_type": "stream",
          "name": "stdout",
          "text": [
            "Mounted at /content/drive\n"
          ]
        }
      ]
    },
    {
      "cell_type": "markdown",
      "source": [
        "### インデックス化: livedoor-news-corpus"
      ],
      "metadata": {
        "id": "GCAPdi5meioD"
      }
    },
    {
      "cell_type": "code",
      "source": [
        "from datasets import load_dataset\n",
        "# Livedoor ニュースコーパス (約7,300記事) を train/val/test に分割読み込み\n",
        "ds = load_dataset(\n",
        "    \"shunk031/livedoor-news-corpus\",\n",
        "    train_ratio=0.8,\n",
        "    val_ratio=0.1,\n",
        "    test_ratio=0.1,\n",
        "    shuffle=False,\n",
        ")\n",
        "train = ds[\"train\"]\n",
        "print(train)"
      ],
      "metadata": {
        "id": "DwZ19896jD6y"
      },
      "execution_count": null,
      "outputs": []
    },
    {
      "cell_type": "code",
      "source": [
        "# 検索対象：記事のタイトル＋本文\n",
        "corpus_texts = [\n",
        "    f\"{row['title']}。{row['content']}\"\n",
        "    for row in train\n",
        "]\n",
        "\n",
        "# （例）最初の5件をクエリとして流用\n",
        "query_texts = corpus_texts[:5]\n",
        "# 正解ID (今回は自身の記事をトップ1に返す recall@1)\n",
        "true_ids = list(range(len(query_texts))) # true_ids = [0, 1, 2, ..., 5]"
      ],
      "metadata": {
        "id": "euEILplSkZlp"
      },
      "execution_count": null,
      "outputs": []
    },
    {
      "cell_type": "code",
      "source": [
        "# 記事のタイトルと本文(corpus_texts)をjsonl形式で保存\n",
        "\n",
        "import json\n",
        "\n",
        "with open('/content/drive/MyDrive/Colab Notebooks/data/text_embedding_search/corpus.jsonl', 'w', encoding='utf-8') as f:\n",
        "    for text in corpus_texts:\n",
        "        json.dump({'text': text}, f, ensure_ascii=False)\n",
        "        f.write('\\n')\n"
      ],
      "metadata": {
        "id": "6T-gdQQju766"
      },
      "execution_count": null,
      "outputs": []
    },
    {
      "cell_type": "code",
      "source": [
        "# 文を埋め込み化する（時間のかかる処理）\n",
        "xb = embed_texts(corpus_texts, batch_size=8, is_query=False)  # index 用\n",
        "xq = embed_texts(query_texts,  batch_size=8, is_query=True)   # query 用"
      ],
      "metadata": {
        "id": "EH4kZy9pnz57"
      },
      "execution_count": null,
      "outputs": []
    },
    {
      "cell_type": "code",
      "source": [
        "import faiss\n",
        "\n",
        "d = xb.shape[1]  # 埋め込み次元\n",
        "M = 32           # 各点の近傍リンク数\n",
        "efC = 200        # 構築時の探索深さ\n",
        "\n",
        "index = faiss.IndexHNSWFlat(d, M)\n",
        "index.hnsw.efConstruction = efC\n",
        "\n",
        "# 埋め込みベクトルを追加\n",
        "index.add(xb)"
      ],
      "metadata": {
        "id": "zfhKzVbJ704C"
      },
      "execution_count": null,
      "outputs": []
    },
    {
      "cell_type": "code",
      "source": [
        "index.hnsw.efSearch = 50  # 検索時の探索深さ\n",
        "k = 5                    # top-k 件取得\n",
        "D, I = index.search(xq, k) # 検索を実行"
      ],
      "metadata": {
        "id": "6fKz_DWe78u6"
      },
      "execution_count": null,
      "outputs": []
    },
    {
      "cell_type": "code",
      "source": [
        "recall1 = np.mean([1 if true_ids[i] in I[i,:1] else 0 for i in range(len(true_ids))])\n",
        "print(f\"Recall@1: {recall1:.3f}\")"
      ],
      "metadata": {
        "id": "IHDLx2PS8DQm"
      },
      "execution_count": null,
      "outputs": []
    },
    {
      "cell_type": "code",
      "source": [
        "# 埋め込みと Faiss インデックスを保存\n",
        "np.save('/content/drive/MyDrive/Colab Notebooks/data/text_embedding_search/embeddings_xb.npy', xb)\n",
        "faiss.write_index(index, '/content/drive/MyDrive/Colab Notebooks/data/text_embedding_search/hnsw_index.faiss')"
      ],
      "metadata": {
        "id": "rFgjhBg68fiv"
      },
      "execution_count": null,
      "outputs": []
    },
    {
      "cell_type": "code",
      "source": [
        "for i in range(len(query_texts)):\n",
        "    print(f\"Query: {query_texts[i]}\")\n",
        "    for rank, idx in enumerate(I[i]):\n",
        "        print(f\"Top {rank+1}: {corpus_texts[idx]}\")\n",
        "    print(\"========\")"
      ],
      "metadata": {
        "id": "VAIXg5et_SfI",
        "collapsed": true
      },
      "execution_count": null,
      "outputs": []
    },
    {
      "cell_type": "markdown",
      "source": [
        "### インデックス化: SFC研究会データ"
      ],
      "metadata": {
        "id": "z5dcY0sCe1Gh"
      }
    },
    {
      "cell_type": "code",
      "source": [
        "! git clone https://github.com/kota-yata/Syllabus-proto.git"
      ],
      "metadata": {
        "id": "t4ug_XXZgNOJ",
        "outputId": "69b12ae5-7679-4f51-db40-d72592515a25",
        "colab": {
          "base_uri": "https://localhost:8080/"
        }
      },
      "execution_count": 6,
      "outputs": [
        {
          "output_type": "stream",
          "name": "stdout",
          "text": [
            "Cloning into 'Syllabus-proto'...\n",
            "remote: Enumerating objects: 729, done.\u001b[K\n",
            "remote: Counting objects: 100% (249/249), done.\u001b[K\n",
            "remote: Compressing objects: 100% (136/136), done.\u001b[K\n",
            "remote: Total 729 (delta 149), reused 180 (delta 95), pack-reused 480 (from 1)\u001b[K\n",
            "Receiving objects: 100% (729/729), 4.47 MiB | 2.70 MiB/s, done.\n",
            "Resolving deltas: 100% (401/401), done.\n"
          ]
        }
      ]
    },
    {
      "cell_type": "code",
      "source": [
        "import json\n",
        "\n",
        "filepath = '/content/Syllabus-proto/assets/result-2025s.json'\n",
        "with open(filepath, 'r', encoding='utf-8') as f:\n",
        "    all_class_data = json.load(f)"
      ],
      "metadata": {
        "id": "i_9gyh4AfIBQ"
      },
      "execution_count": 7,
      "outputs": []
    },
    {
      "cell_type": "code",
      "source": [
        "lab_corpus_texts = [] # 埋め込みモデルに入力するテキストのリスト\n",
        "lab_corpus_metadata = {} # ID をキーとし、メタデータを持つ辞書\n",
        "\n",
        "# target_subjects の \"A\", \"B\" は全角\n",
        "target_subjects = {\"研究会Ａ\", \"研究会Ｂ\"}\n",
        "\n",
        "for item in all_class_data:\n",
        "    # --- 必須情報の取得 ---\n",
        "    sort_id = item.get('sort_id')\n",
        "    subject_name = item.get('subject_name', '').strip() # 空の場合や前後の空白に対応\n",
        "    about_text = item.get('about', '').strip()\n",
        "\n",
        "    # デバッグ用: 取得した subject_name と比較対象を表示\n",
        "    # print(f\"Checking: '{subject_name}' in {target_subjects}\")\n",
        "\n",
        "    # --- subject_name がターゲットに含まれているかチェック ---\n",
        "    if subject_name not in target_subjects:\n",
        "        # print(f\"Skipping '{subject_name}' - not in target list.\") # スキップ理由表示（デバッグ用）\n",
        "        continue\n",
        "\n",
        "    # --- ID, subject_name, about がないと意味がないのでスキップ ---\n",
        "    if not sort_id or not subject_name or not about_text:\n",
        "        print(f\"Skipping item due to missing essential fields: {sort_id or 'Unknown ID'}\")\n",
        "        continue\n",
        "\n",
        "    # --- 検索対象テキストの生成 ---\n",
        "    # 研究会名と概要文を結合。改行などで区切ると良い。\n",
        "    staff_names = [staff.get('staff_name', '') for staff in item.get('staffs', [])]\n",
        "    staffs = \",\".join(filter(None, staff_names))\n",
        "    text_for_embedding = f\"{subject_name}: {staffs}\\n{about_text}\"\n",
        "    lab_corpus_texts.append(text_for_embedding)\n",
        "\n",
        "    # --- メタデータの抽出・整形 ---\n",
        "    url = item.get('url', '')\n",
        "    # fields から学部・分野を取得 (リスト形式なので最初のものを取得する例)\n",
        "    # fields が空リストの場合や、リスト内の辞書が空の場合のエラーを防ぐ\n",
        "    faculty = ''\n",
        "    field = ''\n",
        "    if item.get('fields'): # fields リストが存在するか確認\n",
        "        first_field = item['fields'][0] if item['fields'] else {} # リストが空でないか確認\n",
        "        faculty = first_field.get('faculty', '')\n",
        "        field = first_field.get('field', '')\n",
        "\n",
        "    term = item.get('term', '')\n",
        "    # 他に必要なメタデータがあれば追加\n",
        "\n",
        "    metadata = {\n",
        "        'subject_name': subject_name,\n",
        "        'about': about_text, # スニペットは検索時に生成するので、ここでは全文保持\n",
        "        'url': url,\n",
        "        'staffs': \", \".join(filter(None, staff_names)), # 教員名をカンマ区切り文字列に\n",
        "        'faculty': faculty,\n",
        "        'field': field,\n",
        "        'term': term\n",
        "        # 他のメタデータをここに追加\n",
        "    }\n",
        "    lab_corpus_metadata[sort_id] = metadata # ID をキーにしてメタデータを保存\n",
        "\n",
        "print(f\"Processed {len(lab_corpus_texts)} items.\")\n",
        "print(f\"Total items skipped: {len(all_class_data) - len(lab_corpus_texts)}\") # スキップされた数を計算"
      ],
      "metadata": {
        "id": "mOveUg8EhQiB",
        "outputId": "ae2adce2-b9df-44a4-abdf-e7ed3a774e01",
        "colab": {
          "base_uri": "https://localhost:8080/"
        }
      },
      "execution_count": 8,
      "outputs": [
        {
          "output_type": "stream",
          "name": "stdout",
          "text": [
            "Skipping item due to missing essential fields: X44849\n",
            "Processed 165 items.\n",
            "Total items skipped: 585\n"
          ]
        }
      ]
    },
    {
      "cell_type": "code",
      "source": [
        "# lab_corpus_texts をJSONファイルに保存\n",
        "corpus_texts_filepath = '/content/drive/MyDrive/Colab Notebooks/data/text_embedding_search/lab_corpus_texts.json'\n",
        "try:\n",
        "    with open(corpus_texts_filepath, 'w', encoding='utf-8') as f:\n",
        "        # ensure_ascii=False で日本語がそのまま保存されるようにする\n",
        "        # indent=4 で整形して見やすくする\n",
        "        json.dump(lab_corpus_texts, f, ensure_ascii=False, indent=4)\n",
        "    print(f\"Successfully saved corpus texts to {corpus_texts_filepath}\")\n",
        "except IOError as e:\n",
        "    print(f\"Error saving corpus texts: {e}\")\n",
        "\n",
        "# lab_corpus_metadata をJSONファイルに保存\n",
        "corpus_metadata_filepath = '/content/drive/MyDrive/Colab Notebooks/data/text_embedding_search/lab_corpus_metadata.json'\n",
        "try:\n",
        "    with open(corpus_metadata_filepath, 'w', encoding='utf-8') as f:\n",
        "        json.dump(lab_corpus_metadata, f, ensure_ascii=False, indent=4)\n",
        "    print(f\"Successfully saved corpus metadata to {corpus_metadata_filepath}\")\n",
        "except IOError as e:\n",
        "    print(f\"Error saving corpus metadata: {e}\")"
      ],
      "metadata": {
        "id": "bk4tuZ7OtVbA",
        "outputId": "0b3c5fba-b9df-43b0-a423-8fc7603d4f6f",
        "colab": {
          "base_uri": "https://localhost:8080/"
        }
      },
      "execution_count": 25,
      "outputs": [
        {
          "output_type": "stream",
          "name": "stdout",
          "text": [
            "Successfully saved corpus texts to /content/drive/MyDrive/Colab Notebooks/data/text_embedding_search/lab_corpus_texts.json\n",
            "Successfully saved corpus metadata to /content/drive/MyDrive/Colab Notebooks/data/text_embedding_search/lab_corpus_metadata.json\n"
          ]
        }
      ]
    },
    {
      "cell_type": "code",
      "source": [
        "lab_corpus_texts_emb = embed_texts(lab_corpus_texts, batch_size=16, is_query=False)"
      ],
      "metadata": {
        "id": "gGVB4jhuaAdX"
      },
      "execution_count": 9,
      "outputs": []
    },
    {
      "cell_type": "code",
      "source": [
        "# 埋め込みをdriveに保存\n",
        "np.save('/content/drive/MyDrive/Colab Notebooks/data/text_embedding_search/lab_corpus_texts_emb.npy', lab_corpus_texts_emb)"
      ],
      "metadata": {
        "id": "7EKUJJiybSIU"
      },
      "execution_count": 10,
      "outputs": []
    },
    {
      "cell_type": "code",
      "source": [
        "import faiss\n",
        "\n",
        "d = lab_corpus_texts_emb.shape[1]  # 埋め込み次元\n",
        "M = 32           # 各点の近傍リンク数\n",
        "efC = 200        # 構築時の探索深さ\n",
        "\n",
        "lab_index = faiss.IndexHNSWFlat(d, M)\n",
        "lab_index.hnsw.efConstruction = efC\n",
        "\n",
        "# 埋め込みベクトルを追加\n",
        "lab_index.add(lab_corpus_texts_emb)"
      ],
      "metadata": {
        "id": "S2UR5e2KePZ3"
      },
      "execution_count": 12,
      "outputs": []
    },
    {
      "cell_type": "code",
      "source": [
        "faiss.write_index(lab_index, '/content/drive/MyDrive/Colab Notebooks/data/text_embedding_search/lab_hnsw_index.faiss')"
      ],
      "metadata": {
        "id": "zBBGJdHSlits"
      },
      "execution_count": 13,
      "outputs": []
    },
    {
      "cell_type": "markdown",
      "source": [
        "## 保存したインデックスを読み込んで使用"
      ],
      "metadata": {
        "id": "u8wzRLv4dsEH"
      }
    },
    {
      "cell_type": "code",
      "source": [
        "from google.colab import drive\n",
        "drive.mount('/content/drive')"
      ],
      "metadata": {
        "id": "4tM5HpNmukKj"
      },
      "execution_count": null,
      "outputs": []
    },
    {
      "cell_type": "code",
      "source": [
        "!pip install faiss-cpu\n",
        "import faiss"
      ],
      "metadata": {
        "id": "dSTqnAY_d4Kt"
      },
      "execution_count": null,
      "outputs": []
    },
    {
      "cell_type": "markdown",
      "source": [
        "### livedoor-news-corpus"
      ],
      "metadata": {
        "id": "WEl6HiIxszax"
      }
    },
    {
      "cell_type": "code",
      "source": [
        "# corpus_textsの読み込み\n",
        "import json\n",
        "\n",
        "corpus_texts = []\n",
        "with open('/content/drive/MyDrive/Colab Notebooks/data/text_embedding_search/corpus.jsonl', 'r', encoding='utf-8') as f:\n",
        "    for line in f:\n",
        "        corpus_texts.append(json.loads(line)['text'])"
      ],
      "metadata": {
        "id": "B3spxvbgx1-W"
      },
      "execution_count": null,
      "outputs": []
    },
    {
      "cell_type": "code",
      "source": [
        "xb = np.load('/content/drive/MyDrive/Colab Notebooks/data/text_embedding_search/embeddings_xb.npy')\n",
        "index = faiss.read_index('/content/drive/MyDrive/Colab Notebooks/data/text_embedding_search/hnsw_index.faiss')"
      ],
      "metadata": {
        "id": "Sot-ettbdpFM"
      },
      "execution_count": null,
      "outputs": []
    },
    {
      "cell_type": "code",
      "source": [
        "query_texts = [\"渋谷の事件についてのニュース\", \"プロ野球の試合結果\", \"新作映画のレビュー\"]\n",
        "xq = embed_texts(query_texts, is_query=True)"
      ],
      "metadata": {
        "id": "Na44rS-9eL1j"
      },
      "execution_count": null,
      "outputs": []
    },
    {
      "cell_type": "code",
      "source": [
        "index.hnsw.efSearch = 50  # 検索時の探索深さ\n",
        "k = 5  # 上位k件を取得\n",
        "D, I = index.search(xq, k)  # Dは距離、Iはインデックス"
      ],
      "metadata": {
        "id": "c_EZn0EZfkdx"
      },
      "execution_count": null,
      "outputs": []
    },
    {
      "cell_type": "code",
      "source": [
        "for i, q in enumerate(query_texts):\n",
        "  print(f\"\\n[Query] {q}\")\n",
        "  for j in range(k):\n",
        "    doc_id = I[i, j] # i番目のクエリにつき5つのID\n",
        "    print(f\" RANK {j+1}: {corpus_texts[doc_id][:50]}...\")"
      ],
      "metadata": {
        "id": "U_TMKeoRfsvD"
      },
      "execution_count": null,
      "outputs": []
    },
    {
      "cell_type": "markdown",
      "source": [
        "### SFC研究会のデータ"
      ],
      "metadata": {
        "id": "KlX5LNOeYHa8"
      }
    },
    {
      "cell_type": "code",
      "source": [
        "query_texts = [\"数学\", \"音楽\", \"人\"]\n",
        "xq = embed_texts(query_texts, is_query=True)"
      ],
      "metadata": {
        "id": "H2g4JPAcl88T"
      },
      "execution_count": null,
      "outputs": []
    },
    {
      "cell_type": "code",
      "source": [
        "lab_index.hnsw.efSearch = 50  # 検索時の探索深さ\n",
        "k = 5  # 上位k件を取得\n",
        "D, I =lab_index.search(xq, k)  # Dは距離、Iはインデックス\n",
        "\n",
        "for i, q in enumerate(query_texts):\n",
        "  print(f\"\\n[Query] {q}\")\n",
        "  for j in range(k):\n",
        "    doc_id = I[i, j] # i番目のクエリにつき5つのID\n",
        "    print(f\" RANK {j+1}: {lab_corpus_texts[doc_id][:200]}...\")"
      ],
      "metadata": {
        "id": "H3CP1QnXZ19P",
        "outputId": "bfed2fc3-2892-4dc6-b607-14ba14d9e0c5",
        "colab": {
          "base_uri": "https://localhost:8080/"
        }
      },
      "execution_count": 28,
      "outputs": [
        {
          "output_type": "stream",
          "name": "stdout",
          "text": [
            "\n",
            "[Query] AI\n",
            " RANK 1: 研究会Ａ: ショウ，　ラジブ\n",
            "This seminar will focus on different issues of environment, disaster and development in Asia...\n",
            " RANK 2: 研究会Ａ: 清水　たくみ\n",
            "ミッション：「未来の組織を探究する」...\n",
            " RANK 3: 研究会Ａ: 中西　泰人\n",
            "テクノロジーを要素とした新しい経験のデザインを行う研究会です。研究分野としてはHCI(Human Computer Interaction)やUI/UX(User Interface/User Experience)と呼ばれる領域です。日々手を動かしながら考えるプロトタイピングを重ねながら、新しい経験を作り出していきましょう。...\n",
            " RANK 4: 研究会Ａ: トレース，　ジョナサン　Ｗ\n",
            "Second Language Teaching: Alternative Approaches to Task-Based Learning...\n",
            " RANK 5: 研究会Ａ: トレース，　ジョナサン　Ｗ\n",
            "Second Language Teaching: Alternative Approaches to Task-Based Learning...\n",
            "\n",
            "[Query] 服部隆志\n",
            " RANK 1: 研究会Ｂ: 東海林　祐子\n",
            "コーチングとライフスキル...\n",
            " RANK 2: 研究会Ｂ: 東海林　祐子\n",
            "コーチングとライフスキル...\n",
            " RANK 3: 研究会Ａ: ショウ，　ラジブ\n",
            "This seminar will focus on different issues of environment, disaster and development in Asia...\n",
            " RANK 4: 研究会Ｂ: 福島　康仁\n",
            "国際関係に焦点を当てて個人研究を行います。...\n",
            " RANK 5: 研究会Ａ: 清水　たくみ\n",
            "ミッション：「未来の組織を探究する」...\n",
            "\n",
            "[Query] 人\n",
            " RANK 1: 研究会Ａ: ショウ，　ラジブ\n",
            "This seminar will focus on different issues of environment, disaster and development in Asia...\n",
            " RANK 2: 研究会Ｂ: 東海林　祐子\n",
            "コーチングとライフスキル...\n",
            " RANK 3: 研究会Ｂ: 東海林　祐子\n",
            "コーチングとライフスキル...\n",
            " RANK 4: 研究会Ｂ: 福島　康仁\n",
            "国際関係に焦点を当てて個人研究を行います。...\n",
            " RANK 5: 研究会Ａ: 大木　聖子\n",
            "災害に関する自然科学・人間科学・社会科学研究．...\n"
          ]
        }
      ]
    },
    {
      "cell_type": "markdown",
      "source": [
        "## gradioで検索機能を実装"
      ],
      "metadata": {
        "id": "dhtHKDdEUJRZ"
      }
    },
    {
      "cell_type": "code",
      "source": [
        "!pip install -q gradio"
      ],
      "metadata": {
        "id": "8HLnIeHCbGf3"
      },
      "execution_count": null,
      "outputs": []
    },
    {
      "cell_type": "code",
      "source": [
        "import pandas as pd\n",
        "\n",
        "# 検索用関数の定義\n",
        "def search(query: str, k: int = 5, length: int = 30):\n",
        "    # クエリ埋め込み\n",
        "    q_emb = embed_texts([query], is_query=True)\n",
        "    # Faiss 検索\n",
        "    D, I = index.search(q_emb, k)\n",
        "    # 結果整形\n",
        "    results = []\n",
        "    for score, idx in zip(D[0], I[0]):\n",
        "        title, snippet = corpus_texts[idx].split(\"。\", 1)  # タイトル・本文を分割\n",
        "        results.append({\"title\": title, \"snippet\": snippet[:length]+\"…\", \"score\": float(score)})\n",
        "\n",
        "    df = pd.DataFrame(results) # gradio用にDFに変換\n",
        "\n",
        "    return df\n"
      ],
      "metadata": {
        "id": "jFtjS2kDURKd"
      },
      "execution_count": null,
      "outputs": []
    },
    {
      "cell_type": "code",
      "source": [
        "search(\"パソコン\", k=5)"
      ],
      "metadata": {
        "id": "cheaGqMxWB1C"
      },
      "execution_count": null,
      "outputs": []
    },
    {
      "cell_type": "code",
      "source": [
        "import gradio as gr\n",
        "\n",
        "iface = gr.Interface(\n",
        "    fn=search,\n",
        "    inputs=[\n",
        "        gr.Textbox(lines=2, placeholder=\"検索クエリを入力\"),\n",
        "        gr.Slider(minimum=1, maximum=10, step=1, label=\"Top k 件数\")\n",
        "    ],\n",
        "    outputs=gr.Dataframe(\n",
        "        headers=[\"title\", \"snippet\", \"score\"],\n",
        "        row_count=5\n",
        "    ),\n",
        "    title=\"Livedoor ニュース検索デモ\",\n",
        "    description=\"pfnet/plamo-embedding-1b + Faiss HNSW による類似ニュース検索\"\n",
        ")\n",
        "\n",
        "iface.launch(share=True)"
      ],
      "metadata": {
        "id": "E-GaL8smahiu"
      },
      "execution_count": null,
      "outputs": []
    }
  ]
}