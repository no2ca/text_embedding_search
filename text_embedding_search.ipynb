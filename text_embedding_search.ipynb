{
  "nbformat": 4,
  "nbformat_minor": 0,
  "metadata": {
    "colab": {
      "provenance": [],
      "toc_visible": true,
      "gpuType": "T4"
    },
    "kernelspec": {
      "name": "python3",
      "display_name": "Python 3"
    },
    "language_info": {
      "name": "python"
    },
    "widgets": {
      "application/vnd.jupyter.widget-state+json": {
        "c97be7a433ca474e9a9d783a8b42c5c3": {
          "model_module": "@jupyter-widgets/controls",
          "model_name": "HBoxModel",
          "model_module_version": "1.5.0",
          "state": {
            "_dom_classes": [],
            "_model_module": "@jupyter-widgets/controls",
            "_model_module_version": "1.5.0",
            "_model_name": "HBoxModel",
            "_view_count": null,
            "_view_module": "@jupyter-widgets/controls",
            "_view_module_version": "1.5.0",
            "_view_name": "HBoxView",
            "box_style": "",
            "children": [
              "IPY_MODEL_d3c276da60a74d7bb043ecfb6129a49b",
              "IPY_MODEL_bd662c2e8be64e38b92efd803885489c",
              "IPY_MODEL_cf5e3808871e4561ba5594d6547833d2"
            ],
            "layout": "IPY_MODEL_a16fd15817c842a9a544863ce7d97267"
          }
        },
        "d3c276da60a74d7bb043ecfb6129a49b": {
          "model_module": "@jupyter-widgets/controls",
          "model_name": "HTMLModel",
          "model_module_version": "1.5.0",
          "state": {
            "_dom_classes": [],
            "_model_module": "@jupyter-widgets/controls",
            "_model_module_version": "1.5.0",
            "_model_name": "HTMLModel",
            "_view_count": null,
            "_view_module": "@jupyter-widgets/controls",
            "_view_module_version": "1.5.0",
            "_view_name": "HTMLView",
            "description": "",
            "description_tooltip": null,
            "layout": "IPY_MODEL_45754e782cb54344bbff5c6b64261207",
            "placeholder": "​",
            "style": "IPY_MODEL_3faf89e0c81a4077af4f644700a67a16",
            "value": "tokenizer_config.json: 100%"
          }
        },
        "bd662c2e8be64e38b92efd803885489c": {
          "model_module": "@jupyter-widgets/controls",
          "model_name": "FloatProgressModel",
          "model_module_version": "1.5.0",
          "state": {
            "_dom_classes": [],
            "_model_module": "@jupyter-widgets/controls",
            "_model_module_version": "1.5.0",
            "_model_name": "FloatProgressModel",
            "_view_count": null,
            "_view_module": "@jupyter-widgets/controls",
            "_view_module_version": "1.5.0",
            "_view_name": "ProgressView",
            "bar_style": "success",
            "description": "",
            "description_tooltip": null,
            "layout": "IPY_MODEL_60693a7441e34ac6a3bfba501c6e9548",
            "max": 1297,
            "min": 0,
            "orientation": "horizontal",
            "style": "IPY_MODEL_b0359a17230342a48e2ec6e7282404be",
            "value": 1297
          }
        },
        "cf5e3808871e4561ba5594d6547833d2": {
          "model_module": "@jupyter-widgets/controls",
          "model_name": "HTMLModel",
          "model_module_version": "1.5.0",
          "state": {
            "_dom_classes": [],
            "_model_module": "@jupyter-widgets/controls",
            "_model_module_version": "1.5.0",
            "_model_name": "HTMLModel",
            "_view_count": null,
            "_view_module": "@jupyter-widgets/controls",
            "_view_module_version": "1.5.0",
            "_view_name": "HTMLView",
            "description": "",
            "description_tooltip": null,
            "layout": "IPY_MODEL_63dba9304b2944a4b041ed87755c6360",
            "placeholder": "​",
            "style": "IPY_MODEL_5447edbc3c504f0080895e4080d44ee2",
            "value": " 1.30k/1.30k [00:00&lt;00:00, 47.1kB/s]"
          }
        },
        "a16fd15817c842a9a544863ce7d97267": {
          "model_module": "@jupyter-widgets/base",
          "model_name": "LayoutModel",
          "model_module_version": "1.2.0",
          "state": {
            "_model_module": "@jupyter-widgets/base",
            "_model_module_version": "1.2.0",
            "_model_name": "LayoutModel",
            "_view_count": null,
            "_view_module": "@jupyter-widgets/base",
            "_view_module_version": "1.2.0",
            "_view_name": "LayoutView",
            "align_content": null,
            "align_items": null,
            "align_self": null,
            "border": null,
            "bottom": null,
            "display": null,
            "flex": null,
            "flex_flow": null,
            "grid_area": null,
            "grid_auto_columns": null,
            "grid_auto_flow": null,
            "grid_auto_rows": null,
            "grid_column": null,
            "grid_gap": null,
            "grid_row": null,
            "grid_template_areas": null,
            "grid_template_columns": null,
            "grid_template_rows": null,
            "height": null,
            "justify_content": null,
            "justify_items": null,
            "left": null,
            "margin": null,
            "max_height": null,
            "max_width": null,
            "min_height": null,
            "min_width": null,
            "object_fit": null,
            "object_position": null,
            "order": null,
            "overflow": null,
            "overflow_x": null,
            "overflow_y": null,
            "padding": null,
            "right": null,
            "top": null,
            "visibility": null,
            "width": null
          }
        },
        "45754e782cb54344bbff5c6b64261207": {
          "model_module": "@jupyter-widgets/base",
          "model_name": "LayoutModel",
          "model_module_version": "1.2.0",
          "state": {
            "_model_module": "@jupyter-widgets/base",
            "_model_module_version": "1.2.0",
            "_model_name": "LayoutModel",
            "_view_count": null,
            "_view_module": "@jupyter-widgets/base",
            "_view_module_version": "1.2.0",
            "_view_name": "LayoutView",
            "align_content": null,
            "align_items": null,
            "align_self": null,
            "border": null,
            "bottom": null,
            "display": null,
            "flex": null,
            "flex_flow": null,
            "grid_area": null,
            "grid_auto_columns": null,
            "grid_auto_flow": null,
            "grid_auto_rows": null,
            "grid_column": null,
            "grid_gap": null,
            "grid_row": null,
            "grid_template_areas": null,
            "grid_template_columns": null,
            "grid_template_rows": null,
            "height": null,
            "justify_content": null,
            "justify_items": null,
            "left": null,
            "margin": null,
            "max_height": null,
            "max_width": null,
            "min_height": null,
            "min_width": null,
            "object_fit": null,
            "object_position": null,
            "order": null,
            "overflow": null,
            "overflow_x": null,
            "overflow_y": null,
            "padding": null,
            "right": null,
            "top": null,
            "visibility": null,
            "width": null
          }
        },
        "3faf89e0c81a4077af4f644700a67a16": {
          "model_module": "@jupyter-widgets/controls",
          "model_name": "DescriptionStyleModel",
          "model_module_version": "1.5.0",
          "state": {
            "_model_module": "@jupyter-widgets/controls",
            "_model_module_version": "1.5.0",
            "_model_name": "DescriptionStyleModel",
            "_view_count": null,
            "_view_module": "@jupyter-widgets/base",
            "_view_module_version": "1.2.0",
            "_view_name": "StyleView",
            "description_width": ""
          }
        },
        "60693a7441e34ac6a3bfba501c6e9548": {
          "model_module": "@jupyter-widgets/base",
          "model_name": "LayoutModel",
          "model_module_version": "1.2.0",
          "state": {
            "_model_module": "@jupyter-widgets/base",
            "_model_module_version": "1.2.0",
            "_model_name": "LayoutModel",
            "_view_count": null,
            "_view_module": "@jupyter-widgets/base",
            "_view_module_version": "1.2.0",
            "_view_name": "LayoutView",
            "align_content": null,
            "align_items": null,
            "align_self": null,
            "border": null,
            "bottom": null,
            "display": null,
            "flex": null,
            "flex_flow": null,
            "grid_area": null,
            "grid_auto_columns": null,
            "grid_auto_flow": null,
            "grid_auto_rows": null,
            "grid_column": null,
            "grid_gap": null,
            "grid_row": null,
            "grid_template_areas": null,
            "grid_template_columns": null,
            "grid_template_rows": null,
            "height": null,
            "justify_content": null,
            "justify_items": null,
            "left": null,
            "margin": null,
            "max_height": null,
            "max_width": null,
            "min_height": null,
            "min_width": null,
            "object_fit": null,
            "object_position": null,
            "order": null,
            "overflow": null,
            "overflow_x": null,
            "overflow_y": null,
            "padding": null,
            "right": null,
            "top": null,
            "visibility": null,
            "width": null
          }
        },
        "b0359a17230342a48e2ec6e7282404be": {
          "model_module": "@jupyter-widgets/controls",
          "model_name": "ProgressStyleModel",
          "model_module_version": "1.5.0",
          "state": {
            "_model_module": "@jupyter-widgets/controls",
            "_model_module_version": "1.5.0",
            "_model_name": "ProgressStyleModel",
            "_view_count": null,
            "_view_module": "@jupyter-widgets/base",
            "_view_module_version": "1.2.0",
            "_view_name": "StyleView",
            "bar_color": null,
            "description_width": ""
          }
        },
        "63dba9304b2944a4b041ed87755c6360": {
          "model_module": "@jupyter-widgets/base",
          "model_name": "LayoutModel",
          "model_module_version": "1.2.0",
          "state": {
            "_model_module": "@jupyter-widgets/base",
            "_model_module_version": "1.2.0",
            "_model_name": "LayoutModel",
            "_view_count": null,
            "_view_module": "@jupyter-widgets/base",
            "_view_module_version": "1.2.0",
            "_view_name": "LayoutView",
            "align_content": null,
            "align_items": null,
            "align_self": null,
            "border": null,
            "bottom": null,
            "display": null,
            "flex": null,
            "flex_flow": null,
            "grid_area": null,
            "grid_auto_columns": null,
            "grid_auto_flow": null,
            "grid_auto_rows": null,
            "grid_column": null,
            "grid_gap": null,
            "grid_row": null,
            "grid_template_areas": null,
            "grid_template_columns": null,
            "grid_template_rows": null,
            "height": null,
            "justify_content": null,
            "justify_items": null,
            "left": null,
            "margin": null,
            "max_height": null,
            "max_width": null,
            "min_height": null,
            "min_width": null,
            "object_fit": null,
            "object_position": null,
            "order": null,
            "overflow": null,
            "overflow_x": null,
            "overflow_y": null,
            "padding": null,
            "right": null,
            "top": null,
            "visibility": null,
            "width": null
          }
        },
        "5447edbc3c504f0080895e4080d44ee2": {
          "model_module": "@jupyter-widgets/controls",
          "model_name": "DescriptionStyleModel",
          "model_module_version": "1.5.0",
          "state": {
            "_model_module": "@jupyter-widgets/controls",
            "_model_module_version": "1.5.0",
            "_model_name": "DescriptionStyleModel",
            "_view_count": null,
            "_view_module": "@jupyter-widgets/base",
            "_view_module_version": "1.2.0",
            "_view_name": "StyleView",
            "description_width": ""
          }
        },
        "5c4a7741970c47c0b521f87d2a0f5907": {
          "model_module": "@jupyter-widgets/controls",
          "model_name": "HBoxModel",
          "model_module_version": "1.5.0",
          "state": {
            "_dom_classes": [],
            "_model_module": "@jupyter-widgets/controls",
            "_model_module_version": "1.5.0",
            "_model_name": "HBoxModel",
            "_view_count": null,
            "_view_module": "@jupyter-widgets/controls",
            "_view_module_version": "1.5.0",
            "_view_name": "HBoxView",
            "box_style": "",
            "children": [
              "IPY_MODEL_156cbb2a7cb546b388db9a7f3593e80b",
              "IPY_MODEL_e66498cf024547f99cb4dd93744f7daa",
              "IPY_MODEL_b4f8717819ab4fbc891a87683bca651b"
            ],
            "layout": "IPY_MODEL_25a0ab8b299d43dc8c00ca18f4ad413e"
          }
        },
        "156cbb2a7cb546b388db9a7f3593e80b": {
          "model_module": "@jupyter-widgets/controls",
          "model_name": "HTMLModel",
          "model_module_version": "1.5.0",
          "state": {
            "_dom_classes": [],
            "_model_module": "@jupyter-widgets/controls",
            "_model_module_version": "1.5.0",
            "_model_name": "HTMLModel",
            "_view_count": null,
            "_view_module": "@jupyter-widgets/controls",
            "_view_module_version": "1.5.0",
            "_view_name": "HTMLView",
            "description": "",
            "description_tooltip": null,
            "layout": "IPY_MODEL_cb412e1aac3c4e41bc5c6ef8e8fccd0f",
            "placeholder": "​",
            "style": "IPY_MODEL_222dbca3a2af46efa42fa551b0d0fc09",
            "value": "tokenization_plamo.py: 100%"
          }
        },
        "e66498cf024547f99cb4dd93744f7daa": {
          "model_module": "@jupyter-widgets/controls",
          "model_name": "FloatProgressModel",
          "model_module_version": "1.5.0",
          "state": {
            "_dom_classes": [],
            "_model_module": "@jupyter-widgets/controls",
            "_model_module_version": "1.5.0",
            "_model_name": "FloatProgressModel",
            "_view_count": null,
            "_view_module": "@jupyter-widgets/controls",
            "_view_module_version": "1.5.0",
            "_view_name": "ProgressView",
            "bar_style": "success",
            "description": "",
            "description_tooltip": null,
            "layout": "IPY_MODEL_cff5fc619c3f4e498c543f0cc8f2530b",
            "max": 7635,
            "min": 0,
            "orientation": "horizontal",
            "style": "IPY_MODEL_010caeb4285d47a9a3b881a85ddf5e32",
            "value": 7635
          }
        },
        "b4f8717819ab4fbc891a87683bca651b": {
          "model_module": "@jupyter-widgets/controls",
          "model_name": "HTMLModel",
          "model_module_version": "1.5.0",
          "state": {
            "_dom_classes": [],
            "_model_module": "@jupyter-widgets/controls",
            "_model_module_version": "1.5.0",
            "_model_name": "HTMLModel",
            "_view_count": null,
            "_view_module": "@jupyter-widgets/controls",
            "_view_module_version": "1.5.0",
            "_view_name": "HTMLView",
            "description": "",
            "description_tooltip": null,
            "layout": "IPY_MODEL_ad10f96a345c42e4bd5e2924f3dd02c8",
            "placeholder": "​",
            "style": "IPY_MODEL_0530ecf33ca2463ab579d4bdaa95c362",
            "value": " 7.63k/7.63k [00:00&lt;00:00, 232kB/s]"
          }
        },
        "25a0ab8b299d43dc8c00ca18f4ad413e": {
          "model_module": "@jupyter-widgets/base",
          "model_name": "LayoutModel",
          "model_module_version": "1.2.0",
          "state": {
            "_model_module": "@jupyter-widgets/base",
            "_model_module_version": "1.2.0",
            "_model_name": "LayoutModel",
            "_view_count": null,
            "_view_module": "@jupyter-widgets/base",
            "_view_module_version": "1.2.0",
            "_view_name": "LayoutView",
            "align_content": null,
            "align_items": null,
            "align_self": null,
            "border": null,
            "bottom": null,
            "display": null,
            "flex": null,
            "flex_flow": null,
            "grid_area": null,
            "grid_auto_columns": null,
            "grid_auto_flow": null,
            "grid_auto_rows": null,
            "grid_column": null,
            "grid_gap": null,
            "grid_row": null,
            "grid_template_areas": null,
            "grid_template_columns": null,
            "grid_template_rows": null,
            "height": null,
            "justify_content": null,
            "justify_items": null,
            "left": null,
            "margin": null,
            "max_height": null,
            "max_width": null,
            "min_height": null,
            "min_width": null,
            "object_fit": null,
            "object_position": null,
            "order": null,
            "overflow": null,
            "overflow_x": null,
            "overflow_y": null,
            "padding": null,
            "right": null,
            "top": null,
            "visibility": null,
            "width": null
          }
        },
        "cb412e1aac3c4e41bc5c6ef8e8fccd0f": {
          "model_module": "@jupyter-widgets/base",
          "model_name": "LayoutModel",
          "model_module_version": "1.2.0",
          "state": {
            "_model_module": "@jupyter-widgets/base",
            "_model_module_version": "1.2.0",
            "_model_name": "LayoutModel",
            "_view_count": null,
            "_view_module": "@jupyter-widgets/base",
            "_view_module_version": "1.2.0",
            "_view_name": "LayoutView",
            "align_content": null,
            "align_items": null,
            "align_self": null,
            "border": null,
            "bottom": null,
            "display": null,
            "flex": null,
            "flex_flow": null,
            "grid_area": null,
            "grid_auto_columns": null,
            "grid_auto_flow": null,
            "grid_auto_rows": null,
            "grid_column": null,
            "grid_gap": null,
            "grid_row": null,
            "grid_template_areas": null,
            "grid_template_columns": null,
            "grid_template_rows": null,
            "height": null,
            "justify_content": null,
            "justify_items": null,
            "left": null,
            "margin": null,
            "max_height": null,
            "max_width": null,
            "min_height": null,
            "min_width": null,
            "object_fit": null,
            "object_position": null,
            "order": null,
            "overflow": null,
            "overflow_x": null,
            "overflow_y": null,
            "padding": null,
            "right": null,
            "top": null,
            "visibility": null,
            "width": null
          }
        },
        "222dbca3a2af46efa42fa551b0d0fc09": {
          "model_module": "@jupyter-widgets/controls",
          "model_name": "DescriptionStyleModel",
          "model_module_version": "1.5.0",
          "state": {
            "_model_module": "@jupyter-widgets/controls",
            "_model_module_version": "1.5.0",
            "_model_name": "DescriptionStyleModel",
            "_view_count": null,
            "_view_module": "@jupyter-widgets/base",
            "_view_module_version": "1.2.0",
            "_view_name": "StyleView",
            "description_width": ""
          }
        },
        "cff5fc619c3f4e498c543f0cc8f2530b": {
          "model_module": "@jupyter-widgets/base",
          "model_name": "LayoutModel",
          "model_module_version": "1.2.0",
          "state": {
            "_model_module": "@jupyter-widgets/base",
            "_model_module_version": "1.2.0",
            "_model_name": "LayoutModel",
            "_view_count": null,
            "_view_module": "@jupyter-widgets/base",
            "_view_module_version": "1.2.0",
            "_view_name": "LayoutView",
            "align_content": null,
            "align_items": null,
            "align_self": null,
            "border": null,
            "bottom": null,
            "display": null,
            "flex": null,
            "flex_flow": null,
            "grid_area": null,
            "grid_auto_columns": null,
            "grid_auto_flow": null,
            "grid_auto_rows": null,
            "grid_column": null,
            "grid_gap": null,
            "grid_row": null,
            "grid_template_areas": null,
            "grid_template_columns": null,
            "grid_template_rows": null,
            "height": null,
            "justify_content": null,
            "justify_items": null,
            "left": null,
            "margin": null,
            "max_height": null,
            "max_width": null,
            "min_height": null,
            "min_width": null,
            "object_fit": null,
            "object_position": null,
            "order": null,
            "overflow": null,
            "overflow_x": null,
            "overflow_y": null,
            "padding": null,
            "right": null,
            "top": null,
            "visibility": null,
            "width": null
          }
        },
        "010caeb4285d47a9a3b881a85ddf5e32": {
          "model_module": "@jupyter-widgets/controls",
          "model_name": "ProgressStyleModel",
          "model_module_version": "1.5.0",
          "state": {
            "_model_module": "@jupyter-widgets/controls",
            "_model_module_version": "1.5.0",
            "_model_name": "ProgressStyleModel",
            "_view_count": null,
            "_view_module": "@jupyter-widgets/base",
            "_view_module_version": "1.2.0",
            "_view_name": "StyleView",
            "bar_color": null,
            "description_width": ""
          }
        },
        "ad10f96a345c42e4bd5e2924f3dd02c8": {
          "model_module": "@jupyter-widgets/base",
          "model_name": "LayoutModel",
          "model_module_version": "1.2.0",
          "state": {
            "_model_module": "@jupyter-widgets/base",
            "_model_module_version": "1.2.0",
            "_model_name": "LayoutModel",
            "_view_count": null,
            "_view_module": "@jupyter-widgets/base",
            "_view_module_version": "1.2.0",
            "_view_name": "LayoutView",
            "align_content": null,
            "align_items": null,
            "align_self": null,
            "border": null,
            "bottom": null,
            "display": null,
            "flex": null,
            "flex_flow": null,
            "grid_area": null,
            "grid_auto_columns": null,
            "grid_auto_flow": null,
            "grid_auto_rows": null,
            "grid_column": null,
            "grid_gap": null,
            "grid_row": null,
            "grid_template_areas": null,
            "grid_template_columns": null,
            "grid_template_rows": null,
            "height": null,
            "justify_content": null,
            "justify_items": null,
            "left": null,
            "margin": null,
            "max_height": null,
            "max_width": null,
            "min_height": null,
            "min_width": null,
            "object_fit": null,
            "object_position": null,
            "order": null,
            "overflow": null,
            "overflow_x": null,
            "overflow_y": null,
            "padding": null,
            "right": null,
            "top": null,
            "visibility": null,
            "width": null
          }
        },
        "0530ecf33ca2463ab579d4bdaa95c362": {
          "model_module": "@jupyter-widgets/controls",
          "model_name": "DescriptionStyleModel",
          "model_module_version": "1.5.0",
          "state": {
            "_model_module": "@jupyter-widgets/controls",
            "_model_module_version": "1.5.0",
            "_model_name": "DescriptionStyleModel",
            "_view_count": null,
            "_view_module": "@jupyter-widgets/base",
            "_view_module_version": "1.2.0",
            "_view_name": "StyleView",
            "description_width": ""
          }
        },
        "8a4bff01e36f48a484cd5d45c59bfd1c": {
          "model_module": "@jupyter-widgets/controls",
          "model_name": "HBoxModel",
          "model_module_version": "1.5.0",
          "state": {
            "_dom_classes": [],
            "_model_module": "@jupyter-widgets/controls",
            "_model_module_version": "1.5.0",
            "_model_name": "HBoxModel",
            "_view_count": null,
            "_view_module": "@jupyter-widgets/controls",
            "_view_module_version": "1.5.0",
            "_view_name": "HBoxView",
            "box_style": "",
            "children": [
              "IPY_MODEL_5828597d087743068e1c0f447c2682b0",
              "IPY_MODEL_146d14ac3bc34195bb4cb1e0896abd45",
              "IPY_MODEL_b28eb4e68e3e4d16a1cc9fe83f62e9aa"
            ],
            "layout": "IPY_MODEL_774ad40aa04947a9b9a5d9763325ce4c"
          }
        },
        "5828597d087743068e1c0f447c2682b0": {
          "model_module": "@jupyter-widgets/controls",
          "model_name": "HTMLModel",
          "model_module_version": "1.5.0",
          "state": {
            "_dom_classes": [],
            "_model_module": "@jupyter-widgets/controls",
            "_model_module_version": "1.5.0",
            "_model_name": "HTMLModel",
            "_view_count": null,
            "_view_module": "@jupyter-widgets/controls",
            "_view_module_version": "1.5.0",
            "_view_name": "HTMLView",
            "description": "",
            "description_tooltip": null,
            "layout": "IPY_MODEL_68fc2053e7474f69833e0b96bf5c1415",
            "placeholder": "​",
            "style": "IPY_MODEL_4df6ec776542465a8d73e7ecb1edd6b1",
            "value": "tokenizer.model: 100%"
          }
        },
        "146d14ac3bc34195bb4cb1e0896abd45": {
          "model_module": "@jupyter-widgets/controls",
          "model_name": "FloatProgressModel",
          "model_module_version": "1.5.0",
          "state": {
            "_dom_classes": [],
            "_model_module": "@jupyter-widgets/controls",
            "_model_module_version": "1.5.0",
            "_model_name": "FloatProgressModel",
            "_view_count": null,
            "_view_module": "@jupyter-widgets/controls",
            "_view_module_version": "1.5.0",
            "_view_name": "ProgressView",
            "bar_style": "success",
            "description": "",
            "description_tooltip": null,
            "layout": "IPY_MODEL_f55a62de43c241f9897536851eef92b9",
            "max": 805457,
            "min": 0,
            "orientation": "horizontal",
            "style": "IPY_MODEL_5176eb146c1f409f89ee0cf1a72ffad1",
            "value": 805457
          }
        },
        "b28eb4e68e3e4d16a1cc9fe83f62e9aa": {
          "model_module": "@jupyter-widgets/controls",
          "model_name": "HTMLModel",
          "model_module_version": "1.5.0",
          "state": {
            "_dom_classes": [],
            "_model_module": "@jupyter-widgets/controls",
            "_model_module_version": "1.5.0",
            "_model_name": "HTMLModel",
            "_view_count": null,
            "_view_module": "@jupyter-widgets/controls",
            "_view_module_version": "1.5.0",
            "_view_name": "HTMLView",
            "description": "",
            "description_tooltip": null,
            "layout": "IPY_MODEL_89b643f9a54f4acda71a9144c28e5f51",
            "placeholder": "​",
            "style": "IPY_MODEL_0cd557dd33d64e8eab88caefcde247f8",
            "value": " 805k/805k [00:00&lt;00:00, 12.9MB/s]"
          }
        },
        "774ad40aa04947a9b9a5d9763325ce4c": {
          "model_module": "@jupyter-widgets/base",
          "model_name": "LayoutModel",
          "model_module_version": "1.2.0",
          "state": {
            "_model_module": "@jupyter-widgets/base",
            "_model_module_version": "1.2.0",
            "_model_name": "LayoutModel",
            "_view_count": null,
            "_view_module": "@jupyter-widgets/base",
            "_view_module_version": "1.2.0",
            "_view_name": "LayoutView",
            "align_content": null,
            "align_items": null,
            "align_self": null,
            "border": null,
            "bottom": null,
            "display": null,
            "flex": null,
            "flex_flow": null,
            "grid_area": null,
            "grid_auto_columns": null,
            "grid_auto_flow": null,
            "grid_auto_rows": null,
            "grid_column": null,
            "grid_gap": null,
            "grid_row": null,
            "grid_template_areas": null,
            "grid_template_columns": null,
            "grid_template_rows": null,
            "height": null,
            "justify_content": null,
            "justify_items": null,
            "left": null,
            "margin": null,
            "max_height": null,
            "max_width": null,
            "min_height": null,
            "min_width": null,
            "object_fit": null,
            "object_position": null,
            "order": null,
            "overflow": null,
            "overflow_x": null,
            "overflow_y": null,
            "padding": null,
            "right": null,
            "top": null,
            "visibility": null,
            "width": null
          }
        },
        "68fc2053e7474f69833e0b96bf5c1415": {
          "model_module": "@jupyter-widgets/base",
          "model_name": "LayoutModel",
          "model_module_version": "1.2.0",
          "state": {
            "_model_module": "@jupyter-widgets/base",
            "_model_module_version": "1.2.0",
            "_model_name": "LayoutModel",
            "_view_count": null,
            "_view_module": "@jupyter-widgets/base",
            "_view_module_version": "1.2.0",
            "_view_name": "LayoutView",
            "align_content": null,
            "align_items": null,
            "align_self": null,
            "border": null,
            "bottom": null,
            "display": null,
            "flex": null,
            "flex_flow": null,
            "grid_area": null,
            "grid_auto_columns": null,
            "grid_auto_flow": null,
            "grid_auto_rows": null,
            "grid_column": null,
            "grid_gap": null,
            "grid_row": null,
            "grid_template_areas": null,
            "grid_template_columns": null,
            "grid_template_rows": null,
            "height": null,
            "justify_content": null,
            "justify_items": null,
            "left": null,
            "margin": null,
            "max_height": null,
            "max_width": null,
            "min_height": null,
            "min_width": null,
            "object_fit": null,
            "object_position": null,
            "order": null,
            "overflow": null,
            "overflow_x": null,
            "overflow_y": null,
            "padding": null,
            "right": null,
            "top": null,
            "visibility": null,
            "width": null
          }
        },
        "4df6ec776542465a8d73e7ecb1edd6b1": {
          "model_module": "@jupyter-widgets/controls",
          "model_name": "DescriptionStyleModel",
          "model_module_version": "1.5.0",
          "state": {
            "_model_module": "@jupyter-widgets/controls",
            "_model_module_version": "1.5.0",
            "_model_name": "DescriptionStyleModel",
            "_view_count": null,
            "_view_module": "@jupyter-widgets/base",
            "_view_module_version": "1.2.0",
            "_view_name": "StyleView",
            "description_width": ""
          }
        },
        "f55a62de43c241f9897536851eef92b9": {
          "model_module": "@jupyter-widgets/base",
          "model_name": "LayoutModel",
          "model_module_version": "1.2.0",
          "state": {
            "_model_module": "@jupyter-widgets/base",
            "_model_module_version": "1.2.0",
            "_model_name": "LayoutModel",
            "_view_count": null,
            "_view_module": "@jupyter-widgets/base",
            "_view_module_version": "1.2.0",
            "_view_name": "LayoutView",
            "align_content": null,
            "align_items": null,
            "align_self": null,
            "border": null,
            "bottom": null,
            "display": null,
            "flex": null,
            "flex_flow": null,
            "grid_area": null,
            "grid_auto_columns": null,
            "grid_auto_flow": null,
            "grid_auto_rows": null,
            "grid_column": null,
            "grid_gap": null,
            "grid_row": null,
            "grid_template_areas": null,
            "grid_template_columns": null,
            "grid_template_rows": null,
            "height": null,
            "justify_content": null,
            "justify_items": null,
            "left": null,
            "margin": null,
            "max_height": null,
            "max_width": null,
            "min_height": null,
            "min_width": null,
            "object_fit": null,
            "object_position": null,
            "order": null,
            "overflow": null,
            "overflow_x": null,
            "overflow_y": null,
            "padding": null,
            "right": null,
            "top": null,
            "visibility": null,
            "width": null
          }
        },
        "5176eb146c1f409f89ee0cf1a72ffad1": {
          "model_module": "@jupyter-widgets/controls",
          "model_name": "ProgressStyleModel",
          "model_module_version": "1.5.0",
          "state": {
            "_model_module": "@jupyter-widgets/controls",
            "_model_module_version": "1.5.0",
            "_model_name": "ProgressStyleModel",
            "_view_count": null,
            "_view_module": "@jupyter-widgets/base",
            "_view_module_version": "1.2.0",
            "_view_name": "StyleView",
            "bar_color": null,
            "description_width": ""
          }
        },
        "89b643f9a54f4acda71a9144c28e5f51": {
          "model_module": "@jupyter-widgets/base",
          "model_name": "LayoutModel",
          "model_module_version": "1.2.0",
          "state": {
            "_model_module": "@jupyter-widgets/base",
            "_model_module_version": "1.2.0",
            "_model_name": "LayoutModel",
            "_view_count": null,
            "_view_module": "@jupyter-widgets/base",
            "_view_module_version": "1.2.0",
            "_view_name": "LayoutView",
            "align_content": null,
            "align_items": null,
            "align_self": null,
            "border": null,
            "bottom": null,
            "display": null,
            "flex": null,
            "flex_flow": null,
            "grid_area": null,
            "grid_auto_columns": null,
            "grid_auto_flow": null,
            "grid_auto_rows": null,
            "grid_column": null,
            "grid_gap": null,
            "grid_row": null,
            "grid_template_areas": null,
            "grid_template_columns": null,
            "grid_template_rows": null,
            "height": null,
            "justify_content": null,
            "justify_items": null,
            "left": null,
            "margin": null,
            "max_height": null,
            "max_width": null,
            "min_height": null,
            "min_width": null,
            "object_fit": null,
            "object_position": null,
            "order": null,
            "overflow": null,
            "overflow_x": null,
            "overflow_y": null,
            "padding": null,
            "right": null,
            "top": null,
            "visibility": null,
            "width": null
          }
        },
        "0cd557dd33d64e8eab88caefcde247f8": {
          "model_module": "@jupyter-widgets/controls",
          "model_name": "DescriptionStyleModel",
          "model_module_version": "1.5.0",
          "state": {
            "_model_module": "@jupyter-widgets/controls",
            "_model_module_version": "1.5.0",
            "_model_name": "DescriptionStyleModel",
            "_view_count": null,
            "_view_module": "@jupyter-widgets/base",
            "_view_module_version": "1.2.0",
            "_view_name": "StyleView",
            "description_width": ""
          }
        },
        "5553b3278d0f486cabffc66348ecf294": {
          "model_module": "@jupyter-widgets/controls",
          "model_name": "HBoxModel",
          "model_module_version": "1.5.0",
          "state": {
            "_dom_classes": [],
            "_model_module": "@jupyter-widgets/controls",
            "_model_module_version": "1.5.0",
            "_model_name": "HBoxModel",
            "_view_count": null,
            "_view_module": "@jupyter-widgets/controls",
            "_view_module_version": "1.5.0",
            "_view_name": "HBoxView",
            "box_style": "",
            "children": [
              "IPY_MODEL_3be26d58fb6843c8b6b61a11397cacc5",
              "IPY_MODEL_fec8e2b2e93d4cffb03b6bb9fd8a341c",
              "IPY_MODEL_bf82d6b2aac346259d11ee981aeeefff"
            ],
            "layout": "IPY_MODEL_ee1dbd0af51643a191b6a301159bfbbe"
          }
        },
        "3be26d58fb6843c8b6b61a11397cacc5": {
          "model_module": "@jupyter-widgets/controls",
          "model_name": "HTMLModel",
          "model_module_version": "1.5.0",
          "state": {
            "_dom_classes": [],
            "_model_module": "@jupyter-widgets/controls",
            "_model_module_version": "1.5.0",
            "_model_name": "HTMLModel",
            "_view_count": null,
            "_view_module": "@jupyter-widgets/controls",
            "_view_module_version": "1.5.0",
            "_view_name": "HTMLView",
            "description": "",
            "description_tooltip": null,
            "layout": "IPY_MODEL_3ab598724b564df09d943b17aa92df2e",
            "placeholder": "​",
            "style": "IPY_MODEL_84f737ffa3b34e33832df5b30bb80126",
            "value": "special_tokens_map.json: 100%"
          }
        },
        "fec8e2b2e93d4cffb03b6bb9fd8a341c": {
          "model_module": "@jupyter-widgets/controls",
          "model_name": "FloatProgressModel",
          "model_module_version": "1.5.0",
          "state": {
            "_dom_classes": [],
            "_model_module": "@jupyter-widgets/controls",
            "_model_module_version": "1.5.0",
            "_model_name": "FloatProgressModel",
            "_view_count": null,
            "_view_module": "@jupyter-widgets/controls",
            "_view_module_version": "1.5.0",
            "_view_name": "ProgressView",
            "bar_style": "success",
            "description": "",
            "description_tooltip": null,
            "layout": "IPY_MODEL_c0830aeb1af04762941ce3e54ebe35d3",
            "max": 477,
            "min": 0,
            "orientation": "horizontal",
            "style": "IPY_MODEL_80dc57d357ba447fb34344b86c59f8e1",
            "value": 477
          }
        },
        "bf82d6b2aac346259d11ee981aeeefff": {
          "model_module": "@jupyter-widgets/controls",
          "model_name": "HTMLModel",
          "model_module_version": "1.5.0",
          "state": {
            "_dom_classes": [],
            "_model_module": "@jupyter-widgets/controls",
            "_model_module_version": "1.5.0",
            "_model_name": "HTMLModel",
            "_view_count": null,
            "_view_module": "@jupyter-widgets/controls",
            "_view_module_version": "1.5.0",
            "_view_name": "HTMLView",
            "description": "",
            "description_tooltip": null,
            "layout": "IPY_MODEL_f24bf47e77c64c29838842f150568182",
            "placeholder": "​",
            "style": "IPY_MODEL_569c944802a049258b881cc55d62fb74",
            "value": " 477/477 [00:00&lt;00:00, 9.75kB/s]"
          }
        },
        "ee1dbd0af51643a191b6a301159bfbbe": {
          "model_module": "@jupyter-widgets/base",
          "model_name": "LayoutModel",
          "model_module_version": "1.2.0",
          "state": {
            "_model_module": "@jupyter-widgets/base",
            "_model_module_version": "1.2.0",
            "_model_name": "LayoutModel",
            "_view_count": null,
            "_view_module": "@jupyter-widgets/base",
            "_view_module_version": "1.2.0",
            "_view_name": "LayoutView",
            "align_content": null,
            "align_items": null,
            "align_self": null,
            "border": null,
            "bottom": null,
            "display": null,
            "flex": null,
            "flex_flow": null,
            "grid_area": null,
            "grid_auto_columns": null,
            "grid_auto_flow": null,
            "grid_auto_rows": null,
            "grid_column": null,
            "grid_gap": null,
            "grid_row": null,
            "grid_template_areas": null,
            "grid_template_columns": null,
            "grid_template_rows": null,
            "height": null,
            "justify_content": null,
            "justify_items": null,
            "left": null,
            "margin": null,
            "max_height": null,
            "max_width": null,
            "min_height": null,
            "min_width": null,
            "object_fit": null,
            "object_position": null,
            "order": null,
            "overflow": null,
            "overflow_x": null,
            "overflow_y": null,
            "padding": null,
            "right": null,
            "top": null,
            "visibility": null,
            "width": null
          }
        },
        "3ab598724b564df09d943b17aa92df2e": {
          "model_module": "@jupyter-widgets/base",
          "model_name": "LayoutModel",
          "model_module_version": "1.2.0",
          "state": {
            "_model_module": "@jupyter-widgets/base",
            "_model_module_version": "1.2.0",
            "_model_name": "LayoutModel",
            "_view_count": null,
            "_view_module": "@jupyter-widgets/base",
            "_view_module_version": "1.2.0",
            "_view_name": "LayoutView",
            "align_content": null,
            "align_items": null,
            "align_self": null,
            "border": null,
            "bottom": null,
            "display": null,
            "flex": null,
            "flex_flow": null,
            "grid_area": null,
            "grid_auto_columns": null,
            "grid_auto_flow": null,
            "grid_auto_rows": null,
            "grid_column": null,
            "grid_gap": null,
            "grid_row": null,
            "grid_template_areas": null,
            "grid_template_columns": null,
            "grid_template_rows": null,
            "height": null,
            "justify_content": null,
            "justify_items": null,
            "left": null,
            "margin": null,
            "max_height": null,
            "max_width": null,
            "min_height": null,
            "min_width": null,
            "object_fit": null,
            "object_position": null,
            "order": null,
            "overflow": null,
            "overflow_x": null,
            "overflow_y": null,
            "padding": null,
            "right": null,
            "top": null,
            "visibility": null,
            "width": null
          }
        },
        "84f737ffa3b34e33832df5b30bb80126": {
          "model_module": "@jupyter-widgets/controls",
          "model_name": "DescriptionStyleModel",
          "model_module_version": "1.5.0",
          "state": {
            "_model_module": "@jupyter-widgets/controls",
            "_model_module_version": "1.5.0",
            "_model_name": "DescriptionStyleModel",
            "_view_count": null,
            "_view_module": "@jupyter-widgets/base",
            "_view_module_version": "1.2.0",
            "_view_name": "StyleView",
            "description_width": ""
          }
        },
        "c0830aeb1af04762941ce3e54ebe35d3": {
          "model_module": "@jupyter-widgets/base",
          "model_name": "LayoutModel",
          "model_module_version": "1.2.0",
          "state": {
            "_model_module": "@jupyter-widgets/base",
            "_model_module_version": "1.2.0",
            "_model_name": "LayoutModel",
            "_view_count": null,
            "_view_module": "@jupyter-widgets/base",
            "_view_module_version": "1.2.0",
            "_view_name": "LayoutView",
            "align_content": null,
            "align_items": null,
            "align_self": null,
            "border": null,
            "bottom": null,
            "display": null,
            "flex": null,
            "flex_flow": null,
            "grid_area": null,
            "grid_auto_columns": null,
            "grid_auto_flow": null,
            "grid_auto_rows": null,
            "grid_column": null,
            "grid_gap": null,
            "grid_row": null,
            "grid_template_areas": null,
            "grid_template_columns": null,
            "grid_template_rows": null,
            "height": null,
            "justify_content": null,
            "justify_items": null,
            "left": null,
            "margin": null,
            "max_height": null,
            "max_width": null,
            "min_height": null,
            "min_width": null,
            "object_fit": null,
            "object_position": null,
            "order": null,
            "overflow": null,
            "overflow_x": null,
            "overflow_y": null,
            "padding": null,
            "right": null,
            "top": null,
            "visibility": null,
            "width": null
          }
        },
        "80dc57d357ba447fb34344b86c59f8e1": {
          "model_module": "@jupyter-widgets/controls",
          "model_name": "ProgressStyleModel",
          "model_module_version": "1.5.0",
          "state": {
            "_model_module": "@jupyter-widgets/controls",
            "_model_module_version": "1.5.0",
            "_model_name": "ProgressStyleModel",
            "_view_count": null,
            "_view_module": "@jupyter-widgets/base",
            "_view_module_version": "1.2.0",
            "_view_name": "StyleView",
            "bar_color": null,
            "description_width": ""
          }
        },
        "f24bf47e77c64c29838842f150568182": {
          "model_module": "@jupyter-widgets/base",
          "model_name": "LayoutModel",
          "model_module_version": "1.2.0",
          "state": {
            "_model_module": "@jupyter-widgets/base",
            "_model_module_version": "1.2.0",
            "_model_name": "LayoutModel",
            "_view_count": null,
            "_view_module": "@jupyter-widgets/base",
            "_view_module_version": "1.2.0",
            "_view_name": "LayoutView",
            "align_content": null,
            "align_items": null,
            "align_self": null,
            "border": null,
            "bottom": null,
            "display": null,
            "flex": null,
            "flex_flow": null,
            "grid_area": null,
            "grid_auto_columns": null,
            "grid_auto_flow": null,
            "grid_auto_rows": null,
            "grid_column": null,
            "grid_gap": null,
            "grid_row": null,
            "grid_template_areas": null,
            "grid_template_columns": null,
            "grid_template_rows": null,
            "height": null,
            "justify_content": null,
            "justify_items": null,
            "left": null,
            "margin": null,
            "max_height": null,
            "max_width": null,
            "min_height": null,
            "min_width": null,
            "object_fit": null,
            "object_position": null,
            "order": null,
            "overflow": null,
            "overflow_x": null,
            "overflow_y": null,
            "padding": null,
            "right": null,
            "top": null,
            "visibility": null,
            "width": null
          }
        },
        "569c944802a049258b881cc55d62fb74": {
          "model_module": "@jupyter-widgets/controls",
          "model_name": "DescriptionStyleModel",
          "model_module_version": "1.5.0",
          "state": {
            "_model_module": "@jupyter-widgets/controls",
            "_model_module_version": "1.5.0",
            "_model_name": "DescriptionStyleModel",
            "_view_count": null,
            "_view_module": "@jupyter-widgets/base",
            "_view_module_version": "1.2.0",
            "_view_name": "StyleView",
            "description_width": ""
          }
        },
        "2a7c581dffd948e7a2569717f19ab560": {
          "model_module": "@jupyter-widgets/controls",
          "model_name": "HBoxModel",
          "model_module_version": "1.5.0",
          "state": {
            "_dom_classes": [],
            "_model_module": "@jupyter-widgets/controls",
            "_model_module_version": "1.5.0",
            "_model_name": "HBoxModel",
            "_view_count": null,
            "_view_module": "@jupyter-widgets/controls",
            "_view_module_version": "1.5.0",
            "_view_name": "HBoxView",
            "box_style": "",
            "children": [
              "IPY_MODEL_651622c25dc64442bc8881b27813b76d",
              "IPY_MODEL_59bc5d451c644e4a926ff15aee703eb4",
              "IPY_MODEL_931c3902cd354dfb9728cab7895de15a"
            ],
            "layout": "IPY_MODEL_2d5463214ba54281918d1f02baa8ca8c"
          }
        },
        "651622c25dc64442bc8881b27813b76d": {
          "model_module": "@jupyter-widgets/controls",
          "model_name": "HTMLModel",
          "model_module_version": "1.5.0",
          "state": {
            "_dom_classes": [],
            "_model_module": "@jupyter-widgets/controls",
            "_model_module_version": "1.5.0",
            "_model_name": "HTMLModel",
            "_view_count": null,
            "_view_module": "@jupyter-widgets/controls",
            "_view_module_version": "1.5.0",
            "_view_name": "HTMLView",
            "description": "",
            "description_tooltip": null,
            "layout": "IPY_MODEL_e990d5c286af4901aa93f1200f59bd08",
            "placeholder": "​",
            "style": "IPY_MODEL_c1b8f22ea96b46dc9a4c67f11a03d886",
            "value": "config.json: 100%"
          }
        },
        "59bc5d451c644e4a926ff15aee703eb4": {
          "model_module": "@jupyter-widgets/controls",
          "model_name": "FloatProgressModel",
          "model_module_version": "1.5.0",
          "state": {
            "_dom_classes": [],
            "_model_module": "@jupyter-widgets/controls",
            "_model_module_version": "1.5.0",
            "_model_name": "FloatProgressModel",
            "_view_count": null,
            "_view_module": "@jupyter-widgets/controls",
            "_view_module_version": "1.5.0",
            "_view_name": "ProgressView",
            "bar_style": "success",
            "description": "",
            "description_tooltip": null,
            "layout": "IPY_MODEL_c0db047bbba045ed8129b014e18797e0",
            "max": 1091,
            "min": 0,
            "orientation": "horizontal",
            "style": "IPY_MODEL_1292439359854b57873256f0700a2f3e",
            "value": 1091
          }
        },
        "931c3902cd354dfb9728cab7895de15a": {
          "model_module": "@jupyter-widgets/controls",
          "model_name": "HTMLModel",
          "model_module_version": "1.5.0",
          "state": {
            "_dom_classes": [],
            "_model_module": "@jupyter-widgets/controls",
            "_model_module_version": "1.5.0",
            "_model_name": "HTMLModel",
            "_view_count": null,
            "_view_module": "@jupyter-widgets/controls",
            "_view_module_version": "1.5.0",
            "_view_name": "HTMLView",
            "description": "",
            "description_tooltip": null,
            "layout": "IPY_MODEL_045f68de7f034027bfe8dd06b215bd70",
            "placeholder": "​",
            "style": "IPY_MODEL_bf95374cf1a543309b4a1fe46de5e97f",
            "value": " 1.09k/1.09k [00:00&lt;00:00, 53.5kB/s]"
          }
        },
        "2d5463214ba54281918d1f02baa8ca8c": {
          "model_module": "@jupyter-widgets/base",
          "model_name": "LayoutModel",
          "model_module_version": "1.2.0",
          "state": {
            "_model_module": "@jupyter-widgets/base",
            "_model_module_version": "1.2.0",
            "_model_name": "LayoutModel",
            "_view_count": null,
            "_view_module": "@jupyter-widgets/base",
            "_view_module_version": "1.2.0",
            "_view_name": "LayoutView",
            "align_content": null,
            "align_items": null,
            "align_self": null,
            "border": null,
            "bottom": null,
            "display": null,
            "flex": null,
            "flex_flow": null,
            "grid_area": null,
            "grid_auto_columns": null,
            "grid_auto_flow": null,
            "grid_auto_rows": null,
            "grid_column": null,
            "grid_gap": null,
            "grid_row": null,
            "grid_template_areas": null,
            "grid_template_columns": null,
            "grid_template_rows": null,
            "height": null,
            "justify_content": null,
            "justify_items": null,
            "left": null,
            "margin": null,
            "max_height": null,
            "max_width": null,
            "min_height": null,
            "min_width": null,
            "object_fit": null,
            "object_position": null,
            "order": null,
            "overflow": null,
            "overflow_x": null,
            "overflow_y": null,
            "padding": null,
            "right": null,
            "top": null,
            "visibility": null,
            "width": null
          }
        },
        "e990d5c286af4901aa93f1200f59bd08": {
          "model_module": "@jupyter-widgets/base",
          "model_name": "LayoutModel",
          "model_module_version": "1.2.0",
          "state": {
            "_model_module": "@jupyter-widgets/base",
            "_model_module_version": "1.2.0",
            "_model_name": "LayoutModel",
            "_view_count": null,
            "_view_module": "@jupyter-widgets/base",
            "_view_module_version": "1.2.0",
            "_view_name": "LayoutView",
            "align_content": null,
            "align_items": null,
            "align_self": null,
            "border": null,
            "bottom": null,
            "display": null,
            "flex": null,
            "flex_flow": null,
            "grid_area": null,
            "grid_auto_columns": null,
            "grid_auto_flow": null,
            "grid_auto_rows": null,
            "grid_column": null,
            "grid_gap": null,
            "grid_row": null,
            "grid_template_areas": null,
            "grid_template_columns": null,
            "grid_template_rows": null,
            "height": null,
            "justify_content": null,
            "justify_items": null,
            "left": null,
            "margin": null,
            "max_height": null,
            "max_width": null,
            "min_height": null,
            "min_width": null,
            "object_fit": null,
            "object_position": null,
            "order": null,
            "overflow": null,
            "overflow_x": null,
            "overflow_y": null,
            "padding": null,
            "right": null,
            "top": null,
            "visibility": null,
            "width": null
          }
        },
        "c1b8f22ea96b46dc9a4c67f11a03d886": {
          "model_module": "@jupyter-widgets/controls",
          "model_name": "DescriptionStyleModel",
          "model_module_version": "1.5.0",
          "state": {
            "_model_module": "@jupyter-widgets/controls",
            "_model_module_version": "1.5.0",
            "_model_name": "DescriptionStyleModel",
            "_view_count": null,
            "_view_module": "@jupyter-widgets/base",
            "_view_module_version": "1.2.0",
            "_view_name": "StyleView",
            "description_width": ""
          }
        },
        "c0db047bbba045ed8129b014e18797e0": {
          "model_module": "@jupyter-widgets/base",
          "model_name": "LayoutModel",
          "model_module_version": "1.2.0",
          "state": {
            "_model_module": "@jupyter-widgets/base",
            "_model_module_version": "1.2.0",
            "_model_name": "LayoutModel",
            "_view_count": null,
            "_view_module": "@jupyter-widgets/base",
            "_view_module_version": "1.2.0",
            "_view_name": "LayoutView",
            "align_content": null,
            "align_items": null,
            "align_self": null,
            "border": null,
            "bottom": null,
            "display": null,
            "flex": null,
            "flex_flow": null,
            "grid_area": null,
            "grid_auto_columns": null,
            "grid_auto_flow": null,
            "grid_auto_rows": null,
            "grid_column": null,
            "grid_gap": null,
            "grid_row": null,
            "grid_template_areas": null,
            "grid_template_columns": null,
            "grid_template_rows": null,
            "height": null,
            "justify_content": null,
            "justify_items": null,
            "left": null,
            "margin": null,
            "max_height": null,
            "max_width": null,
            "min_height": null,
            "min_width": null,
            "object_fit": null,
            "object_position": null,
            "order": null,
            "overflow": null,
            "overflow_x": null,
            "overflow_y": null,
            "padding": null,
            "right": null,
            "top": null,
            "visibility": null,
            "width": null
          }
        },
        "1292439359854b57873256f0700a2f3e": {
          "model_module": "@jupyter-widgets/controls",
          "model_name": "ProgressStyleModel",
          "model_module_version": "1.5.0",
          "state": {
            "_model_module": "@jupyter-widgets/controls",
            "_model_module_version": "1.5.0",
            "_model_name": "ProgressStyleModel",
            "_view_count": null,
            "_view_module": "@jupyter-widgets/base",
            "_view_module_version": "1.2.0",
            "_view_name": "StyleView",
            "bar_color": null,
            "description_width": ""
          }
        },
        "045f68de7f034027bfe8dd06b215bd70": {
          "model_module": "@jupyter-widgets/base",
          "model_name": "LayoutModel",
          "model_module_version": "1.2.0",
          "state": {
            "_model_module": "@jupyter-widgets/base",
            "_model_module_version": "1.2.0",
            "_model_name": "LayoutModel",
            "_view_count": null,
            "_view_module": "@jupyter-widgets/base",
            "_view_module_version": "1.2.0",
            "_view_name": "LayoutView",
            "align_content": null,
            "align_items": null,
            "align_self": null,
            "border": null,
            "bottom": null,
            "display": null,
            "flex": null,
            "flex_flow": null,
            "grid_area": null,
            "grid_auto_columns": null,
            "grid_auto_flow": null,
            "grid_auto_rows": null,
            "grid_column": null,
            "grid_gap": null,
            "grid_row": null,
            "grid_template_areas": null,
            "grid_template_columns": null,
            "grid_template_rows": null,
            "height": null,
            "justify_content": null,
            "justify_items": null,
            "left": null,
            "margin": null,
            "max_height": null,
            "max_width": null,
            "min_height": null,
            "min_width": null,
            "object_fit": null,
            "object_position": null,
            "order": null,
            "overflow": null,
            "overflow_x": null,
            "overflow_y": null,
            "padding": null,
            "right": null,
            "top": null,
            "visibility": null,
            "width": null
          }
        },
        "bf95374cf1a543309b4a1fe46de5e97f": {
          "model_module": "@jupyter-widgets/controls",
          "model_name": "DescriptionStyleModel",
          "model_module_version": "1.5.0",
          "state": {
            "_model_module": "@jupyter-widgets/controls",
            "_model_module_version": "1.5.0",
            "_model_name": "DescriptionStyleModel",
            "_view_count": null,
            "_view_module": "@jupyter-widgets/base",
            "_view_module_version": "1.2.0",
            "_view_name": "StyleView",
            "description_width": ""
          }
        },
        "d06dc8423c9b444fa9fd249586748bf3": {
          "model_module": "@jupyter-widgets/controls",
          "model_name": "HBoxModel",
          "model_module_version": "1.5.0",
          "state": {
            "_dom_classes": [],
            "_model_module": "@jupyter-widgets/controls",
            "_model_module_version": "1.5.0",
            "_model_name": "HBoxModel",
            "_view_count": null,
            "_view_module": "@jupyter-widgets/controls",
            "_view_module_version": "1.5.0",
            "_view_name": "HBoxView",
            "box_style": "",
            "children": [
              "IPY_MODEL_9daf326c25454196a816b85285804da7",
              "IPY_MODEL_8c4493664015492c8130be956d481c68",
              "IPY_MODEL_4530a38b3e1d4bfb9efa062ea191351d"
            ],
            "layout": "IPY_MODEL_287cda04e9034f76939c8180ca7cd96e"
          }
        },
        "9daf326c25454196a816b85285804da7": {
          "model_module": "@jupyter-widgets/controls",
          "model_name": "HTMLModel",
          "model_module_version": "1.5.0",
          "state": {
            "_dom_classes": [],
            "_model_module": "@jupyter-widgets/controls",
            "_model_module_version": "1.5.0",
            "_model_name": "HTMLModel",
            "_view_count": null,
            "_view_module": "@jupyter-widgets/controls",
            "_view_module_version": "1.5.0",
            "_view_name": "HTMLView",
            "description": "",
            "description_tooltip": null,
            "layout": "IPY_MODEL_2ae613e45e8c43478ee2cd8e51328a6e",
            "placeholder": "​",
            "style": "IPY_MODEL_c9069ce130dc4f48961f46858c512d47",
            "value": "modeling_plamo.py: 100%"
          }
        },
        "8c4493664015492c8130be956d481c68": {
          "model_module": "@jupyter-widgets/controls",
          "model_name": "FloatProgressModel",
          "model_module_version": "1.5.0",
          "state": {
            "_dom_classes": [],
            "_model_module": "@jupyter-widgets/controls",
            "_model_module_version": "1.5.0",
            "_model_name": "FloatProgressModel",
            "_view_count": null,
            "_view_module": "@jupyter-widgets/controls",
            "_view_module_version": "1.5.0",
            "_view_name": "ProgressView",
            "bar_style": "success",
            "description": "",
            "description_tooltip": null,
            "layout": "IPY_MODEL_b5f02f0d19a7471a8fd81f4933d768df",
            "max": 38930,
            "min": 0,
            "orientation": "horizontal",
            "style": "IPY_MODEL_2aeb90be030c4e3b861c2e0d88339497",
            "value": 38930
          }
        },
        "4530a38b3e1d4bfb9efa062ea191351d": {
          "model_module": "@jupyter-widgets/controls",
          "model_name": "HTMLModel",
          "model_module_version": "1.5.0",
          "state": {
            "_dom_classes": [],
            "_model_module": "@jupyter-widgets/controls",
            "_model_module_version": "1.5.0",
            "_model_name": "HTMLModel",
            "_view_count": null,
            "_view_module": "@jupyter-widgets/controls",
            "_view_module_version": "1.5.0",
            "_view_name": "HTMLView",
            "description": "",
            "description_tooltip": null,
            "layout": "IPY_MODEL_7780cfb537db4151ae480b7bbcecac50",
            "placeholder": "​",
            "style": "IPY_MODEL_61d92f2c43d640fa82e044425983d99a",
            "value": " 38.9k/38.9k [00:00&lt;00:00, 1.84MB/s]"
          }
        },
        "287cda04e9034f76939c8180ca7cd96e": {
          "model_module": "@jupyter-widgets/base",
          "model_name": "LayoutModel",
          "model_module_version": "1.2.0",
          "state": {
            "_model_module": "@jupyter-widgets/base",
            "_model_module_version": "1.2.0",
            "_model_name": "LayoutModel",
            "_view_count": null,
            "_view_module": "@jupyter-widgets/base",
            "_view_module_version": "1.2.0",
            "_view_name": "LayoutView",
            "align_content": null,
            "align_items": null,
            "align_self": null,
            "border": null,
            "bottom": null,
            "display": null,
            "flex": null,
            "flex_flow": null,
            "grid_area": null,
            "grid_auto_columns": null,
            "grid_auto_flow": null,
            "grid_auto_rows": null,
            "grid_column": null,
            "grid_gap": null,
            "grid_row": null,
            "grid_template_areas": null,
            "grid_template_columns": null,
            "grid_template_rows": null,
            "height": null,
            "justify_content": null,
            "justify_items": null,
            "left": null,
            "margin": null,
            "max_height": null,
            "max_width": null,
            "min_height": null,
            "min_width": null,
            "object_fit": null,
            "object_position": null,
            "order": null,
            "overflow": null,
            "overflow_x": null,
            "overflow_y": null,
            "padding": null,
            "right": null,
            "top": null,
            "visibility": null,
            "width": null
          }
        },
        "2ae613e45e8c43478ee2cd8e51328a6e": {
          "model_module": "@jupyter-widgets/base",
          "model_name": "LayoutModel",
          "model_module_version": "1.2.0",
          "state": {
            "_model_module": "@jupyter-widgets/base",
            "_model_module_version": "1.2.0",
            "_model_name": "LayoutModel",
            "_view_count": null,
            "_view_module": "@jupyter-widgets/base",
            "_view_module_version": "1.2.0",
            "_view_name": "LayoutView",
            "align_content": null,
            "align_items": null,
            "align_self": null,
            "border": null,
            "bottom": null,
            "display": null,
            "flex": null,
            "flex_flow": null,
            "grid_area": null,
            "grid_auto_columns": null,
            "grid_auto_flow": null,
            "grid_auto_rows": null,
            "grid_column": null,
            "grid_gap": null,
            "grid_row": null,
            "grid_template_areas": null,
            "grid_template_columns": null,
            "grid_template_rows": null,
            "height": null,
            "justify_content": null,
            "justify_items": null,
            "left": null,
            "margin": null,
            "max_height": null,
            "max_width": null,
            "min_height": null,
            "min_width": null,
            "object_fit": null,
            "object_position": null,
            "order": null,
            "overflow": null,
            "overflow_x": null,
            "overflow_y": null,
            "padding": null,
            "right": null,
            "top": null,
            "visibility": null,
            "width": null
          }
        },
        "c9069ce130dc4f48961f46858c512d47": {
          "model_module": "@jupyter-widgets/controls",
          "model_name": "DescriptionStyleModel",
          "model_module_version": "1.5.0",
          "state": {
            "_model_module": "@jupyter-widgets/controls",
            "_model_module_version": "1.5.0",
            "_model_name": "DescriptionStyleModel",
            "_view_count": null,
            "_view_module": "@jupyter-widgets/base",
            "_view_module_version": "1.2.0",
            "_view_name": "StyleView",
            "description_width": ""
          }
        },
        "b5f02f0d19a7471a8fd81f4933d768df": {
          "model_module": "@jupyter-widgets/base",
          "model_name": "LayoutModel",
          "model_module_version": "1.2.0",
          "state": {
            "_model_module": "@jupyter-widgets/base",
            "_model_module_version": "1.2.0",
            "_model_name": "LayoutModel",
            "_view_count": null,
            "_view_module": "@jupyter-widgets/base",
            "_view_module_version": "1.2.0",
            "_view_name": "LayoutView",
            "align_content": null,
            "align_items": null,
            "align_self": null,
            "border": null,
            "bottom": null,
            "display": null,
            "flex": null,
            "flex_flow": null,
            "grid_area": null,
            "grid_auto_columns": null,
            "grid_auto_flow": null,
            "grid_auto_rows": null,
            "grid_column": null,
            "grid_gap": null,
            "grid_row": null,
            "grid_template_areas": null,
            "grid_template_columns": null,
            "grid_template_rows": null,
            "height": null,
            "justify_content": null,
            "justify_items": null,
            "left": null,
            "margin": null,
            "max_height": null,
            "max_width": null,
            "min_height": null,
            "min_width": null,
            "object_fit": null,
            "object_position": null,
            "order": null,
            "overflow": null,
            "overflow_x": null,
            "overflow_y": null,
            "padding": null,
            "right": null,
            "top": null,
            "visibility": null,
            "width": null
          }
        },
        "2aeb90be030c4e3b861c2e0d88339497": {
          "model_module": "@jupyter-widgets/controls",
          "model_name": "ProgressStyleModel",
          "model_module_version": "1.5.0",
          "state": {
            "_model_module": "@jupyter-widgets/controls",
            "_model_module_version": "1.5.0",
            "_model_name": "ProgressStyleModel",
            "_view_count": null,
            "_view_module": "@jupyter-widgets/base",
            "_view_module_version": "1.2.0",
            "_view_name": "StyleView",
            "bar_color": null,
            "description_width": ""
          }
        },
        "7780cfb537db4151ae480b7bbcecac50": {
          "model_module": "@jupyter-widgets/base",
          "model_name": "LayoutModel",
          "model_module_version": "1.2.0",
          "state": {
            "_model_module": "@jupyter-widgets/base",
            "_model_module_version": "1.2.0",
            "_model_name": "LayoutModel",
            "_view_count": null,
            "_view_module": "@jupyter-widgets/base",
            "_view_module_version": "1.2.0",
            "_view_name": "LayoutView",
            "align_content": null,
            "align_items": null,
            "align_self": null,
            "border": null,
            "bottom": null,
            "display": null,
            "flex": null,
            "flex_flow": null,
            "grid_area": null,
            "grid_auto_columns": null,
            "grid_auto_flow": null,
            "grid_auto_rows": null,
            "grid_column": null,
            "grid_gap": null,
            "grid_row": null,
            "grid_template_areas": null,
            "grid_template_columns": null,
            "grid_template_rows": null,
            "height": null,
            "justify_content": null,
            "justify_items": null,
            "left": null,
            "margin": null,
            "max_height": null,
            "max_width": null,
            "min_height": null,
            "min_width": null,
            "object_fit": null,
            "object_position": null,
            "order": null,
            "overflow": null,
            "overflow_x": null,
            "overflow_y": null,
            "padding": null,
            "right": null,
            "top": null,
            "visibility": null,
            "width": null
          }
        },
        "61d92f2c43d640fa82e044425983d99a": {
          "model_module": "@jupyter-widgets/controls",
          "model_name": "DescriptionStyleModel",
          "model_module_version": "1.5.0",
          "state": {
            "_model_module": "@jupyter-widgets/controls",
            "_model_module_version": "1.5.0",
            "_model_name": "DescriptionStyleModel",
            "_view_count": null,
            "_view_module": "@jupyter-widgets/base",
            "_view_module_version": "1.2.0",
            "_view_name": "StyleView",
            "description_width": ""
          }
        },
        "8f3834780009478eae33616251221492": {
          "model_module": "@jupyter-widgets/controls",
          "model_name": "HBoxModel",
          "model_module_version": "1.5.0",
          "state": {
            "_dom_classes": [],
            "_model_module": "@jupyter-widgets/controls",
            "_model_module_version": "1.5.0",
            "_model_name": "HBoxModel",
            "_view_count": null,
            "_view_module": "@jupyter-widgets/controls",
            "_view_module_version": "1.5.0",
            "_view_name": "HBoxView",
            "box_style": "",
            "children": [
              "IPY_MODEL_851edbd303114d02a5ab75655fc24df2",
              "IPY_MODEL_268f9be1635847b28a735e895eb0aab4",
              "IPY_MODEL_8fea0b2e53164aca8591902a81fda310"
            ],
            "layout": "IPY_MODEL_79bcc9be45884c07b1e6bd18ddd41620"
          }
        },
        "851edbd303114d02a5ab75655fc24df2": {
          "model_module": "@jupyter-widgets/controls",
          "model_name": "HTMLModel",
          "model_module_version": "1.5.0",
          "state": {
            "_dom_classes": [],
            "_model_module": "@jupyter-widgets/controls",
            "_model_module_version": "1.5.0",
            "_model_name": "HTMLModel",
            "_view_count": null,
            "_view_module": "@jupyter-widgets/controls",
            "_view_module_version": "1.5.0",
            "_view_name": "HTMLView",
            "description": "",
            "description_tooltip": null,
            "layout": "IPY_MODEL_8d3b10fd75334498a1b30cdf95fa4e41",
            "placeholder": "​",
            "style": "IPY_MODEL_dfc4c61d4d3545239afd6210454229c9",
            "value": "model.safetensors: 100%"
          }
        },
        "268f9be1635847b28a735e895eb0aab4": {
          "model_module": "@jupyter-widgets/controls",
          "model_name": "FloatProgressModel",
          "model_module_version": "1.5.0",
          "state": {
            "_dom_classes": [],
            "_model_module": "@jupyter-widgets/controls",
            "_model_module_version": "1.5.0",
            "_model_name": "FloatProgressModel",
            "_view_count": null,
            "_view_module": "@jupyter-widgets/controls",
            "_view_module_version": "1.5.0",
            "_view_name": "ProgressView",
            "bar_style": "success",
            "description": "",
            "description_tooltip": null,
            "layout": "IPY_MODEL_3f8a7779d8bc4b6280ba22b9f169376e",
            "max": 2101303432,
            "min": 0,
            "orientation": "horizontal",
            "style": "IPY_MODEL_2ff43c1e6c2e4f90be4d19082e8414d8",
            "value": 2101303432
          }
        },
        "8fea0b2e53164aca8591902a81fda310": {
          "model_module": "@jupyter-widgets/controls",
          "model_name": "HTMLModel",
          "model_module_version": "1.5.0",
          "state": {
            "_dom_classes": [],
            "_model_module": "@jupyter-widgets/controls",
            "_model_module_version": "1.5.0",
            "_model_name": "HTMLModel",
            "_view_count": null,
            "_view_module": "@jupyter-widgets/controls",
            "_view_module_version": "1.5.0",
            "_view_name": "HTMLView",
            "description": "",
            "description_tooltip": null,
            "layout": "IPY_MODEL_47f674b31dad4e248aa4de805af13e59",
            "placeholder": "​",
            "style": "IPY_MODEL_46efd48be8154a1e87b946e7f00d9987",
            "value": " 2.10G/2.10G [00:08&lt;00:00, 266MB/s]"
          }
        },
        "79bcc9be45884c07b1e6bd18ddd41620": {
          "model_module": "@jupyter-widgets/base",
          "model_name": "LayoutModel",
          "model_module_version": "1.2.0",
          "state": {
            "_model_module": "@jupyter-widgets/base",
            "_model_module_version": "1.2.0",
            "_model_name": "LayoutModel",
            "_view_count": null,
            "_view_module": "@jupyter-widgets/base",
            "_view_module_version": "1.2.0",
            "_view_name": "LayoutView",
            "align_content": null,
            "align_items": null,
            "align_self": null,
            "border": null,
            "bottom": null,
            "display": null,
            "flex": null,
            "flex_flow": null,
            "grid_area": null,
            "grid_auto_columns": null,
            "grid_auto_flow": null,
            "grid_auto_rows": null,
            "grid_column": null,
            "grid_gap": null,
            "grid_row": null,
            "grid_template_areas": null,
            "grid_template_columns": null,
            "grid_template_rows": null,
            "height": null,
            "justify_content": null,
            "justify_items": null,
            "left": null,
            "margin": null,
            "max_height": null,
            "max_width": null,
            "min_height": null,
            "min_width": null,
            "object_fit": null,
            "object_position": null,
            "order": null,
            "overflow": null,
            "overflow_x": null,
            "overflow_y": null,
            "padding": null,
            "right": null,
            "top": null,
            "visibility": null,
            "width": null
          }
        },
        "8d3b10fd75334498a1b30cdf95fa4e41": {
          "model_module": "@jupyter-widgets/base",
          "model_name": "LayoutModel",
          "model_module_version": "1.2.0",
          "state": {
            "_model_module": "@jupyter-widgets/base",
            "_model_module_version": "1.2.0",
            "_model_name": "LayoutModel",
            "_view_count": null,
            "_view_module": "@jupyter-widgets/base",
            "_view_module_version": "1.2.0",
            "_view_name": "LayoutView",
            "align_content": null,
            "align_items": null,
            "align_self": null,
            "border": null,
            "bottom": null,
            "display": null,
            "flex": null,
            "flex_flow": null,
            "grid_area": null,
            "grid_auto_columns": null,
            "grid_auto_flow": null,
            "grid_auto_rows": null,
            "grid_column": null,
            "grid_gap": null,
            "grid_row": null,
            "grid_template_areas": null,
            "grid_template_columns": null,
            "grid_template_rows": null,
            "height": null,
            "justify_content": null,
            "justify_items": null,
            "left": null,
            "margin": null,
            "max_height": null,
            "max_width": null,
            "min_height": null,
            "min_width": null,
            "object_fit": null,
            "object_position": null,
            "order": null,
            "overflow": null,
            "overflow_x": null,
            "overflow_y": null,
            "padding": null,
            "right": null,
            "top": null,
            "visibility": null,
            "width": null
          }
        },
        "dfc4c61d4d3545239afd6210454229c9": {
          "model_module": "@jupyter-widgets/controls",
          "model_name": "DescriptionStyleModel",
          "model_module_version": "1.5.0",
          "state": {
            "_model_module": "@jupyter-widgets/controls",
            "_model_module_version": "1.5.0",
            "_model_name": "DescriptionStyleModel",
            "_view_count": null,
            "_view_module": "@jupyter-widgets/base",
            "_view_module_version": "1.2.0",
            "_view_name": "StyleView",
            "description_width": ""
          }
        },
        "3f8a7779d8bc4b6280ba22b9f169376e": {
          "model_module": "@jupyter-widgets/base",
          "model_name": "LayoutModel",
          "model_module_version": "1.2.0",
          "state": {
            "_model_module": "@jupyter-widgets/base",
            "_model_module_version": "1.2.0",
            "_model_name": "LayoutModel",
            "_view_count": null,
            "_view_module": "@jupyter-widgets/base",
            "_view_module_version": "1.2.0",
            "_view_name": "LayoutView",
            "align_content": null,
            "align_items": null,
            "align_self": null,
            "border": null,
            "bottom": null,
            "display": null,
            "flex": null,
            "flex_flow": null,
            "grid_area": null,
            "grid_auto_columns": null,
            "grid_auto_flow": null,
            "grid_auto_rows": null,
            "grid_column": null,
            "grid_gap": null,
            "grid_row": null,
            "grid_template_areas": null,
            "grid_template_columns": null,
            "grid_template_rows": null,
            "height": null,
            "justify_content": null,
            "justify_items": null,
            "left": null,
            "margin": null,
            "max_height": null,
            "max_width": null,
            "min_height": null,
            "min_width": null,
            "object_fit": null,
            "object_position": null,
            "order": null,
            "overflow": null,
            "overflow_x": null,
            "overflow_y": null,
            "padding": null,
            "right": null,
            "top": null,
            "visibility": null,
            "width": null
          }
        },
        "2ff43c1e6c2e4f90be4d19082e8414d8": {
          "model_module": "@jupyter-widgets/controls",
          "model_name": "ProgressStyleModel",
          "model_module_version": "1.5.0",
          "state": {
            "_model_module": "@jupyter-widgets/controls",
            "_model_module_version": "1.5.0",
            "_model_name": "ProgressStyleModel",
            "_view_count": null,
            "_view_module": "@jupyter-widgets/base",
            "_view_module_version": "1.2.0",
            "_view_name": "StyleView",
            "bar_color": null,
            "description_width": ""
          }
        },
        "47f674b31dad4e248aa4de805af13e59": {
          "model_module": "@jupyter-widgets/base",
          "model_name": "LayoutModel",
          "model_module_version": "1.2.0",
          "state": {
            "_model_module": "@jupyter-widgets/base",
            "_model_module_version": "1.2.0",
            "_model_name": "LayoutModel",
            "_view_count": null,
            "_view_module": "@jupyter-widgets/base",
            "_view_module_version": "1.2.0",
            "_view_name": "LayoutView",
            "align_content": null,
            "align_items": null,
            "align_self": null,
            "border": null,
            "bottom": null,
            "display": null,
            "flex": null,
            "flex_flow": null,
            "grid_area": null,
            "grid_auto_columns": null,
            "grid_auto_flow": null,
            "grid_auto_rows": null,
            "grid_column": null,
            "grid_gap": null,
            "grid_row": null,
            "grid_template_areas": null,
            "grid_template_columns": null,
            "grid_template_rows": null,
            "height": null,
            "justify_content": null,
            "justify_items": null,
            "left": null,
            "margin": null,
            "max_height": null,
            "max_width": null,
            "min_height": null,
            "min_width": null,
            "object_fit": null,
            "object_position": null,
            "order": null,
            "overflow": null,
            "overflow_x": null,
            "overflow_y": null,
            "padding": null,
            "right": null,
            "top": null,
            "visibility": null,
            "width": null
          }
        },
        "46efd48be8154a1e87b946e7f00d9987": {
          "model_module": "@jupyter-widgets/controls",
          "model_name": "DescriptionStyleModel",
          "model_module_version": "1.5.0",
          "state": {
            "_model_module": "@jupyter-widgets/controls",
            "_model_module_version": "1.5.0",
            "_model_name": "DescriptionStyleModel",
            "_view_count": null,
            "_view_module": "@jupyter-widgets/base",
            "_view_module_version": "1.2.0",
            "_view_name": "StyleView",
            "description_width": ""
          }
        }
      }
    },
    "accelerator": "GPU"
  },
  "cells": [
    {
      "cell_type": "markdown",
      "source": [
        "## セットアップ"
      ],
      "metadata": {
        "id": "uK8_mPOvkIkB"
      }
    },
    {
      "cell_type": "code",
      "source": [
        "!pip install -q transformers sentencepiece sentence-transformers \\\n",
        "    torch faiss-cpu datasets scipy scikit-learn numpy"
      ],
      "metadata": {
        "id": "zROGcjgkhibp",
        "outputId": "9d6bd593-9b44-4966-db36-33eb35d79fd2",
        "colab": {
          "base_uri": "https://localhost:8080/"
        }
      },
      "execution_count": 1,
      "outputs": [
        {
          "output_type": "stream",
          "name": "stdout",
          "text": [
            "\u001b[2K   \u001b[90m━━━━━━━━━━━━━━━━━━━━━━━━━━━━━━━━━━━━━━━━\u001b[0m \u001b[32m363.4/363.4 MB\u001b[0m \u001b[31m3.3 MB/s\u001b[0m eta \u001b[36m0:00:00\u001b[0m\n",
            "\u001b[2K   \u001b[90m━━━━━━━━━━━━━━━━━━━━━━━━━━━━━━━━━━━━━━━━\u001b[0m \u001b[32m13.8/13.8 MB\u001b[0m \u001b[31m21.5 MB/s\u001b[0m eta \u001b[36m0:00:00\u001b[0m\n",
            "\u001b[2K   \u001b[90m━━━━━━━━━━━━━━━━━━━━━━━━━━━━━━━━━━━━━━━━\u001b[0m \u001b[32m24.6/24.6 MB\u001b[0m \u001b[31m19.4 MB/s\u001b[0m eta \u001b[36m0:00:00\u001b[0m\n",
            "\u001b[2K   \u001b[90m━━━━━━━━━━━━━━━━━━━━━━━━━━━━━━━━━━━━━━━━\u001b[0m \u001b[32m883.7/883.7 kB\u001b[0m \u001b[31m22.3 MB/s\u001b[0m eta \u001b[36m0:00:00\u001b[0m\n",
            "\u001b[2K   \u001b[90m━━━━━━━━━━━━━━━━━━━━━━━━━━━━━━━━━━━━━━━━\u001b[0m \u001b[32m664.8/664.8 MB\u001b[0m \u001b[31m2.0 MB/s\u001b[0m eta \u001b[36m0:00:00\u001b[0m\n",
            "\u001b[2K   \u001b[90m━━━━━━━━━━━━━━━━━━━━━━━━━━━━━━━━━━━━━━━━\u001b[0m \u001b[32m211.5/211.5 MB\u001b[0m \u001b[31m5.4 MB/s\u001b[0m eta \u001b[36m0:00:00\u001b[0m\n",
            "\u001b[2K   \u001b[90m━━━━━━━━━━━━━━━━━━━━━━━━━━━━━━━━━━━━━━━━\u001b[0m \u001b[32m56.3/56.3 MB\u001b[0m \u001b[31m14.5 MB/s\u001b[0m eta \u001b[36m0:00:00\u001b[0m\n",
            "\u001b[2K   \u001b[90m━━━━━━━━━━━━━━━━━━━━━━━━━━━━━━━━━━━━━━━━\u001b[0m \u001b[32m127.9/127.9 MB\u001b[0m \u001b[31m7.6 MB/s\u001b[0m eta \u001b[36m0:00:00\u001b[0m\n",
            "\u001b[2K   \u001b[90m━━━━━━━━━━━━━━━━━━━━━━━━━━━━━━━━━━━━━━━━\u001b[0m \u001b[32m207.5/207.5 MB\u001b[0m \u001b[31m5.3 MB/s\u001b[0m eta \u001b[36m0:00:00\u001b[0m\n",
            "\u001b[2K   \u001b[90m━━━━━━━━━━━━━━━━━━━━━━━━━━━━━━━━━━━━━━━━\u001b[0m \u001b[32m21.1/21.1 MB\u001b[0m \u001b[31m105.6 MB/s\u001b[0m eta \u001b[36m0:00:00\u001b[0m\n",
            "\u001b[2K   \u001b[90m━━━━━━━━━━━━━━━━━━━━━━━━━━━━━━━━━━━━━━━━\u001b[0m \u001b[32m31.3/31.3 MB\u001b[0m \u001b[31m69.0 MB/s\u001b[0m eta \u001b[36m0:00:00\u001b[0m\n",
            "\u001b[2K   \u001b[90m━━━━━━━━━━━━━━━━━━━━━━━━━━━━━━━━━━━━━━━━\u001b[0m \u001b[32m491.4/491.4 kB\u001b[0m \u001b[31m36.9 MB/s\u001b[0m eta \u001b[36m0:00:00\u001b[0m\n",
            "\u001b[2K   \u001b[90m━━━━━━━━━━━━━━━━━━━━━━━━━━━━━━━━━━━━━━━━\u001b[0m \u001b[32m116.3/116.3 kB\u001b[0m \u001b[31m11.2 MB/s\u001b[0m eta \u001b[36m0:00:00\u001b[0m\n",
            "\u001b[2K   \u001b[90m━━━━━━━━━━━━━━━━━━━━━━━━━━━━━━━━━━━━━━━━\u001b[0m \u001b[32m193.6/193.6 kB\u001b[0m \u001b[31m17.4 MB/s\u001b[0m eta \u001b[36m0:00:00\u001b[0m\n",
            "\u001b[2K   \u001b[90m━━━━━━━━━━━━━━━━━━━━━━━━━━━━━━━━━━━━━━━━\u001b[0m \u001b[32m143.5/143.5 kB\u001b[0m \u001b[31m13.4 MB/s\u001b[0m eta \u001b[36m0:00:00\u001b[0m\n",
            "\u001b[2K   \u001b[90m━━━━━━━━━━━━━━━━━━━━━━━━━━━━━━━━━━━━━━━━\u001b[0m \u001b[32m194.8/194.8 kB\u001b[0m \u001b[31m17.4 MB/s\u001b[0m eta \u001b[36m0:00:00\u001b[0m\n",
            "\u001b[?25h\u001b[31mERROR: pip's dependency resolver does not currently take into account all the packages that are installed. This behaviour is the source of the following dependency conflicts.\n",
            "gcsfs 2025.3.2 requires fsspec==2025.3.2, but you have fsspec 2025.3.0 which is incompatible.\u001b[0m\u001b[31m\n",
            "\u001b[0m"
          ]
        }
      ]
    },
    {
      "cell_type": "code",
      "source": [
        "# VRAMの環境変数設定\n",
        "import os\n",
        "os.environ[\"PYTORCH_CUDA_ALLOC_CONF\"] = \"expandable_segments:True\""
      ],
      "metadata": {
        "id": "tViCnevuz4T3"
      },
      "execution_count": 2,
      "outputs": []
    },
    {
      "cell_type": "markdown",
      "source": [
        "## モデルの準備"
      ],
      "metadata": {
        "id": "SM2HyEzlnvVD"
      }
    },
    {
      "cell_type": "code",
      "source": [
        "import torch\n",
        "from transformers import AutoModel, AutoTokenizer\n",
        "\n",
        "tokenizer = AutoTokenizer.from_pretrained(\"pfnet/plamo-embedding-1b\", trust_remote_code=True)\n",
        "model = AutoModel.from_pretrained(\"pfnet/plamo-embedding-1b\", trust_remote_code=True)\n",
        "\n",
        "device = \"cuda\" if torch.cuda.is_available() else \"cpu\"\n",
        "model = model.to(device)\n",
        "model.eval()\n"
      ],
      "metadata": {
        "id": "lg2xD9htitH4",
        "outputId": "dca60aca-2a60-4b1c-862c-98cc5533b0d5",
        "colab": {
          "base_uri": "https://localhost:8080/",
          "height": 860,
          "referenced_widgets": [
            "c97be7a433ca474e9a9d783a8b42c5c3",
            "d3c276da60a74d7bb043ecfb6129a49b",
            "bd662c2e8be64e38b92efd803885489c",
            "cf5e3808871e4561ba5594d6547833d2",
            "a16fd15817c842a9a544863ce7d97267",
            "45754e782cb54344bbff5c6b64261207",
            "3faf89e0c81a4077af4f644700a67a16",
            "60693a7441e34ac6a3bfba501c6e9548",
            "b0359a17230342a48e2ec6e7282404be",
            "63dba9304b2944a4b041ed87755c6360",
            "5447edbc3c504f0080895e4080d44ee2",
            "5c4a7741970c47c0b521f87d2a0f5907",
            "156cbb2a7cb546b388db9a7f3593e80b",
            "e66498cf024547f99cb4dd93744f7daa",
            "b4f8717819ab4fbc891a87683bca651b",
            "25a0ab8b299d43dc8c00ca18f4ad413e",
            "cb412e1aac3c4e41bc5c6ef8e8fccd0f",
            "222dbca3a2af46efa42fa551b0d0fc09",
            "cff5fc619c3f4e498c543f0cc8f2530b",
            "010caeb4285d47a9a3b881a85ddf5e32",
            "ad10f96a345c42e4bd5e2924f3dd02c8",
            "0530ecf33ca2463ab579d4bdaa95c362",
            "8a4bff01e36f48a484cd5d45c59bfd1c",
            "5828597d087743068e1c0f447c2682b0",
            "146d14ac3bc34195bb4cb1e0896abd45",
            "b28eb4e68e3e4d16a1cc9fe83f62e9aa",
            "774ad40aa04947a9b9a5d9763325ce4c",
            "68fc2053e7474f69833e0b96bf5c1415",
            "4df6ec776542465a8d73e7ecb1edd6b1",
            "f55a62de43c241f9897536851eef92b9",
            "5176eb146c1f409f89ee0cf1a72ffad1",
            "89b643f9a54f4acda71a9144c28e5f51",
            "0cd557dd33d64e8eab88caefcde247f8",
            "5553b3278d0f486cabffc66348ecf294",
            "3be26d58fb6843c8b6b61a11397cacc5",
            "fec8e2b2e93d4cffb03b6bb9fd8a341c",
            "bf82d6b2aac346259d11ee981aeeefff",
            "ee1dbd0af51643a191b6a301159bfbbe",
            "3ab598724b564df09d943b17aa92df2e",
            "84f737ffa3b34e33832df5b30bb80126",
            "c0830aeb1af04762941ce3e54ebe35d3",
            "80dc57d357ba447fb34344b86c59f8e1",
            "f24bf47e77c64c29838842f150568182",
            "569c944802a049258b881cc55d62fb74",
            "2a7c581dffd948e7a2569717f19ab560",
            "651622c25dc64442bc8881b27813b76d",
            "59bc5d451c644e4a926ff15aee703eb4",
            "931c3902cd354dfb9728cab7895de15a",
            "2d5463214ba54281918d1f02baa8ca8c",
            "e990d5c286af4901aa93f1200f59bd08",
            "c1b8f22ea96b46dc9a4c67f11a03d886",
            "c0db047bbba045ed8129b014e18797e0",
            "1292439359854b57873256f0700a2f3e",
            "045f68de7f034027bfe8dd06b215bd70",
            "bf95374cf1a543309b4a1fe46de5e97f",
            "d06dc8423c9b444fa9fd249586748bf3",
            "9daf326c25454196a816b85285804da7",
            "8c4493664015492c8130be956d481c68",
            "4530a38b3e1d4bfb9efa062ea191351d",
            "287cda04e9034f76939c8180ca7cd96e",
            "2ae613e45e8c43478ee2cd8e51328a6e",
            "c9069ce130dc4f48961f46858c512d47",
            "b5f02f0d19a7471a8fd81f4933d768df",
            "2aeb90be030c4e3b861c2e0d88339497",
            "7780cfb537db4151ae480b7bbcecac50",
            "61d92f2c43d640fa82e044425983d99a",
            "8f3834780009478eae33616251221492",
            "851edbd303114d02a5ab75655fc24df2",
            "268f9be1635847b28a735e895eb0aab4",
            "8fea0b2e53164aca8591902a81fda310",
            "79bcc9be45884c07b1e6bd18ddd41620",
            "8d3b10fd75334498a1b30cdf95fa4e41",
            "dfc4c61d4d3545239afd6210454229c9",
            "3f8a7779d8bc4b6280ba22b9f169376e",
            "2ff43c1e6c2e4f90be4d19082e8414d8",
            "47f674b31dad4e248aa4de805af13e59",
            "46efd48be8154a1e87b946e7f00d9987"
          ]
        }
      },
      "execution_count": 3,
      "outputs": [
        {
          "output_type": "stream",
          "name": "stderr",
          "text": [
            "/usr/local/lib/python3.11/dist-packages/huggingface_hub/utils/_auth.py:94: UserWarning: \n",
            "The secret `HF_TOKEN` does not exist in your Colab secrets.\n",
            "To authenticate with the Hugging Face Hub, create a token in your settings tab (https://huggingface.co/settings/tokens), set it as secret in your Google Colab and restart your session.\n",
            "You will be able to reuse this secret in all of your notebooks.\n",
            "Please note that authentication is recommended but still optional to access public models or datasets.\n",
            "  warnings.warn(\n"
          ]
        },
        {
          "output_type": "display_data",
          "data": {
            "text/plain": [
              "tokenizer_config.json:   0%|          | 0.00/1.30k [00:00<?, ?B/s]"
            ],
            "application/vnd.jupyter.widget-view+json": {
              "version_major": 2,
              "version_minor": 0,
              "model_id": "c97be7a433ca474e9a9d783a8b42c5c3"
            }
          },
          "metadata": {}
        },
        {
          "output_type": "display_data",
          "data": {
            "text/plain": [
              "tokenization_plamo.py:   0%|          | 0.00/7.63k [00:00<?, ?B/s]"
            ],
            "application/vnd.jupyter.widget-view+json": {
              "version_major": 2,
              "version_minor": 0,
              "model_id": "5c4a7741970c47c0b521f87d2a0f5907"
            }
          },
          "metadata": {}
        },
        {
          "output_type": "stream",
          "name": "stderr",
          "text": [
            "A new version of the following files was downloaded from https://huggingface.co/pfnet/plamo-embedding-1b:\n",
            "- tokenization_plamo.py\n",
            ". Make sure to double-check they do not contain any added malicious code. To avoid downloading new versions of the code file, you can pin a revision.\n"
          ]
        },
        {
          "output_type": "display_data",
          "data": {
            "text/plain": [
              "tokenizer.model:   0%|          | 0.00/805k [00:00<?, ?B/s]"
            ],
            "application/vnd.jupyter.widget-view+json": {
              "version_major": 2,
              "version_minor": 0,
              "model_id": "8a4bff01e36f48a484cd5d45c59bfd1c"
            }
          },
          "metadata": {}
        },
        {
          "output_type": "display_data",
          "data": {
            "text/plain": [
              "special_tokens_map.json:   0%|          | 0.00/477 [00:00<?, ?B/s]"
            ],
            "application/vnd.jupyter.widget-view+json": {
              "version_major": 2,
              "version_minor": 0,
              "model_id": "5553b3278d0f486cabffc66348ecf294"
            }
          },
          "metadata": {}
        },
        {
          "output_type": "display_data",
          "data": {
            "text/plain": [
              "config.json:   0%|          | 0.00/1.09k [00:00<?, ?B/s]"
            ],
            "application/vnd.jupyter.widget-view+json": {
              "version_major": 2,
              "version_minor": 0,
              "model_id": "2a7c581dffd948e7a2569717f19ab560"
            }
          },
          "metadata": {}
        },
        {
          "output_type": "display_data",
          "data": {
            "text/plain": [
              "modeling_plamo.py:   0%|          | 0.00/38.9k [00:00<?, ?B/s]"
            ],
            "application/vnd.jupyter.widget-view+json": {
              "version_major": 2,
              "version_minor": 0,
              "model_id": "d06dc8423c9b444fa9fd249586748bf3"
            }
          },
          "metadata": {}
        },
        {
          "output_type": "stream",
          "name": "stderr",
          "text": [
            "A new version of the following files was downloaded from https://huggingface.co/pfnet/plamo-embedding-1b:\n",
            "- modeling_plamo.py\n",
            ". Make sure to double-check they do not contain any added malicious code. To avoid downloading new versions of the code file, you can pin a revision.\n"
          ]
        },
        {
          "output_type": "display_data",
          "data": {
            "text/plain": [
              "model.safetensors:   0%|          | 0.00/2.10G [00:00<?, ?B/s]"
            ],
            "application/vnd.jupyter.widget-view+json": {
              "version_major": 2,
              "version_minor": 0,
              "model_id": "8f3834780009478eae33616251221492"
            }
          },
          "metadata": {}
        },
        {
          "output_type": "execute_result",
          "data": {
            "text/plain": [
              "PlamoBiModel(\n",
              "  (embed_tokens): Embedding(50112, 2048, padding_idx=3)\n",
              "  (layers): ModifiedPlamoDecoder(\n",
              "    (layers): ModuleList(\n",
              "      (0-15): 16 x ModifiedPlamoDecoderLayer(\n",
              "        (self_attn): ModifiedAttention(\n",
              "          (qkv_proj): Linear(in_features=2048, out_features=2304, bias=False)\n",
              "          (o_proj): Linear(in_features=2048, out_features=2048, bias=False)\n",
              "          (rotary_emb): RotaryEmbedding()\n",
              "        )\n",
              "        (mlp): DenseMLP(\n",
              "          (gate_up_proj): Linear(in_features=2048, out_features=16384, bias=False)\n",
              "          (down_proj): Linear(in_features=8192, out_features=2048, bias=False)\n",
              "        )\n",
              "        (norm): RMSNorm()\n",
              "        (norm2): RMSNorm()\n",
              "      )\n",
              "    )\n",
              "  )\n",
              "  (norm): RMSNorm()\n",
              ")"
            ]
          },
          "metadata": {},
          "execution_count": 3
        }
      ]
    },
    {
      "cell_type": "markdown",
      "source": [
        "## 埋め込み計算モジュールの定義"
      ],
      "metadata": {
        "id": "CdNantPQoyRJ"
      }
    },
    {
      "cell_type": "code",
      "source": [
        "import numpy as np\n",
        "\n",
        "def embed_texts(\n",
        "    texts: list[str],\n",
        "    batch_size: int = 32,\n",
        "    is_query: bool = False,\n",
        ") -> np.ndarray:\n",
        "    \"\"\"\n",
        "    texts           : 埋め込み対象の文字列リスト\n",
        "    batch_size      : 一度に投入する文の数（デフォルト：32）\n",
        "    is_query        : True の場合は model.encode_query を使用\n",
        "                                False の場合は model.encode_document を使用\n",
        "    \"\"\"\n",
        "    all_embs = []\n",
        "\n",
        "    with torch.inference_mode():\n",
        "      # 自動混合精度演算\n",
        "      with torch.amp.autocast(\"cuda\"):\n",
        "            for i in range(0, len(texts), batch_size):\n",
        "                batch = texts[i : i + batch_size]\n",
        "                if is_query:\n",
        "                    embs = model.encode_query(\n",
        "                        batch,\n",
        "                        tokenizer,\n",
        "                    )\n",
        "                else:\n",
        "                    embs = model.encode_document(\n",
        "                        batch,\n",
        "                        tokenizer,\n",
        "                    )\n",
        "\n",
        "                # embs は torch.Tensor\n",
        "                embs_np = embs.to(\"cpu\").numpy()  # NumPy に変換\n",
        "                # VRAM を開放する\n",
        "                del embs\n",
        "                torch.cuda.empty_cache()\n",
        "                embs_np = np.nan_to_num(embs_np)\n",
        "                all_embs.append(embs_np)\n",
        "\n",
        "    return np.vstack(all_embs)\n"
      ],
      "metadata": {
        "id": "NA8kn9MhTV_9"
      },
      "execution_count": 4,
      "outputs": []
    },
    {
      "cell_type": "markdown",
      "source": [
        "## JSTSによるモデルの評価"
      ],
      "metadata": {
        "id": "85xarYGlV5uk"
      }
    },
    {
      "cell_type": "code",
      "source": [
        "from datasets import load_dataset\n",
        "\n",
        "ds = load_dataset(\"sbintuitions/JMTEB\", \"jsts\")\n",
        "jsts = ds[\"test\"]\n",
        "print(jsts.column_names)  # ['sentence_pair_id', 'yjcaptions_id', 'sentence1', 'sentence2', 'label']"
      ],
      "metadata": {
        "id": "EQBupQB2SCcE"
      },
      "execution_count": null,
      "outputs": []
    },
    {
      "cell_type": "code",
      "source": [
        "from sklearn.metrics.pairwise import cosine_similarity\n",
        "\n",
        "# JSTS の全ペアを「文1／文2」と「スコア」に分解\n",
        "sent1 = jsts[\"sentence1\"]\n",
        "sent2 = jsts[\"sentence2\"]\n",
        "gold_score = np.array(jsts[\"label\"], dtype=float)  # 0〜5 の連続値\n",
        "\n",
        "# 埋め込み\n",
        "emb1 = embed_texts(sent1)\n",
        "emb2 = embed_texts(sent2)\n",
        "\n",
        "# コサイン類似度\n",
        "# N×2048 の行列同士のコサイン類似度を一度に出す\n",
        "sim_matrix = cosine_similarity(emb1, emb2)\n",
        "# 対角成分だけを取り出せばペアごとの類似度が得られる\n",
        "cos_sim = np.diag(sim_matrix)  # shape=(N,)"
      ],
      "metadata": {
        "id": "6s8St_C2SiUr"
      },
      "execution_count": null,
      "outputs": []
    },
    {
      "cell_type": "code",
      "source": [
        "# スピアマンとピアソンの相関係数を計算\n",
        "from scipy.stats import spearmanr, pearsonr\n",
        "\n",
        "spearman_corr, _ = spearmanr(cos_sim, gold_score)\n",
        "pearson_corr, _  = pearsonr(cos_sim, gold_score)\n",
        "\n",
        "print(f\"Spearman: {spearman_corr:.4f}\")\n",
        "print(f\"Pearson : {pearson_corr:.4f}\")"
      ],
      "metadata": {
        "id": "D3IlVfPWUVp1"
      },
      "execution_count": null,
      "outputs": []
    },
    {
      "cell_type": "markdown",
      "source": [
        "## インデックス用データ読み込み・前処理・インデックス化"
      ],
      "metadata": {
        "id": "HM0Gu1B1jUeG"
      }
    },
    {
      "cell_type": "code",
      "source": [
        "from google.colab import drive\n",
        "drive.mount('/content/drive')\n",
        "# drive.mount(\"/content/drive\", force_remount=True)"
      ],
      "metadata": {
        "id": "Wko2nT5J6ui1",
        "outputId": "04799afa-e74c-45d6-8ecb-70b75ec79e5e",
        "colab": {
          "base_uri": "https://localhost:8080/"
        }
      },
      "execution_count": 5,
      "outputs": [
        {
          "output_type": "stream",
          "name": "stdout",
          "text": [
            "Mounted at /content/drive\n"
          ]
        }
      ]
    },
    {
      "cell_type": "markdown",
      "source": [
        "### インデックス化: livedoor-news-corpus"
      ],
      "metadata": {
        "id": "GCAPdi5meioD"
      }
    },
    {
      "cell_type": "code",
      "source": [
        "from datasets import load_dataset\n",
        "# Livedoor ニュースコーパス (約7,300記事) を train/val/test に分割読み込み\n",
        "ds = load_dataset(\n",
        "    \"shunk031/livedoor-news-corpus\",\n",
        "    train_ratio=0.8,\n",
        "    val_ratio=0.1,\n",
        "    test_ratio=0.1,\n",
        "    shuffle=False,\n",
        ")\n",
        "train = ds[\"train\"]\n",
        "print(train)"
      ],
      "metadata": {
        "id": "DwZ19896jD6y"
      },
      "execution_count": null,
      "outputs": []
    },
    {
      "cell_type": "code",
      "source": [
        "# 検索対象：記事のタイトル＋本文\n",
        "corpus_texts = [\n",
        "    f\"{row['title']}。{row['content']}\"\n",
        "    for row in train\n",
        "]\n",
        "\n",
        "# （例）最初の5件をクエリとして流用\n",
        "query_texts = corpus_texts[:5]\n",
        "# 正解ID (今回は自身の記事をトップ1に返す recall@1)\n",
        "true_ids = list(range(len(query_texts))) # true_ids = [0, 1, 2, ..., 5]"
      ],
      "metadata": {
        "id": "euEILplSkZlp"
      },
      "execution_count": null,
      "outputs": []
    },
    {
      "cell_type": "code",
      "source": [
        "# 記事のタイトルと本文(corpus_texts)をjsonl形式で保存\n",
        "\n",
        "import json\n",
        "\n",
        "with open('/content/drive/MyDrive/Colab Notebooks/data/text_embedding_search/corpus.jsonl', 'w', encoding='utf-8') as f:\n",
        "    for text in corpus_texts:\n",
        "        json.dump({'text': text}, f, ensure_ascii=False)\n",
        "        f.write('\\n')\n"
      ],
      "metadata": {
        "id": "6T-gdQQju766"
      },
      "execution_count": null,
      "outputs": []
    },
    {
      "cell_type": "code",
      "source": [
        "# 文を埋め込み化する（時間のかかる処理）\n",
        "xb = embed_texts(corpus_texts, batch_size=8, is_query=False)  # index 用\n",
        "xq = embed_texts(query_texts,  batch_size=8, is_query=True)   # query 用"
      ],
      "metadata": {
        "id": "EH4kZy9pnz57"
      },
      "execution_count": null,
      "outputs": []
    },
    {
      "cell_type": "code",
      "source": [
        "import faiss\n",
        "\n",
        "d = xb.shape[1]  # 埋め込み次元\n",
        "M = 32           # 各点の近傍リンク数\n",
        "efC = 200        # 構築時の探索深さ\n",
        "\n",
        "index = faiss.IndexHNSWFlat(d, M)\n",
        "index.hnsw.efConstruction = efC\n",
        "\n",
        "# 埋め込みベクトルを追加\n",
        "index.add(xb)"
      ],
      "metadata": {
        "id": "zfhKzVbJ704C"
      },
      "execution_count": null,
      "outputs": []
    },
    {
      "cell_type": "code",
      "source": [
        "index.hnsw.efSearch = 50  # 検索時の探索深さ\n",
        "k = 5                    # top-k 件取得\n",
        "D, I = index.search(xq, k) # 検索を実行"
      ],
      "metadata": {
        "id": "6fKz_DWe78u6"
      },
      "execution_count": null,
      "outputs": []
    },
    {
      "cell_type": "code",
      "source": [
        "recall1 = np.mean([1 if true_ids[i] in I[i,:1] else 0 for i in range(len(true_ids))])\n",
        "print(f\"Recall@1: {recall1:.3f}\")"
      ],
      "metadata": {
        "id": "IHDLx2PS8DQm"
      },
      "execution_count": null,
      "outputs": []
    },
    {
      "cell_type": "code",
      "source": [
        "# 埋め込みと Faiss インデックスを保存\n",
        "np.save('/content/drive/MyDrive/Colab Notebooks/data/text_embedding_search/embeddings_xb.npy', xb)\n",
        "faiss.write_index(index, '/content/drive/MyDrive/Colab Notebooks/data/text_embedding_search/hnsw_index.faiss')"
      ],
      "metadata": {
        "id": "rFgjhBg68fiv"
      },
      "execution_count": null,
      "outputs": []
    },
    {
      "cell_type": "code",
      "source": [
        "for i in range(len(query_texts)):\n",
        "    print(f\"Query: {query_texts[i]}\")\n",
        "    for rank, idx in enumerate(I[i]):\n",
        "        print(f\"Top {rank+1}: {corpus_texts[idx]}\")\n",
        "    print(\"========\")"
      ],
      "metadata": {
        "id": "VAIXg5et_SfI",
        "collapsed": true
      },
      "execution_count": null,
      "outputs": []
    },
    {
      "cell_type": "markdown",
      "source": [
        "### インデックス化: SFC研究会データ"
      ],
      "metadata": {
        "id": "z5dcY0sCe1Gh"
      }
    },
    {
      "cell_type": "code",
      "source": [
        "# スクレイピング済みデータを取得\n",
        "! git clone https://github.com/kota-yata/Syllabus-proto.git"
      ],
      "metadata": {
        "id": "t4ug_XXZgNOJ",
        "outputId": "b69cfe46-dcc9-427d-91df-bdcaab908257",
        "colab": {
          "base_uri": "https://localhost:8080/"
        }
      },
      "execution_count": null,
      "outputs": [
        {
          "output_type": "stream",
          "name": "stdout",
          "text": [
            "Cloning into 'Syllabus-proto'...\n",
            "remote: Enumerating objects: 729, done.\u001b[K\n",
            "remote: Counting objects: 100% (249/249), done.\u001b[K\n",
            "remote: Compressing objects: 100% (136/136), done.\u001b[K\n",
            "remote: Total 729 (delta 149), reused 180 (delta 95), pack-reused 480 (from 1)\u001b[K\n",
            "Receiving objects: 100% (729/729), 4.47 MiB | 16.53 MiB/s, done.\n",
            "Resolving deltas: 100% (401/401), done.\n"
          ]
        }
      ]
    },
    {
      "cell_type": "code",
      "source": [
        "import json\n",
        "\n",
        "filepath = '/content/Syllabus-proto/assets/result-2025s.json'\n",
        "with open(filepath, 'r', encoding='utf-8') as f:\n",
        "    all_class_data = json.load(f)"
      ],
      "metadata": {
        "id": "i_9gyh4AfIBQ"
      },
      "execution_count": null,
      "outputs": []
    },
    {
      "cell_type": "code",
      "source": [
        "lab_corpus_texts = [] # 埋め込みモデルに入力するテキストのリスト\n",
        "lab_corpus_metadata = [] # メタデータを持つリスト\n",
        "\n",
        "# target_subjects の \"A\", \"B\" は全角\n",
        "target_subjects = {\"研究会Ａ\", \"研究会Ｂ\"}\n",
        "\n",
        "for idx, item in enumerate(all_class_data):\n",
        "    # --- 必須情報の取得 ---\n",
        "    sort_id = item.get('sort_id')\n",
        "    subject_name = item.get('subject_name', '').strip() # 空の場合や前後の空白に対応\n",
        "    about_text = item.get('about', '').strip()\n",
        "    lang = item.get('lang', '').strip()\n",
        "\n",
        "    # --- モデル非対応のため外国語は除外 ---\n",
        "    if lang != '日本語':\n",
        "        continue\n",
        "\n",
        "    # --- subject_name がターゲットに含まれているかチェック ---\n",
        "    if subject_name not in target_subjects:\n",
        "        continue\n",
        "\n",
        "    # --- ID, subject_name, about がないと意味がないのでスキップ ---\n",
        "    if not sort_id or not subject_name or not about_text:\n",
        "        print(f\"Skipping item due to missing essential fields: {sort_id or 'Unknown ID'}\")\n",
        "        continue\n",
        "\n",
        "    # --- 検索対象テキストの生成 ---\n",
        "    # 研究会名と概要文を結合\n",
        "    staff_names = [staff.get('staff_name', '') for staff in item.get('staffs', [])]\n",
        "    staffs = \",\".join(filter(None, staff_names))\n",
        "    text_for_embedding = f\"{subject_name}: {staffs}\\n{about_text}\"\n",
        "    lab_corpus_texts.append(text_for_embedding)\n",
        "\n",
        "    # --- メタデータの抽出・整形 ---\n",
        "    url = item.get('url', '')\n",
        "    # fields から学部・分野を取得 (リスト形式なので最初のものを取得する例)\n",
        "    # fields が空リストの場合や、リスト内の辞書が空の場合のエラーを防ぐ\n",
        "    faculty = ''\n",
        "    field = ''\n",
        "    if item.get('fields'): # fields リストが存在するか確認\n",
        "        first_field = item['fields'][0] if item['fields'] else {} # リストが空でないか確認\n",
        "        faculty = first_field.get('faculty', '')\n",
        "        field = first_field.get('field', '')\n",
        "\n",
        "    term = item.get('term', '')\n",
        "\n",
        "    metadata = {\n",
        "        'sort_id': sort_id,\n",
        "        'subject_name': subject_name,\n",
        "        'about': about_text, # スニペットは検索時に生成するので、ここでは全文保持\n",
        "        'url': url,\n",
        "        'staffs': \", \".join(filter(None, staff_names)), # 教員名をカンマ区切り文字列に\n",
        "        'faculty': faculty,\n",
        "        'field': field,\n",
        "        'term': term\n",
        "    }\n",
        "    lab_corpus_metadata.append(metadata)\n",
        "\n",
        "    if len(about_text) < 30:\n",
        "        print(f\"Found too short about text: {sort_id}, {staffs}\")\n",
        "\n",
        "print(f\"Processed {len(lab_corpus_texts)} items.\")\n",
        "print(f\"Total items skipped: {len(all_class_data) - len(lab_corpus_texts)}\") # スキップされた数を計算"
      ],
      "metadata": {
        "id": "mOveUg8EhQiB",
        "outputId": "ebba6079-edd3-4197-c287-0f9998f4823a",
        "colab": {
          "base_uri": "https://localhost:8080/"
        }
      },
      "execution_count": null,
      "outputs": [
        {
          "output_type": "stream",
          "name": "stdout",
          "text": [
            "Found too short about text: X48645, 清水　たくみ\n",
            "Found too short about text: X37781, 大木　聖子\n",
            "Found too short about text: X28865, 諏訪　正樹\n",
            "Found too short about text: X47266, 東海林　祐子\n",
            "Found too short about text: X47266, 東海林　祐子\n",
            "Skipping item due to missing essential fields: X44849\n",
            "Found too short about text: X49435, 福島　康仁\n",
            "Processed 138 items.\n",
            "Total items skipped: 612\n"
          ]
        }
      ]
    },
    {
      "cell_type": "code",
      "source": [
        "# about_textの分析\n",
        "mean_about_length = 0\n",
        "longest_about = 0\n",
        "for item in all_class_data:\n",
        "    sort_id = item.get('sort_id')\n",
        "    subject_name = item.get('subject_name', '').strip()\n",
        "    staff_names = [staff.get('staff_name', '') for staff in item.get('staffs', [])]\n",
        "    staffs = \",\".join(filter(None, staff_names))\n",
        "    about_text = item.get('about', '').strip()\n",
        "\n",
        "    if subject_name not in target_subjects:\n",
        "        continue\n",
        "\n",
        "    if about_text:\n",
        "        mean_about_length += len(about_text)\n",
        "\n",
        "    if len(about_text) < 30:\n",
        "        print(f\"Found about text < 30: {sort_id}, {staffs}\")\n",
        "\n",
        "    if len(about_text) > longest_about:\n",
        "        longest_about = len(about_text)\n",
        "\n",
        "mean_about_length /= len(lab_corpus_texts)\n",
        "\n",
        "print(f\"Mean about length: {mean_about_length}\")\n",
        "print(f\"Longest about length: {longest_about}\")"
      ],
      "metadata": {
        "id": "2a000y5x_mz6",
        "outputId": "fa47cf9b-a004-4206-f313-e2599228202b",
        "colab": {
          "base_uri": "https://localhost:8080/"
        }
      },
      "execution_count": null,
      "outputs": [
        {
          "output_type": "stream",
          "name": "stdout",
          "text": [
            "Found about text < 30: X48645, 清水　たくみ\n",
            "Found about text < 30: X37781, 大木　聖子\n",
            "Found about text < 30: X28865, 諏訪　正樹\n",
            "Found about text < 30: X47266, 東海林　祐子\n",
            "Found about text < 30: X47266, 東海林　祐子\n",
            "Found about text < 30: X44849, 藤井　進也\n",
            "Found about text < 30: X49435, 福島　康仁\n",
            "Mean about length: 257.5869565217391\n",
            "Longest about length: 1330\n"
          ]
        }
      ]
    },
    {
      "cell_type": "code",
      "source": [
        "# lab_corpus_texts をJSONファイルに保存\n",
        "corpus_texts_filepath = '/content/drive/MyDrive/Colab Notebooks/data/text_embedding_search/lab_corpus_texts.json'\n",
        "try:\n",
        "    with open(corpus_texts_filepath, 'w', encoding='utf-8') as f:\n",
        "        # ensure_ascii=False で日本語がそのまま保存されるようにする\n",
        "        # indent=4 で整形して見やすくする\n",
        "        json.dump(lab_corpus_texts, f, ensure_ascii=False, indent=4)\n",
        "    print(f\"Successfully saved corpus texts to {corpus_texts_filepath}\")\n",
        "except IOError as e:\n",
        "    print(f\"Error saving corpus texts: {e}\")\n",
        "\n",
        "# lab_corpus_metadata をJSONファイルに保存\n",
        "corpus_metadata_filepath = '/content/drive/MyDrive/Colab Notebooks/data/text_embedding_search/lab_corpus_metadata.json'\n",
        "try:\n",
        "    with open(corpus_metadata_filepath, 'w', encoding='utf-8') as f:\n",
        "        json.dump(lab_corpus_metadata, f, ensure_ascii=False, indent=4)\n",
        "    print(f\"Successfully saved corpus metadata to {corpus_metadata_filepath}\")\n",
        "except IOError as e:\n",
        "    print(f\"Error saving corpus metadata: {e}\")"
      ],
      "metadata": {
        "id": "bk4tuZ7OtVbA",
        "outputId": "87e8bd64-8b59-4682-fad8-b8b8f6771a90",
        "colab": {
          "base_uri": "https://localhost:8080/"
        }
      },
      "execution_count": null,
      "outputs": [
        {
          "output_type": "stream",
          "name": "stdout",
          "text": [
            "Successfully saved corpus texts to /content/drive/MyDrive/Colab Notebooks/data/text_embedding_search/lab_corpus_texts.json\n",
            "Successfully saved corpus metadata to /content/drive/MyDrive/Colab Notebooks/data/text_embedding_search/lab_corpus_metadata.json\n"
          ]
        }
      ]
    },
    {
      "cell_type": "code",
      "source": [
        "lab_corpus_texts_emb = embed_texts(lab_corpus_texts, is_query=False)"
      ],
      "metadata": {
        "id": "gGVB4jhuaAdX"
      },
      "execution_count": null,
      "outputs": []
    },
    {
      "cell_type": "code",
      "source": [
        "# 埋め込みをdriveに保存\n",
        "np.save('/content/drive/MyDrive/Colab Notebooks/data/text_embedding_search/lab_corpus_texts_emb.npy', lab_corpus_texts_emb)"
      ],
      "metadata": {
        "id": "7EKUJJiybSIU"
      },
      "execution_count": null,
      "outputs": []
    },
    {
      "cell_type": "code",
      "source": [
        "import faiss\n",
        "\n",
        "d = lab_corpus_texts_emb.shape[1]  # 埋め込み次元\n",
        "M = 32           # 各点の近傍リンク数\n",
        "efC = 200        # 構築時の探索深さ\n",
        "\n",
        "lab_index = faiss.IndexHNSWFlat(d, M)\n",
        "lab_index.hnsw.efConstruction = efC\n",
        "\n",
        "# 埋め込みベクトルを追加\n",
        "lab_index.add(lab_corpus_texts_emb)"
      ],
      "metadata": {
        "id": "S2UR5e2KePZ3"
      },
      "execution_count": null,
      "outputs": []
    },
    {
      "cell_type": "code",
      "source": [
        "faiss.write_index(lab_index, '/content/drive/MyDrive/Colab Notebooks/data/text_embedding_search/lab_hnsw_index.faiss')"
      ],
      "metadata": {
        "id": "zBBGJdHSlits"
      },
      "execution_count": null,
      "outputs": []
    },
    {
      "cell_type": "markdown",
      "source": [
        "## 保存したインデックスを読み込んで使用"
      ],
      "metadata": {
        "id": "u8wzRLv4dsEH"
      }
    },
    {
      "cell_type": "code",
      "source": [
        "from google.colab import drive\n",
        "drive.mount('/content/drive')"
      ],
      "metadata": {
        "id": "4tM5HpNmukKj",
        "outputId": "f0c09386-b0c6-4494-8a38-5187f18d4fd9",
        "colab": {
          "base_uri": "https://localhost:8080/"
        }
      },
      "execution_count": null,
      "outputs": [
        {
          "output_type": "stream",
          "name": "stdout",
          "text": [
            "Drive already mounted at /content/drive; to attempt to forcibly remount, call drive.mount(\"/content/drive\", force_remount=True).\n"
          ]
        }
      ]
    },
    {
      "cell_type": "code",
      "source": [
        "!pip install faiss-cpu\n",
        "import faiss"
      ],
      "metadata": {
        "id": "dSTqnAY_d4Kt",
        "outputId": "cacb326d-1d0f-4fab-ad98-aeab93ba3de7",
        "colab": {
          "base_uri": "https://localhost:8080/"
        }
      },
      "execution_count": 6,
      "outputs": [
        {
          "output_type": "stream",
          "name": "stdout",
          "text": [
            "Requirement already satisfied: faiss-cpu in /usr/local/lib/python3.11/dist-packages (1.11.0)\n",
            "Requirement already satisfied: numpy<3.0,>=1.25.0 in /usr/local/lib/python3.11/dist-packages (from faiss-cpu) (2.0.2)\n",
            "Requirement already satisfied: packaging in /usr/local/lib/python3.11/dist-packages (from faiss-cpu) (24.2)\n"
          ]
        }
      ]
    },
    {
      "cell_type": "markdown",
      "source": [
        "### livedoor-news-corpusを読み込んで検索"
      ],
      "metadata": {
        "id": "WEl6HiIxszax"
      }
    },
    {
      "cell_type": "code",
      "source": [
        "# corpus_textsの読み込み\n",
        "import json\n",
        "\n",
        "corpus_texts = []\n",
        "with open('/content/drive/MyDrive/Colab Notebooks/data/text_embedding_search/corpus.jsonl', 'r', encoding='utf-8') as f:\n",
        "    for line in f:\n",
        "        corpus_texts.append(json.loads(line)['text'])"
      ],
      "metadata": {
        "id": "B3spxvbgx1-W"
      },
      "execution_count": null,
      "outputs": []
    },
    {
      "cell_type": "code",
      "source": [
        "xb = np.load('/content/drive/MyDrive/Colab Notebooks/data/text_embedding_search/embeddings_xb.npy')\n",
        "index = faiss.read_index('/content/drive/MyDrive/Colab Notebooks/data/text_embedding_search/hnsw_index.faiss')"
      ],
      "metadata": {
        "id": "Sot-ettbdpFM"
      },
      "execution_count": null,
      "outputs": []
    },
    {
      "cell_type": "code",
      "source": [
        "query_texts = [\"渋谷の事件についてのニュース\", \"プロ野球の試合結果\", \"新作映画のレビュー\"]\n",
        "xq = embed_texts(query_texts, is_query=True)"
      ],
      "metadata": {
        "id": "Na44rS-9eL1j"
      },
      "execution_count": null,
      "outputs": []
    },
    {
      "cell_type": "code",
      "source": [
        "index.hnsw.efSearch = 50  # 検索時の探索深さ\n",
        "k = 5  # 上位k件を取得\n",
        "D, I = index.search(xq, k)  # Dは距離、Iはインデックス"
      ],
      "metadata": {
        "id": "c_EZn0EZfkdx"
      },
      "execution_count": null,
      "outputs": []
    },
    {
      "cell_type": "code",
      "source": [
        "for i, q in enumerate(query_texts):\n",
        "  print(f\"\\n[Query] {q}\")\n",
        "  for j in range(k):\n",
        "    doc_id = I[i, j] # i番目のクエリにつき5つのID\n",
        "    print(f\" RANK {j+1}: {corpus_texts[doc_id][:50]}...\")"
      ],
      "metadata": {
        "id": "U_TMKeoRfsvD"
      },
      "execution_count": null,
      "outputs": []
    },
    {
      "cell_type": "markdown",
      "source": [
        "### SFC研究会のデータを読み込んで検索"
      ],
      "metadata": {
        "id": "KlX5LNOeYHa8"
      }
    },
    {
      "cell_type": "code",
      "source": [
        "import json\n",
        "\n",
        "filepath = '/content/drive/MyDrive/Colab Notebooks/data/text_embedding_search/lab_corpus_texts.json'\n",
        "with open(filepath, 'r', encoding='utf-8') as f:\n",
        "    lab_corpus_texts = json.load(f)\n",
        "\n",
        "filepath = '/content/drive/MyDrive/Colab Notebooks/data/text_embedding_search/lab_corpus_metadata.json'\n",
        "with open(filepath, 'r', encoding='utf-8') as f:\n",
        "    lab_corpus_metadata = json.load(f)"
      ],
      "metadata": {
        "id": "ydN4nCdmUVxy"
      },
      "execution_count": 8,
      "outputs": []
    },
    {
      "cell_type": "code",
      "source": [
        "lab_index = faiss.read_index('/content/drive/MyDrive/Colab Notebooks/data/text_embedding_search/lab_hnsw_index.faiss')"
      ],
      "metadata": {
        "id": "E-nMG4JhUgkx"
      },
      "execution_count": 9,
      "outputs": []
    },
    {
      "cell_type": "code",
      "source": [
        "query_texts = [\"**AI（人工知能）**は、機械が学習・推論・認識・判断といった人間のような知的能力を模倣する技術。機械学習、深層学習などの手法を用い、データに基づきパターンを学習し予測・分類を行う。自然言語処理や画像認識、強化学習など応用分野は多岐にわたる。\"]\n",
        "xq = embed_texts(query_texts, is_query=True)"
      ],
      "metadata": {
        "id": "H2g4JPAcl88T"
      },
      "execution_count": 10,
      "outputs": []
    },
    {
      "cell_type": "code",
      "source": [
        "lab_index.hnsw.efSearch = 100  # 検索時の探索深さ\n",
        "k = 5  # 上位k件を取得\n",
        "D, I =lab_index.search(xq, k)  # Dは距離、Iはインデックス\n",
        "\n",
        "for i, q in enumerate(query_texts):\n",
        "  print(f\"\\n[Query] {q}\")\n",
        "  for j in range(k):\n",
        "    doc_id = I[i, j] # i番目のクエリにつき5つのID\n",
        "    print(f\" RANK {j+1}: {lab_corpus_texts[doc_id][:200]}...\")\n"
      ],
      "metadata": {
        "id": "H3CP1QnXZ19P",
        "outputId": "e7bcf9c8-c40f-47f8-a5b9-d7f8001a432e",
        "colab": {
          "base_uri": "https://localhost:8080/"
        }
      },
      "execution_count": 11,
      "outputs": [
        {
          "output_type": "stream",
          "name": "stdout",
          "text": [
            "\n",
            "[Query] **AI（人工知能）**は、機械が学習・推論・認識・判断といった人間のような知的能力を模倣する技術。機械学習、深層学習などの手法を用い、データに基づきパターンを学習し予測・分類を行う。自然言語処理や画像認識、強化学習など応用分野は多岐にわたる。\n",
            " RANK 1: 研究会Ｂ: 矢作　尚久\n",
            "データサイエンスの世界では、データが生成されるプロセスを正確に把握し、同時にその深層を想像する能力と高い倫理観を要する。気象・金融・交通・物流・生活における各種センサー等のあらゆるデータは、人間の活動に紐付いている。人間の活動は、全てひとり一人の「脳と身体の状態」によって規定されている。しかしながら、データを扱う者たちが、そのデータが生成される背景、あるいはデータを紐付ける...\n",
            " RANK 2: 研究会Ａ: ショウ，　ラジブ\n",
            "This seminar will focus on different issues of environment, disaster and development in Asia...\n",
            " RANK 3: 研究会Ｂ: 華　金玲\n",
            "近年のインターネット、携帯電話、IoT、5Gなどの情報通信技術の発達により、情報へのアクセスが容易になり、我々の生活の利便性が向上した。そのような情報通信の社会基盤に大きく関わっているのがデジタル政策である。\n",
            "この研究会では、5GのユースケースやChatGPT、生成AI、メタバース、自動運転などのような新しいテクノロジーの利活用と普及について関連動向を幅広く取り上げ、議論する...\n",
            " RANK 4: 研究会Ｂ: 華　金玲\n",
            "近年のインターネット、携帯電話、IoT、5Gなどの情報通信技術の発達により、情報へのアクセスが容易になり、我々の生活の利便性が向上した。そのような情報通信の社会基盤に大きく関わっているのがデジタル政策である。\n",
            "この研究会では、5GのユースケースやChatGPT、生成AI、メタバース、自動運転などのような新しいテクノロジーの利活用と普及について関連動向を幅広く取り上げ、議論する...\n",
            " RANK 5: 研究会Ａ: 武田　圭史\n",
            "メディア表現（映像、光、音響等）, 生成AI, UAV(ドローン), VR/AR/XRなど広範な先端技術と表現メディアの応用について取り扱います。\n",
            "\n",
            "\n",
            "映像メディア\n",
            "目的：様々な活動において映像メディアを駆使しより豊かな表現を可能とする映像メディアの技術及び技法を開発します。\n",
            "内容：各種用途における映像表現・技法の研究、先端技術を用いた新たな映像表現の実現、映像を用いたマー...\n"
          ]
        }
      ]
    },
    {
      "cell_type": "markdown",
      "source": [
        "## gradioで検索機能を実装"
      ],
      "metadata": {
        "id": "dhtHKDdEUJRZ"
      }
    },
    {
      "cell_type": "code",
      "source": [
        "!pip install -q gradio"
      ],
      "metadata": {
        "id": "8HLnIeHCbGf3",
        "colab": {
          "base_uri": "https://localhost:8080/"
        },
        "outputId": "432c6802-0ce4-420b-9631-247b98829b72"
      },
      "execution_count": 12,
      "outputs": [
        {
          "output_type": "stream",
          "name": "stdout",
          "text": [
            "\u001b[2K   \u001b[90m━━━━━━━━━━━━━━━━━━━━━━━━━━━━━━━━━━━━━━━━\u001b[0m \u001b[32m54.1/54.1 MB\u001b[0m \u001b[31m18.1 MB/s\u001b[0m eta \u001b[36m0:00:00\u001b[0m\n",
            "\u001b[2K   \u001b[90m━━━━━━━━━━━━━━━━━━━━━━━━━━━━━━━━━━━━━━━━\u001b[0m \u001b[32m322.9/322.9 kB\u001b[0m \u001b[31m26.4 MB/s\u001b[0m eta \u001b[36m0:00:00\u001b[0m\n",
            "\u001b[2K   \u001b[90m━━━━━━━━━━━━━━━━━━━━━━━━━━━━━━━━━━━━━━━━\u001b[0m \u001b[32m95.2/95.2 kB\u001b[0m \u001b[31m9.0 MB/s\u001b[0m eta \u001b[36m0:00:00\u001b[0m\n",
            "\u001b[2K   \u001b[90m━━━━━━━━━━━━━━━━━━━━━━━━━━━━━━━━━━━━━━━━\u001b[0m \u001b[32m11.5/11.5 MB\u001b[0m \u001b[31m128.3 MB/s\u001b[0m eta \u001b[36m0:00:00\u001b[0m\n",
            "\u001b[2K   \u001b[90m━━━━━━━━━━━━━━━━━━━━━━━━━━━━━━━━━━━━━━━━\u001b[0m \u001b[32m72.0/72.0 kB\u001b[0m \u001b[31m6.7 MB/s\u001b[0m eta \u001b[36m0:00:00\u001b[0m\n",
            "\u001b[2K   \u001b[90m━━━━━━━━━━━━━━━━━━━━━━━━━━━━━━━━━━━━━━━━\u001b[0m \u001b[32m62.5/62.5 kB\u001b[0m \u001b[31m5.8 MB/s\u001b[0m eta \u001b[36m0:00:00\u001b[0m\n",
            "\u001b[?25h"
          ]
        }
      ]
    },
    {
      "cell_type": "markdown",
      "source": [
        "### livedoorの記事検索"
      ],
      "metadata": {
        "id": "Zf9Ds07OS0Sj"
      }
    },
    {
      "cell_type": "code",
      "source": [
        "import pandas as pd\n",
        "\n",
        "# 検索用関数の定義\n",
        "def search(query: str, k: int = 5, length: int = 30):\n",
        "    # クエリ埋め込み\n",
        "    q_emb = embed_texts([query], is_query=True)\n",
        "    # Faiss 検索\n",
        "    D, I = index.search(q_emb, k)\n",
        "    # 結果整形\n",
        "    results = []\n",
        "    for score, idx in zip(D[0], I[0]):\n",
        "        title, snippet = corpus_texts[idx].split(\"。\", 1)  # タイトル・本文を分割\n",
        "        results.append({\"title\": title, \"snippet\": snippet[:length]+\"…\", \"score\": float(score)})\n",
        "\n",
        "    df = pd.DataFrame(results) # gradio用にDFに変換\n",
        "\n",
        "    return df\n"
      ],
      "metadata": {
        "id": "jFtjS2kDURKd"
      },
      "execution_count": null,
      "outputs": []
    },
    {
      "cell_type": "code",
      "source": [
        "search(\"パソコン\", k=5)"
      ],
      "metadata": {
        "id": "cheaGqMxWB1C"
      },
      "execution_count": null,
      "outputs": []
    },
    {
      "cell_type": "code",
      "source": [
        "import gradio as gr\n",
        "\n",
        "iface = gr.Interface(\n",
        "    fn=search,\n",
        "    inputs=[\n",
        "        gr.Textbox(lines=2, placeholder=\"検索クエリを入力\"),\n",
        "        gr.Slider(minimum=1, maximum=10, step=1, label=\"Top k 件数\")\n",
        "    ],\n",
        "    outputs=gr.Dataframe(\n",
        "        headers=[\"title\", \"snippet\", \"score\"],\n",
        "        row_count=5\n",
        "    ),\n",
        "    title=\"Livedoor ニュース検索デモ\",\n",
        "    description=\"pfnet/plamo-embedding-1b + Faiss HNSW による類似ニュース検索\"\n",
        ")\n",
        "\n",
        "iface.launch(share=True)"
      ],
      "metadata": {
        "id": "E-GaL8smahiu"
      },
      "execution_count": null,
      "outputs": []
    },
    {
      "cell_type": "markdown",
      "source": [
        "### SFC研究会の検索"
      ],
      "metadata": {
        "id": "iVM766ebS3xY"
      }
    },
    {
      "cell_type": "code",
      "source": [
        "import pandas as pd\n",
        "\n",
        "# 検索用関数の定義\n",
        "def lab_search(query: str, k: int = 5, length: int = 50):\n",
        "    # クエリ埋め込み\n",
        "    q_emb = embed_texts([query], is_query=True)\n",
        "    # Faiss 検索\n",
        "    D, I = lab_index.search(q_emb, k)\n",
        "    # 結果整形\n",
        "    results = []\n",
        "    for score, idx in zip(D[0], I[0]):\n",
        "        data = lab_corpus_metadata[idx]\n",
        "        title = data.get('subject_name')\n",
        "        staffs = data.get('staffs')\n",
        "        snippet = data.get('about')\n",
        "        url = data.get('url')\n",
        "        if len(snippet) > length:\n",
        "            snippet = snippet[:length]+\"…\"\n",
        "        results.append({\"title\": title, \"staffs\": staffs, \"snippet\": snippet, \"url\": url, \"score\": float(score)})\n",
        "\n",
        "    df = pd.DataFrame(results) # gradio用にDFに変換\n",
        "\n",
        "    return df\n"
      ],
      "metadata": {
        "id": "e-mamxVCTDpY"
      },
      "execution_count": 38,
      "outputs": []
    },
    {
      "cell_type": "code",
      "source": [
        "import gradio as gr\n",
        "\n",
        "iface = gr.Interface(\n",
        "    fn=lab_search,\n",
        "    inputs=[\n",
        "        gr.Textbox(lines=2, placeholder=\"検索クエリを入力\"),\n",
        "        gr.Slider(minimum=1, maximum=10, step=1, label=\"Top k 件数\")\n",
        "    ],\n",
        "    outputs=gr.Dataframe(\n",
        "        headers=[\"title\", \"staffs\", \"snippet\", \"url\", \"score\"],\n",
        "        row_count=5\n",
        "    ),\n",
        "    title=\"【デモ】SFC研究会のベクトル検索\",\n",
        "    description=\"pfnet/plamo-embedding-1b + Faiss HNSW による類似文検索\"\n",
        ")\n",
        "\n",
        "iface.launch(share=True)"
      ],
      "metadata": {
        "id": "7vOAe_Hmoluo"
      },
      "execution_count": null,
      "outputs": []
    }
  ]
}