{
  "nbformat": 4,
  "nbformat_minor": 0,
  "metadata": {
    "colab": {
      "provenance": [],
      "gpuType": "T4",
      "toc_visible": true
    },
    "kernelspec": {
      "name": "python3",
      "display_name": "Python 3"
    },
    "language_info": {
      "name": "python"
    },
    "accelerator": "GPU"
  },
  "cells": [
    {
      "cell_type": "markdown",
      "source": [
        "## セットアップ"
      ],
      "metadata": {
        "id": "uK8_mPOvkIkB"
      }
    },
    {
      "cell_type": "code",
      "source": [
        "!pip install -q transformers sentencepiece sentence-transformers \\\n",
        "    torch faiss-cpu datasets scipy scikit-learn numpy"
      ],
      "metadata": {
        "collapsed": true,
        "id": "zROGcjgkhibp"
      },
      "execution_count": null,
      "outputs": []
    },
    {
      "cell_type": "code",
      "source": [
        "# VRAMの環境変数設定\n",
        "import os\n",
        "os.environ[\"PYTORCH_CUDA_ALLOC_CONF\"] = \"expandable_segments:True\""
      ],
      "metadata": {
        "id": "tViCnevuz4T3"
      },
      "execution_count": null,
      "outputs": []
    },
    {
      "cell_type": "markdown",
      "source": [
        "## モデルの準備"
      ],
      "metadata": {
        "id": "SM2HyEzlnvVD"
      }
    },
    {
      "cell_type": "code",
      "source": [
        "import torch\n",
        "from transformers import AutoModel, AutoTokenizer\n",
        "\n",
        "tokenizer = AutoTokenizer.from_pretrained(\"pfnet/plamo-embedding-1b\", trust_remote_code=True)\n",
        "model = AutoModel.from_pretrained(\"pfnet/plamo-embedding-1b\", trust_remote_code=True)\n",
        "\n",
        "device = \"cuda\" if torch.cuda.is_available() else \"cpu\"\n",
        "model = model.to(device)\n",
        "model.eval()\n"
      ],
      "metadata": {
        "collapsed": true,
        "id": "lg2xD9htitH4"
      },
      "execution_count": null,
      "outputs": []
    },
    {
      "cell_type": "markdown",
      "source": [
        "## 埋め込み計算モジュールの定義"
      ],
      "metadata": {
        "id": "CdNantPQoyRJ"
      }
    },
    {
      "cell_type": "code",
      "source": [
        "import numpy as np\n",
        "\n",
        "def embed_texts(\n",
        "    texts: list[str],\n",
        "    batch_size: int = 32,\n",
        "    is_query: bool = False,\n",
        ") -> np.ndarray:\n",
        "    \"\"\"\n",
        "    texts           : 埋め込み対象の文字列リスト\n",
        "    batch_size      : 一度に投入する文の数（デフォルト：32）\n",
        "    is_query        : True の場合は model.encode_query を使用\n",
        "                                False の場合は model.encode_document を使用\n",
        "    \"\"\"\n",
        "    all_embs = []\n",
        "\n",
        "    with torch.inference_mode():\n",
        "      # 自動混合精度演算\n",
        "      with torch.amp.autocast(\"cuda\"):\n",
        "            for i in range(0, len(texts), batch_size):\n",
        "                batch = texts[i : i + batch_size]\n",
        "                if is_query:\n",
        "                    embs = model.encode_query(batch, tokenizer)\n",
        "                else:\n",
        "                    embs = model.encode_document(batch, tokenizer)\n",
        "\n",
        "                # embs は torch.Tensor\n",
        "                embs_np = embs.to(\"cpu\").numpy()  # NumPy に変換\n",
        "                # VRAM を開放する\n",
        "                del embs\n",
        "                torch.cuda.empty_cache()\n",
        "                embs_np = np.nan_to_num(embs_np)\n",
        "                all_embs.append(embs_np)\n",
        "\n",
        "    return np.vstack(all_embs)\n"
      ],
      "metadata": {
        "id": "NA8kn9MhTV_9"
      },
      "execution_count": null,
      "outputs": []
    },
    {
      "cell_type": "markdown",
      "source": [
        "## JSTSによるモデルの評価"
      ],
      "metadata": {
        "id": "85xarYGlV5uk"
      }
    },
    {
      "cell_type": "code",
      "source": [
        "from datasets import load_dataset\n",
        "\n",
        "ds = load_dataset(\"sbintuitions/JMTEB\", \"jsts\")\n",
        "jsts = ds[\"test\"]\n",
        "print(jsts.column_names)  # ['sentence_pair_id', 'yjcaptions_id', 'sentence1', 'sentence2', 'label']"
      ],
      "metadata": {
        "id": "EQBupQB2SCcE"
      },
      "execution_count": null,
      "outputs": []
    },
    {
      "cell_type": "code",
      "source": [
        "from sklearn.metrics.pairwise import cosine_similarity\n",
        "\n",
        "# JSTS の全ペアを「文1／文2」と「スコア」に分解\n",
        "sent1 = jsts[\"sentence1\"]\n",
        "sent2 = jsts[\"sentence2\"]\n",
        "gold_score = np.array(jsts[\"label\"], dtype=float)  # 0〜5 の連続値\n",
        "\n",
        "# 埋め込み\n",
        "emb1 = embed_texts(sent1)\n",
        "emb2 = embed_texts(sent2)\n",
        "\n",
        "# コサイン類似度\n",
        "# N×2048 の行列同士のコサイン類似度を一度に出す\n",
        "sim_matrix = cosine_similarity(emb1, emb2)\n",
        "# 対角成分だけを取り出せばペアごとの類似度が得られる\n",
        "cos_sim = np.diag(sim_matrix)  # shape=(N,)"
      ],
      "metadata": {
        "id": "6s8St_C2SiUr"
      },
      "execution_count": null,
      "outputs": []
    },
    {
      "cell_type": "code",
      "source": [
        "# スピアマンとピアソンの相関係数を計算\n",
        "from scipy.stats import spearmanr, pearsonr\n",
        "\n",
        "spearman_corr, _ = spearmanr(cos_sim, gold_score)\n",
        "pearson_corr, _  = pearsonr(cos_sim, gold_score)\n",
        "\n",
        "print(f\"Spearman: {spearman_corr:.4f}\")\n",
        "print(f\"Pearson : {pearson_corr:.4f}\")"
      ],
      "metadata": {
        "id": "D3IlVfPWUVp1"
      },
      "execution_count": null,
      "outputs": []
    },
    {
      "cell_type": "markdown",
      "source": [
        "## インデックス用データ読み込み・前処理"
      ],
      "metadata": {
        "id": "HM0Gu1B1jUeG"
      }
    },
    {
      "cell_type": "code",
      "source": [
        "from google.colab import drive\n",
        "drive.mount('/content/drive')\n",
        "# drive.mount(\"/content/drive\", force_remount=True)"
      ],
      "metadata": {
        "id": "Wko2nT5J6ui1"
      },
      "execution_count": null,
      "outputs": []
    },
    {
      "cell_type": "code",
      "source": [
        "from datasets import load_dataset\n",
        "# Livedoor ニュースコーパス (約7,300記事) を train/val/test に分割読み込み\n",
        "ds = load_dataset(\n",
        "    \"shunk031/livedoor-news-corpus\",\n",
        "    train_ratio=0.8,\n",
        "    val_ratio=0.1,\n",
        "    test_ratio=0.1,\n",
        "    shuffle=False,\n",
        ")\n",
        "train = ds[\"train\"]\n",
        "print(train)"
      ],
      "metadata": {
        "id": "DwZ19896jD6y"
      },
      "execution_count": null,
      "outputs": []
    },
    {
      "cell_type": "code",
      "source": [
        "# 検索対象：記事のタイトル＋本文\n",
        "corpus_texts = [\n",
        "    f\"{row['title']}。{row['content']}\"\n",
        "    for row in train\n",
        "]\n",
        "\n",
        "# （例）最初の5件をクエリとして流用\n",
        "query_texts = corpus_texts[:5]\n",
        "# 正解ID (今回は自身の記事をトップ1に返す recall@1)\n",
        "true_ids = list(range(len(query_texts))) # true_ids = [0, 1, 2, ..., 5]"
      ],
      "metadata": {
        "id": "euEILplSkZlp"
      },
      "execution_count": null,
      "outputs": []
    },
    {
      "cell_type": "code",
      "source": [
        "# 記事のタイトルと本文(corpus_texts)をjsonl形式で保存\n",
        "\n",
        "import json\n",
        "\n",
        "with open('/content/drive/MyDrive/Colab Notebooks/data/text_embedding_search/corpus.jsonl', 'w', encoding='utf-8') as f:\n",
        "    for text in corpus_texts:\n",
        "        json.dump({'text': text}, f, ensure_ascii=False)\n",
        "        f.write('\\n')\n"
      ],
      "metadata": {
        "id": "6T-gdQQju766"
      },
      "execution_count": null,
      "outputs": []
    },
    {
      "cell_type": "code",
      "source": [
        "# 文を埋め込み化する（時間のかかる処理）\n",
        "xb = embed_texts(corpus_texts, batch_size=8, is_query=False)  # index 用\n",
        "xq = embed_texts(query_texts,  batch_size=8, is_query=True)   # query 用"
      ],
      "metadata": {
        "id": "EH4kZy9pnz57"
      },
      "execution_count": null,
      "outputs": []
    },
    {
      "cell_type": "code",
      "source": [
        "import faiss\n",
        "\n",
        "d = xb.shape[1]  # 埋め込み次元\n",
        "M = 32           # 各点の近傍リンク数\n",
        "efC = 200        # 構築時の探索深さ\n",
        "\n",
        "index = faiss.IndexHNSWFlat(d, M)\n",
        "index.hnsw.efConstruction = efC\n",
        "\n",
        "# 埋め込みベクトルを追加\n",
        "index.add(xb)"
      ],
      "metadata": {
        "id": "zfhKzVbJ704C"
      },
      "execution_count": null,
      "outputs": []
    },
    {
      "cell_type": "code",
      "source": [
        "index.hnsw.efSearch = 50  # 検索時の探索深さ\n",
        "k = 5                    # top-k 件取得\n",
        "D, I = index.search(xq, k) # 検索を実行"
      ],
      "metadata": {
        "id": "6fKz_DWe78u6"
      },
      "execution_count": null,
      "outputs": []
    },
    {
      "cell_type": "code",
      "source": [
        "recall1 = np.mean([1 if true_ids[i] in I[i,:1] else 0 for i in range(len(true_ids))])\n",
        "print(f\"Recall@1: {recall1:.3f}\")"
      ],
      "metadata": {
        "id": "IHDLx2PS8DQm"
      },
      "execution_count": null,
      "outputs": []
    },
    {
      "cell_type": "code",
      "source": [
        "# 埋め込みと Faiss インデックスを保存\n",
        "np.save('/content/drive/MyDrive/Colab Notebooks/data/text_embedding_search/embeddings_xb.npy', xb)\n",
        "faiss.write_index(index, '/content/drive/MyDrive/Colab Notebooks/data/text_embedding_search/hnsw_index.faiss')"
      ],
      "metadata": {
        "id": "rFgjhBg68fiv"
      },
      "execution_count": null,
      "outputs": []
    },
    {
      "cell_type": "code",
      "source": [
        "for i in range(len(query_texts)):\n",
        "    print(f\"Query: {query_texts[i]}\")\n",
        "    for rank, idx in enumerate(I[i]):\n",
        "        print(f\"Top {rank+1}: {corpus_texts[idx]}\")\n",
        "    print(\"========\")"
      ],
      "metadata": {
        "id": "VAIXg5et_SfI",
        "collapsed": true
      },
      "execution_count": null,
      "outputs": []
    },
    {
      "cell_type": "markdown",
      "source": [
        "## 保存したインデックスを読み込んで使用"
      ],
      "metadata": {
        "id": "u8wzRLv4dsEH"
      }
    },
    {
      "cell_type": "code",
      "source": [
        "!pip install faiss-cpu\n",
        "import faiss\n",
        "from google.colab import drive\n",
        "drive.mount('/content/drive')"
      ],
      "metadata": {
        "id": "dSTqnAY_d4Kt"
      },
      "execution_count": null,
      "outputs": []
    },
    {
      "cell_type": "code",
      "source": [
        "# corpus_textsの読み込み\n",
        "import json\n",
        "\n",
        "corpus_texts = []\n",
        "with open('/content/drive/MyDrive/Colab Notebooks/data/text_embedding_search/corpus.jsonl', 'r', encoding='utf-8') as f:\n",
        "    for line in f:\n",
        "        corpus_texts.append(json.loads(line)['text'])"
      ],
      "metadata": {
        "id": "B3spxvbgx1-W"
      },
      "execution_count": null,
      "outputs": []
    },
    {
      "cell_type": "code",
      "source": [
        "xb = np.load('/content/drive/MyDrive/Colab Notebooks/data/text_embedding_search/embeddings_xb.npy')\n",
        "index = faiss.read_index('/content/drive/MyDrive/Colab Notebooks/data/text_embedding_search/hnsw_index.faiss')"
      ],
      "metadata": {
        "id": "Sot-ettbdpFM"
      },
      "execution_count": null,
      "outputs": []
    },
    {
      "cell_type": "code",
      "source": [
        "query_texts = [\"渋谷の事件についてのニュース\", \"プロ野球の試合結果\", \"新作映画のレビュー\"]\n",
        "xq = embed_texts(query_texts, is_query=True)"
      ],
      "metadata": {
        "id": "Na44rS-9eL1j"
      },
      "execution_count": null,
      "outputs": []
    },
    {
      "cell_type": "code",
      "source": [
        "index.hnsw.efSearch = 50  # 検索時の探索深さ\n",
        "k = 5  # 上位k件を取得\n",
        "D, I = index.search(xq, k)  # Dは距離、Iはインデックス"
      ],
      "metadata": {
        "id": "c_EZn0EZfkdx"
      },
      "execution_count": null,
      "outputs": []
    },
    {
      "cell_type": "code",
      "source": [
        "for i, q in enumerate(query_texts):\n",
        "  print(f\"\\n[Query] {q}\")\n",
        "  for j in range(k):\n",
        "    doc_id = I[i, j] # i番目のクエリにつき5つのID\n",
        "    print(f\" RANK {j+1}: {corpus_texts[doc_id][:50]}...\")"
      ],
      "metadata": {
        "id": "U_TMKeoRfsvD"
      },
      "execution_count": null,
      "outputs": []
    },
    {
      "cell_type": "markdown",
      "source": [
        "## gradioで検索機能を実装"
      ],
      "metadata": {
        "id": "dhtHKDdEUJRZ"
      }
    },
    {
      "cell_type": "code",
      "source": [
        "!pip install -q gradio"
      ],
      "metadata": {
        "id": "8HLnIeHCbGf3"
      },
      "execution_count": null,
      "outputs": []
    },
    {
      "cell_type": "code",
      "source": [
        "import pandas as pd\n",
        "\n",
        "# 検索用関数の定義\n",
        "def search(query: str, k: int = 5, length: int = 30):\n",
        "    # 1) クエリ埋め込み\n",
        "    q_emb = embed_texts([query], is_query=True)\n",
        "    # 2) Faiss 検索\n",
        "    D, I = index.search(q_emb, k)\n",
        "    # 3) 結果整形\n",
        "    results = []\n",
        "    for score, idx in zip(D[0], I[0]):\n",
        "        title, snippet = corpus_texts[idx].split(\"。\", 1)  # タイトル・本文を分割\n",
        "        results.append({\"title\": title, \"snippet\": snippet[:length]+\"…\", \"score\": float(score)})\n",
        "\n",
        "    df = pd.DataFrame(results) # gradio用にDFに変換\n",
        "\n",
        "    return df\n"
      ],
      "metadata": {
        "id": "jFtjS2kDURKd"
      },
      "execution_count": null,
      "outputs": []
    },
    {
      "cell_type": "code",
      "source": [
        "search(\"パソコン\", k=5)"
      ],
      "metadata": {
        "id": "cheaGqMxWB1C"
      },
      "execution_count": null,
      "outputs": []
    },
    {
      "cell_type": "code",
      "source": [
        "import gradio as gr\n",
        "\n",
        "iface = gr.Interface(\n",
        "    fn=search,\n",
        "    inputs=[\n",
        "        gr.Textbox(lines=2, placeholder=\"検索クエリを入力\"),\n",
        "        gr.Slider(minimum=1, maximum=10, step=1, label=\"Top k 件数\")\n",
        "    ],\n",
        "    outputs=gr.Dataframe(\n",
        "        headers=[\"title\", \"snippet\", \"score\"],\n",
        "        row_count=5\n",
        "    ),\n",
        "    title=\"Livedoor ニュース検索デモ\",\n",
        "    description=\"pfnet/plamo-embedding-1b + Faiss HNSW による類似ニュース検索\"\n",
        ")\n",
        "\n",
        "iface.launch(share=True)"
      ],
      "metadata": {
        "id": "E-GaL8smahiu"
      },
      "execution_count": null,
      "outputs": []
    }
  ]
}