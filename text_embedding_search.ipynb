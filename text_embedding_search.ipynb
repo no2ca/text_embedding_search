{
  "nbformat": 4,
  "nbformat_minor": 0,
  "metadata": {
    "colab": {
      "provenance": [],
      "toc_visible": true
    },
    "kernelspec": {
      "name": "python3",
      "display_name": "Python 3"
    },
    "language_info": {
      "name": "python"
    },
    "widgets": {
      "application/vnd.jupyter.widget-state+json": {
        "fdd114d22c2649539a257b27457e0295": {
          "model_module": "@jupyter-widgets/controls",
          "model_name": "HBoxModel",
          "model_module_version": "1.5.0",
          "state": {
            "_dom_classes": [],
            "_model_module": "@jupyter-widgets/controls",
            "_model_module_version": "1.5.0",
            "_model_name": "HBoxModel",
            "_view_count": null,
            "_view_module": "@jupyter-widgets/controls",
            "_view_module_version": "1.5.0",
            "_view_name": "HBoxView",
            "box_style": "",
            "children": [
              "IPY_MODEL_0579ae8e8e3d4d748514efb0445d4d0a",
              "IPY_MODEL_e3344b6067a9495f90c2f295ec1fcc98",
              "IPY_MODEL_bf337fef93f14e9a80010bae984cdb81"
            ],
            "layout": "IPY_MODEL_604cd13d017040729d472ac4eaf294a1"
          }
        },
        "0579ae8e8e3d4d748514efb0445d4d0a": {
          "model_module": "@jupyter-widgets/controls",
          "model_name": "HTMLModel",
          "model_module_version": "1.5.0",
          "state": {
            "_dom_classes": [],
            "_model_module": "@jupyter-widgets/controls",
            "_model_module_version": "1.5.0",
            "_model_name": "HTMLModel",
            "_view_count": null,
            "_view_module": "@jupyter-widgets/controls",
            "_view_module_version": "1.5.0",
            "_view_name": "HTMLView",
            "description": "",
            "description_tooltip": null,
            "layout": "IPY_MODEL_316ae225be5145e4a353316172854a60",
            "placeholder": "​",
            "style": "IPY_MODEL_79e8781a7fe346759a4f43a1db7f8082",
            "value": "tokenizer_config.json: 100%"
          }
        },
        "e3344b6067a9495f90c2f295ec1fcc98": {
          "model_module": "@jupyter-widgets/controls",
          "model_name": "FloatProgressModel",
          "model_module_version": "1.5.0",
          "state": {
            "_dom_classes": [],
            "_model_module": "@jupyter-widgets/controls",
            "_model_module_version": "1.5.0",
            "_model_name": "FloatProgressModel",
            "_view_count": null,
            "_view_module": "@jupyter-widgets/controls",
            "_view_module_version": "1.5.0",
            "_view_name": "ProgressView",
            "bar_style": "success",
            "description": "",
            "description_tooltip": null,
            "layout": "IPY_MODEL_8a10a8607ef4474aa0ae9e7cb89d13ae",
            "max": 1297,
            "min": 0,
            "orientation": "horizontal",
            "style": "IPY_MODEL_4a8d665c68474bffa64deda33ff3a1ac",
            "value": 1297
          }
        },
        "bf337fef93f14e9a80010bae984cdb81": {
          "model_module": "@jupyter-widgets/controls",
          "model_name": "HTMLModel",
          "model_module_version": "1.5.0",
          "state": {
            "_dom_classes": [],
            "_model_module": "@jupyter-widgets/controls",
            "_model_module_version": "1.5.0",
            "_model_name": "HTMLModel",
            "_view_count": null,
            "_view_module": "@jupyter-widgets/controls",
            "_view_module_version": "1.5.0",
            "_view_name": "HTMLView",
            "description": "",
            "description_tooltip": null,
            "layout": "IPY_MODEL_fb5497d34e1b4dacb7e3a46a9c5c6e7e",
            "placeholder": "​",
            "style": "IPY_MODEL_a37766d82e9a45c486c57378174876d1",
            "value": " 1.30k/1.30k [00:00&lt;00:00, 68.2kB/s]"
          }
        },
        "604cd13d017040729d472ac4eaf294a1": {
          "model_module": "@jupyter-widgets/base",
          "model_name": "LayoutModel",
          "model_module_version": "1.2.0",
          "state": {
            "_model_module": "@jupyter-widgets/base",
            "_model_module_version": "1.2.0",
            "_model_name": "LayoutModel",
            "_view_count": null,
            "_view_module": "@jupyter-widgets/base",
            "_view_module_version": "1.2.0",
            "_view_name": "LayoutView",
            "align_content": null,
            "align_items": null,
            "align_self": null,
            "border": null,
            "bottom": null,
            "display": null,
            "flex": null,
            "flex_flow": null,
            "grid_area": null,
            "grid_auto_columns": null,
            "grid_auto_flow": null,
            "grid_auto_rows": null,
            "grid_column": null,
            "grid_gap": null,
            "grid_row": null,
            "grid_template_areas": null,
            "grid_template_columns": null,
            "grid_template_rows": null,
            "height": null,
            "justify_content": null,
            "justify_items": null,
            "left": null,
            "margin": null,
            "max_height": null,
            "max_width": null,
            "min_height": null,
            "min_width": null,
            "object_fit": null,
            "object_position": null,
            "order": null,
            "overflow": null,
            "overflow_x": null,
            "overflow_y": null,
            "padding": null,
            "right": null,
            "top": null,
            "visibility": null,
            "width": null
          }
        },
        "316ae225be5145e4a353316172854a60": {
          "model_module": "@jupyter-widgets/base",
          "model_name": "LayoutModel",
          "model_module_version": "1.2.0",
          "state": {
            "_model_module": "@jupyter-widgets/base",
            "_model_module_version": "1.2.0",
            "_model_name": "LayoutModel",
            "_view_count": null,
            "_view_module": "@jupyter-widgets/base",
            "_view_module_version": "1.2.0",
            "_view_name": "LayoutView",
            "align_content": null,
            "align_items": null,
            "align_self": null,
            "border": null,
            "bottom": null,
            "display": null,
            "flex": null,
            "flex_flow": null,
            "grid_area": null,
            "grid_auto_columns": null,
            "grid_auto_flow": null,
            "grid_auto_rows": null,
            "grid_column": null,
            "grid_gap": null,
            "grid_row": null,
            "grid_template_areas": null,
            "grid_template_columns": null,
            "grid_template_rows": null,
            "height": null,
            "justify_content": null,
            "justify_items": null,
            "left": null,
            "margin": null,
            "max_height": null,
            "max_width": null,
            "min_height": null,
            "min_width": null,
            "object_fit": null,
            "object_position": null,
            "order": null,
            "overflow": null,
            "overflow_x": null,
            "overflow_y": null,
            "padding": null,
            "right": null,
            "top": null,
            "visibility": null,
            "width": null
          }
        },
        "79e8781a7fe346759a4f43a1db7f8082": {
          "model_module": "@jupyter-widgets/controls",
          "model_name": "DescriptionStyleModel",
          "model_module_version": "1.5.0",
          "state": {
            "_model_module": "@jupyter-widgets/controls",
            "_model_module_version": "1.5.0",
            "_model_name": "DescriptionStyleModel",
            "_view_count": null,
            "_view_module": "@jupyter-widgets/base",
            "_view_module_version": "1.2.0",
            "_view_name": "StyleView",
            "description_width": ""
          }
        },
        "8a10a8607ef4474aa0ae9e7cb89d13ae": {
          "model_module": "@jupyter-widgets/base",
          "model_name": "LayoutModel",
          "model_module_version": "1.2.0",
          "state": {
            "_model_module": "@jupyter-widgets/base",
            "_model_module_version": "1.2.0",
            "_model_name": "LayoutModel",
            "_view_count": null,
            "_view_module": "@jupyter-widgets/base",
            "_view_module_version": "1.2.0",
            "_view_name": "LayoutView",
            "align_content": null,
            "align_items": null,
            "align_self": null,
            "border": null,
            "bottom": null,
            "display": null,
            "flex": null,
            "flex_flow": null,
            "grid_area": null,
            "grid_auto_columns": null,
            "grid_auto_flow": null,
            "grid_auto_rows": null,
            "grid_column": null,
            "grid_gap": null,
            "grid_row": null,
            "grid_template_areas": null,
            "grid_template_columns": null,
            "grid_template_rows": null,
            "height": null,
            "justify_content": null,
            "justify_items": null,
            "left": null,
            "margin": null,
            "max_height": null,
            "max_width": null,
            "min_height": null,
            "min_width": null,
            "object_fit": null,
            "object_position": null,
            "order": null,
            "overflow": null,
            "overflow_x": null,
            "overflow_y": null,
            "padding": null,
            "right": null,
            "top": null,
            "visibility": null,
            "width": null
          }
        },
        "4a8d665c68474bffa64deda33ff3a1ac": {
          "model_module": "@jupyter-widgets/controls",
          "model_name": "ProgressStyleModel",
          "model_module_version": "1.5.0",
          "state": {
            "_model_module": "@jupyter-widgets/controls",
            "_model_module_version": "1.5.0",
            "_model_name": "ProgressStyleModel",
            "_view_count": null,
            "_view_module": "@jupyter-widgets/base",
            "_view_module_version": "1.2.0",
            "_view_name": "StyleView",
            "bar_color": null,
            "description_width": ""
          }
        },
        "fb5497d34e1b4dacb7e3a46a9c5c6e7e": {
          "model_module": "@jupyter-widgets/base",
          "model_name": "LayoutModel",
          "model_module_version": "1.2.0",
          "state": {
            "_model_module": "@jupyter-widgets/base",
            "_model_module_version": "1.2.0",
            "_model_name": "LayoutModel",
            "_view_count": null,
            "_view_module": "@jupyter-widgets/base",
            "_view_module_version": "1.2.0",
            "_view_name": "LayoutView",
            "align_content": null,
            "align_items": null,
            "align_self": null,
            "border": null,
            "bottom": null,
            "display": null,
            "flex": null,
            "flex_flow": null,
            "grid_area": null,
            "grid_auto_columns": null,
            "grid_auto_flow": null,
            "grid_auto_rows": null,
            "grid_column": null,
            "grid_gap": null,
            "grid_row": null,
            "grid_template_areas": null,
            "grid_template_columns": null,
            "grid_template_rows": null,
            "height": null,
            "justify_content": null,
            "justify_items": null,
            "left": null,
            "margin": null,
            "max_height": null,
            "max_width": null,
            "min_height": null,
            "min_width": null,
            "object_fit": null,
            "object_position": null,
            "order": null,
            "overflow": null,
            "overflow_x": null,
            "overflow_y": null,
            "padding": null,
            "right": null,
            "top": null,
            "visibility": null,
            "width": null
          }
        },
        "a37766d82e9a45c486c57378174876d1": {
          "model_module": "@jupyter-widgets/controls",
          "model_name": "DescriptionStyleModel",
          "model_module_version": "1.5.0",
          "state": {
            "_model_module": "@jupyter-widgets/controls",
            "_model_module_version": "1.5.0",
            "_model_name": "DescriptionStyleModel",
            "_view_count": null,
            "_view_module": "@jupyter-widgets/base",
            "_view_module_version": "1.2.0",
            "_view_name": "StyleView",
            "description_width": ""
          }
        },
        "f0c57d8b4d9545b68eef3f1631a2e83c": {
          "model_module": "@jupyter-widgets/controls",
          "model_name": "HBoxModel",
          "model_module_version": "1.5.0",
          "state": {
            "_dom_classes": [],
            "_model_module": "@jupyter-widgets/controls",
            "_model_module_version": "1.5.0",
            "_model_name": "HBoxModel",
            "_view_count": null,
            "_view_module": "@jupyter-widgets/controls",
            "_view_module_version": "1.5.0",
            "_view_name": "HBoxView",
            "box_style": "",
            "children": [
              "IPY_MODEL_da5389d9444b4b49bb11fb75d5fdcc07",
              "IPY_MODEL_2c61d6ba618d4a0d80ee4595cb1c949c",
              "IPY_MODEL_1b99d86dffea4edfbd46d2adf12b7164"
            ],
            "layout": "IPY_MODEL_c5563fc9a6864343ad4499531ead4393"
          }
        },
        "da5389d9444b4b49bb11fb75d5fdcc07": {
          "model_module": "@jupyter-widgets/controls",
          "model_name": "HTMLModel",
          "model_module_version": "1.5.0",
          "state": {
            "_dom_classes": [],
            "_model_module": "@jupyter-widgets/controls",
            "_model_module_version": "1.5.0",
            "_model_name": "HTMLModel",
            "_view_count": null,
            "_view_module": "@jupyter-widgets/controls",
            "_view_module_version": "1.5.0",
            "_view_name": "HTMLView",
            "description": "",
            "description_tooltip": null,
            "layout": "IPY_MODEL_a38b8cef5a48461693229195c641a44e",
            "placeholder": "​",
            "style": "IPY_MODEL_61e363d9fe224df08cf63ae5a2f57d9f",
            "value": "tokenization_plamo.py: 100%"
          }
        },
        "2c61d6ba618d4a0d80ee4595cb1c949c": {
          "model_module": "@jupyter-widgets/controls",
          "model_name": "FloatProgressModel",
          "model_module_version": "1.5.0",
          "state": {
            "_dom_classes": [],
            "_model_module": "@jupyter-widgets/controls",
            "_model_module_version": "1.5.0",
            "_model_name": "FloatProgressModel",
            "_view_count": null,
            "_view_module": "@jupyter-widgets/controls",
            "_view_module_version": "1.5.0",
            "_view_name": "ProgressView",
            "bar_style": "success",
            "description": "",
            "description_tooltip": null,
            "layout": "IPY_MODEL_61f8160aae3448e2876b5e38fd8a1866",
            "max": 7635,
            "min": 0,
            "orientation": "horizontal",
            "style": "IPY_MODEL_278752079d1a40b8aa34b92537481113",
            "value": 7635
          }
        },
        "1b99d86dffea4edfbd46d2adf12b7164": {
          "model_module": "@jupyter-widgets/controls",
          "model_name": "HTMLModel",
          "model_module_version": "1.5.0",
          "state": {
            "_dom_classes": [],
            "_model_module": "@jupyter-widgets/controls",
            "_model_module_version": "1.5.0",
            "_model_name": "HTMLModel",
            "_view_count": null,
            "_view_module": "@jupyter-widgets/controls",
            "_view_module_version": "1.5.0",
            "_view_name": "HTMLView",
            "description": "",
            "description_tooltip": null,
            "layout": "IPY_MODEL_99dbd3c77b4045c38ae3b31d775024eb",
            "placeholder": "​",
            "style": "IPY_MODEL_5c13dba891e643fe8595a36e3c1686f0",
            "value": " 7.63k/7.63k [00:00&lt;00:00, 232kB/s]"
          }
        },
        "c5563fc9a6864343ad4499531ead4393": {
          "model_module": "@jupyter-widgets/base",
          "model_name": "LayoutModel",
          "model_module_version": "1.2.0",
          "state": {
            "_model_module": "@jupyter-widgets/base",
            "_model_module_version": "1.2.0",
            "_model_name": "LayoutModel",
            "_view_count": null,
            "_view_module": "@jupyter-widgets/base",
            "_view_module_version": "1.2.0",
            "_view_name": "LayoutView",
            "align_content": null,
            "align_items": null,
            "align_self": null,
            "border": null,
            "bottom": null,
            "display": null,
            "flex": null,
            "flex_flow": null,
            "grid_area": null,
            "grid_auto_columns": null,
            "grid_auto_flow": null,
            "grid_auto_rows": null,
            "grid_column": null,
            "grid_gap": null,
            "grid_row": null,
            "grid_template_areas": null,
            "grid_template_columns": null,
            "grid_template_rows": null,
            "height": null,
            "justify_content": null,
            "justify_items": null,
            "left": null,
            "margin": null,
            "max_height": null,
            "max_width": null,
            "min_height": null,
            "min_width": null,
            "object_fit": null,
            "object_position": null,
            "order": null,
            "overflow": null,
            "overflow_x": null,
            "overflow_y": null,
            "padding": null,
            "right": null,
            "top": null,
            "visibility": null,
            "width": null
          }
        },
        "a38b8cef5a48461693229195c641a44e": {
          "model_module": "@jupyter-widgets/base",
          "model_name": "LayoutModel",
          "model_module_version": "1.2.0",
          "state": {
            "_model_module": "@jupyter-widgets/base",
            "_model_module_version": "1.2.0",
            "_model_name": "LayoutModel",
            "_view_count": null,
            "_view_module": "@jupyter-widgets/base",
            "_view_module_version": "1.2.0",
            "_view_name": "LayoutView",
            "align_content": null,
            "align_items": null,
            "align_self": null,
            "border": null,
            "bottom": null,
            "display": null,
            "flex": null,
            "flex_flow": null,
            "grid_area": null,
            "grid_auto_columns": null,
            "grid_auto_flow": null,
            "grid_auto_rows": null,
            "grid_column": null,
            "grid_gap": null,
            "grid_row": null,
            "grid_template_areas": null,
            "grid_template_columns": null,
            "grid_template_rows": null,
            "height": null,
            "justify_content": null,
            "justify_items": null,
            "left": null,
            "margin": null,
            "max_height": null,
            "max_width": null,
            "min_height": null,
            "min_width": null,
            "object_fit": null,
            "object_position": null,
            "order": null,
            "overflow": null,
            "overflow_x": null,
            "overflow_y": null,
            "padding": null,
            "right": null,
            "top": null,
            "visibility": null,
            "width": null
          }
        },
        "61e363d9fe224df08cf63ae5a2f57d9f": {
          "model_module": "@jupyter-widgets/controls",
          "model_name": "DescriptionStyleModel",
          "model_module_version": "1.5.0",
          "state": {
            "_model_module": "@jupyter-widgets/controls",
            "_model_module_version": "1.5.0",
            "_model_name": "DescriptionStyleModel",
            "_view_count": null,
            "_view_module": "@jupyter-widgets/base",
            "_view_module_version": "1.2.0",
            "_view_name": "StyleView",
            "description_width": ""
          }
        },
        "61f8160aae3448e2876b5e38fd8a1866": {
          "model_module": "@jupyter-widgets/base",
          "model_name": "LayoutModel",
          "model_module_version": "1.2.0",
          "state": {
            "_model_module": "@jupyter-widgets/base",
            "_model_module_version": "1.2.0",
            "_model_name": "LayoutModel",
            "_view_count": null,
            "_view_module": "@jupyter-widgets/base",
            "_view_module_version": "1.2.0",
            "_view_name": "LayoutView",
            "align_content": null,
            "align_items": null,
            "align_self": null,
            "border": null,
            "bottom": null,
            "display": null,
            "flex": null,
            "flex_flow": null,
            "grid_area": null,
            "grid_auto_columns": null,
            "grid_auto_flow": null,
            "grid_auto_rows": null,
            "grid_column": null,
            "grid_gap": null,
            "grid_row": null,
            "grid_template_areas": null,
            "grid_template_columns": null,
            "grid_template_rows": null,
            "height": null,
            "justify_content": null,
            "justify_items": null,
            "left": null,
            "margin": null,
            "max_height": null,
            "max_width": null,
            "min_height": null,
            "min_width": null,
            "object_fit": null,
            "object_position": null,
            "order": null,
            "overflow": null,
            "overflow_x": null,
            "overflow_y": null,
            "padding": null,
            "right": null,
            "top": null,
            "visibility": null,
            "width": null
          }
        },
        "278752079d1a40b8aa34b92537481113": {
          "model_module": "@jupyter-widgets/controls",
          "model_name": "ProgressStyleModel",
          "model_module_version": "1.5.0",
          "state": {
            "_model_module": "@jupyter-widgets/controls",
            "_model_module_version": "1.5.0",
            "_model_name": "ProgressStyleModel",
            "_view_count": null,
            "_view_module": "@jupyter-widgets/base",
            "_view_module_version": "1.2.0",
            "_view_name": "StyleView",
            "bar_color": null,
            "description_width": ""
          }
        },
        "99dbd3c77b4045c38ae3b31d775024eb": {
          "model_module": "@jupyter-widgets/base",
          "model_name": "LayoutModel",
          "model_module_version": "1.2.0",
          "state": {
            "_model_module": "@jupyter-widgets/base",
            "_model_module_version": "1.2.0",
            "_model_name": "LayoutModel",
            "_view_count": null,
            "_view_module": "@jupyter-widgets/base",
            "_view_module_version": "1.2.0",
            "_view_name": "LayoutView",
            "align_content": null,
            "align_items": null,
            "align_self": null,
            "border": null,
            "bottom": null,
            "display": null,
            "flex": null,
            "flex_flow": null,
            "grid_area": null,
            "grid_auto_columns": null,
            "grid_auto_flow": null,
            "grid_auto_rows": null,
            "grid_column": null,
            "grid_gap": null,
            "grid_row": null,
            "grid_template_areas": null,
            "grid_template_columns": null,
            "grid_template_rows": null,
            "height": null,
            "justify_content": null,
            "justify_items": null,
            "left": null,
            "margin": null,
            "max_height": null,
            "max_width": null,
            "min_height": null,
            "min_width": null,
            "object_fit": null,
            "object_position": null,
            "order": null,
            "overflow": null,
            "overflow_x": null,
            "overflow_y": null,
            "padding": null,
            "right": null,
            "top": null,
            "visibility": null,
            "width": null
          }
        },
        "5c13dba891e643fe8595a36e3c1686f0": {
          "model_module": "@jupyter-widgets/controls",
          "model_name": "DescriptionStyleModel",
          "model_module_version": "1.5.0",
          "state": {
            "_model_module": "@jupyter-widgets/controls",
            "_model_module_version": "1.5.0",
            "_model_name": "DescriptionStyleModel",
            "_view_count": null,
            "_view_module": "@jupyter-widgets/base",
            "_view_module_version": "1.2.0",
            "_view_name": "StyleView",
            "description_width": ""
          }
        },
        "79b1e47ee4b34e3085629d3624bcc921": {
          "model_module": "@jupyter-widgets/controls",
          "model_name": "HBoxModel",
          "model_module_version": "1.5.0",
          "state": {
            "_dom_classes": [],
            "_model_module": "@jupyter-widgets/controls",
            "_model_module_version": "1.5.0",
            "_model_name": "HBoxModel",
            "_view_count": null,
            "_view_module": "@jupyter-widgets/controls",
            "_view_module_version": "1.5.0",
            "_view_name": "HBoxView",
            "box_style": "",
            "children": [
              "IPY_MODEL_5738c9b75d104d38887b8b9e3127b8af",
              "IPY_MODEL_09ce38dd3572459397d18b6c85fa9413",
              "IPY_MODEL_a594290863174317ad74cc9c50aca8b9"
            ],
            "layout": "IPY_MODEL_85992b08e39d4be8ae453d6c3d4c2f44"
          }
        },
        "5738c9b75d104d38887b8b9e3127b8af": {
          "model_module": "@jupyter-widgets/controls",
          "model_name": "HTMLModel",
          "model_module_version": "1.5.0",
          "state": {
            "_dom_classes": [],
            "_model_module": "@jupyter-widgets/controls",
            "_model_module_version": "1.5.0",
            "_model_name": "HTMLModel",
            "_view_count": null,
            "_view_module": "@jupyter-widgets/controls",
            "_view_module_version": "1.5.0",
            "_view_name": "HTMLView",
            "description": "",
            "description_tooltip": null,
            "layout": "IPY_MODEL_c062efcfe47f4b43940bc20eb958ea81",
            "placeholder": "​",
            "style": "IPY_MODEL_cf2ce66931ab44b39623339fadadf2fd",
            "value": "tokenizer.model: 100%"
          }
        },
        "09ce38dd3572459397d18b6c85fa9413": {
          "model_module": "@jupyter-widgets/controls",
          "model_name": "FloatProgressModel",
          "model_module_version": "1.5.0",
          "state": {
            "_dom_classes": [],
            "_model_module": "@jupyter-widgets/controls",
            "_model_module_version": "1.5.0",
            "_model_name": "FloatProgressModel",
            "_view_count": null,
            "_view_module": "@jupyter-widgets/controls",
            "_view_module_version": "1.5.0",
            "_view_name": "ProgressView",
            "bar_style": "success",
            "description": "",
            "description_tooltip": null,
            "layout": "IPY_MODEL_5f608266212e4ac9bb97880f594566b6",
            "max": 805457,
            "min": 0,
            "orientation": "horizontal",
            "style": "IPY_MODEL_cbd74323bc5944929344da1410727f16",
            "value": 805457
          }
        },
        "a594290863174317ad74cc9c50aca8b9": {
          "model_module": "@jupyter-widgets/controls",
          "model_name": "HTMLModel",
          "model_module_version": "1.5.0",
          "state": {
            "_dom_classes": [],
            "_model_module": "@jupyter-widgets/controls",
            "_model_module_version": "1.5.0",
            "_model_name": "HTMLModel",
            "_view_count": null,
            "_view_module": "@jupyter-widgets/controls",
            "_view_module_version": "1.5.0",
            "_view_name": "HTMLView",
            "description": "",
            "description_tooltip": null,
            "layout": "IPY_MODEL_08aaa2bd05794dfeb0f6a0aee3d570ac",
            "placeholder": "​",
            "style": "IPY_MODEL_639e6eba17f744ceb3fd284355ee0eb1",
            "value": " 805k/805k [00:00&lt;00:00, 6.98MB/s]"
          }
        },
        "85992b08e39d4be8ae453d6c3d4c2f44": {
          "model_module": "@jupyter-widgets/base",
          "model_name": "LayoutModel",
          "model_module_version": "1.2.0",
          "state": {
            "_model_module": "@jupyter-widgets/base",
            "_model_module_version": "1.2.0",
            "_model_name": "LayoutModel",
            "_view_count": null,
            "_view_module": "@jupyter-widgets/base",
            "_view_module_version": "1.2.0",
            "_view_name": "LayoutView",
            "align_content": null,
            "align_items": null,
            "align_self": null,
            "border": null,
            "bottom": null,
            "display": null,
            "flex": null,
            "flex_flow": null,
            "grid_area": null,
            "grid_auto_columns": null,
            "grid_auto_flow": null,
            "grid_auto_rows": null,
            "grid_column": null,
            "grid_gap": null,
            "grid_row": null,
            "grid_template_areas": null,
            "grid_template_columns": null,
            "grid_template_rows": null,
            "height": null,
            "justify_content": null,
            "justify_items": null,
            "left": null,
            "margin": null,
            "max_height": null,
            "max_width": null,
            "min_height": null,
            "min_width": null,
            "object_fit": null,
            "object_position": null,
            "order": null,
            "overflow": null,
            "overflow_x": null,
            "overflow_y": null,
            "padding": null,
            "right": null,
            "top": null,
            "visibility": null,
            "width": null
          }
        },
        "c062efcfe47f4b43940bc20eb958ea81": {
          "model_module": "@jupyter-widgets/base",
          "model_name": "LayoutModel",
          "model_module_version": "1.2.0",
          "state": {
            "_model_module": "@jupyter-widgets/base",
            "_model_module_version": "1.2.0",
            "_model_name": "LayoutModel",
            "_view_count": null,
            "_view_module": "@jupyter-widgets/base",
            "_view_module_version": "1.2.0",
            "_view_name": "LayoutView",
            "align_content": null,
            "align_items": null,
            "align_self": null,
            "border": null,
            "bottom": null,
            "display": null,
            "flex": null,
            "flex_flow": null,
            "grid_area": null,
            "grid_auto_columns": null,
            "grid_auto_flow": null,
            "grid_auto_rows": null,
            "grid_column": null,
            "grid_gap": null,
            "grid_row": null,
            "grid_template_areas": null,
            "grid_template_columns": null,
            "grid_template_rows": null,
            "height": null,
            "justify_content": null,
            "justify_items": null,
            "left": null,
            "margin": null,
            "max_height": null,
            "max_width": null,
            "min_height": null,
            "min_width": null,
            "object_fit": null,
            "object_position": null,
            "order": null,
            "overflow": null,
            "overflow_x": null,
            "overflow_y": null,
            "padding": null,
            "right": null,
            "top": null,
            "visibility": null,
            "width": null
          }
        },
        "cf2ce66931ab44b39623339fadadf2fd": {
          "model_module": "@jupyter-widgets/controls",
          "model_name": "DescriptionStyleModel",
          "model_module_version": "1.5.0",
          "state": {
            "_model_module": "@jupyter-widgets/controls",
            "_model_module_version": "1.5.0",
            "_model_name": "DescriptionStyleModel",
            "_view_count": null,
            "_view_module": "@jupyter-widgets/base",
            "_view_module_version": "1.2.0",
            "_view_name": "StyleView",
            "description_width": ""
          }
        },
        "5f608266212e4ac9bb97880f594566b6": {
          "model_module": "@jupyter-widgets/base",
          "model_name": "LayoutModel",
          "model_module_version": "1.2.0",
          "state": {
            "_model_module": "@jupyter-widgets/base",
            "_model_module_version": "1.2.0",
            "_model_name": "LayoutModel",
            "_view_count": null,
            "_view_module": "@jupyter-widgets/base",
            "_view_module_version": "1.2.0",
            "_view_name": "LayoutView",
            "align_content": null,
            "align_items": null,
            "align_self": null,
            "border": null,
            "bottom": null,
            "display": null,
            "flex": null,
            "flex_flow": null,
            "grid_area": null,
            "grid_auto_columns": null,
            "grid_auto_flow": null,
            "grid_auto_rows": null,
            "grid_column": null,
            "grid_gap": null,
            "grid_row": null,
            "grid_template_areas": null,
            "grid_template_columns": null,
            "grid_template_rows": null,
            "height": null,
            "justify_content": null,
            "justify_items": null,
            "left": null,
            "margin": null,
            "max_height": null,
            "max_width": null,
            "min_height": null,
            "min_width": null,
            "object_fit": null,
            "object_position": null,
            "order": null,
            "overflow": null,
            "overflow_x": null,
            "overflow_y": null,
            "padding": null,
            "right": null,
            "top": null,
            "visibility": null,
            "width": null
          }
        },
        "cbd74323bc5944929344da1410727f16": {
          "model_module": "@jupyter-widgets/controls",
          "model_name": "ProgressStyleModel",
          "model_module_version": "1.5.0",
          "state": {
            "_model_module": "@jupyter-widgets/controls",
            "_model_module_version": "1.5.0",
            "_model_name": "ProgressStyleModel",
            "_view_count": null,
            "_view_module": "@jupyter-widgets/base",
            "_view_module_version": "1.2.0",
            "_view_name": "StyleView",
            "bar_color": null,
            "description_width": ""
          }
        },
        "08aaa2bd05794dfeb0f6a0aee3d570ac": {
          "model_module": "@jupyter-widgets/base",
          "model_name": "LayoutModel",
          "model_module_version": "1.2.0",
          "state": {
            "_model_module": "@jupyter-widgets/base",
            "_model_module_version": "1.2.0",
            "_model_name": "LayoutModel",
            "_view_count": null,
            "_view_module": "@jupyter-widgets/base",
            "_view_module_version": "1.2.0",
            "_view_name": "LayoutView",
            "align_content": null,
            "align_items": null,
            "align_self": null,
            "border": null,
            "bottom": null,
            "display": null,
            "flex": null,
            "flex_flow": null,
            "grid_area": null,
            "grid_auto_columns": null,
            "grid_auto_flow": null,
            "grid_auto_rows": null,
            "grid_column": null,
            "grid_gap": null,
            "grid_row": null,
            "grid_template_areas": null,
            "grid_template_columns": null,
            "grid_template_rows": null,
            "height": null,
            "justify_content": null,
            "justify_items": null,
            "left": null,
            "margin": null,
            "max_height": null,
            "max_width": null,
            "min_height": null,
            "min_width": null,
            "object_fit": null,
            "object_position": null,
            "order": null,
            "overflow": null,
            "overflow_x": null,
            "overflow_y": null,
            "padding": null,
            "right": null,
            "top": null,
            "visibility": null,
            "width": null
          }
        },
        "639e6eba17f744ceb3fd284355ee0eb1": {
          "model_module": "@jupyter-widgets/controls",
          "model_name": "DescriptionStyleModel",
          "model_module_version": "1.5.0",
          "state": {
            "_model_module": "@jupyter-widgets/controls",
            "_model_module_version": "1.5.0",
            "_model_name": "DescriptionStyleModel",
            "_view_count": null,
            "_view_module": "@jupyter-widgets/base",
            "_view_module_version": "1.2.0",
            "_view_name": "StyleView",
            "description_width": ""
          }
        },
        "ac7f4e58adc5487f96c33c10e0de7de8": {
          "model_module": "@jupyter-widgets/controls",
          "model_name": "HBoxModel",
          "model_module_version": "1.5.0",
          "state": {
            "_dom_classes": [],
            "_model_module": "@jupyter-widgets/controls",
            "_model_module_version": "1.5.0",
            "_model_name": "HBoxModel",
            "_view_count": null,
            "_view_module": "@jupyter-widgets/controls",
            "_view_module_version": "1.5.0",
            "_view_name": "HBoxView",
            "box_style": "",
            "children": [
              "IPY_MODEL_eaaaac5289164e95945bd075aed1251d",
              "IPY_MODEL_7e8655ee5e8b43c19c323417bd92511e",
              "IPY_MODEL_6358d82f82ca49929d0a8cc58d03147f"
            ],
            "layout": "IPY_MODEL_491c74ecb90442719c80e450feabbbf3"
          }
        },
        "eaaaac5289164e95945bd075aed1251d": {
          "model_module": "@jupyter-widgets/controls",
          "model_name": "HTMLModel",
          "model_module_version": "1.5.0",
          "state": {
            "_dom_classes": [],
            "_model_module": "@jupyter-widgets/controls",
            "_model_module_version": "1.5.0",
            "_model_name": "HTMLModel",
            "_view_count": null,
            "_view_module": "@jupyter-widgets/controls",
            "_view_module_version": "1.5.0",
            "_view_name": "HTMLView",
            "description": "",
            "description_tooltip": null,
            "layout": "IPY_MODEL_cdba1f48e8544d23a20776f7e7f94d73",
            "placeholder": "​",
            "style": "IPY_MODEL_5d42818f5cc14684b99a4bcaa0f4ae59",
            "value": "special_tokens_map.json: 100%"
          }
        },
        "7e8655ee5e8b43c19c323417bd92511e": {
          "model_module": "@jupyter-widgets/controls",
          "model_name": "FloatProgressModel",
          "model_module_version": "1.5.0",
          "state": {
            "_dom_classes": [],
            "_model_module": "@jupyter-widgets/controls",
            "_model_module_version": "1.5.0",
            "_model_name": "FloatProgressModel",
            "_view_count": null,
            "_view_module": "@jupyter-widgets/controls",
            "_view_module_version": "1.5.0",
            "_view_name": "ProgressView",
            "bar_style": "success",
            "description": "",
            "description_tooltip": null,
            "layout": "IPY_MODEL_4a19bfb0eda845f8b1a191858dad355d",
            "max": 477,
            "min": 0,
            "orientation": "horizontal",
            "style": "IPY_MODEL_c65b7b6b0b40475d8fb874fb8d66768d",
            "value": 477
          }
        },
        "6358d82f82ca49929d0a8cc58d03147f": {
          "model_module": "@jupyter-widgets/controls",
          "model_name": "HTMLModel",
          "model_module_version": "1.5.0",
          "state": {
            "_dom_classes": [],
            "_model_module": "@jupyter-widgets/controls",
            "_model_module_version": "1.5.0",
            "_model_name": "HTMLModel",
            "_view_count": null,
            "_view_module": "@jupyter-widgets/controls",
            "_view_module_version": "1.5.0",
            "_view_name": "HTMLView",
            "description": "",
            "description_tooltip": null,
            "layout": "IPY_MODEL_a4be14ad99c445939943e0c267bf23a1",
            "placeholder": "​",
            "style": "IPY_MODEL_b0cc9d1063c64934a878873254505fc3",
            "value": " 477/477 [00:00&lt;00:00, 28.1kB/s]"
          }
        },
        "491c74ecb90442719c80e450feabbbf3": {
          "model_module": "@jupyter-widgets/base",
          "model_name": "LayoutModel",
          "model_module_version": "1.2.0",
          "state": {
            "_model_module": "@jupyter-widgets/base",
            "_model_module_version": "1.2.0",
            "_model_name": "LayoutModel",
            "_view_count": null,
            "_view_module": "@jupyter-widgets/base",
            "_view_module_version": "1.2.0",
            "_view_name": "LayoutView",
            "align_content": null,
            "align_items": null,
            "align_self": null,
            "border": null,
            "bottom": null,
            "display": null,
            "flex": null,
            "flex_flow": null,
            "grid_area": null,
            "grid_auto_columns": null,
            "grid_auto_flow": null,
            "grid_auto_rows": null,
            "grid_column": null,
            "grid_gap": null,
            "grid_row": null,
            "grid_template_areas": null,
            "grid_template_columns": null,
            "grid_template_rows": null,
            "height": null,
            "justify_content": null,
            "justify_items": null,
            "left": null,
            "margin": null,
            "max_height": null,
            "max_width": null,
            "min_height": null,
            "min_width": null,
            "object_fit": null,
            "object_position": null,
            "order": null,
            "overflow": null,
            "overflow_x": null,
            "overflow_y": null,
            "padding": null,
            "right": null,
            "top": null,
            "visibility": null,
            "width": null
          }
        },
        "cdba1f48e8544d23a20776f7e7f94d73": {
          "model_module": "@jupyter-widgets/base",
          "model_name": "LayoutModel",
          "model_module_version": "1.2.0",
          "state": {
            "_model_module": "@jupyter-widgets/base",
            "_model_module_version": "1.2.0",
            "_model_name": "LayoutModel",
            "_view_count": null,
            "_view_module": "@jupyter-widgets/base",
            "_view_module_version": "1.2.0",
            "_view_name": "LayoutView",
            "align_content": null,
            "align_items": null,
            "align_self": null,
            "border": null,
            "bottom": null,
            "display": null,
            "flex": null,
            "flex_flow": null,
            "grid_area": null,
            "grid_auto_columns": null,
            "grid_auto_flow": null,
            "grid_auto_rows": null,
            "grid_column": null,
            "grid_gap": null,
            "grid_row": null,
            "grid_template_areas": null,
            "grid_template_columns": null,
            "grid_template_rows": null,
            "height": null,
            "justify_content": null,
            "justify_items": null,
            "left": null,
            "margin": null,
            "max_height": null,
            "max_width": null,
            "min_height": null,
            "min_width": null,
            "object_fit": null,
            "object_position": null,
            "order": null,
            "overflow": null,
            "overflow_x": null,
            "overflow_y": null,
            "padding": null,
            "right": null,
            "top": null,
            "visibility": null,
            "width": null
          }
        },
        "5d42818f5cc14684b99a4bcaa0f4ae59": {
          "model_module": "@jupyter-widgets/controls",
          "model_name": "DescriptionStyleModel",
          "model_module_version": "1.5.0",
          "state": {
            "_model_module": "@jupyter-widgets/controls",
            "_model_module_version": "1.5.0",
            "_model_name": "DescriptionStyleModel",
            "_view_count": null,
            "_view_module": "@jupyter-widgets/base",
            "_view_module_version": "1.2.0",
            "_view_name": "StyleView",
            "description_width": ""
          }
        },
        "4a19bfb0eda845f8b1a191858dad355d": {
          "model_module": "@jupyter-widgets/base",
          "model_name": "LayoutModel",
          "model_module_version": "1.2.0",
          "state": {
            "_model_module": "@jupyter-widgets/base",
            "_model_module_version": "1.2.0",
            "_model_name": "LayoutModel",
            "_view_count": null,
            "_view_module": "@jupyter-widgets/base",
            "_view_module_version": "1.2.0",
            "_view_name": "LayoutView",
            "align_content": null,
            "align_items": null,
            "align_self": null,
            "border": null,
            "bottom": null,
            "display": null,
            "flex": null,
            "flex_flow": null,
            "grid_area": null,
            "grid_auto_columns": null,
            "grid_auto_flow": null,
            "grid_auto_rows": null,
            "grid_column": null,
            "grid_gap": null,
            "grid_row": null,
            "grid_template_areas": null,
            "grid_template_columns": null,
            "grid_template_rows": null,
            "height": null,
            "justify_content": null,
            "justify_items": null,
            "left": null,
            "margin": null,
            "max_height": null,
            "max_width": null,
            "min_height": null,
            "min_width": null,
            "object_fit": null,
            "object_position": null,
            "order": null,
            "overflow": null,
            "overflow_x": null,
            "overflow_y": null,
            "padding": null,
            "right": null,
            "top": null,
            "visibility": null,
            "width": null
          }
        },
        "c65b7b6b0b40475d8fb874fb8d66768d": {
          "model_module": "@jupyter-widgets/controls",
          "model_name": "ProgressStyleModel",
          "model_module_version": "1.5.0",
          "state": {
            "_model_module": "@jupyter-widgets/controls",
            "_model_module_version": "1.5.0",
            "_model_name": "ProgressStyleModel",
            "_view_count": null,
            "_view_module": "@jupyter-widgets/base",
            "_view_module_version": "1.2.0",
            "_view_name": "StyleView",
            "bar_color": null,
            "description_width": ""
          }
        },
        "a4be14ad99c445939943e0c267bf23a1": {
          "model_module": "@jupyter-widgets/base",
          "model_name": "LayoutModel",
          "model_module_version": "1.2.0",
          "state": {
            "_model_module": "@jupyter-widgets/base",
            "_model_module_version": "1.2.0",
            "_model_name": "LayoutModel",
            "_view_count": null,
            "_view_module": "@jupyter-widgets/base",
            "_view_module_version": "1.2.0",
            "_view_name": "LayoutView",
            "align_content": null,
            "align_items": null,
            "align_self": null,
            "border": null,
            "bottom": null,
            "display": null,
            "flex": null,
            "flex_flow": null,
            "grid_area": null,
            "grid_auto_columns": null,
            "grid_auto_flow": null,
            "grid_auto_rows": null,
            "grid_column": null,
            "grid_gap": null,
            "grid_row": null,
            "grid_template_areas": null,
            "grid_template_columns": null,
            "grid_template_rows": null,
            "height": null,
            "justify_content": null,
            "justify_items": null,
            "left": null,
            "margin": null,
            "max_height": null,
            "max_width": null,
            "min_height": null,
            "min_width": null,
            "object_fit": null,
            "object_position": null,
            "order": null,
            "overflow": null,
            "overflow_x": null,
            "overflow_y": null,
            "padding": null,
            "right": null,
            "top": null,
            "visibility": null,
            "width": null
          }
        },
        "b0cc9d1063c64934a878873254505fc3": {
          "model_module": "@jupyter-widgets/controls",
          "model_name": "DescriptionStyleModel",
          "model_module_version": "1.5.0",
          "state": {
            "_model_module": "@jupyter-widgets/controls",
            "_model_module_version": "1.5.0",
            "_model_name": "DescriptionStyleModel",
            "_view_count": null,
            "_view_module": "@jupyter-widgets/base",
            "_view_module_version": "1.2.0",
            "_view_name": "StyleView",
            "description_width": ""
          }
        },
        "c0b069892f9e4c24875d7711fe10d4a9": {
          "model_module": "@jupyter-widgets/controls",
          "model_name": "HBoxModel",
          "model_module_version": "1.5.0",
          "state": {
            "_dom_classes": [],
            "_model_module": "@jupyter-widgets/controls",
            "_model_module_version": "1.5.0",
            "_model_name": "HBoxModel",
            "_view_count": null,
            "_view_module": "@jupyter-widgets/controls",
            "_view_module_version": "1.5.0",
            "_view_name": "HBoxView",
            "box_style": "",
            "children": [
              "IPY_MODEL_4e8df5350ef44da89442ec7b7b086221",
              "IPY_MODEL_0acd3f8a2d1b4a6aab5debff05470720",
              "IPY_MODEL_5362fa3cac6d4deb8a66acb1e86460de"
            ],
            "layout": "IPY_MODEL_cc5bb3f7bf0449a8b88308ce364df3f4"
          }
        },
        "4e8df5350ef44da89442ec7b7b086221": {
          "model_module": "@jupyter-widgets/controls",
          "model_name": "HTMLModel",
          "model_module_version": "1.5.0",
          "state": {
            "_dom_classes": [],
            "_model_module": "@jupyter-widgets/controls",
            "_model_module_version": "1.5.0",
            "_model_name": "HTMLModel",
            "_view_count": null,
            "_view_module": "@jupyter-widgets/controls",
            "_view_module_version": "1.5.0",
            "_view_name": "HTMLView",
            "description": "",
            "description_tooltip": null,
            "layout": "IPY_MODEL_ed4203dc18614ee3b610ae564ddff0a6",
            "placeholder": "​",
            "style": "IPY_MODEL_0902479ce7a248828d75b27aed06caf1",
            "value": "config.json: 100%"
          }
        },
        "0acd3f8a2d1b4a6aab5debff05470720": {
          "model_module": "@jupyter-widgets/controls",
          "model_name": "FloatProgressModel",
          "model_module_version": "1.5.0",
          "state": {
            "_dom_classes": [],
            "_model_module": "@jupyter-widgets/controls",
            "_model_module_version": "1.5.0",
            "_model_name": "FloatProgressModel",
            "_view_count": null,
            "_view_module": "@jupyter-widgets/controls",
            "_view_module_version": "1.5.0",
            "_view_name": "ProgressView",
            "bar_style": "success",
            "description": "",
            "description_tooltip": null,
            "layout": "IPY_MODEL_b47da0e7b138482fb1480e57f495fd9f",
            "max": 1091,
            "min": 0,
            "orientation": "horizontal",
            "style": "IPY_MODEL_073398b627524bc9a0ab8ab9daee170e",
            "value": 1091
          }
        },
        "5362fa3cac6d4deb8a66acb1e86460de": {
          "model_module": "@jupyter-widgets/controls",
          "model_name": "HTMLModel",
          "model_module_version": "1.5.0",
          "state": {
            "_dom_classes": [],
            "_model_module": "@jupyter-widgets/controls",
            "_model_module_version": "1.5.0",
            "_model_name": "HTMLModel",
            "_view_count": null,
            "_view_module": "@jupyter-widgets/controls",
            "_view_module_version": "1.5.0",
            "_view_name": "HTMLView",
            "description": "",
            "description_tooltip": null,
            "layout": "IPY_MODEL_4bc138d3dce94a3fab773606114536f0",
            "placeholder": "​",
            "style": "IPY_MODEL_28e8c78adae34cf9ac638f4199036db8",
            "value": " 1.09k/1.09k [00:00&lt;00:00, 24.2kB/s]"
          }
        },
        "cc5bb3f7bf0449a8b88308ce364df3f4": {
          "model_module": "@jupyter-widgets/base",
          "model_name": "LayoutModel",
          "model_module_version": "1.2.0",
          "state": {
            "_model_module": "@jupyter-widgets/base",
            "_model_module_version": "1.2.0",
            "_model_name": "LayoutModel",
            "_view_count": null,
            "_view_module": "@jupyter-widgets/base",
            "_view_module_version": "1.2.0",
            "_view_name": "LayoutView",
            "align_content": null,
            "align_items": null,
            "align_self": null,
            "border": null,
            "bottom": null,
            "display": null,
            "flex": null,
            "flex_flow": null,
            "grid_area": null,
            "grid_auto_columns": null,
            "grid_auto_flow": null,
            "grid_auto_rows": null,
            "grid_column": null,
            "grid_gap": null,
            "grid_row": null,
            "grid_template_areas": null,
            "grid_template_columns": null,
            "grid_template_rows": null,
            "height": null,
            "justify_content": null,
            "justify_items": null,
            "left": null,
            "margin": null,
            "max_height": null,
            "max_width": null,
            "min_height": null,
            "min_width": null,
            "object_fit": null,
            "object_position": null,
            "order": null,
            "overflow": null,
            "overflow_x": null,
            "overflow_y": null,
            "padding": null,
            "right": null,
            "top": null,
            "visibility": null,
            "width": null
          }
        },
        "ed4203dc18614ee3b610ae564ddff0a6": {
          "model_module": "@jupyter-widgets/base",
          "model_name": "LayoutModel",
          "model_module_version": "1.2.0",
          "state": {
            "_model_module": "@jupyter-widgets/base",
            "_model_module_version": "1.2.0",
            "_model_name": "LayoutModel",
            "_view_count": null,
            "_view_module": "@jupyter-widgets/base",
            "_view_module_version": "1.2.0",
            "_view_name": "LayoutView",
            "align_content": null,
            "align_items": null,
            "align_self": null,
            "border": null,
            "bottom": null,
            "display": null,
            "flex": null,
            "flex_flow": null,
            "grid_area": null,
            "grid_auto_columns": null,
            "grid_auto_flow": null,
            "grid_auto_rows": null,
            "grid_column": null,
            "grid_gap": null,
            "grid_row": null,
            "grid_template_areas": null,
            "grid_template_columns": null,
            "grid_template_rows": null,
            "height": null,
            "justify_content": null,
            "justify_items": null,
            "left": null,
            "margin": null,
            "max_height": null,
            "max_width": null,
            "min_height": null,
            "min_width": null,
            "object_fit": null,
            "object_position": null,
            "order": null,
            "overflow": null,
            "overflow_x": null,
            "overflow_y": null,
            "padding": null,
            "right": null,
            "top": null,
            "visibility": null,
            "width": null
          }
        },
        "0902479ce7a248828d75b27aed06caf1": {
          "model_module": "@jupyter-widgets/controls",
          "model_name": "DescriptionStyleModel",
          "model_module_version": "1.5.0",
          "state": {
            "_model_module": "@jupyter-widgets/controls",
            "_model_module_version": "1.5.0",
            "_model_name": "DescriptionStyleModel",
            "_view_count": null,
            "_view_module": "@jupyter-widgets/base",
            "_view_module_version": "1.2.0",
            "_view_name": "StyleView",
            "description_width": ""
          }
        },
        "b47da0e7b138482fb1480e57f495fd9f": {
          "model_module": "@jupyter-widgets/base",
          "model_name": "LayoutModel",
          "model_module_version": "1.2.0",
          "state": {
            "_model_module": "@jupyter-widgets/base",
            "_model_module_version": "1.2.0",
            "_model_name": "LayoutModel",
            "_view_count": null,
            "_view_module": "@jupyter-widgets/base",
            "_view_module_version": "1.2.0",
            "_view_name": "LayoutView",
            "align_content": null,
            "align_items": null,
            "align_self": null,
            "border": null,
            "bottom": null,
            "display": null,
            "flex": null,
            "flex_flow": null,
            "grid_area": null,
            "grid_auto_columns": null,
            "grid_auto_flow": null,
            "grid_auto_rows": null,
            "grid_column": null,
            "grid_gap": null,
            "grid_row": null,
            "grid_template_areas": null,
            "grid_template_columns": null,
            "grid_template_rows": null,
            "height": null,
            "justify_content": null,
            "justify_items": null,
            "left": null,
            "margin": null,
            "max_height": null,
            "max_width": null,
            "min_height": null,
            "min_width": null,
            "object_fit": null,
            "object_position": null,
            "order": null,
            "overflow": null,
            "overflow_x": null,
            "overflow_y": null,
            "padding": null,
            "right": null,
            "top": null,
            "visibility": null,
            "width": null
          }
        },
        "073398b627524bc9a0ab8ab9daee170e": {
          "model_module": "@jupyter-widgets/controls",
          "model_name": "ProgressStyleModel",
          "model_module_version": "1.5.0",
          "state": {
            "_model_module": "@jupyter-widgets/controls",
            "_model_module_version": "1.5.0",
            "_model_name": "ProgressStyleModel",
            "_view_count": null,
            "_view_module": "@jupyter-widgets/base",
            "_view_module_version": "1.2.0",
            "_view_name": "StyleView",
            "bar_color": null,
            "description_width": ""
          }
        },
        "4bc138d3dce94a3fab773606114536f0": {
          "model_module": "@jupyter-widgets/base",
          "model_name": "LayoutModel",
          "model_module_version": "1.2.0",
          "state": {
            "_model_module": "@jupyter-widgets/base",
            "_model_module_version": "1.2.0",
            "_model_name": "LayoutModel",
            "_view_count": null,
            "_view_module": "@jupyter-widgets/base",
            "_view_module_version": "1.2.0",
            "_view_name": "LayoutView",
            "align_content": null,
            "align_items": null,
            "align_self": null,
            "border": null,
            "bottom": null,
            "display": null,
            "flex": null,
            "flex_flow": null,
            "grid_area": null,
            "grid_auto_columns": null,
            "grid_auto_flow": null,
            "grid_auto_rows": null,
            "grid_column": null,
            "grid_gap": null,
            "grid_row": null,
            "grid_template_areas": null,
            "grid_template_columns": null,
            "grid_template_rows": null,
            "height": null,
            "justify_content": null,
            "justify_items": null,
            "left": null,
            "margin": null,
            "max_height": null,
            "max_width": null,
            "min_height": null,
            "min_width": null,
            "object_fit": null,
            "object_position": null,
            "order": null,
            "overflow": null,
            "overflow_x": null,
            "overflow_y": null,
            "padding": null,
            "right": null,
            "top": null,
            "visibility": null,
            "width": null
          }
        },
        "28e8c78adae34cf9ac638f4199036db8": {
          "model_module": "@jupyter-widgets/controls",
          "model_name": "DescriptionStyleModel",
          "model_module_version": "1.5.0",
          "state": {
            "_model_module": "@jupyter-widgets/controls",
            "_model_module_version": "1.5.0",
            "_model_name": "DescriptionStyleModel",
            "_view_count": null,
            "_view_module": "@jupyter-widgets/base",
            "_view_module_version": "1.2.0",
            "_view_name": "StyleView",
            "description_width": ""
          }
        },
        "4da997631b9e40d6a23b4e353f036d0c": {
          "model_module": "@jupyter-widgets/controls",
          "model_name": "HBoxModel",
          "model_module_version": "1.5.0",
          "state": {
            "_dom_classes": [],
            "_model_module": "@jupyter-widgets/controls",
            "_model_module_version": "1.5.0",
            "_model_name": "HBoxModel",
            "_view_count": null,
            "_view_module": "@jupyter-widgets/controls",
            "_view_module_version": "1.5.0",
            "_view_name": "HBoxView",
            "box_style": "",
            "children": [
              "IPY_MODEL_1386be4ef78a4f549c37a9892a0ab765",
              "IPY_MODEL_c412c548aecd432b9d526970b5f55437",
              "IPY_MODEL_7ba2af757499445484db15a8dee7332c"
            ],
            "layout": "IPY_MODEL_48d6972355254369a371511a36fb7ec9"
          }
        },
        "1386be4ef78a4f549c37a9892a0ab765": {
          "model_module": "@jupyter-widgets/controls",
          "model_name": "HTMLModel",
          "model_module_version": "1.5.0",
          "state": {
            "_dom_classes": [],
            "_model_module": "@jupyter-widgets/controls",
            "_model_module_version": "1.5.0",
            "_model_name": "HTMLModel",
            "_view_count": null,
            "_view_module": "@jupyter-widgets/controls",
            "_view_module_version": "1.5.0",
            "_view_name": "HTMLView",
            "description": "",
            "description_tooltip": null,
            "layout": "IPY_MODEL_b725f5256d55478696be2c3fe1bf1d78",
            "placeholder": "​",
            "style": "IPY_MODEL_e26c6357c2fe463abc8d0c8df1ebf3c8",
            "value": "modeling_plamo.py: 100%"
          }
        },
        "c412c548aecd432b9d526970b5f55437": {
          "model_module": "@jupyter-widgets/controls",
          "model_name": "FloatProgressModel",
          "model_module_version": "1.5.0",
          "state": {
            "_dom_classes": [],
            "_model_module": "@jupyter-widgets/controls",
            "_model_module_version": "1.5.0",
            "_model_name": "FloatProgressModel",
            "_view_count": null,
            "_view_module": "@jupyter-widgets/controls",
            "_view_module_version": "1.5.0",
            "_view_name": "ProgressView",
            "bar_style": "success",
            "description": "",
            "description_tooltip": null,
            "layout": "IPY_MODEL_0506aefe8c98450392f14aabf52a89a1",
            "max": 38930,
            "min": 0,
            "orientation": "horizontal",
            "style": "IPY_MODEL_1a3c46d9bf4741ff9a63369f09f1245d",
            "value": 38930
          }
        },
        "7ba2af757499445484db15a8dee7332c": {
          "model_module": "@jupyter-widgets/controls",
          "model_name": "HTMLModel",
          "model_module_version": "1.5.0",
          "state": {
            "_dom_classes": [],
            "_model_module": "@jupyter-widgets/controls",
            "_model_module_version": "1.5.0",
            "_model_name": "HTMLModel",
            "_view_count": null,
            "_view_module": "@jupyter-widgets/controls",
            "_view_module_version": "1.5.0",
            "_view_name": "HTMLView",
            "description": "",
            "description_tooltip": null,
            "layout": "IPY_MODEL_f7c833399a364e2db13f5421797c9bc0",
            "placeholder": "​",
            "style": "IPY_MODEL_d033b615a37a4a9485f16584bf7335ec",
            "value": " 38.9k/38.9k [00:00&lt;00:00, 1.79MB/s]"
          }
        },
        "48d6972355254369a371511a36fb7ec9": {
          "model_module": "@jupyter-widgets/base",
          "model_name": "LayoutModel",
          "model_module_version": "1.2.0",
          "state": {
            "_model_module": "@jupyter-widgets/base",
            "_model_module_version": "1.2.0",
            "_model_name": "LayoutModel",
            "_view_count": null,
            "_view_module": "@jupyter-widgets/base",
            "_view_module_version": "1.2.0",
            "_view_name": "LayoutView",
            "align_content": null,
            "align_items": null,
            "align_self": null,
            "border": null,
            "bottom": null,
            "display": null,
            "flex": null,
            "flex_flow": null,
            "grid_area": null,
            "grid_auto_columns": null,
            "grid_auto_flow": null,
            "grid_auto_rows": null,
            "grid_column": null,
            "grid_gap": null,
            "grid_row": null,
            "grid_template_areas": null,
            "grid_template_columns": null,
            "grid_template_rows": null,
            "height": null,
            "justify_content": null,
            "justify_items": null,
            "left": null,
            "margin": null,
            "max_height": null,
            "max_width": null,
            "min_height": null,
            "min_width": null,
            "object_fit": null,
            "object_position": null,
            "order": null,
            "overflow": null,
            "overflow_x": null,
            "overflow_y": null,
            "padding": null,
            "right": null,
            "top": null,
            "visibility": null,
            "width": null
          }
        },
        "b725f5256d55478696be2c3fe1bf1d78": {
          "model_module": "@jupyter-widgets/base",
          "model_name": "LayoutModel",
          "model_module_version": "1.2.0",
          "state": {
            "_model_module": "@jupyter-widgets/base",
            "_model_module_version": "1.2.0",
            "_model_name": "LayoutModel",
            "_view_count": null,
            "_view_module": "@jupyter-widgets/base",
            "_view_module_version": "1.2.0",
            "_view_name": "LayoutView",
            "align_content": null,
            "align_items": null,
            "align_self": null,
            "border": null,
            "bottom": null,
            "display": null,
            "flex": null,
            "flex_flow": null,
            "grid_area": null,
            "grid_auto_columns": null,
            "grid_auto_flow": null,
            "grid_auto_rows": null,
            "grid_column": null,
            "grid_gap": null,
            "grid_row": null,
            "grid_template_areas": null,
            "grid_template_columns": null,
            "grid_template_rows": null,
            "height": null,
            "justify_content": null,
            "justify_items": null,
            "left": null,
            "margin": null,
            "max_height": null,
            "max_width": null,
            "min_height": null,
            "min_width": null,
            "object_fit": null,
            "object_position": null,
            "order": null,
            "overflow": null,
            "overflow_x": null,
            "overflow_y": null,
            "padding": null,
            "right": null,
            "top": null,
            "visibility": null,
            "width": null
          }
        },
        "e26c6357c2fe463abc8d0c8df1ebf3c8": {
          "model_module": "@jupyter-widgets/controls",
          "model_name": "DescriptionStyleModel",
          "model_module_version": "1.5.0",
          "state": {
            "_model_module": "@jupyter-widgets/controls",
            "_model_module_version": "1.5.0",
            "_model_name": "DescriptionStyleModel",
            "_view_count": null,
            "_view_module": "@jupyter-widgets/base",
            "_view_module_version": "1.2.0",
            "_view_name": "StyleView",
            "description_width": ""
          }
        },
        "0506aefe8c98450392f14aabf52a89a1": {
          "model_module": "@jupyter-widgets/base",
          "model_name": "LayoutModel",
          "model_module_version": "1.2.0",
          "state": {
            "_model_module": "@jupyter-widgets/base",
            "_model_module_version": "1.2.0",
            "_model_name": "LayoutModel",
            "_view_count": null,
            "_view_module": "@jupyter-widgets/base",
            "_view_module_version": "1.2.0",
            "_view_name": "LayoutView",
            "align_content": null,
            "align_items": null,
            "align_self": null,
            "border": null,
            "bottom": null,
            "display": null,
            "flex": null,
            "flex_flow": null,
            "grid_area": null,
            "grid_auto_columns": null,
            "grid_auto_flow": null,
            "grid_auto_rows": null,
            "grid_column": null,
            "grid_gap": null,
            "grid_row": null,
            "grid_template_areas": null,
            "grid_template_columns": null,
            "grid_template_rows": null,
            "height": null,
            "justify_content": null,
            "justify_items": null,
            "left": null,
            "margin": null,
            "max_height": null,
            "max_width": null,
            "min_height": null,
            "min_width": null,
            "object_fit": null,
            "object_position": null,
            "order": null,
            "overflow": null,
            "overflow_x": null,
            "overflow_y": null,
            "padding": null,
            "right": null,
            "top": null,
            "visibility": null,
            "width": null
          }
        },
        "1a3c46d9bf4741ff9a63369f09f1245d": {
          "model_module": "@jupyter-widgets/controls",
          "model_name": "ProgressStyleModel",
          "model_module_version": "1.5.0",
          "state": {
            "_model_module": "@jupyter-widgets/controls",
            "_model_module_version": "1.5.0",
            "_model_name": "ProgressStyleModel",
            "_view_count": null,
            "_view_module": "@jupyter-widgets/base",
            "_view_module_version": "1.2.0",
            "_view_name": "StyleView",
            "bar_color": null,
            "description_width": ""
          }
        },
        "f7c833399a364e2db13f5421797c9bc0": {
          "model_module": "@jupyter-widgets/base",
          "model_name": "LayoutModel",
          "model_module_version": "1.2.0",
          "state": {
            "_model_module": "@jupyter-widgets/base",
            "_model_module_version": "1.2.0",
            "_model_name": "LayoutModel",
            "_view_count": null,
            "_view_module": "@jupyter-widgets/base",
            "_view_module_version": "1.2.0",
            "_view_name": "LayoutView",
            "align_content": null,
            "align_items": null,
            "align_self": null,
            "border": null,
            "bottom": null,
            "display": null,
            "flex": null,
            "flex_flow": null,
            "grid_area": null,
            "grid_auto_columns": null,
            "grid_auto_flow": null,
            "grid_auto_rows": null,
            "grid_column": null,
            "grid_gap": null,
            "grid_row": null,
            "grid_template_areas": null,
            "grid_template_columns": null,
            "grid_template_rows": null,
            "height": null,
            "justify_content": null,
            "justify_items": null,
            "left": null,
            "margin": null,
            "max_height": null,
            "max_width": null,
            "min_height": null,
            "min_width": null,
            "object_fit": null,
            "object_position": null,
            "order": null,
            "overflow": null,
            "overflow_x": null,
            "overflow_y": null,
            "padding": null,
            "right": null,
            "top": null,
            "visibility": null,
            "width": null
          }
        },
        "d033b615a37a4a9485f16584bf7335ec": {
          "model_module": "@jupyter-widgets/controls",
          "model_name": "DescriptionStyleModel",
          "model_module_version": "1.5.0",
          "state": {
            "_model_module": "@jupyter-widgets/controls",
            "_model_module_version": "1.5.0",
            "_model_name": "DescriptionStyleModel",
            "_view_count": null,
            "_view_module": "@jupyter-widgets/base",
            "_view_module_version": "1.2.0",
            "_view_name": "StyleView",
            "description_width": ""
          }
        },
        "75397d8ea23a41339b62907de24b1722": {
          "model_module": "@jupyter-widgets/controls",
          "model_name": "HBoxModel",
          "model_module_version": "1.5.0",
          "state": {
            "_dom_classes": [],
            "_model_module": "@jupyter-widgets/controls",
            "_model_module_version": "1.5.0",
            "_model_name": "HBoxModel",
            "_view_count": null,
            "_view_module": "@jupyter-widgets/controls",
            "_view_module_version": "1.5.0",
            "_view_name": "HBoxView",
            "box_style": "",
            "children": [
              "IPY_MODEL_00a8a6440efe4248a3578b93af5a1056",
              "IPY_MODEL_5e2bde7d00fe437cbc653f687682bf83",
              "IPY_MODEL_0b8d8523eb8d4fbf87f2b8f64834237c"
            ],
            "layout": "IPY_MODEL_f08b532436b54d4fad9a7fd7d886c3ee"
          }
        },
        "00a8a6440efe4248a3578b93af5a1056": {
          "model_module": "@jupyter-widgets/controls",
          "model_name": "HTMLModel",
          "model_module_version": "1.5.0",
          "state": {
            "_dom_classes": [],
            "_model_module": "@jupyter-widgets/controls",
            "_model_module_version": "1.5.0",
            "_model_name": "HTMLModel",
            "_view_count": null,
            "_view_module": "@jupyter-widgets/controls",
            "_view_module_version": "1.5.0",
            "_view_name": "HTMLView",
            "description": "",
            "description_tooltip": null,
            "layout": "IPY_MODEL_47c2768614c34da8b93bdac57b831326",
            "placeholder": "​",
            "style": "IPY_MODEL_34f60f4dff894987b5ab6eed864abe09",
            "value": "model.safetensors: 100%"
          }
        },
        "5e2bde7d00fe437cbc653f687682bf83": {
          "model_module": "@jupyter-widgets/controls",
          "model_name": "FloatProgressModel",
          "model_module_version": "1.5.0",
          "state": {
            "_dom_classes": [],
            "_model_module": "@jupyter-widgets/controls",
            "_model_module_version": "1.5.0",
            "_model_name": "FloatProgressModel",
            "_view_count": null,
            "_view_module": "@jupyter-widgets/controls",
            "_view_module_version": "1.5.0",
            "_view_name": "ProgressView",
            "bar_style": "success",
            "description": "",
            "description_tooltip": null,
            "layout": "IPY_MODEL_65a63719e43c4490ab4a8c6271c5697f",
            "max": 2101303432,
            "min": 0,
            "orientation": "horizontal",
            "style": "IPY_MODEL_8c046fab04534c7f807ffd42458abeb4",
            "value": 2101303432
          }
        },
        "0b8d8523eb8d4fbf87f2b8f64834237c": {
          "model_module": "@jupyter-widgets/controls",
          "model_name": "HTMLModel",
          "model_module_version": "1.5.0",
          "state": {
            "_dom_classes": [],
            "_model_module": "@jupyter-widgets/controls",
            "_model_module_version": "1.5.0",
            "_model_name": "HTMLModel",
            "_view_count": null,
            "_view_module": "@jupyter-widgets/controls",
            "_view_module_version": "1.5.0",
            "_view_name": "HTMLView",
            "description": "",
            "description_tooltip": null,
            "layout": "IPY_MODEL_ab69fdfa675b42818f7292ff47e3779f",
            "placeholder": "​",
            "style": "IPY_MODEL_6f351c63dd154a8d88d6cded24e97397",
            "value": " 2.10G/2.10G [00:12&lt;00:00, 267MB/s]"
          }
        },
        "f08b532436b54d4fad9a7fd7d886c3ee": {
          "model_module": "@jupyter-widgets/base",
          "model_name": "LayoutModel",
          "model_module_version": "1.2.0",
          "state": {
            "_model_module": "@jupyter-widgets/base",
            "_model_module_version": "1.2.0",
            "_model_name": "LayoutModel",
            "_view_count": null,
            "_view_module": "@jupyter-widgets/base",
            "_view_module_version": "1.2.0",
            "_view_name": "LayoutView",
            "align_content": null,
            "align_items": null,
            "align_self": null,
            "border": null,
            "bottom": null,
            "display": null,
            "flex": null,
            "flex_flow": null,
            "grid_area": null,
            "grid_auto_columns": null,
            "grid_auto_flow": null,
            "grid_auto_rows": null,
            "grid_column": null,
            "grid_gap": null,
            "grid_row": null,
            "grid_template_areas": null,
            "grid_template_columns": null,
            "grid_template_rows": null,
            "height": null,
            "justify_content": null,
            "justify_items": null,
            "left": null,
            "margin": null,
            "max_height": null,
            "max_width": null,
            "min_height": null,
            "min_width": null,
            "object_fit": null,
            "object_position": null,
            "order": null,
            "overflow": null,
            "overflow_x": null,
            "overflow_y": null,
            "padding": null,
            "right": null,
            "top": null,
            "visibility": null,
            "width": null
          }
        },
        "47c2768614c34da8b93bdac57b831326": {
          "model_module": "@jupyter-widgets/base",
          "model_name": "LayoutModel",
          "model_module_version": "1.2.0",
          "state": {
            "_model_module": "@jupyter-widgets/base",
            "_model_module_version": "1.2.0",
            "_model_name": "LayoutModel",
            "_view_count": null,
            "_view_module": "@jupyter-widgets/base",
            "_view_module_version": "1.2.0",
            "_view_name": "LayoutView",
            "align_content": null,
            "align_items": null,
            "align_self": null,
            "border": null,
            "bottom": null,
            "display": null,
            "flex": null,
            "flex_flow": null,
            "grid_area": null,
            "grid_auto_columns": null,
            "grid_auto_flow": null,
            "grid_auto_rows": null,
            "grid_column": null,
            "grid_gap": null,
            "grid_row": null,
            "grid_template_areas": null,
            "grid_template_columns": null,
            "grid_template_rows": null,
            "height": null,
            "justify_content": null,
            "justify_items": null,
            "left": null,
            "margin": null,
            "max_height": null,
            "max_width": null,
            "min_height": null,
            "min_width": null,
            "object_fit": null,
            "object_position": null,
            "order": null,
            "overflow": null,
            "overflow_x": null,
            "overflow_y": null,
            "padding": null,
            "right": null,
            "top": null,
            "visibility": null,
            "width": null
          }
        },
        "34f60f4dff894987b5ab6eed864abe09": {
          "model_module": "@jupyter-widgets/controls",
          "model_name": "DescriptionStyleModel",
          "model_module_version": "1.5.0",
          "state": {
            "_model_module": "@jupyter-widgets/controls",
            "_model_module_version": "1.5.0",
            "_model_name": "DescriptionStyleModel",
            "_view_count": null,
            "_view_module": "@jupyter-widgets/base",
            "_view_module_version": "1.2.0",
            "_view_name": "StyleView",
            "description_width": ""
          }
        },
        "65a63719e43c4490ab4a8c6271c5697f": {
          "model_module": "@jupyter-widgets/base",
          "model_name": "LayoutModel",
          "model_module_version": "1.2.0",
          "state": {
            "_model_module": "@jupyter-widgets/base",
            "_model_module_version": "1.2.0",
            "_model_name": "LayoutModel",
            "_view_count": null,
            "_view_module": "@jupyter-widgets/base",
            "_view_module_version": "1.2.0",
            "_view_name": "LayoutView",
            "align_content": null,
            "align_items": null,
            "align_self": null,
            "border": null,
            "bottom": null,
            "display": null,
            "flex": null,
            "flex_flow": null,
            "grid_area": null,
            "grid_auto_columns": null,
            "grid_auto_flow": null,
            "grid_auto_rows": null,
            "grid_column": null,
            "grid_gap": null,
            "grid_row": null,
            "grid_template_areas": null,
            "grid_template_columns": null,
            "grid_template_rows": null,
            "height": null,
            "justify_content": null,
            "justify_items": null,
            "left": null,
            "margin": null,
            "max_height": null,
            "max_width": null,
            "min_height": null,
            "min_width": null,
            "object_fit": null,
            "object_position": null,
            "order": null,
            "overflow": null,
            "overflow_x": null,
            "overflow_y": null,
            "padding": null,
            "right": null,
            "top": null,
            "visibility": null,
            "width": null
          }
        },
        "8c046fab04534c7f807ffd42458abeb4": {
          "model_module": "@jupyter-widgets/controls",
          "model_name": "ProgressStyleModel",
          "model_module_version": "1.5.0",
          "state": {
            "_model_module": "@jupyter-widgets/controls",
            "_model_module_version": "1.5.0",
            "_model_name": "ProgressStyleModel",
            "_view_count": null,
            "_view_module": "@jupyter-widgets/base",
            "_view_module_version": "1.2.0",
            "_view_name": "StyleView",
            "bar_color": null,
            "description_width": ""
          }
        },
        "ab69fdfa675b42818f7292ff47e3779f": {
          "model_module": "@jupyter-widgets/base",
          "model_name": "LayoutModel",
          "model_module_version": "1.2.0",
          "state": {
            "_model_module": "@jupyter-widgets/base",
            "_model_module_version": "1.2.0",
            "_model_name": "LayoutModel",
            "_view_count": null,
            "_view_module": "@jupyter-widgets/base",
            "_view_module_version": "1.2.0",
            "_view_name": "LayoutView",
            "align_content": null,
            "align_items": null,
            "align_self": null,
            "border": null,
            "bottom": null,
            "display": null,
            "flex": null,
            "flex_flow": null,
            "grid_area": null,
            "grid_auto_columns": null,
            "grid_auto_flow": null,
            "grid_auto_rows": null,
            "grid_column": null,
            "grid_gap": null,
            "grid_row": null,
            "grid_template_areas": null,
            "grid_template_columns": null,
            "grid_template_rows": null,
            "height": null,
            "justify_content": null,
            "justify_items": null,
            "left": null,
            "margin": null,
            "max_height": null,
            "max_width": null,
            "min_height": null,
            "min_width": null,
            "object_fit": null,
            "object_position": null,
            "order": null,
            "overflow": null,
            "overflow_x": null,
            "overflow_y": null,
            "padding": null,
            "right": null,
            "top": null,
            "visibility": null,
            "width": null
          }
        },
        "6f351c63dd154a8d88d6cded24e97397": {
          "model_module": "@jupyter-widgets/controls",
          "model_name": "DescriptionStyleModel",
          "model_module_version": "1.5.0",
          "state": {
            "_model_module": "@jupyter-widgets/controls",
            "_model_module_version": "1.5.0",
            "_model_name": "DescriptionStyleModel",
            "_view_count": null,
            "_view_module": "@jupyter-widgets/base",
            "_view_module_version": "1.2.0",
            "_view_name": "StyleView",
            "description_width": ""
          }
        }
      }
    }
  },
  "cells": [
    {
      "cell_type": "markdown",
      "source": [
        "## セットアップ"
      ],
      "metadata": {
        "id": "uK8_mPOvkIkB"
      }
    },
    {
      "cell_type": "code",
      "source": [
        "!pip install -q transformers sentencepiece sentence-transformers \\\n",
        "    torch faiss-cpu datasets scipy scikit-learn numpy"
      ],
      "metadata": {
        "collapsed": true,
        "id": "zROGcjgkhibp",
        "outputId": "334c9ed7-1efd-4c03-fc61-255d368a2460",
        "colab": {
          "base_uri": "https://localhost:8080/"
        }
      },
      "execution_count": null,
      "outputs": [
        {
          "output_type": "stream",
          "name": "stdout",
          "text": [
            "\u001b[2K   \u001b[90m━━━━━━━━━━━━━━━━━━━━━━━━━━━━━━━━━━━━━━━━\u001b[0m \u001b[32m363.4/363.4 MB\u001b[0m \u001b[31m3.7 MB/s\u001b[0m eta \u001b[36m0:00:00\u001b[0m\n",
            "\u001b[2K   \u001b[90m━━━━━━━━━━━━━━━━━━━━━━━━━━━━━━━━━━━━━━━━\u001b[0m \u001b[32m13.8/13.8 MB\u001b[0m \u001b[31m60.5 MB/s\u001b[0m eta \u001b[36m0:00:00\u001b[0m\n",
            "\u001b[2K   \u001b[90m━━━━━━━━━━━━━━━━━━━━━━━━━━━━━━━━━━━━━━━━\u001b[0m \u001b[32m24.6/24.6 MB\u001b[0m \u001b[31m54.8 MB/s\u001b[0m eta \u001b[36m0:00:00\u001b[0m\n",
            "\u001b[2K   \u001b[90m━━━━━━━━━━━━━━━━━━━━━━━━━━━━━━━━━━━━━━━━\u001b[0m \u001b[32m883.7/883.7 kB\u001b[0m \u001b[31m24.4 MB/s\u001b[0m eta \u001b[36m0:00:00\u001b[0m\n",
            "\u001b[2K   \u001b[90m━━━━━━━━━━━━━━━━━━━━━━━━━━━━━━━━━━━━━━━━\u001b[0m \u001b[32m664.8/664.8 MB\u001b[0m \u001b[31m2.0 MB/s\u001b[0m eta \u001b[36m0:00:00\u001b[0m\n",
            "\u001b[2K   \u001b[90m━━━━━━━━━━━━━━━━━━━━━━━━━━━━━━━━━━━━━━━━\u001b[0m \u001b[32m211.5/211.5 MB\u001b[0m \u001b[31m5.7 MB/s\u001b[0m eta \u001b[36m0:00:00\u001b[0m\n",
            "\u001b[2K   \u001b[90m━━━━━━━━━━━━━━━━━━━━━━━━━━━━━━━━━━━━━━━━\u001b[0m \u001b[32m56.3/56.3 MB\u001b[0m \u001b[31m13.1 MB/s\u001b[0m eta \u001b[36m0:00:00\u001b[0m\n",
            "\u001b[2K   \u001b[90m━━━━━━━━━━━━━━━━━━━━━━━━━━━━━━━━━━━━━━━━\u001b[0m \u001b[32m127.9/127.9 MB\u001b[0m \u001b[31m7.9 MB/s\u001b[0m eta \u001b[36m0:00:00\u001b[0m\n",
            "\u001b[2K   \u001b[90m━━━━━━━━━━━━━━━━━━━━━━━━━━━━━━━━━━━━━━━━\u001b[0m \u001b[32m207.5/207.5 MB\u001b[0m \u001b[31m5.7 MB/s\u001b[0m eta \u001b[36m0:00:00\u001b[0m\n",
            "\u001b[2K   \u001b[90m━━━━━━━━━━━━━━━━━━━━━━━━━━━━━━━━━━━━━━━━\u001b[0m \u001b[32m21.1/21.1 MB\u001b[0m \u001b[31m99.7 MB/s\u001b[0m eta \u001b[36m0:00:00\u001b[0m\n",
            "\u001b[2K   \u001b[90m━━━━━━━━━━━━━━━━━━━━━━━━━━━━━━━━━━━━━━━━\u001b[0m \u001b[32m31.3/31.3 MB\u001b[0m \u001b[31m64.6 MB/s\u001b[0m eta \u001b[36m0:00:00\u001b[0m\n",
            "\u001b[2K   \u001b[90m━━━━━━━━━━━━━━━━━━━━━━━━━━━━━━━━━━━━━━━━\u001b[0m \u001b[32m491.4/491.4 kB\u001b[0m \u001b[31m32.0 MB/s\u001b[0m eta \u001b[36m0:00:00\u001b[0m\n",
            "\u001b[2K   \u001b[90m━━━━━━━━━━━━━━━━━━━━━━━━━━━━━━━━━━━━━━━━\u001b[0m \u001b[32m116.3/116.3 kB\u001b[0m \u001b[31m11.0 MB/s\u001b[0m eta \u001b[36m0:00:00\u001b[0m\n",
            "\u001b[2K   \u001b[90m━━━━━━━━━━━━━━━━━━━━━━━━━━━━━━━━━━━━━━━━\u001b[0m \u001b[32m193.6/193.6 kB\u001b[0m \u001b[31m16.6 MB/s\u001b[0m eta \u001b[36m0:00:00\u001b[0m\n",
            "\u001b[2K   \u001b[90m━━━━━━━━━━━━━━━━━━━━━━━━━━━━━━━━━━━━━━━━\u001b[0m \u001b[32m143.5/143.5 kB\u001b[0m \u001b[31m11.4 MB/s\u001b[0m eta \u001b[36m0:00:00\u001b[0m\n",
            "\u001b[2K   \u001b[90m━━━━━━━━━━━━━━━━━━━━━━━━━━━━━━━━━━━━━━━━\u001b[0m \u001b[32m194.8/194.8 kB\u001b[0m \u001b[31m16.2 MB/s\u001b[0m eta \u001b[36m0:00:00\u001b[0m\n",
            "\u001b[?25h\u001b[31mERROR: pip's dependency resolver does not currently take into account all the packages that are installed. This behaviour is the source of the following dependency conflicts.\n",
            "gcsfs 2025.3.2 requires fsspec==2025.3.2, but you have fsspec 2025.3.0 which is incompatible.\u001b[0m\u001b[31m\n",
            "\u001b[0m"
          ]
        }
      ]
    },
    {
      "cell_type": "code",
      "source": [
        "# VRAMの環境変数設定\n",
        "import os\n",
        "os.environ[\"PYTORCH_CUDA_ALLOC_CONF\"] = \"expandable_segments:True\""
      ],
      "metadata": {
        "id": "tViCnevuz4T3"
      },
      "execution_count": null,
      "outputs": []
    },
    {
      "cell_type": "markdown",
      "source": [
        "## モデルの準備"
      ],
      "metadata": {
        "id": "SM2HyEzlnvVD"
      }
    },
    {
      "cell_type": "code",
      "source": [
        "import torch\n",
        "from transformers import AutoModel, AutoTokenizer\n",
        "\n",
        "tokenizer = AutoTokenizer.from_pretrained(\"pfnet/plamo-embedding-1b\", trust_remote_code=True)\n",
        "model = AutoModel.from_pretrained(\"pfnet/plamo-embedding-1b\", trust_remote_code=True)\n",
        "\n",
        "device = \"cuda\" if torch.cuda.is_available() else \"cpu\"\n",
        "model = model.to(device)\n",
        "model.eval()\n"
      ],
      "metadata": {
        "collapsed": true,
        "id": "lg2xD9htitH4",
        "outputId": "422f89b0-2a8e-4fec-838b-c60235256626",
        "colab": {
          "base_uri": "https://localhost:8080/",
          "height": 860,
          "referenced_widgets": [
            "fdd114d22c2649539a257b27457e0295",
            "0579ae8e8e3d4d748514efb0445d4d0a",
            "e3344b6067a9495f90c2f295ec1fcc98",
            "bf337fef93f14e9a80010bae984cdb81",
            "604cd13d017040729d472ac4eaf294a1",
            "316ae225be5145e4a353316172854a60",
            "79e8781a7fe346759a4f43a1db7f8082",
            "8a10a8607ef4474aa0ae9e7cb89d13ae",
            "4a8d665c68474bffa64deda33ff3a1ac",
            "fb5497d34e1b4dacb7e3a46a9c5c6e7e",
            "a37766d82e9a45c486c57378174876d1",
            "f0c57d8b4d9545b68eef3f1631a2e83c",
            "da5389d9444b4b49bb11fb75d5fdcc07",
            "2c61d6ba618d4a0d80ee4595cb1c949c",
            "1b99d86dffea4edfbd46d2adf12b7164",
            "c5563fc9a6864343ad4499531ead4393",
            "a38b8cef5a48461693229195c641a44e",
            "61e363d9fe224df08cf63ae5a2f57d9f",
            "61f8160aae3448e2876b5e38fd8a1866",
            "278752079d1a40b8aa34b92537481113",
            "99dbd3c77b4045c38ae3b31d775024eb",
            "5c13dba891e643fe8595a36e3c1686f0",
            "79b1e47ee4b34e3085629d3624bcc921",
            "5738c9b75d104d38887b8b9e3127b8af",
            "09ce38dd3572459397d18b6c85fa9413",
            "a594290863174317ad74cc9c50aca8b9",
            "85992b08e39d4be8ae453d6c3d4c2f44",
            "c062efcfe47f4b43940bc20eb958ea81",
            "cf2ce66931ab44b39623339fadadf2fd",
            "5f608266212e4ac9bb97880f594566b6",
            "cbd74323bc5944929344da1410727f16",
            "08aaa2bd05794dfeb0f6a0aee3d570ac",
            "639e6eba17f744ceb3fd284355ee0eb1",
            "ac7f4e58adc5487f96c33c10e0de7de8",
            "eaaaac5289164e95945bd075aed1251d",
            "7e8655ee5e8b43c19c323417bd92511e",
            "6358d82f82ca49929d0a8cc58d03147f",
            "491c74ecb90442719c80e450feabbbf3",
            "cdba1f48e8544d23a20776f7e7f94d73",
            "5d42818f5cc14684b99a4bcaa0f4ae59",
            "4a19bfb0eda845f8b1a191858dad355d",
            "c65b7b6b0b40475d8fb874fb8d66768d",
            "a4be14ad99c445939943e0c267bf23a1",
            "b0cc9d1063c64934a878873254505fc3",
            "c0b069892f9e4c24875d7711fe10d4a9",
            "4e8df5350ef44da89442ec7b7b086221",
            "0acd3f8a2d1b4a6aab5debff05470720",
            "5362fa3cac6d4deb8a66acb1e86460de",
            "cc5bb3f7bf0449a8b88308ce364df3f4",
            "ed4203dc18614ee3b610ae564ddff0a6",
            "0902479ce7a248828d75b27aed06caf1",
            "b47da0e7b138482fb1480e57f495fd9f",
            "073398b627524bc9a0ab8ab9daee170e",
            "4bc138d3dce94a3fab773606114536f0",
            "28e8c78adae34cf9ac638f4199036db8",
            "4da997631b9e40d6a23b4e353f036d0c",
            "1386be4ef78a4f549c37a9892a0ab765",
            "c412c548aecd432b9d526970b5f55437",
            "7ba2af757499445484db15a8dee7332c",
            "48d6972355254369a371511a36fb7ec9",
            "b725f5256d55478696be2c3fe1bf1d78",
            "e26c6357c2fe463abc8d0c8df1ebf3c8",
            "0506aefe8c98450392f14aabf52a89a1",
            "1a3c46d9bf4741ff9a63369f09f1245d",
            "f7c833399a364e2db13f5421797c9bc0",
            "d033b615a37a4a9485f16584bf7335ec",
            "75397d8ea23a41339b62907de24b1722",
            "00a8a6440efe4248a3578b93af5a1056",
            "5e2bde7d00fe437cbc653f687682bf83",
            "0b8d8523eb8d4fbf87f2b8f64834237c",
            "f08b532436b54d4fad9a7fd7d886c3ee",
            "47c2768614c34da8b93bdac57b831326",
            "34f60f4dff894987b5ab6eed864abe09",
            "65a63719e43c4490ab4a8c6271c5697f",
            "8c046fab04534c7f807ffd42458abeb4",
            "ab69fdfa675b42818f7292ff47e3779f",
            "6f351c63dd154a8d88d6cded24e97397"
          ]
        }
      },
      "execution_count": null,
      "outputs": [
        {
          "output_type": "stream",
          "name": "stderr",
          "text": [
            "/usr/local/lib/python3.11/dist-packages/huggingface_hub/utils/_auth.py:94: UserWarning: \n",
            "The secret `HF_TOKEN` does not exist in your Colab secrets.\n",
            "To authenticate with the Hugging Face Hub, create a token in your settings tab (https://huggingface.co/settings/tokens), set it as secret in your Google Colab and restart your session.\n",
            "You will be able to reuse this secret in all of your notebooks.\n",
            "Please note that authentication is recommended but still optional to access public models or datasets.\n",
            "  warnings.warn(\n"
          ]
        },
        {
          "output_type": "display_data",
          "data": {
            "text/plain": [
              "tokenizer_config.json:   0%|          | 0.00/1.30k [00:00<?, ?B/s]"
            ],
            "application/vnd.jupyter.widget-view+json": {
              "version_major": 2,
              "version_minor": 0,
              "model_id": "fdd114d22c2649539a257b27457e0295"
            }
          },
          "metadata": {}
        },
        {
          "output_type": "display_data",
          "data": {
            "text/plain": [
              "tokenization_plamo.py:   0%|          | 0.00/7.63k [00:00<?, ?B/s]"
            ],
            "application/vnd.jupyter.widget-view+json": {
              "version_major": 2,
              "version_minor": 0,
              "model_id": "f0c57d8b4d9545b68eef3f1631a2e83c"
            }
          },
          "metadata": {}
        },
        {
          "output_type": "stream",
          "name": "stderr",
          "text": [
            "A new version of the following files was downloaded from https://huggingface.co/pfnet/plamo-embedding-1b:\n",
            "- tokenization_plamo.py\n",
            ". Make sure to double-check they do not contain any added malicious code. To avoid downloading new versions of the code file, you can pin a revision.\n"
          ]
        },
        {
          "output_type": "display_data",
          "data": {
            "text/plain": [
              "tokenizer.model:   0%|          | 0.00/805k [00:00<?, ?B/s]"
            ],
            "application/vnd.jupyter.widget-view+json": {
              "version_major": 2,
              "version_minor": 0,
              "model_id": "79b1e47ee4b34e3085629d3624bcc921"
            }
          },
          "metadata": {}
        },
        {
          "output_type": "display_data",
          "data": {
            "text/plain": [
              "special_tokens_map.json:   0%|          | 0.00/477 [00:00<?, ?B/s]"
            ],
            "application/vnd.jupyter.widget-view+json": {
              "version_major": 2,
              "version_minor": 0,
              "model_id": "ac7f4e58adc5487f96c33c10e0de7de8"
            }
          },
          "metadata": {}
        },
        {
          "output_type": "display_data",
          "data": {
            "text/plain": [
              "config.json:   0%|          | 0.00/1.09k [00:00<?, ?B/s]"
            ],
            "application/vnd.jupyter.widget-view+json": {
              "version_major": 2,
              "version_minor": 0,
              "model_id": "c0b069892f9e4c24875d7711fe10d4a9"
            }
          },
          "metadata": {}
        },
        {
          "output_type": "display_data",
          "data": {
            "text/plain": [
              "modeling_plamo.py:   0%|          | 0.00/38.9k [00:00<?, ?B/s]"
            ],
            "application/vnd.jupyter.widget-view+json": {
              "version_major": 2,
              "version_minor": 0,
              "model_id": "4da997631b9e40d6a23b4e353f036d0c"
            }
          },
          "metadata": {}
        },
        {
          "output_type": "stream",
          "name": "stderr",
          "text": [
            "A new version of the following files was downloaded from https://huggingface.co/pfnet/plamo-embedding-1b:\n",
            "- modeling_plamo.py\n",
            ". Make sure to double-check they do not contain any added malicious code. To avoid downloading new versions of the code file, you can pin a revision.\n"
          ]
        },
        {
          "output_type": "display_data",
          "data": {
            "text/plain": [
              "model.safetensors:   0%|          | 0.00/2.10G [00:00<?, ?B/s]"
            ],
            "application/vnd.jupyter.widget-view+json": {
              "version_major": 2,
              "version_minor": 0,
              "model_id": "75397d8ea23a41339b62907de24b1722"
            }
          },
          "metadata": {}
        },
        {
          "output_type": "execute_result",
          "data": {
            "text/plain": [
              "PlamoBiModel(\n",
              "  (embed_tokens): Embedding(50112, 2048, padding_idx=3)\n",
              "  (layers): ModifiedPlamoDecoder(\n",
              "    (layers): ModuleList(\n",
              "      (0-15): 16 x ModifiedPlamoDecoderLayer(\n",
              "        (self_attn): ModifiedAttention(\n",
              "          (qkv_proj): Linear(in_features=2048, out_features=2304, bias=False)\n",
              "          (o_proj): Linear(in_features=2048, out_features=2048, bias=False)\n",
              "          (rotary_emb): RotaryEmbedding()\n",
              "        )\n",
              "        (mlp): DenseMLP(\n",
              "          (gate_up_proj): Linear(in_features=2048, out_features=16384, bias=False)\n",
              "          (down_proj): Linear(in_features=8192, out_features=2048, bias=False)\n",
              "        )\n",
              "        (norm): RMSNorm()\n",
              "        (norm2): RMSNorm()\n",
              "      )\n",
              "    )\n",
              "  )\n",
              "  (norm): RMSNorm()\n",
              ")"
            ]
          },
          "metadata": {},
          "execution_count": 3
        }
      ]
    },
    {
      "cell_type": "markdown",
      "source": [
        "## 埋め込み計算モジュールの定義"
      ],
      "metadata": {
        "id": "CdNantPQoyRJ"
      }
    },
    {
      "cell_type": "code",
      "source": [
        "import numpy as np\n",
        "\n",
        "def embed_texts(\n",
        "    texts: list[str],\n",
        "    batch_size: int = 32,\n",
        "    is_query: bool = False,\n",
        ") -> np.ndarray:\n",
        "    \"\"\"\n",
        "    texts           : 埋め込み対象の文字列リスト\n",
        "    batch_size      : 一度に投入する文の数（デフォルト：32）\n",
        "    is_query        : True の場合は model.encode_query を使用\n",
        "                                False の場合は model.encode_document を使用\n",
        "    \"\"\"\n",
        "    all_embs = []\n",
        "\n",
        "    with torch.inference_mode():\n",
        "      # 自動混合精度演算\n",
        "      with torch.amp.autocast(\"cuda\"):\n",
        "            for i in range(0, len(texts), batch_size):\n",
        "                batch = texts[i : i + batch_size]\n",
        "                if is_query:\n",
        "                    embs = model.encode_query(\n",
        "                        batch,\n",
        "                        tokenizer,\n",
        "                    )\n",
        "                else:\n",
        "                    embs = model.encode_document(\n",
        "                        batch,\n",
        "                        tokenizer,\n",
        "                    )\n",
        "\n",
        "                # embs は torch.Tensor\n",
        "                embs_np = embs.to(\"cpu\").numpy()  # NumPy に変換\n",
        "                # VRAM を開放する\n",
        "                del embs\n",
        "                torch.cuda.empty_cache()\n",
        "                embs_np = np.nan_to_num(embs_np)\n",
        "                all_embs.append(embs_np)\n",
        "\n",
        "    return np.vstack(all_embs)\n"
      ],
      "metadata": {
        "id": "NA8kn9MhTV_9"
      },
      "execution_count": null,
      "outputs": []
    },
    {
      "cell_type": "markdown",
      "source": [
        "## JSTSによるモデルの評価"
      ],
      "metadata": {
        "id": "85xarYGlV5uk"
      }
    },
    {
      "cell_type": "code",
      "source": [
        "from datasets import load_dataset\n",
        "\n",
        "ds = load_dataset(\"sbintuitions/JMTEB\", \"jsts\")\n",
        "jsts = ds[\"test\"]\n",
        "print(jsts.column_names)  # ['sentence_pair_id', 'yjcaptions_id', 'sentence1', 'sentence2', 'label']"
      ],
      "metadata": {
        "id": "EQBupQB2SCcE"
      },
      "execution_count": null,
      "outputs": []
    },
    {
      "cell_type": "code",
      "source": [
        "from sklearn.metrics.pairwise import cosine_similarity\n",
        "\n",
        "# JSTS の全ペアを「文1／文2」と「スコア」に分解\n",
        "sent1 = jsts[\"sentence1\"]\n",
        "sent2 = jsts[\"sentence2\"]\n",
        "gold_score = np.array(jsts[\"label\"], dtype=float)  # 0〜5 の連続値\n",
        "\n",
        "# 埋め込み\n",
        "emb1 = embed_texts(sent1)\n",
        "emb2 = embed_texts(sent2)\n",
        "\n",
        "# コサイン類似度\n",
        "# N×2048 の行列同士のコサイン類似度を一度に出す\n",
        "sim_matrix = cosine_similarity(emb1, emb2)\n",
        "# 対角成分だけを取り出せばペアごとの類似度が得られる\n",
        "cos_sim = np.diag(sim_matrix)  # shape=(N,)"
      ],
      "metadata": {
        "id": "6s8St_C2SiUr"
      },
      "execution_count": null,
      "outputs": []
    },
    {
      "cell_type": "code",
      "source": [
        "# スピアマンとピアソンの相関係数を計算\n",
        "from scipy.stats import spearmanr, pearsonr\n",
        "\n",
        "spearman_corr, _ = spearmanr(cos_sim, gold_score)\n",
        "pearson_corr, _  = pearsonr(cos_sim, gold_score)\n",
        "\n",
        "print(f\"Spearman: {spearman_corr:.4f}\")\n",
        "print(f\"Pearson : {pearson_corr:.4f}\")"
      ],
      "metadata": {
        "id": "D3IlVfPWUVp1"
      },
      "execution_count": null,
      "outputs": []
    },
    {
      "cell_type": "markdown",
      "source": [
        "## インデックス用データ読み込み・前処理・インデックス化"
      ],
      "metadata": {
        "id": "HM0Gu1B1jUeG"
      }
    },
    {
      "cell_type": "code",
      "source": [
        "from google.colab import drive\n",
        "drive.mount('/content/drive')\n",
        "# drive.mount(\"/content/drive\", force_remount=True)"
      ],
      "metadata": {
        "id": "Wko2nT5J6ui1",
        "outputId": "209ddb11-3e8a-4f42-93e5-c853c805bea5",
        "colab": {
          "base_uri": "https://localhost:8080/"
        }
      },
      "execution_count": null,
      "outputs": [
        {
          "output_type": "stream",
          "name": "stdout",
          "text": [
            "Mounted at /content/drive\n"
          ]
        }
      ]
    },
    {
      "cell_type": "markdown",
      "source": [
        "### インデックス化: livedoor-news-corpus"
      ],
      "metadata": {
        "id": "GCAPdi5meioD"
      }
    },
    {
      "cell_type": "code",
      "source": [
        "from datasets import load_dataset\n",
        "# Livedoor ニュースコーパス (約7,300記事) を train/val/test に分割読み込み\n",
        "ds = load_dataset(\n",
        "    \"shunk031/livedoor-news-corpus\",\n",
        "    train_ratio=0.8,\n",
        "    val_ratio=0.1,\n",
        "    test_ratio=0.1,\n",
        "    shuffle=False,\n",
        ")\n",
        "train = ds[\"train\"]\n",
        "print(train)"
      ],
      "metadata": {
        "id": "DwZ19896jD6y"
      },
      "execution_count": null,
      "outputs": []
    },
    {
      "cell_type": "code",
      "source": [
        "# 検索対象：記事のタイトル＋本文\n",
        "corpus_texts = [\n",
        "    f\"{row['title']}。{row['content']}\"\n",
        "    for row in train\n",
        "]\n",
        "\n",
        "# （例）最初の5件をクエリとして流用\n",
        "query_texts = corpus_texts[:5]\n",
        "# 正解ID (今回は自身の記事をトップ1に返す recall@1)\n",
        "true_ids = list(range(len(query_texts))) # true_ids = [0, 1, 2, ..., 5]"
      ],
      "metadata": {
        "id": "euEILplSkZlp"
      },
      "execution_count": null,
      "outputs": []
    },
    {
      "cell_type": "code",
      "source": [
        "# 記事のタイトルと本文(corpus_texts)をjsonl形式で保存\n",
        "\n",
        "import json\n",
        "\n",
        "with open('/content/drive/MyDrive/Colab Notebooks/data/text_embedding_search/corpus.jsonl', 'w', encoding='utf-8') as f:\n",
        "    for text in corpus_texts:\n",
        "        json.dump({'text': text}, f, ensure_ascii=False)\n",
        "        f.write('\\n')\n"
      ],
      "metadata": {
        "id": "6T-gdQQju766"
      },
      "execution_count": null,
      "outputs": []
    },
    {
      "cell_type": "code",
      "source": [
        "# 文を埋め込み化する（時間のかかる処理）\n",
        "xb = embed_texts(corpus_texts, batch_size=8, is_query=False)  # index 用\n",
        "xq = embed_texts(query_texts,  batch_size=8, is_query=True)   # query 用"
      ],
      "metadata": {
        "id": "EH4kZy9pnz57"
      },
      "execution_count": null,
      "outputs": []
    },
    {
      "cell_type": "code",
      "source": [
        "import faiss\n",
        "\n",
        "d = xb.shape[1]  # 埋め込み次元\n",
        "M = 32           # 各点の近傍リンク数\n",
        "efC = 200        # 構築時の探索深さ\n",
        "\n",
        "index = faiss.IndexHNSWFlat(d, M)\n",
        "index.hnsw.efConstruction = efC\n",
        "\n",
        "# 埋め込みベクトルを追加\n",
        "index.add(xb)"
      ],
      "metadata": {
        "id": "zfhKzVbJ704C"
      },
      "execution_count": null,
      "outputs": []
    },
    {
      "cell_type": "code",
      "source": [
        "index.hnsw.efSearch = 50  # 検索時の探索深さ\n",
        "k = 5                    # top-k 件取得\n",
        "D, I = index.search(xq, k) # 検索を実行"
      ],
      "metadata": {
        "id": "6fKz_DWe78u6"
      },
      "execution_count": null,
      "outputs": []
    },
    {
      "cell_type": "code",
      "source": [
        "recall1 = np.mean([1 if true_ids[i] in I[i,:1] else 0 for i in range(len(true_ids))])\n",
        "print(f\"Recall@1: {recall1:.3f}\")"
      ],
      "metadata": {
        "id": "IHDLx2PS8DQm"
      },
      "execution_count": null,
      "outputs": []
    },
    {
      "cell_type": "code",
      "source": [
        "# 埋め込みと Faiss インデックスを保存\n",
        "np.save('/content/drive/MyDrive/Colab Notebooks/data/text_embedding_search/embeddings_xb.npy', xb)\n",
        "faiss.write_index(index, '/content/drive/MyDrive/Colab Notebooks/data/text_embedding_search/hnsw_index.faiss')"
      ],
      "metadata": {
        "id": "rFgjhBg68fiv"
      },
      "execution_count": null,
      "outputs": []
    },
    {
      "cell_type": "code",
      "source": [
        "for i in range(len(query_texts)):\n",
        "    print(f\"Query: {query_texts[i]}\")\n",
        "    for rank, idx in enumerate(I[i]):\n",
        "        print(f\"Top {rank+1}: {corpus_texts[idx]}\")\n",
        "    print(\"========\")"
      ],
      "metadata": {
        "id": "VAIXg5et_SfI",
        "collapsed": true
      },
      "execution_count": null,
      "outputs": []
    },
    {
      "cell_type": "markdown",
      "source": [
        "### インデックス化: SFC研究会データ"
      ],
      "metadata": {
        "id": "z5dcY0sCe1Gh"
      }
    },
    {
      "cell_type": "code",
      "source": [
        "# スクレイピング済みデータを取得\n",
        "! git clone https://github.com/kota-yata/Syllabus-proto.git"
      ],
      "metadata": {
        "id": "t4ug_XXZgNOJ",
        "outputId": "b69cfe46-dcc9-427d-91df-bdcaab908257",
        "colab": {
          "base_uri": "https://localhost:8080/"
        }
      },
      "execution_count": null,
      "outputs": [
        {
          "output_type": "stream",
          "name": "stdout",
          "text": [
            "Cloning into 'Syllabus-proto'...\n",
            "remote: Enumerating objects: 729, done.\u001b[K\n",
            "remote: Counting objects: 100% (249/249), done.\u001b[K\n",
            "remote: Compressing objects: 100% (136/136), done.\u001b[K\n",
            "remote: Total 729 (delta 149), reused 180 (delta 95), pack-reused 480 (from 1)\u001b[K\n",
            "Receiving objects: 100% (729/729), 4.47 MiB | 16.53 MiB/s, done.\n",
            "Resolving deltas: 100% (401/401), done.\n"
          ]
        }
      ]
    },
    {
      "cell_type": "code",
      "source": [
        "import json\n",
        "\n",
        "filepath = '/content/Syllabus-proto/assets/result-2025s.json'\n",
        "with open(filepath, 'r', encoding='utf-8') as f:\n",
        "    all_class_data = json.load(f)"
      ],
      "metadata": {
        "id": "i_9gyh4AfIBQ"
      },
      "execution_count": null,
      "outputs": []
    },
    {
      "cell_type": "code",
      "source": [
        "lab_corpus_texts = [] # 埋め込みモデルに入力するテキストのリスト\n",
        "lab_corpus_metadata = [] # メタデータを持つリスト\n",
        "\n",
        "# target_subjects の \"A\", \"B\" は全角\n",
        "target_subjects = {\"研究会Ａ\", \"研究会Ｂ\"}\n",
        "\n",
        "for idx, item in enumerate(all_class_data):\n",
        "    # --- 必須情報の取得 ---\n",
        "    sort_id = item.get('sort_id')\n",
        "    subject_name = item.get('subject_name', '').strip() # 空の場合や前後の空白に対応\n",
        "    about_text = item.get('about', '').strip()\n",
        "    lang = item.get('lang', '').strip()\n",
        "\n",
        "    # --- モデル非対応のため外国語は除外 ---\n",
        "    if lang != '日本語':\n",
        "        continue\n",
        "\n",
        "    # --- subject_name がターゲットに含まれているかチェック ---\n",
        "    if subject_name not in target_subjects:\n",
        "        continue\n",
        "\n",
        "    # --- ID, subject_name, about がないと意味がないのでスキップ ---\n",
        "    if not sort_id or not subject_name or not about_text:\n",
        "        print(f\"Skipping item due to missing essential fields: {sort_id or 'Unknown ID'}\")\n",
        "        continue\n",
        "\n",
        "    # --- 検索対象テキストの生成 ---\n",
        "    # 研究会名と概要文を結合\n",
        "    staff_names = [staff.get('staff_name', '') for staff in item.get('staffs', [])]\n",
        "    staffs = \",\".join(filter(None, staff_names))\n",
        "    text_for_embedding = f\"{subject_name}: {staffs}\\n{about_text}\"\n",
        "    lab_corpus_texts.append(text_for_embedding)\n",
        "\n",
        "    # --- メタデータの抽出・整形 ---\n",
        "    url = item.get('url', '')\n",
        "    # fields から学部・分野を取得 (リスト形式なので最初のものを取得する例)\n",
        "    # fields が空リストの場合や、リスト内の辞書が空の場合のエラーを防ぐ\n",
        "    faculty = ''\n",
        "    field = ''\n",
        "    if item.get('fields'): # fields リストが存在するか確認\n",
        "        first_field = item['fields'][0] if item['fields'] else {} # リストが空でないか確認\n",
        "        faculty = first_field.get('faculty', '')\n",
        "        field = first_field.get('field', '')\n",
        "\n",
        "    term = item.get('term', '')\n",
        "\n",
        "    metadata = {\n",
        "        'sort_id': sort_id,\n",
        "        'subject_name': subject_name,\n",
        "        'about': about_text, # スニペットは検索時に生成するので、ここでは全文保持\n",
        "        'url': url,\n",
        "        'staffs': \", \".join(filter(None, staff_names)), # 教員名をカンマ区切り文字列に\n",
        "        'faculty': faculty,\n",
        "        'field': field,\n",
        "        'term': term\n",
        "    }\n",
        "    lab_corpus_metadata.append(metadata)\n",
        "\n",
        "    if len(about_text) < 30:\n",
        "        print(f\"Found too short about text: {sort_id}, {staffs}\")\n",
        "\n",
        "print(f\"Processed {len(lab_corpus_texts)} items.\")\n",
        "print(f\"Total items skipped: {len(all_class_data) - len(lab_corpus_texts)}\") # スキップされた数を計算"
      ],
      "metadata": {
        "id": "mOveUg8EhQiB",
        "outputId": "ebba6079-edd3-4197-c287-0f9998f4823a",
        "colab": {
          "base_uri": "https://localhost:8080/"
        }
      },
      "execution_count": null,
      "outputs": [
        {
          "output_type": "stream",
          "name": "stdout",
          "text": [
            "Found too short about text: X48645, 清水　たくみ\n",
            "Found too short about text: X37781, 大木　聖子\n",
            "Found too short about text: X28865, 諏訪　正樹\n",
            "Found too short about text: X47266, 東海林　祐子\n",
            "Found too short about text: X47266, 東海林　祐子\n",
            "Skipping item due to missing essential fields: X44849\n",
            "Found too short about text: X49435, 福島　康仁\n",
            "Processed 138 items.\n",
            "Total items skipped: 612\n"
          ]
        }
      ]
    },
    {
      "cell_type": "code",
      "source": [
        "# about_textの分析\n",
        "mean_about_length = 0\n",
        "longest_about = 0\n",
        "for item in all_class_data:\n",
        "    sort_id = item.get('sort_id')\n",
        "    subject_name = item.get('subject_name', '').strip()\n",
        "    staff_names = [staff.get('staff_name', '') for staff in item.get('staffs', [])]\n",
        "    staffs = \",\".join(filter(None, staff_names))\n",
        "    about_text = item.get('about', '').strip()\n",
        "\n",
        "    if subject_name not in target_subjects:\n",
        "        continue\n",
        "\n",
        "    if about_text:\n",
        "        mean_about_length += len(about_text)\n",
        "\n",
        "    if len(about_text) < 30:\n",
        "        print(f\"Found about text < 30: {sort_id}, {staffs}\")\n",
        "\n",
        "    if len(about_text) > longest_about:\n",
        "        longest_about = len(about_text)\n",
        "\n",
        "mean_about_length /= len(lab_corpus_texts)\n",
        "\n",
        "print(f\"Mean about length: {mean_about_length}\")\n",
        "print(f\"Longest about length: {longest_about}\")"
      ],
      "metadata": {
        "id": "2a000y5x_mz6",
        "outputId": "fa47cf9b-a004-4206-f313-e2599228202b",
        "colab": {
          "base_uri": "https://localhost:8080/"
        }
      },
      "execution_count": null,
      "outputs": [
        {
          "output_type": "stream",
          "name": "stdout",
          "text": [
            "Found about text < 30: X48645, 清水　たくみ\n",
            "Found about text < 30: X37781, 大木　聖子\n",
            "Found about text < 30: X28865, 諏訪　正樹\n",
            "Found about text < 30: X47266, 東海林　祐子\n",
            "Found about text < 30: X47266, 東海林　祐子\n",
            "Found about text < 30: X44849, 藤井　進也\n",
            "Found about text < 30: X49435, 福島　康仁\n",
            "Mean about length: 257.5869565217391\n",
            "Longest about length: 1330\n"
          ]
        }
      ]
    },
    {
      "cell_type": "code",
      "source": [
        "# lab_corpus_texts をJSONファイルに保存\n",
        "corpus_texts_filepath = '/content/drive/MyDrive/Colab Notebooks/data/text_embedding_search/lab_corpus_texts.json'\n",
        "try:\n",
        "    with open(corpus_texts_filepath, 'w', encoding='utf-8') as f:\n",
        "        # ensure_ascii=False で日本語がそのまま保存されるようにする\n",
        "        # indent=4 で整形して見やすくする\n",
        "        json.dump(lab_corpus_texts, f, ensure_ascii=False, indent=4)\n",
        "    print(f\"Successfully saved corpus texts to {corpus_texts_filepath}\")\n",
        "except IOError as e:\n",
        "    print(f\"Error saving corpus texts: {e}\")\n",
        "\n",
        "# lab_corpus_metadata をJSONファイルに保存\n",
        "corpus_metadata_filepath = '/content/drive/MyDrive/Colab Notebooks/data/text_embedding_search/lab_corpus_metadata.json'\n",
        "try:\n",
        "    with open(corpus_metadata_filepath, 'w', encoding='utf-8') as f:\n",
        "        json.dump(lab_corpus_metadata, f, ensure_ascii=False, indent=4)\n",
        "    print(f\"Successfully saved corpus metadata to {corpus_metadata_filepath}\")\n",
        "except IOError as e:\n",
        "    print(f\"Error saving corpus metadata: {e}\")"
      ],
      "metadata": {
        "id": "bk4tuZ7OtVbA",
        "outputId": "87e8bd64-8b59-4682-fad8-b8b8f6771a90",
        "colab": {
          "base_uri": "https://localhost:8080/"
        }
      },
      "execution_count": null,
      "outputs": [
        {
          "output_type": "stream",
          "name": "stdout",
          "text": [
            "Successfully saved corpus texts to /content/drive/MyDrive/Colab Notebooks/data/text_embedding_search/lab_corpus_texts.json\n",
            "Successfully saved corpus metadata to /content/drive/MyDrive/Colab Notebooks/data/text_embedding_search/lab_corpus_metadata.json\n"
          ]
        }
      ]
    },
    {
      "cell_type": "code",
      "source": [
        "lab_corpus_texts_emb = embed_texts(lab_corpus_texts, is_query=False)"
      ],
      "metadata": {
        "id": "gGVB4jhuaAdX"
      },
      "execution_count": null,
      "outputs": []
    },
    {
      "cell_type": "code",
      "source": [
        "# 埋め込みをdriveに保存\n",
        "np.save('/content/drive/MyDrive/Colab Notebooks/data/text_embedding_search/lab_corpus_texts_emb.npy', lab_corpus_texts_emb)"
      ],
      "metadata": {
        "id": "7EKUJJiybSIU"
      },
      "execution_count": null,
      "outputs": []
    },
    {
      "cell_type": "code",
      "source": [
        "import faiss\n",
        "\n",
        "d = lab_corpus_texts_emb.shape[1]  # 埋め込み次元\n",
        "M = 32           # 各点の近傍リンク数\n",
        "efC = 200        # 構築時の探索深さ\n",
        "\n",
        "lab_index = faiss.IndexHNSWFlat(d, M)\n",
        "lab_index.hnsw.efConstruction = efC\n",
        "\n",
        "# 埋め込みベクトルを追加\n",
        "lab_index.add(lab_corpus_texts_emb)"
      ],
      "metadata": {
        "id": "S2UR5e2KePZ3"
      },
      "execution_count": null,
      "outputs": []
    },
    {
      "cell_type": "code",
      "source": [
        "faiss.write_index(lab_index, '/content/drive/MyDrive/Colab Notebooks/data/text_embedding_search/lab_hnsw_index.faiss')"
      ],
      "metadata": {
        "id": "zBBGJdHSlits"
      },
      "execution_count": null,
      "outputs": []
    },
    {
      "cell_type": "markdown",
      "source": [
        "## 保存したインデックスを読み込んで使用"
      ],
      "metadata": {
        "id": "u8wzRLv4dsEH"
      }
    },
    {
      "cell_type": "code",
      "source": [
        "from google.colab import drive\n",
        "drive.mount('/content/drive')"
      ],
      "metadata": {
        "id": "4tM5HpNmukKj",
        "outputId": "f0c09386-b0c6-4494-8a38-5187f18d4fd9",
        "colab": {
          "base_uri": "https://localhost:8080/"
        }
      },
      "execution_count": null,
      "outputs": [
        {
          "output_type": "stream",
          "name": "stdout",
          "text": [
            "Drive already mounted at /content/drive; to attempt to forcibly remount, call drive.mount(\"/content/drive\", force_remount=True).\n"
          ]
        }
      ]
    },
    {
      "cell_type": "code",
      "source": [
        "!pip install faiss-cpu\n",
        "import faiss"
      ],
      "metadata": {
        "id": "dSTqnAY_d4Kt",
        "outputId": "2048fdab-768e-4583-8a1a-fb93922e0806",
        "colab": {
          "base_uri": "https://localhost:8080/"
        }
      },
      "execution_count": null,
      "outputs": [
        {
          "output_type": "stream",
          "name": "stdout",
          "text": [
            "Requirement already satisfied: faiss-cpu in /usr/local/lib/python3.11/dist-packages (1.11.0)\n",
            "Requirement already satisfied: numpy<3.0,>=1.25.0 in /usr/local/lib/python3.11/dist-packages (from faiss-cpu) (2.0.2)\n",
            "Requirement already satisfied: packaging in /usr/local/lib/python3.11/dist-packages (from faiss-cpu) (24.2)\n"
          ]
        }
      ]
    },
    {
      "cell_type": "markdown",
      "source": [
        "### livedoor-news-corpusを読み込んで使用"
      ],
      "metadata": {
        "id": "WEl6HiIxszax"
      }
    },
    {
      "cell_type": "code",
      "source": [
        "# corpus_textsの読み込み\n",
        "import json\n",
        "\n",
        "corpus_texts = []\n",
        "with open('/content/drive/MyDrive/Colab Notebooks/data/text_embedding_search/corpus.jsonl', 'r', encoding='utf-8') as f:\n",
        "    for line in f:\n",
        "        corpus_texts.append(json.loads(line)['text'])"
      ],
      "metadata": {
        "id": "B3spxvbgx1-W"
      },
      "execution_count": null,
      "outputs": []
    },
    {
      "cell_type": "code",
      "source": [
        "xb = np.load('/content/drive/MyDrive/Colab Notebooks/data/text_embedding_search/embeddings_xb.npy')\n",
        "index = faiss.read_index('/content/drive/MyDrive/Colab Notebooks/data/text_embedding_search/hnsw_index.faiss')"
      ],
      "metadata": {
        "id": "Sot-ettbdpFM"
      },
      "execution_count": null,
      "outputs": []
    },
    {
      "cell_type": "code",
      "source": [
        "query_texts = [\"渋谷の事件についてのニュース\", \"プロ野球の試合結果\", \"新作映画のレビュー\"]\n",
        "xq = embed_texts(query_texts, is_query=True)"
      ],
      "metadata": {
        "id": "Na44rS-9eL1j"
      },
      "execution_count": null,
      "outputs": []
    },
    {
      "cell_type": "code",
      "source": [
        "index.hnsw.efSearch = 50  # 検索時の探索深さ\n",
        "k = 5  # 上位k件を取得\n",
        "D, I = index.search(xq, k)  # Dは距離、Iはインデックス"
      ],
      "metadata": {
        "id": "c_EZn0EZfkdx"
      },
      "execution_count": null,
      "outputs": []
    },
    {
      "cell_type": "code",
      "source": [
        "for i, q in enumerate(query_texts):\n",
        "  print(f\"\\n[Query] {q}\")\n",
        "  for j in range(k):\n",
        "    doc_id = I[i, j] # i番目のクエリにつき5つのID\n",
        "    print(f\" RANK {j+1}: {corpus_texts[doc_id][:50]}...\")"
      ],
      "metadata": {
        "id": "U_TMKeoRfsvD"
      },
      "execution_count": null,
      "outputs": []
    },
    {
      "cell_type": "markdown",
      "source": [
        "### SFC研究会のデータを読み込んで使用"
      ],
      "metadata": {
        "id": "KlX5LNOeYHa8"
      }
    },
    {
      "cell_type": "code",
      "source": [
        "import json\n",
        "\n",
        "filepath = '/content/drive/MyDrive/Colab Notebooks/data/text_embedding_search/lab_corpus_texts.json'\n",
        "with open(filepath, 'r', encoding='utf-8') as f:\n",
        "    all_class_data = json.load(f)"
      ],
      "metadata": {
        "id": "ydN4nCdmUVxy"
      },
      "execution_count": null,
      "outputs": []
    },
    {
      "cell_type": "code",
      "source": [
        "lab_index = faiss.read_index('/content/drive/MyDrive/Colab Notebooks/data/text_embedding_search/lab_hnsw_index.faiss')"
      ],
      "metadata": {
        "id": "E-nMG4JhUgkx"
      },
      "execution_count": null,
      "outputs": []
    },
    {
      "cell_type": "code",
      "source": [
        "query_texts = [\"**AI（人工知能）**は、機械が学習・推論・認識・判断といった人間のような知的能力を模倣する技術。機械学習、深層学習などの手法を用い、データに基づきパターンを学習し予測・分類を行う。自然言語処理や画像認識、強化学習など応用分野は多岐にわたる。\"]\n",
        "xq = embed_texts(query_texts, is_query=True)"
      ],
      "metadata": {
        "id": "H2g4JPAcl88T"
      },
      "execution_count": null,
      "outputs": []
    },
    {
      "cell_type": "code",
      "source": [
        "lab_index.hnsw.efSearch = 100  # 検索時の探索深さ\n",
        "k = 5  # 上位k件を取得\n",
        "D, I =lab_index.search(xq, k)  # Dは距離、Iはインデックス\n",
        "\n",
        "for i, q in enumerate(query_texts):\n",
        "  print(f\"\\n[Query] {q}\")\n",
        "  for j in range(k):\n",
        "    doc_id = I[i, j] # i番目のクエリにつき5つのID\n",
        "    print(f\" RANK {j+1}: {lab_corpus_texts[doc_id][:200]}...\")\n"
      ],
      "metadata": {
        "id": "H3CP1QnXZ19P",
        "outputId": "3714ef34-fdb5-4f7a-c0d0-2005463f983d",
        "colab": {
          "base_uri": "https://localhost:8080/"
        }
      },
      "execution_count": null,
      "outputs": [
        {
          "output_type": "stream",
          "name": "stdout",
          "text": [
            "\n",
            "[Query] **AI（人工知能）**は、機械が学習・推論・認識・判断といった人間のような知的能力を模倣する技術。機械学習、深層学習などの手法を用い、データに基づきパターンを学習し予測・分類を行う。自然言語処理や画像認識、強化学習など応用分野は多岐にわたる。\n",
            " RANK 1: 研究会Ｂ: 矢作　尚久\n",
            "データサイエンスの世界では、データが生成されるプロセスを正確に把握し、同時にその深層を想像する能力と高い倫理観を要する。気象・金融・交通・物流・生活における各種センサー等のあらゆるデータは、人間の活動に紐付いている。人間の活動は、全てひとり一人の「脳と身体の状態」によって規定されている。しかしながら、データを扱う者たちが、そのデータが生成される背景、あるいはデータを紐付ける...\n",
            " RANK 2: 研究会Ａ: ショウ，　ラジブ\n",
            "This seminar will focus on different issues of environment, disaster and development in Asia...\n",
            " RANK 3: 研究会Ｂ: 華　金玲\n",
            "近年のインターネット、携帯電話、IoT、5Gなどの情報通信技術の発達により、情報へのアクセスが容易になり、我々の生活の利便性が向上した。そのような情報通信の社会基盤に大きく関わっているのがデジタル政策である。\n",
            "この研究会では、5GのユースケースやChatGPT、生成AI、メタバース、自動運転などのような新しいテクノロジーの利活用と普及について関連動向を幅広く取り上げ、議論する...\n",
            " RANK 4: 研究会Ｂ: 華　金玲\n",
            "近年のインターネット、携帯電話、IoT、5Gなどの情報通信技術の発達により、情報へのアクセスが容易になり、我々の生活の利便性が向上した。そのような情報通信の社会基盤に大きく関わっているのがデジタル政策である。\n",
            "この研究会では、5GのユースケースやChatGPT、生成AI、メタバース、自動運転などのような新しいテクノロジーの利活用と普及について関連動向を幅広く取り上げ、議論する...\n",
            " RANK 5: 研究会Ａ: 武田　圭史\n",
            "メディア表現（映像、光、音響等）, 生成AI, UAV(ドローン), VR/AR/XRなど広範な先端技術と表現メディアの応用について取り扱います。\n",
            "\n",
            "\n",
            "映像メディア\n",
            "目的：様々な活動において映像メディアを駆使しより豊かな表現を可能とする映像メディアの技術及び技法を開発します。\n",
            "内容：各種用途における映像表現・技法の研究、先端技術を用いた新たな映像表現の実現、映像を用いたマー...\n"
          ]
        }
      ]
    },
    {
      "cell_type": "markdown",
      "source": [
        "## gradioで検索機能を実装"
      ],
      "metadata": {
        "id": "dhtHKDdEUJRZ"
      }
    },
    {
      "cell_type": "code",
      "source": [
        "!pip install -q gradio"
      ],
      "metadata": {
        "id": "8HLnIeHCbGf3"
      },
      "execution_count": null,
      "outputs": []
    },
    {
      "cell_type": "markdown",
      "source": [
        "### livedoorの記事検索"
      ],
      "metadata": {
        "id": "Zf9Ds07OS0Sj"
      }
    },
    {
      "cell_type": "code",
      "source": [
        "import pandas as pd\n",
        "\n",
        "# 検索用関数の定義\n",
        "def search(query: str, k: int = 5, length: int = 30):\n",
        "    # クエリ埋め込み\n",
        "    q_emb = embed_texts([query], is_query=True)\n",
        "    # Faiss 検索\n",
        "    D, I = index.search(q_emb, k)\n",
        "    # 結果整形\n",
        "    results = []\n",
        "    for score, idx in zip(D[0], I[0]):\n",
        "        title, snippet = corpus_texts[idx].split(\"。\", 1)  # タイトル・本文を分割\n",
        "        results.append({\"title\": title, \"snippet\": snippet[:length]+\"…\", \"score\": float(score)})\n",
        "\n",
        "    df = pd.DataFrame(results) # gradio用にDFに変換\n",
        "\n",
        "    return df\n"
      ],
      "metadata": {
        "id": "jFtjS2kDURKd"
      },
      "execution_count": null,
      "outputs": []
    },
    {
      "cell_type": "code",
      "source": [
        "search(\"パソコン\", k=5)"
      ],
      "metadata": {
        "id": "cheaGqMxWB1C"
      },
      "execution_count": null,
      "outputs": []
    },
    {
      "cell_type": "code",
      "source": [
        "import gradio as gr\n",
        "\n",
        "iface = gr.Interface(\n",
        "    fn=search,\n",
        "    inputs=[\n",
        "        gr.Textbox(lines=2, placeholder=\"検索クエリを入力\"),\n",
        "        gr.Slider(minimum=1, maximum=10, step=1, label=\"Top k 件数\")\n",
        "    ],\n",
        "    outputs=gr.Dataframe(\n",
        "        headers=[\"title\", \"snippet\", \"score\"],\n",
        "        row_count=5\n",
        "    ),\n",
        "    title=\"Livedoor ニュース検索デモ\",\n",
        "    description=\"pfnet/plamo-embedding-1b + Faiss HNSW による類似ニュース検索\"\n",
        ")\n",
        "\n",
        "iface.launch(share=True)"
      ],
      "metadata": {
        "id": "E-GaL8smahiu"
      },
      "execution_count": null,
      "outputs": []
    },
    {
      "cell_type": "markdown",
      "source": [
        "### SFC研究会の検索"
      ],
      "metadata": {
        "id": "iVM766ebS3xY"
      }
    },
    {
      "cell_type": "code",
      "source": [
        "import pandas as pd\n",
        "\n",
        "# 検索用関数の定義\n",
        "def search(query: str, k: int = 5, length: int = 140):\n",
        "    # クエリ埋め込み\n",
        "    q_emb = embed_texts([query], is_query=True)\n",
        "    # Faiss 検索\n",
        "    D, I = lab_index.search(q_emb, k)\n",
        "    # 結果整形\n",
        "    results = []\n",
        "    for score, idx in zip(D[0], I[0]):\n",
        "        title, snippet = lab_corpus_texts[idx].split(\"。\", 1)  # タイトル・本文を分割\n",
        "        results.append({\"title\": title, \"snippet\": snippet[:length]+\"…\", \"score\": float(score)})\n",
        "\n",
        "    df = pd.DataFrame(results) # gradio用にDFに変換\n",
        "\n",
        "    return df\n"
      ],
      "metadata": {
        "id": "e-mamxVCTDpY"
      },
      "execution_count": null,
      "outputs": []
    }
  ]
}